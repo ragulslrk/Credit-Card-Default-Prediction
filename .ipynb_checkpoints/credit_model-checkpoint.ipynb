{
 "cells": [
  {
   "cell_type": "code",
   "execution_count": 1,
   "id": "e58bdc5c",
   "metadata": {},
   "outputs": [],
   "source": [
    "# pip install -U imbalanced-learn"
   ]
  },
  {
   "cell_type": "code",
   "execution_count": 1,
   "id": "674b6a79",
   "metadata": {},
   "outputs": [],
   "source": [
    "#importing the essential  packages\n",
    "import  numpy as  np  \n",
    "import pandas as pd\n",
    "import seaborn as sns"
   ]
  },
  {
   "cell_type": "code",
   "execution_count": 2,
   "id": "d33df9df",
   "metadata": {},
   "outputs": [
    {
     "data": {
      "text/html": [
       "<div>\n",
       "<style scoped>\n",
       "    .dataframe tbody tr th:only-of-type {\n",
       "        vertical-align: middle;\n",
       "    }\n",
       "\n",
       "    .dataframe tbody tr th {\n",
       "        vertical-align: top;\n",
       "    }\n",
       "\n",
       "    .dataframe thead th {\n",
       "        text-align: right;\n",
       "    }\n",
       "</style>\n",
       "<table border=\"1\" class=\"dataframe\">\n",
       "  <thead>\n",
       "    <tr style=\"text-align: right;\">\n",
       "      <th></th>\n",
       "      <th>ID</th>\n",
       "      <th>LIMIT_BAL</th>\n",
       "      <th>SEX</th>\n",
       "      <th>EDUCATION</th>\n",
       "      <th>MARRIAGE</th>\n",
       "      <th>AGE</th>\n",
       "      <th>PAY_0</th>\n",
       "      <th>PAY_2</th>\n",
       "      <th>PAY_3</th>\n",
       "      <th>PAY_4</th>\n",
       "      <th>...</th>\n",
       "      <th>BILL_AMT4</th>\n",
       "      <th>BILL_AMT5</th>\n",
       "      <th>BILL_AMT6</th>\n",
       "      <th>PAY_AMT1</th>\n",
       "      <th>PAY_AMT2</th>\n",
       "      <th>PAY_AMT3</th>\n",
       "      <th>PAY_AMT4</th>\n",
       "      <th>PAY_AMT5</th>\n",
       "      <th>PAY_AMT6</th>\n",
       "      <th>default.payment.next.month</th>\n",
       "    </tr>\n",
       "  </thead>\n",
       "  <tbody>\n",
       "    <tr>\n",
       "      <th>0</th>\n",
       "      <td>1</td>\n",
       "      <td>20000.0</td>\n",
       "      <td>2</td>\n",
       "      <td>2</td>\n",
       "      <td>1</td>\n",
       "      <td>24</td>\n",
       "      <td>2</td>\n",
       "      <td>2</td>\n",
       "      <td>-1</td>\n",
       "      <td>-1</td>\n",
       "      <td>...</td>\n",
       "      <td>0.0</td>\n",
       "      <td>0.0</td>\n",
       "      <td>0.0</td>\n",
       "      <td>0.0</td>\n",
       "      <td>689.0</td>\n",
       "      <td>0.0</td>\n",
       "      <td>0.0</td>\n",
       "      <td>0.0</td>\n",
       "      <td>0.0</td>\n",
       "      <td>1</td>\n",
       "    </tr>\n",
       "    <tr>\n",
       "      <th>1</th>\n",
       "      <td>2</td>\n",
       "      <td>120000.0</td>\n",
       "      <td>2</td>\n",
       "      <td>2</td>\n",
       "      <td>2</td>\n",
       "      <td>26</td>\n",
       "      <td>-1</td>\n",
       "      <td>2</td>\n",
       "      <td>0</td>\n",
       "      <td>0</td>\n",
       "      <td>...</td>\n",
       "      <td>3272.0</td>\n",
       "      <td>3455.0</td>\n",
       "      <td>3261.0</td>\n",
       "      <td>0.0</td>\n",
       "      <td>1000.0</td>\n",
       "      <td>1000.0</td>\n",
       "      <td>1000.0</td>\n",
       "      <td>0.0</td>\n",
       "      <td>2000.0</td>\n",
       "      <td>1</td>\n",
       "    </tr>\n",
       "    <tr>\n",
       "      <th>2</th>\n",
       "      <td>3</td>\n",
       "      <td>90000.0</td>\n",
       "      <td>2</td>\n",
       "      <td>2</td>\n",
       "      <td>2</td>\n",
       "      <td>34</td>\n",
       "      <td>0</td>\n",
       "      <td>0</td>\n",
       "      <td>0</td>\n",
       "      <td>0</td>\n",
       "      <td>...</td>\n",
       "      <td>14331.0</td>\n",
       "      <td>14948.0</td>\n",
       "      <td>15549.0</td>\n",
       "      <td>1518.0</td>\n",
       "      <td>1500.0</td>\n",
       "      <td>1000.0</td>\n",
       "      <td>1000.0</td>\n",
       "      <td>1000.0</td>\n",
       "      <td>5000.0</td>\n",
       "      <td>0</td>\n",
       "    </tr>\n",
       "    <tr>\n",
       "      <th>3</th>\n",
       "      <td>4</td>\n",
       "      <td>50000.0</td>\n",
       "      <td>2</td>\n",
       "      <td>2</td>\n",
       "      <td>1</td>\n",
       "      <td>37</td>\n",
       "      <td>0</td>\n",
       "      <td>0</td>\n",
       "      <td>0</td>\n",
       "      <td>0</td>\n",
       "      <td>...</td>\n",
       "      <td>28314.0</td>\n",
       "      <td>28959.0</td>\n",
       "      <td>29547.0</td>\n",
       "      <td>2000.0</td>\n",
       "      <td>2019.0</td>\n",
       "      <td>1200.0</td>\n",
       "      <td>1100.0</td>\n",
       "      <td>1069.0</td>\n",
       "      <td>1000.0</td>\n",
       "      <td>0</td>\n",
       "    </tr>\n",
       "    <tr>\n",
       "      <th>4</th>\n",
       "      <td>5</td>\n",
       "      <td>50000.0</td>\n",
       "      <td>1</td>\n",
       "      <td>2</td>\n",
       "      <td>1</td>\n",
       "      <td>57</td>\n",
       "      <td>-1</td>\n",
       "      <td>0</td>\n",
       "      <td>-1</td>\n",
       "      <td>0</td>\n",
       "      <td>...</td>\n",
       "      <td>20940.0</td>\n",
       "      <td>19146.0</td>\n",
       "      <td>19131.0</td>\n",
       "      <td>2000.0</td>\n",
       "      <td>36681.0</td>\n",
       "      <td>10000.0</td>\n",
       "      <td>9000.0</td>\n",
       "      <td>689.0</td>\n",
       "      <td>679.0</td>\n",
       "      <td>0</td>\n",
       "    </tr>\n",
       "  </tbody>\n",
       "</table>\n",
       "<p>5 rows × 25 columns</p>\n",
       "</div>"
      ],
      "text/plain": [
       "   ID  LIMIT_BAL  SEX  EDUCATION  MARRIAGE  AGE  PAY_0  PAY_2  PAY_3  PAY_4  \\\n",
       "0   1    20000.0    2          2         1   24      2      2     -1     -1   \n",
       "1   2   120000.0    2          2         2   26     -1      2      0      0   \n",
       "2   3    90000.0    2          2         2   34      0      0      0      0   \n",
       "3   4    50000.0    2          2         1   37      0      0      0      0   \n",
       "4   5    50000.0    1          2         1   57     -1      0     -1      0   \n",
       "\n",
       "   ...  BILL_AMT4  BILL_AMT5  BILL_AMT6  PAY_AMT1  PAY_AMT2  PAY_AMT3  \\\n",
       "0  ...        0.0        0.0        0.0       0.0     689.0       0.0   \n",
       "1  ...     3272.0     3455.0     3261.0       0.0    1000.0    1000.0   \n",
       "2  ...    14331.0    14948.0    15549.0    1518.0    1500.0    1000.0   \n",
       "3  ...    28314.0    28959.0    29547.0    2000.0    2019.0    1200.0   \n",
       "4  ...    20940.0    19146.0    19131.0    2000.0   36681.0   10000.0   \n",
       "\n",
       "   PAY_AMT4  PAY_AMT5  PAY_AMT6  default.payment.next.month  \n",
       "0       0.0       0.0       0.0                           1  \n",
       "1    1000.0       0.0    2000.0                           1  \n",
       "2    1000.0    1000.0    5000.0                           0  \n",
       "3    1100.0    1069.0    1000.0                           0  \n",
       "4    9000.0     689.0     679.0                           0  \n",
       "\n",
       "[5 rows x 25 columns]"
      ]
     },
     "execution_count": 2,
     "metadata": {},
     "output_type": "execute_result"
    }
   ],
   "source": [
    "# importing the data  \n",
    "df=pd.read_csv(\"data/UCI_Credit_Card.csv\")\n",
    "df.head()\n"
   ]
  },
  {
   "cell_type": "code",
   "execution_count": 3,
   "id": "4081898a",
   "metadata": {},
   "outputs": [
    {
     "name": "stdout",
     "output_type": "stream",
     "text": [
      "(30000, 25)\n"
     ]
    }
   ],
   "source": [
    "print(df.shape)"
   ]
  },
  {
   "cell_type": "code",
   "execution_count": 4,
   "id": "b8a95480",
   "metadata": {
    "scrolled": true
   },
   "outputs": [
    {
     "data": {
      "text/plain": [
       "ID                            0\n",
       "LIMIT_BAL                     0\n",
       "SEX                           0\n",
       "EDUCATION                     0\n",
       "MARRIAGE                      0\n",
       "AGE                           0\n",
       "PAY_0                         0\n",
       "PAY_2                         0\n",
       "PAY_3                         0\n",
       "PAY_4                         0\n",
       "PAY_5                         0\n",
       "PAY_6                         0\n",
       "BILL_AMT1                     0\n",
       "BILL_AMT2                     0\n",
       "BILL_AMT3                     0\n",
       "BILL_AMT4                     0\n",
       "BILL_AMT5                     0\n",
       "BILL_AMT6                     0\n",
       "PAY_AMT1                      0\n",
       "PAY_AMT2                      0\n",
       "PAY_AMT3                      0\n",
       "PAY_AMT4                      0\n",
       "PAY_AMT5                      0\n",
       "PAY_AMT6                      0\n",
       "default.payment.next.month    0\n",
       "dtype: int64"
      ]
     },
     "execution_count": 4,
     "metadata": {},
     "output_type": "execute_result"
    }
   ],
   "source": [
    "#  we  see that there  is no  null  values  in the  dataset \n",
    "# So,Handling  the missing  data is  not required  here\n",
    "df.isnull().sum()"
   ]
  },
  {
   "cell_type": "code",
   "execution_count": 5,
   "id": "5983324d",
   "metadata": {},
   "outputs": [],
   "source": [
    "df.rename(columns={\"default.payment.next.month\":'default','PAY_0':'PAY_1'},inplace=True)"
   ]
  },
  {
   "cell_type": "code",
   "execution_count": 6,
   "id": "0f3aa243",
   "metadata": {},
   "outputs": [
    {
     "data": {
      "text/plain": [
       "0    23364\n",
       "1     6636\n",
       "Name: default, dtype: int64"
      ]
     },
     "execution_count": 6,
     "metadata": {},
     "output_type": "execute_result"
    }
   ],
   "source": [
    "#checking the if  there  is  imbalance  in  data set  \n",
    "df['default'].value_counts()\n",
    "# here the datset inn imbalanced  thus is  has  more \"no\" classifcation "
   ]
  },
  {
   "cell_type": "code",
   "execution_count": 7,
   "id": "2696e063",
   "metadata": {},
   "outputs": [
    {
     "data": {
      "text/plain": [
       "<AxesSubplot:xlabel='default', ylabel='count'>"
      ]
     },
     "execution_count": 7,
     "metadata": {},
     "output_type": "execute_result"
    },
    {
     "data": {
      "image/png": "[encoded data removed]",
      "text/plain": [
       "<Figure size 432x288 with 1 Axes>"
      ]
     },
     "metadata": {
      "needs_background": "light"
     },
     "output_type": "display_data"
    }
   ],
   "source": [
    "sns.countplot(x=df['default'])"
   ]
  },
  {
   "cell_type": "markdown",
   "id": "bdc7f88a",
   "metadata": {},
   "source": [
    "#  Exploratory Data Analysis"
   ]
  },
  {
   "cell_type": "markdown",
   "id": "9b745cc4",
   "metadata": {},
   "source": [
    "## Education Feature\n"
   ]
  },
  {
   "cell_type": "code",
   "execution_count": 8,
   "id": "dfc73210",
   "metadata": {},
   "outputs": [
    {
     "data": {
      "text/plain": [
       "<AxesSubplot:xlabel='EDUCATION', ylabel='count'>"
      ]
     },
     "execution_count": 8,
     "metadata": {},
     "output_type": "execute_result"
    },
    {
     "data": {
      "image/png": "[encoded data removed]",
      "text/plain": [
       "<Figure size 432x288 with 1 Axes>"
      ]
     },
     "metadata": {
      "needs_background": "light"
     },
     "output_type": "display_data"
    }
   ],
   "source": [
    "#as we can see  in EDUCATION  feature  the  5,6 is unknown  ,but  4  is  categorized as other  .so lets make 5,6 as others category(4)\n",
    "sns.countplot(x=df['EDUCATION'])"
   ]
  },
  {
   "cell_type": "code",
   "execution_count": 9,
   "id": "c449d0a1",
   "metadata": {},
   "outputs": [
    {
     "data": {
      "text/plain": [
       "<AxesSubplot:xlabel='EDUCATION', ylabel='count'>"
      ]
     },
     "execution_count": 9,
     "metadata": {},
     "output_type": "execute_result"
    },
    {
     "data": {
      "image/png": "[encoded data removed]",
      "text/plain": [
       "<Figure size 432x288 with 1 Axes>"
      ]
     },
     "metadata": {
      "needs_background": "light"
     },
     "output_type": "display_data"
    }
   ],
   "source": [
    "df['EDUCATION']=np.where((df['EDUCATION']==5 ) |(df['EDUCATION']==6)| (df['EDUCATION']==0),4,df['EDUCATION'])\n",
    "sns.countplot(x=df['EDUCATION'])"
   ]
  },
  {
   "cell_type": "code",
   "execution_count": 10,
   "id": "705a2d12",
   "metadata": {},
   "outputs": [
    {
     "data": {
      "text/plain": [
       "2    14030\n",
       "1    10585\n",
       "3     4917\n",
       "4      468\n",
       "Name: EDUCATION, dtype: int64"
      ]
     },
     "execution_count": 10,
     "metadata": {},
     "output_type": "execute_result"
    }
   ],
   "source": [
    "df['EDUCATION'].value_counts()"
   ]
  },
  {
   "cell_type": "markdown",
   "id": "7b7d980d",
   "metadata": {},
   "source": [
    "# LIMIT_BAL"
   ]
  },
  {
   "cell_type": "code",
   "execution_count": 11,
   "id": "06162ade",
   "metadata": {},
   "outputs": [
    {
     "name": "stderr",
     "output_type": "stream",
     "text": [
      "C:\\Users\\slrk4\\anaconda3\\lib\\site-packages\\seaborn\\distributions.py:2619: FutureWarning: `distplot` is a deprecated function and will be removed in a future version. Please adapt your code to use either `displot` (a figure-level function with similar flexibility) or `histplot` (an axes-level function for histograms).\n",
      "  warnings.warn(msg, FutureWarning)\n"
     ]
    },
    {
     "data": {
      "text/plain": [
       "<AxesSubplot:ylabel='Density'>"
      ]
     },
     "execution_count": 11,
     "metadata": {},
     "output_type": "execute_result"
    },
    {
     "data": {
      "image/png": "[encoded data removed]",
      "text/plain": [
       "<Figure size 432x288 with 1 Axes>"
      ]
     },
     "metadata": {
      "needs_background": "light"
     },
     "output_type": "display_data"
    }
   ],
   "source": [
    "sns.distplot(x=df['LIMIT_BAL'])\n",
    "#  from this ,we can say the  LIMIT_BAL  feature  is right skewed"
   ]
  },
  {
   "cell_type": "code",
   "execution_count": 12,
   "id": "337195e3",
   "metadata": {},
   "outputs": [
    {
     "data": {
      "text/plain": [
       "<AxesSubplot:xlabel='LIMIT_BAL', ylabel='Count'>"
      ]
     },
     "execution_count": 12,
     "metadata": {},
     "output_type": "execute_result"
    },
    {
     "data": {
      "image/png": "[encoded data removed]",
      "text/plain": [
       "<Figure size 432x288 with 1 Axes>"
      ]
     },
     "metadata": {
      "needs_background": "light"
     },
     "output_type": "display_data"
    }
   ],
   "source": [
    "sns.histplot(x=df['LIMIT_BAL'],bins=10)"
   ]
  },
  {
   "cell_type": "markdown",
   "id": "c605e12d",
   "metadata": {},
   "source": [
    "# SEX"
   ]
  },
  {
   "cell_type": "code",
   "execution_count": 13,
   "id": "578ab881",
   "metadata": {},
   "outputs": [
    {
     "data": {
      "text/plain": [
       "<AxesSubplot:xlabel='SEX', ylabel='count'>"
      ]
     },
     "execution_count": 13,
     "metadata": {},
     "output_type": "execute_result"
    },
    {
     "data": {
      "image/png": "[encoded data removed]",
      "text/plain": [
       "<Figure size 432x288 with 1 Axes>"
      ]
     },
     "metadata": {
      "needs_background": "light"
     },
     "output_type": "display_data"
    }
   ],
   "source": [
    "sns.countplot(x=df['SEX'],hue=df['default'])"
   ]
  },
  {
   "cell_type": "code",
   "execution_count": 14,
   "id": "09d21e9a",
   "metadata": {},
   "outputs": [
    {
     "data": {
      "text/plain": [
       "count    30000.000000\n",
       "mean         1.603733\n",
       "std          0.489129\n",
       "min          1.000000\n",
       "25%          1.000000\n",
       "50%          2.000000\n",
       "75%          2.000000\n",
       "max          2.000000\n",
       "Name: SEX, dtype: float64"
      ]
     },
     "execution_count": 14,
     "metadata": {},
     "output_type": "execute_result"
    }
   ],
   "source": [
    "df['SEX'].describe()"
   ]
  },
  {
   "cell_type": "markdown",
   "id": "812a228f",
   "metadata": {},
   "source": [
    "## MARRIAGE"
   ]
  },
  {
   "cell_type": "code",
   "execution_count": 15,
   "id": "551cfb3a",
   "metadata": {},
   "outputs": [
    {
     "data": {
      "text/plain": [
       "<AxesSubplot:xlabel='MARRIAGE', ylabel='count'>"
      ]
     },
     "execution_count": 15,
     "metadata": {},
     "output_type": "execute_result"
    },
    {
     "data": {
      "image/png": "[encoded data removed]",
      "text/plain": [
       "<Figure size 432x288 with 1 Axes>"
      ]
     },
     "metadata": {
      "needs_background": "light"
     },
     "output_type": "display_data"
    }
   ],
   "source": [
    "sns.countplot(x=df['MARRIAGE'])"
   ]
  },
  {
   "cell_type": "code",
   "execution_count": 16,
   "id": "449a922c",
   "metadata": {},
   "outputs": [
    {
     "data": {
      "text/plain": [
       "2    15964\n",
       "1    13659\n",
       "3      323\n",
       "0       54\n",
       "Name: MARRIAGE, dtype: int64"
      ]
     },
     "execution_count": 16,
     "metadata": {},
     "output_type": "execute_result"
    }
   ],
   "source": [
    "df[\"MARRIAGE\"].value_counts()"
   ]
  },
  {
   "cell_type": "code",
   "execution_count": 17,
   "id": "24735f1b",
   "metadata": {},
   "outputs": [],
   "source": [
    "# lets  make \"0 \"as \"3\"category\n",
    "df['MARRIAGE']=np.where(df['MARRIAGE']==0,3,df['MARRIAGE'])"
   ]
  },
  {
   "cell_type": "code",
   "execution_count": 18,
   "id": "52ad632d",
   "metadata": {},
   "outputs": [
    {
     "data": {
      "text/plain": [
       "<AxesSubplot:xlabel='MARRIAGE', ylabel='count'>"
      ]
     },
     "execution_count": 18,
     "metadata": {},
     "output_type": "execute_result"
    },
    {
     "data": {
      "image/png": "[encoded data removed]",
      "text/plain": [
       "<Figure size 432x288 with 1 Axes>"
      ]
     },
     "metadata": {
      "needs_background": "light"
     },
     "output_type": "display_data"
    }
   ],
   "source": [
    "sns.countplot(x=df['MARRIAGE'])"
   ]
  },
  {
   "cell_type": "code",
   "execution_count": 19,
   "id": "cef2e01d",
   "metadata": {},
   "outputs": [
    {
     "data": {
      "text/plain": [
       "2    15964\n",
       "1    13659\n",
       "3      377\n",
       "Name: MARRIAGE, dtype: int64"
      ]
     },
     "execution_count": 19,
     "metadata": {},
     "output_type": "execute_result"
    }
   ],
   "source": [
    "df[\"MARRIAGE\"].value_counts()"
   ]
  },
  {
   "cell_type": "markdown",
   "id": "b9887a63",
   "metadata": {},
   "source": [
    "##  Bill Amount"
   ]
  },
  {
   "cell_type": "code",
   "execution_count": 20,
   "id": "c528e405",
   "metadata": {},
   "outputs": [],
   "source": [
    "# bill_df= df[['BILL_AMT1','BILL_AMT2','BILL_AMT3','BILL_AMT4','BILL_AMT5','BILL_AMT6','default']]\n",
    "# sns.pairplot(data=bill_df,hue='default')"
   ]
  },
  {
   "cell_type": "markdown",
   "id": "a0e1d31d",
   "metadata": {},
   "source": [
    "## Pay Amount"
   ]
  },
  {
   "cell_type": "code",
   "execution_count": 21,
   "id": "9e1ac7c8",
   "metadata": {},
   "outputs": [],
   "source": [
    "# pay_df= df[['PAY_AMT1','PAY_AMT2','PAY_AMT3','PAY_AMT4','PAY_AMT5','PAY_AMT6','default']]\n",
    "# sns.pairplot(data=bill_df,hue='default')"
   ]
  },
  {
   "cell_type": "markdown",
   "id": "1f8ce498",
   "metadata": {},
   "source": [
    "##  AGE  \n"
   ]
  },
  {
   "cell_type": "code",
   "execution_count": 22,
   "id": "cf3c6311",
   "metadata": {},
   "outputs": [
    {
     "name": "stderr",
     "output_type": "stream",
     "text": [
      "C:\\Users\\slrk4\\anaconda3\\lib\\site-packages\\seaborn\\distributions.py:2619: FutureWarning: `distplot` is a deprecated function and will be removed in a future version. Please adapt your code to use either `displot` (a figure-level function with similar flexibility) or `histplot` (an axes-level function for histograms).\n",
      "  warnings.warn(msg, FutureWarning)\n"
     ]
    },
    {
     "data": {
      "text/plain": [
       "<AxesSubplot:ylabel='Density'>"
      ]
     },
     "execution_count": 22,
     "metadata": {},
     "output_type": "execute_result"
    },
    {
     "data": {
      "image/png": "[encoded data removed]",
      "text/plain": [
       "<Figure size 432x288 with 1 Axes>"
      ]
     },
     "metadata": {
      "needs_background": "light"
     },
     "output_type": "display_data"
    }
   ],
   "source": [
    "sns.distplot(x=df['AGE'])"
   ]
  },
  {
   "cell_type": "code",
   "execution_count": 23,
   "id": "101be88c",
   "metadata": {},
   "outputs": [
    {
     "data": {
      "text/plain": [
       "<AxesSubplot:xlabel='AGE', ylabel='Count'>"
      ]
     },
     "execution_count": 23,
     "metadata": {},
     "output_type": "execute_result"
    },
    {
     "data": {
      "image/png": "[encoded data removed]",
      "text/plain": [
       "<Figure size 432x288 with 1 Axes>"
      ]
     },
     "metadata": {
      "needs_background": "light"
     },
     "output_type": "display_data"
    }
   ],
   "source": [
    "sns.histplot(x=df['AGE'])"
   ]
  },
  {
   "cell_type": "markdown",
   "id": "84a2d742",
   "metadata": {},
   "source": [
    "# Balancing the dataset "
   ]
  },
  {
   "cell_type": "code",
   "execution_count": 24,
   "id": "fc909c69",
   "metadata": {},
   "outputs": [],
   "source": [
    "x_bl=df.copy().drop(['ID','default'],axis=1)\n",
    "y_bl=df.copy().iloc[:,-1]"
   ]
  },
  {
   "cell_type": "code",
   "execution_count": 25,
   "id": "72ffe21a",
   "metadata": {},
   "outputs": [],
   "source": [
    "from imblearn.combine import SMOTETomek\n",
    "ns=SMOTETomek()\n",
    "x_bl,y_bl=ns.fit_resample(x_bl,y_bl)"
   ]
  },
  {
   "cell_type": "code",
   "execution_count": 26,
   "id": "d0ae7fdb",
   "metadata": {},
   "outputs": [
    {
     "name": "stdout",
     "output_type": "stream",
     "text": [
      "The Dataset before Balancing: 23364,6636\n",
      "The Dataset After Balancing: 22730 22730\n"
     ]
    }
   ],
   "source": [
    "print(\"The Dataset before Balancing: {},{}\".format(df['default'].value_counts()[0],df['default'].value_counts()[1]))\n",
    "print(\"The Dataset After Balancing: {} {}\".format(y_bl.value_counts()[0],y_bl.value_counts()[1]))"
   ]
  },
  {
   "cell_type": "code",
   "execution_count": 27,
   "id": "c12984c9",
   "metadata": {},
   "outputs": [
    {
     "data": {
      "text/plain": [
       "Index(['ID', 'LIMIT_BAL', 'SEX', 'EDUCATION', 'MARRIAGE', 'AGE', 'PAY_1',\n",
       "       'PAY_2', 'PAY_3', 'PAY_4', 'PAY_5', 'PAY_6', 'BILL_AMT1', 'BILL_AMT2',\n",
       "       'BILL_AMT3', 'BILL_AMT4', 'BILL_AMT5', 'BILL_AMT6', 'PAY_AMT1',\n",
       "       'PAY_AMT2', 'PAY_AMT3', 'PAY_AMT4', 'PAY_AMT5', 'PAY_AMT6', 'default'],\n",
       "      dtype='object')"
      ]
     },
     "execution_count": 27,
     "metadata": {},
     "output_type": "execute_result"
    }
   ],
   "source": [
    "df.columns\n"
   ]
  },
  {
   "cell_type": "code",
   "execution_count": 28,
   "id": "02d0a789",
   "metadata": {},
   "outputs": [],
   "source": [
    "bal_df=pd.DataFrame(x_bl,columns=[ 'LIMIT_BAL', 'SEX', 'EDUCATION', 'MARRIAGE', 'AGE', 'PAY_1',\n",
    "       'PAY_2', 'PAY_3', 'PAY_4', 'PAY_5', 'PAY_6', 'BILL_AMT1', 'BILL_AMT2',\n",
    "       'BILL_AMT3', 'BILL_AMT4', 'BILL_AMT5', 'BILL_AMT6', 'PAY_AMT1',\n",
    "       'PAY_AMT2', 'PAY_AMT3', 'PAY_AMT4', 'PAY_AMT5', 'PAY_AMT6'])"
   ]
  },
  {
   "cell_type": "code",
   "execution_count": 29,
   "id": "38d0c34e",
   "metadata": {},
   "outputs": [
    {
     "data": {
      "text/html": [
       "<div>\n",
       "<style scoped>\n",
       "    .dataframe tbody tr th:only-of-type {\n",
       "        vertical-align: middle;\n",
       "    }\n",
       "\n",
       "    .dataframe tbody tr th {\n",
       "        vertical-align: top;\n",
       "    }\n",
       "\n",
       "    .dataframe thead th {\n",
       "        text-align: right;\n",
       "    }\n",
       "</style>\n",
       "<table border=\"1\" class=\"dataframe\">\n",
       "  <thead>\n",
       "    <tr style=\"text-align: right;\">\n",
       "      <th></th>\n",
       "      <th>LIMIT_BAL</th>\n",
       "      <th>SEX</th>\n",
       "      <th>EDUCATION</th>\n",
       "      <th>MARRIAGE</th>\n",
       "      <th>AGE</th>\n",
       "      <th>PAY_1</th>\n",
       "      <th>PAY_2</th>\n",
       "      <th>PAY_3</th>\n",
       "      <th>PAY_4</th>\n",
       "      <th>PAY_5</th>\n",
       "      <th>...</th>\n",
       "      <th>BILL_AMT4</th>\n",
       "      <th>BILL_AMT5</th>\n",
       "      <th>BILL_AMT6</th>\n",
       "      <th>PAY_AMT1</th>\n",
       "      <th>PAY_AMT2</th>\n",
       "      <th>PAY_AMT3</th>\n",
       "      <th>PAY_AMT4</th>\n",
       "      <th>PAY_AMT5</th>\n",
       "      <th>PAY_AMT6</th>\n",
       "      <th>default</th>\n",
       "    </tr>\n",
       "  </thead>\n",
       "  <tbody>\n",
       "    <tr>\n",
       "      <th>0</th>\n",
       "      <td>20000.0</td>\n",
       "      <td>2</td>\n",
       "      <td>2</td>\n",
       "      <td>1</td>\n",
       "      <td>24</td>\n",
       "      <td>2</td>\n",
       "      <td>2</td>\n",
       "      <td>-1</td>\n",
       "      <td>-1</td>\n",
       "      <td>-2</td>\n",
       "      <td>...</td>\n",
       "      <td>0.0</td>\n",
       "      <td>0.0</td>\n",
       "      <td>0.0</td>\n",
       "      <td>0.0</td>\n",
       "      <td>689.0</td>\n",
       "      <td>0.0</td>\n",
       "      <td>0.0</td>\n",
       "      <td>0.0</td>\n",
       "      <td>0.0</td>\n",
       "      <td>1</td>\n",
       "    </tr>\n",
       "    <tr>\n",
       "      <th>1</th>\n",
       "      <td>120000.0</td>\n",
       "      <td>2</td>\n",
       "      <td>2</td>\n",
       "      <td>2</td>\n",
       "      <td>26</td>\n",
       "      <td>-1</td>\n",
       "      <td>2</td>\n",
       "      <td>0</td>\n",
       "      <td>0</td>\n",
       "      <td>0</td>\n",
       "      <td>...</td>\n",
       "      <td>3272.0</td>\n",
       "      <td>3455.0</td>\n",
       "      <td>3261.0</td>\n",
       "      <td>0.0</td>\n",
       "      <td>1000.0</td>\n",
       "      <td>1000.0</td>\n",
       "      <td>1000.0</td>\n",
       "      <td>0.0</td>\n",
       "      <td>2000.0</td>\n",
       "      <td>1</td>\n",
       "    </tr>\n",
       "    <tr>\n",
       "      <th>2</th>\n",
       "      <td>90000.0</td>\n",
       "      <td>2</td>\n",
       "      <td>2</td>\n",
       "      <td>2</td>\n",
       "      <td>34</td>\n",
       "      <td>0</td>\n",
       "      <td>0</td>\n",
       "      <td>0</td>\n",
       "      <td>0</td>\n",
       "      <td>0</td>\n",
       "      <td>...</td>\n",
       "      <td>14331.0</td>\n",
       "      <td>14948.0</td>\n",
       "      <td>15549.0</td>\n",
       "      <td>1518.0</td>\n",
       "      <td>1500.0</td>\n",
       "      <td>1000.0</td>\n",
       "      <td>1000.0</td>\n",
       "      <td>1000.0</td>\n",
       "      <td>5000.0</td>\n",
       "      <td>0</td>\n",
       "    </tr>\n",
       "    <tr>\n",
       "      <th>3</th>\n",
       "      <td>50000.0</td>\n",
       "      <td>2</td>\n",
       "      <td>2</td>\n",
       "      <td>1</td>\n",
       "      <td>37</td>\n",
       "      <td>0</td>\n",
       "      <td>0</td>\n",
       "      <td>0</td>\n",
       "      <td>0</td>\n",
       "      <td>0</td>\n",
       "      <td>...</td>\n",
       "      <td>28314.0</td>\n",
       "      <td>28959.0</td>\n",
       "      <td>29547.0</td>\n",
       "      <td>2000.0</td>\n",
       "      <td>2019.0</td>\n",
       "      <td>1200.0</td>\n",
       "      <td>1100.0</td>\n",
       "      <td>1069.0</td>\n",
       "      <td>1000.0</td>\n",
       "      <td>0</td>\n",
       "    </tr>\n",
       "    <tr>\n",
       "      <th>4</th>\n",
       "      <td>50000.0</td>\n",
       "      <td>1</td>\n",
       "      <td>2</td>\n",
       "      <td>1</td>\n",
       "      <td>57</td>\n",
       "      <td>-1</td>\n",
       "      <td>0</td>\n",
       "      <td>-1</td>\n",
       "      <td>0</td>\n",
       "      <td>0</td>\n",
       "      <td>...</td>\n",
       "      <td>20940.0</td>\n",
       "      <td>19146.0</td>\n",
       "      <td>19131.0</td>\n",
       "      <td>2000.0</td>\n",
       "      <td>36681.0</td>\n",
       "      <td>10000.0</td>\n",
       "      <td>9000.0</td>\n",
       "      <td>689.0</td>\n",
       "      <td>679.0</td>\n",
       "      <td>0</td>\n",
       "    </tr>\n",
       "  </tbody>\n",
       "</table>\n",
       "<p>5 rows × 24 columns</p>\n",
       "</div>"
      ],
      "text/plain": [
       "   LIMIT_BAL  SEX  EDUCATION  MARRIAGE  AGE  PAY_1  PAY_2  PAY_3  PAY_4  \\\n",
       "0    20000.0    2          2         1   24      2      2     -1     -1   \n",
       "1   120000.0    2          2         2   26     -1      2      0      0   \n",
       "2    90000.0    2          2         2   34      0      0      0      0   \n",
       "3    50000.0    2          2         1   37      0      0      0      0   \n",
       "4    50000.0    1          2         1   57     -1      0     -1      0   \n",
       "\n",
       "   PAY_5  ...  BILL_AMT4  BILL_AMT5  BILL_AMT6  PAY_AMT1  PAY_AMT2  PAY_AMT3  \\\n",
       "0     -2  ...        0.0        0.0        0.0       0.0     689.0       0.0   \n",
       "1      0  ...     3272.0     3455.0     3261.0       0.0    1000.0    1000.0   \n",
       "2      0  ...    14331.0    14948.0    15549.0    1518.0    1500.0    1000.0   \n",
       "3      0  ...    28314.0    28959.0    29547.0    2000.0    2019.0    1200.0   \n",
       "4      0  ...    20940.0    19146.0    19131.0    2000.0   36681.0   10000.0   \n",
       "\n",
       "   PAY_AMT4  PAY_AMT5  PAY_AMT6  default  \n",
       "0       0.0       0.0       0.0        1  \n",
       "1    1000.0       0.0    2000.0        1  \n",
       "2    1000.0    1000.0    5000.0        0  \n",
       "3    1100.0    1069.0    1000.0        0  \n",
       "4    9000.0     689.0     679.0        0  \n",
       "\n",
       "[5 rows x 24 columns]"
      ]
     },
     "execution_count": 29,
     "metadata": {},
     "output_type": "execute_result"
    }
   ],
   "source": [
    "bal_df['default']=y_bl\n",
    "bal_df.head()"
   ]
  },
  {
   "cell_type": "markdown",
   "id": "b16d491a",
   "metadata": {},
   "source": [
    "## Logistic Regression"
   ]
  },
  {
   "cell_type": "code",
   "execution_count": 30,
   "id": "d1e0189e",
   "metadata": {},
   "outputs": [
    {
     "data": {
      "text/html": [
       "<div>\n",
       "<style scoped>\n",
       "    .dataframe tbody tr th:only-of-type {\n",
       "        vertical-align: middle;\n",
       "    }\n",
       "\n",
       "    .dataframe tbody tr th {\n",
       "        vertical-align: top;\n",
       "    }\n",
       "\n",
       "    .dataframe thead th {\n",
       "        text-align: right;\n",
       "    }\n",
       "</style>\n",
       "<table border=\"1\" class=\"dataframe\">\n",
       "  <thead>\n",
       "    <tr style=\"text-align: right;\">\n",
       "      <th></th>\n",
       "      <th>LIMIT_BAL</th>\n",
       "      <th>SEX</th>\n",
       "      <th>EDUCATION</th>\n",
       "      <th>MARRIAGE</th>\n",
       "      <th>AGE</th>\n",
       "      <th>PAY_1</th>\n",
       "      <th>PAY_2</th>\n",
       "      <th>PAY_3</th>\n",
       "      <th>PAY_4</th>\n",
       "      <th>PAY_5</th>\n",
       "      <th>...</th>\n",
       "      <th>BILL_AMT4</th>\n",
       "      <th>BILL_AMT5</th>\n",
       "      <th>BILL_AMT6</th>\n",
       "      <th>PAY_AMT1</th>\n",
       "      <th>PAY_AMT2</th>\n",
       "      <th>PAY_AMT3</th>\n",
       "      <th>PAY_AMT4</th>\n",
       "      <th>PAY_AMT5</th>\n",
       "      <th>PAY_AMT6</th>\n",
       "      <th>default</th>\n",
       "    </tr>\n",
       "  </thead>\n",
       "  <tbody>\n",
       "    <tr>\n",
       "      <th>0</th>\n",
       "      <td>20000.000000</td>\n",
       "      <td>2</td>\n",
       "      <td>2</td>\n",
       "      <td>1</td>\n",
       "      <td>24</td>\n",
       "      <td>2</td>\n",
       "      <td>2</td>\n",
       "      <td>-1</td>\n",
       "      <td>-1</td>\n",
       "      <td>-2</td>\n",
       "      <td>...</td>\n",
       "      <td>0.000000</td>\n",
       "      <td>0.000000</td>\n",
       "      <td>0.000000</td>\n",
       "      <td>0.000000</td>\n",
       "      <td>689.000000</td>\n",
       "      <td>0.000000</td>\n",
       "      <td>0.000000</td>\n",
       "      <td>0.000000</td>\n",
       "      <td>0.000000</td>\n",
       "      <td>1</td>\n",
       "    </tr>\n",
       "    <tr>\n",
       "      <th>1</th>\n",
       "      <td>120000.000000</td>\n",
       "      <td>2</td>\n",
       "      <td>2</td>\n",
       "      <td>2</td>\n",
       "      <td>26</td>\n",
       "      <td>-1</td>\n",
       "      <td>2</td>\n",
       "      <td>0</td>\n",
       "      <td>0</td>\n",
       "      <td>0</td>\n",
       "      <td>...</td>\n",
       "      <td>3272.000000</td>\n",
       "      <td>3455.000000</td>\n",
       "      <td>3261.000000</td>\n",
       "      <td>0.000000</td>\n",
       "      <td>1000.000000</td>\n",
       "      <td>1000.000000</td>\n",
       "      <td>1000.000000</td>\n",
       "      <td>0.000000</td>\n",
       "      <td>2000.000000</td>\n",
       "      <td>1</td>\n",
       "    </tr>\n",
       "    <tr>\n",
       "      <th>2</th>\n",
       "      <td>90000.000000</td>\n",
       "      <td>2</td>\n",
       "      <td>2</td>\n",
       "      <td>2</td>\n",
       "      <td>34</td>\n",
       "      <td>0</td>\n",
       "      <td>0</td>\n",
       "      <td>0</td>\n",
       "      <td>0</td>\n",
       "      <td>0</td>\n",
       "      <td>...</td>\n",
       "      <td>14331.000000</td>\n",
       "      <td>14948.000000</td>\n",
       "      <td>15549.000000</td>\n",
       "      <td>1518.000000</td>\n",
       "      <td>1500.000000</td>\n",
       "      <td>1000.000000</td>\n",
       "      <td>1000.000000</td>\n",
       "      <td>1000.000000</td>\n",
       "      <td>5000.000000</td>\n",
       "      <td>0</td>\n",
       "    </tr>\n",
       "    <tr>\n",
       "      <th>3</th>\n",
       "      <td>50000.000000</td>\n",
       "      <td>2</td>\n",
       "      <td>2</td>\n",
       "      <td>1</td>\n",
       "      <td>37</td>\n",
       "      <td>0</td>\n",
       "      <td>0</td>\n",
       "      <td>0</td>\n",
       "      <td>0</td>\n",
       "      <td>0</td>\n",
       "      <td>...</td>\n",
       "      <td>28314.000000</td>\n",
       "      <td>28959.000000</td>\n",
       "      <td>29547.000000</td>\n",
       "      <td>2000.000000</td>\n",
       "      <td>2019.000000</td>\n",
       "      <td>1200.000000</td>\n",
       "      <td>1100.000000</td>\n",
       "      <td>1069.000000</td>\n",
       "      <td>1000.000000</td>\n",
       "      <td>0</td>\n",
       "    </tr>\n",
       "    <tr>\n",
       "      <th>4</th>\n",
       "      <td>50000.000000</td>\n",
       "      <td>1</td>\n",
       "      <td>2</td>\n",
       "      <td>1</td>\n",
       "      <td>57</td>\n",
       "      <td>-1</td>\n",
       "      <td>0</td>\n",
       "      <td>-1</td>\n",
       "      <td>0</td>\n",
       "      <td>0</td>\n",
       "      <td>...</td>\n",
       "      <td>20940.000000</td>\n",
       "      <td>19146.000000</td>\n",
       "      <td>19131.000000</td>\n",
       "      <td>2000.000000</td>\n",
       "      <td>36681.000000</td>\n",
       "      <td>10000.000000</td>\n",
       "      <td>9000.000000</td>\n",
       "      <td>689.000000</td>\n",
       "      <td>679.000000</td>\n",
       "      <td>0</td>\n",
       "    </tr>\n",
       "    <tr>\n",
       "      <th>...</th>\n",
       "      <td>...</td>\n",
       "      <td>...</td>\n",
       "      <td>...</td>\n",
       "      <td>...</td>\n",
       "      <td>...</td>\n",
       "      <td>...</td>\n",
       "      <td>...</td>\n",
       "      <td>...</td>\n",
       "      <td>...</td>\n",
       "      <td>...</td>\n",
       "      <td>...</td>\n",
       "      <td>...</td>\n",
       "      <td>...</td>\n",
       "      <td>...</td>\n",
       "      <td>...</td>\n",
       "      <td>...</td>\n",
       "      <td>...</td>\n",
       "      <td>...</td>\n",
       "      <td>...</td>\n",
       "      <td>...</td>\n",
       "      <td>...</td>\n",
       "    </tr>\n",
       "    <tr>\n",
       "      <th>45455</th>\n",
       "      <td>30000.000000</td>\n",
       "      <td>2</td>\n",
       "      <td>2</td>\n",
       "      <td>1</td>\n",
       "      <td>43</td>\n",
       "      <td>0</td>\n",
       "      <td>0</td>\n",
       "      <td>0</td>\n",
       "      <td>0</td>\n",
       "      <td>0</td>\n",
       "      <td>...</td>\n",
       "      <td>25044.579180</td>\n",
       "      <td>25340.555844</td>\n",
       "      <td>25243.951785</td>\n",
       "      <td>1810.988524</td>\n",
       "      <td>1475.233740</td>\n",
       "      <td>1393.092194</td>\n",
       "      <td>877.070007</td>\n",
       "      <td>904.586839</td>\n",
       "      <td>1380.881790</td>\n",
       "      <td>1</td>\n",
       "    </tr>\n",
       "    <tr>\n",
       "      <th>45456</th>\n",
       "      <td>75159.635694</td>\n",
       "      <td>1</td>\n",
       "      <td>2</td>\n",
       "      <td>1</td>\n",
       "      <td>37</td>\n",
       "      <td>1</td>\n",
       "      <td>1</td>\n",
       "      <td>1</td>\n",
       "      <td>1</td>\n",
       "      <td>0</td>\n",
       "      <td>...</td>\n",
       "      <td>30359.289445</td>\n",
       "      <td>30241.846544</td>\n",
       "      <td>29553.457138</td>\n",
       "      <td>1941.821322</td>\n",
       "      <td>2773.945354</td>\n",
       "      <td>726.054646</td>\n",
       "      <td>1113.834084</td>\n",
       "      <td>1501.031927</td>\n",
       "      <td>1759.013712</td>\n",
       "      <td>1</td>\n",
       "    </tr>\n",
       "    <tr>\n",
       "      <th>45457</th>\n",
       "      <td>168052.549981</td>\n",
       "      <td>1</td>\n",
       "      <td>2</td>\n",
       "      <td>1</td>\n",
       "      <td>36</td>\n",
       "      <td>1</td>\n",
       "      <td>1</td>\n",
       "      <td>1</td>\n",
       "      <td>1</td>\n",
       "      <td>1</td>\n",
       "      <td>...</td>\n",
       "      <td>17241.225671</td>\n",
       "      <td>18357.859372</td>\n",
       "      <td>18716.061820</td>\n",
       "      <td>2258.126708</td>\n",
       "      <td>1458.324570</td>\n",
       "      <td>251.026307</td>\n",
       "      <td>1522.395675</td>\n",
       "      <td>805.254998</td>\n",
       "      <td>194.745002</td>\n",
       "      <td>1</td>\n",
       "    </tr>\n",
       "    <tr>\n",
       "      <th>45458</th>\n",
       "      <td>240000.000000</td>\n",
       "      <td>2</td>\n",
       "      <td>2</td>\n",
       "      <td>1</td>\n",
       "      <td>42</td>\n",
       "      <td>1</td>\n",
       "      <td>-2</td>\n",
       "      <td>-2</td>\n",
       "      <td>-2</td>\n",
       "      <td>-2</td>\n",
       "      <td>...</td>\n",
       "      <td>0.000000</td>\n",
       "      <td>0.000000</td>\n",
       "      <td>0.000000</td>\n",
       "      <td>0.000000</td>\n",
       "      <td>0.000000</td>\n",
       "      <td>0.000000</td>\n",
       "      <td>0.000000</td>\n",
       "      <td>0.000000</td>\n",
       "      <td>0.000000</td>\n",
       "      <td>1</td>\n",
       "    </tr>\n",
       "    <tr>\n",
       "      <th>45459</th>\n",
       "      <td>50000.000000</td>\n",
       "      <td>1</td>\n",
       "      <td>2</td>\n",
       "      <td>2</td>\n",
       "      <td>44</td>\n",
       "      <td>0</td>\n",
       "      <td>0</td>\n",
       "      <td>0</td>\n",
       "      <td>0</td>\n",
       "      <td>0</td>\n",
       "      <td>...</td>\n",
       "      <td>36142.322016</td>\n",
       "      <td>18373.189306</td>\n",
       "      <td>18069.957572</td>\n",
       "      <td>2067.193581</td>\n",
       "      <td>2063.794551</td>\n",
       "      <td>1980.612742</td>\n",
       "      <td>4296.167871</td>\n",
       "      <td>1000.000000</td>\n",
       "      <td>1731.225675</td>\n",
       "      <td>1</td>\n",
       "    </tr>\n",
       "  </tbody>\n",
       "</table>\n",
       "<p>45460 rows × 24 columns</p>\n",
       "</div>"
      ],
      "text/plain": [
       "           LIMIT_BAL  SEX  EDUCATION  MARRIAGE  AGE  PAY_1  PAY_2  PAY_3  \\\n",
       "0       20000.000000    2          2         1   24      2      2     -1   \n",
       "1      120000.000000    2          2         2   26     -1      2      0   \n",
       "2       90000.000000    2          2         2   34      0      0      0   \n",
       "3       50000.000000    2          2         1   37      0      0      0   \n",
       "4       50000.000000    1          2         1   57     -1      0     -1   \n",
       "...              ...  ...        ...       ...  ...    ...    ...    ...   \n",
       "45455   30000.000000    2          2         1   43      0      0      0   \n",
       "45456   75159.635694    1          2         1   37      1      1      1   \n",
       "45457  168052.549981    1          2         1   36      1      1      1   \n",
       "45458  240000.000000    2          2         1   42      1     -2     -2   \n",
       "45459   50000.000000    1          2         2   44      0      0      0   \n",
       "\n",
       "       PAY_4  PAY_5  ...     BILL_AMT4     BILL_AMT5     BILL_AMT6  \\\n",
       "0         -1     -2  ...      0.000000      0.000000      0.000000   \n",
       "1          0      0  ...   3272.000000   3455.000000   3261.000000   \n",
       "2          0      0  ...  14331.000000  14948.000000  15549.000000   \n",
       "3          0      0  ...  28314.000000  28959.000000  29547.000000   \n",
       "4          0      0  ...  20940.000000  19146.000000  19131.000000   \n",
       "...      ...    ...  ...           ...           ...           ...   \n",
       "45455      0      0  ...  25044.579180  25340.555844  25243.951785   \n",
       "45456      1      0  ...  30359.289445  30241.846544  29553.457138   \n",
       "45457      1      1  ...  17241.225671  18357.859372  18716.061820   \n",
       "45458     -2     -2  ...      0.000000      0.000000      0.000000   \n",
       "45459      0      0  ...  36142.322016  18373.189306  18069.957572   \n",
       "\n",
       "          PAY_AMT1      PAY_AMT2      PAY_AMT3     PAY_AMT4     PAY_AMT5  \\\n",
       "0         0.000000    689.000000      0.000000     0.000000     0.000000   \n",
       "1         0.000000   1000.000000   1000.000000  1000.000000     0.000000   \n",
       "2      1518.000000   1500.000000   1000.000000  1000.000000  1000.000000   \n",
       "3      2000.000000   2019.000000   1200.000000  1100.000000  1069.000000   \n",
       "4      2000.000000  36681.000000  10000.000000  9000.000000   689.000000   \n",
       "...            ...           ...           ...          ...          ...   \n",
       "45455  1810.988524   1475.233740   1393.092194   877.070007   904.586839   \n",
       "45456  1941.821322   2773.945354    726.054646  1113.834084  1501.031927   \n",
       "45457  2258.126708   1458.324570    251.026307  1522.395675   805.254998   \n",
       "45458     0.000000      0.000000      0.000000     0.000000     0.000000   \n",
       "45459  2067.193581   2063.794551   1980.612742  4296.167871  1000.000000   \n",
       "\n",
       "          PAY_AMT6  default  \n",
       "0         0.000000        1  \n",
       "1      2000.000000        1  \n",
       "2      5000.000000        0  \n",
       "3      1000.000000        0  \n",
       "4       679.000000        0  \n",
       "...            ...      ...  \n",
       "45455  1380.881790        1  \n",
       "45456  1759.013712        1  \n",
       "45457   194.745002        1  \n",
       "45458     0.000000        1  \n",
       "45459  1731.225675        1  \n",
       "\n",
       "[45460 rows x 24 columns]"
      ]
     },
     "execution_count": 30,
     "metadata": {},
     "output_type": "execute_result"
    }
   ],
   "source": [
    "## feature engineering \n",
    "df_lg=bal_df.copy()\n",
    "df_lg"
   ]
  },
  {
   "cell_type": "code",
   "execution_count": 31,
   "id": "b5a79388",
   "metadata": {},
   "outputs": [],
   "source": [
    "# adding new feature  \"Dues\" by finding the  difference between the\n",
    "df_lg['Dues']=(bal_df['BILL_AMT1']+bal_df['BILL_AMT2']+bal_df['BILL_AMT3']+bal_df['BILL_AMT4']+bal_df['BILL_AMT5']+bal_df['BILL_AMT6'])-(bal_df['PAY_AMT1']+bal_df['PAY_AMT2']+bal_df['PAY_AMT3']+bal_df['PAY_AMT4']+bal_df['PAY_AMT5']+bal_df['PAY_AMT6'])"
   ]
  },
  {
   "cell_type": "code",
   "execution_count": 32,
   "id": "32132f45",
   "metadata": {},
   "outputs": [
    {
     "data": {
      "text/plain": [
       "Index(['LIMIT_BAL', 'SEX', 'EDUCATION', 'MARRIAGE', 'AGE', 'PAY_1', 'PAY_2',\n",
       "       'PAY_3', 'PAY_4', 'PAY_5', 'PAY_6', 'BILL_AMT1', 'BILL_AMT2',\n",
       "       'BILL_AMT3', 'BILL_AMT4', 'BILL_AMT5', 'BILL_AMT6', 'PAY_AMT1',\n",
       "       'PAY_AMT2', 'PAY_AMT3', 'PAY_AMT4', 'PAY_AMT5', 'PAY_AMT6', 'default',\n",
       "       'Dues'],\n",
       "      dtype='object')"
      ]
     },
     "execution_count": 32,
     "metadata": {},
     "output_type": "execute_result"
    }
   ],
   "source": [
    "df_lg.columns"
   ]
  },
  {
   "cell_type": "code",
   "execution_count": 33,
   "id": "c6ee8353",
   "metadata": {},
   "outputs": [
    {
     "data": {
      "text/plain": [
       "default\n",
       "0    239157.663308\n",
       "1    244688.889289\n",
       "Name: Dues, dtype: float64"
      ]
     },
     "execution_count": 33,
     "metadata": {},
     "output_type": "execute_result"
    }
   ],
   "source": [
    "df_lg.groupby('default')['Dues'].mean()"
   ]
  },
  {
   "cell_type": "code",
   "execution_count": 34,
   "id": "04ab2fcc",
   "metadata": {},
   "outputs": [],
   "source": [
    "x_lg=df_lg[['LIMIT_BAL', 'SEX', 'EDUCATION', 'MARRIAGE', 'AGE', 'PAY_1', 'PAY_2', 'PAY_3', 'PAY_4', 'PAY_5', 'PAY_6','Dues']]\n",
    "y_lg=df_lg[['default']]"
   ]
  },
  {
   "cell_type": "code",
   "execution_count": 35,
   "id": "306c8c24",
   "metadata": {},
   "outputs": [],
   "source": [
    "from  sklearn.model_selection import  train_test_split\n",
    "x_tr_lg,x_ts_lg,y_tr_lg,y_ts_lg=train_test_split(x_lg,y_lg,test_size=0.3,random_state=42)"
   ]
  },
  {
   "cell_type": "markdown",
   "id": "6a0cf689",
   "metadata": {},
   "source": [
    "## Scaling is done   since  Logistic  regresion  is  sensitive  to  Scaling"
   ]
  },
  {
   "cell_type": "code",
   "execution_count": 36,
   "id": "a67fffa3",
   "metadata": {},
   "outputs": [],
   "source": [
    "import  matplotlib.pyplot as plt \n",
    "from  scipy  import  stats\n",
    "import  pylab\n",
    "def plot_data(feature):\n",
    "    plt.figure(figsize=(10,6))\n",
    "    plt.subplot(2,2,1)\n",
    "    x_tr_lg[feature].hist()\n",
    "    plt.subplot(2,2,2)\n",
    "    x_ts_lg[feature].hist()\n",
    "    plt.subplot(2,2,3)\n",
    "    stats.probplot(x_tr_lg[feature],dist='norm',plot=pylab)\n",
    "    plt.subplot(2,2,4)\n",
    "    stats.probplot(x_ts_lg[feature],dist='norm',plot=pylab)\n",
    "    \n",
    "    plt.show()"
   ]
  },
  {
   "cell_type": "code",
   "execution_count": 37,
   "id": "203eee7a",
   "metadata": {},
   "outputs": [
    {
     "name": "stderr",
     "output_type": "stream",
     "text": [
      "C:\\Users\\slrk4\\anaconda3\\lib\\site-packages\\seaborn\\distributions.py:2619: FutureWarning: `distplot` is a deprecated function and will be removed in a future version. Please adapt your code to use either `displot` (a figure-level function with similar flexibility) or `histplot` (an axes-level function for histograms).\n",
      "  warnings.warn(msg, FutureWarning)\n",
      "C:\\Users\\slrk4\\anaconda3\\lib\\site-packages\\seaborn\\distributions.py:2619: FutureWarning: `distplot` is a deprecated function and will be removed in a future version. Please adapt your code to use either `displot` (a figure-level function with similar flexibility) or `histplot` (an axes-level function for histograms).\n",
      "  warnings.warn(msg, FutureWarning)\n"
     ]
    },
    {
     "data": {
      "text/plain": [
       "<AxesSubplot:xlabel='AGE', ylabel='Density'>"
      ]
     },
     "execution_count": 37,
     "metadata": {},
     "output_type": "execute_result"
    },
    {
     "data": {
      "image/png": "[encoded data removed]",
      "text/plain": [
       "<Figure size 720x360 with 2 Axes>"
      ]
     },
     "metadata": {
      "needs_background": "light"
     },
     "output_type": "display_data"
    }
   ],
   "source": [
    "plt.figure(figsize=(10,5))\n",
    "plt.subplot(1,2,1)\n",
    "sns.distplot(x_tr_lg['AGE'])\n",
    "plt.subplot(1,2,2)\n",
    "sns.distplot(x_ts_lg['AGE'])\n",
    "#  the \"age\" is right  skewed \n"
   ]
  },
  {
   "cell_type": "code",
   "execution_count": 38,
   "id": "2d2e742d",
   "metadata": {},
   "outputs": [
    {
     "data": {
      "image/png": "[encoded data removed]",
      "text/plain": [
       "<Figure size 720x432 with 4 Axes>"
      ]
     },
     "metadata": {
      "needs_background": "light"
     },
     "output_type": "display_data"
    }
   ],
   "source": [
    "# lets apply gaussian transformation\n",
    "plot_data(\"AGE\")"
   ]
  },
  {
   "cell_type": "code",
   "execution_count": 39,
   "id": "2a5f11a8",
   "metadata": {},
   "outputs": [
    {
     "data": {
      "image/png": "[encoded data removed]",
      "text/plain": [
       "<Figure size 720x432 with 4 Axes>"
      ]
     },
     "metadata": {
      "needs_background": "light"
     },
     "output_type": "display_data"
    }
   ],
   "source": [
    "x_tr_lg['age_boxcox'],param=stats.boxcox(x_tr_lg['AGE'])\n",
    "x_ts_lg['age_boxcox'],param=stats.boxcox(x_ts_lg['AGE'])\n",
    "\n",
    "\n",
    "plot_data('age_boxcox')"
   ]
  },
  {
   "cell_type": "code",
   "execution_count": 40,
   "id": "44f8496e",
   "metadata": {},
   "outputs": [
    {
     "data": {
      "image/png": "[encoded data removed]",
      "text/plain": [
       "<Figure size 720x432 with 4 Axes>"
      ]
     },
     "metadata": {
      "needs_background": "light"
     },
     "output_type": "display_data"
    }
   ],
   "source": [
    "x_tr_lg['age_log']=np.log(x_tr_lg['AGE'])\n",
    "x_ts_lg['age_log']=np.log(x_ts_lg['AGE'])\n",
    "plot_data('age_log')"
   ]
  },
  {
   "cell_type": "code",
   "execution_count": 41,
   "id": "2c0ddb9a",
   "metadata": {},
   "outputs": [
    {
     "data": {
      "image/png": "[encoded data removed]",
      "text/plain": [
       "<Figure size 720x432 with 4 Axes>"
      ]
     },
     "metadata": {
      "needs_background": "light"
     },
     "output_type": "display_data"
    }
   ],
   "source": [
    "x_tr_lg['age_rec']=1/x_tr_lg['AGE']\n",
    "x_ts_lg['age_rec']=1/x_ts_lg['AGE']\n",
    "plot_data('age_rec')"
   ]
  },
  {
   "cell_type": "code",
   "execution_count": 42,
   "id": "3a644d35",
   "metadata": {},
   "outputs": [
    {
     "data": {
      "text/html": [
       "<div>\n",
       "<style scoped>\n",
       "    .dataframe tbody tr th:only-of-type {\n",
       "        vertical-align: middle;\n",
       "    }\n",
       "\n",
       "    .dataframe tbody tr th {\n",
       "        vertical-align: top;\n",
       "    }\n",
       "\n",
       "    .dataframe thead th {\n",
       "        text-align: right;\n",
       "    }\n",
       "</style>\n",
       "<table border=\"1\" class=\"dataframe\">\n",
       "  <thead>\n",
       "    <tr style=\"text-align: right;\">\n",
       "      <th></th>\n",
       "      <th>LIMIT_BAL</th>\n",
       "      <th>SEX</th>\n",
       "      <th>EDUCATION</th>\n",
       "      <th>MARRIAGE</th>\n",
       "      <th>AGE</th>\n",
       "      <th>PAY_1</th>\n",
       "      <th>PAY_2</th>\n",
       "      <th>PAY_3</th>\n",
       "      <th>PAY_4</th>\n",
       "      <th>PAY_5</th>\n",
       "      <th>PAY_6</th>\n",
       "      <th>Dues</th>\n",
       "      <th>age_boxcox</th>\n",
       "      <th>age_log</th>\n",
       "      <th>age_rec</th>\n",
       "    </tr>\n",
       "  </thead>\n",
       "  <tbody>\n",
       "    <tr>\n",
       "      <th>10671</th>\n",
       "      <td>290000.000000</td>\n",
       "      <td>1</td>\n",
       "      <td>4</td>\n",
       "      <td>1</td>\n",
       "      <td>38</td>\n",
       "      <td>-2</td>\n",
       "      <td>-2</td>\n",
       "      <td>-2</td>\n",
       "      <td>-2</td>\n",
       "      <td>-2</td>\n",
       "      <td>-2</td>\n",
       "      <td>555.000000</td>\n",
       "      <td>1.943253</td>\n",
       "      <td>3.637586</td>\n",
       "      <td>0.026316</td>\n",
       "    </tr>\n",
       "    <tr>\n",
       "      <th>19012</th>\n",
       "      <td>240000.000000</td>\n",
       "      <td>2</td>\n",
       "      <td>2</td>\n",
       "      <td>1</td>\n",
       "      <td>47</td>\n",
       "      <td>0</td>\n",
       "      <td>0</td>\n",
       "      <td>0</td>\n",
       "      <td>0</td>\n",
       "      <td>0</td>\n",
       "      <td>0</td>\n",
       "      <td>717902.000000</td>\n",
       "      <td>1.992610</td>\n",
       "      <td>3.850148</td>\n",
       "      <td>0.021277</td>\n",
       "    </tr>\n",
       "    <tr>\n",
       "      <th>19016</th>\n",
       "      <td>290000.000000</td>\n",
       "      <td>2</td>\n",
       "      <td>1</td>\n",
       "      <td>2</td>\n",
       "      <td>30</td>\n",
       "      <td>0</td>\n",
       "      <td>0</td>\n",
       "      <td>0</td>\n",
       "      <td>0</td>\n",
       "      <td>0</td>\n",
       "      <td>0</td>\n",
       "      <td>133361.000000</td>\n",
       "      <td>1.883336</td>\n",
       "      <td>3.401197</td>\n",
       "      <td>0.033333</td>\n",
       "    </tr>\n",
       "    <tr>\n",
       "      <th>17795</th>\n",
       "      <td>130000.000000</td>\n",
       "      <td>2</td>\n",
       "      <td>2</td>\n",
       "      <td>2</td>\n",
       "      <td>23</td>\n",
       "      <td>-1</td>\n",
       "      <td>-1</td>\n",
       "      <td>-2</td>\n",
       "      <td>-2</td>\n",
       "      <td>-2</td>\n",
       "      <td>-2</td>\n",
       "      <td>69.000000</td>\n",
       "      <td>1.809053</td>\n",
       "      <td>3.135494</td>\n",
       "      <td>0.043478</td>\n",
       "    </tr>\n",
       "    <tr>\n",
       "      <th>44700</th>\n",
       "      <td>57543.208221</td>\n",
       "      <td>2</td>\n",
       "      <td>2</td>\n",
       "      <td>2</td>\n",
       "      <td>22</td>\n",
       "      <td>1</td>\n",
       "      <td>0</td>\n",
       "      <td>0</td>\n",
       "      <td>0</td>\n",
       "      <td>0</td>\n",
       "      <td>0</td>\n",
       "      <td>186322.210769</td>\n",
       "      <td>1.795856</td>\n",
       "      <td>3.091042</td>\n",
       "      <td>0.045455</td>\n",
       "    </tr>\n",
       "    <tr>\n",
       "      <th>...</th>\n",
       "      <td>...</td>\n",
       "      <td>...</td>\n",
       "      <td>...</td>\n",
       "      <td>...</td>\n",
       "      <td>...</td>\n",
       "      <td>...</td>\n",
       "      <td>...</td>\n",
       "      <td>...</td>\n",
       "      <td>...</td>\n",
       "      <td>...</td>\n",
       "      <td>...</td>\n",
       "      <td>...</td>\n",
       "      <td>...</td>\n",
       "      <td>...</td>\n",
       "      <td>...</td>\n",
       "    </tr>\n",
       "    <tr>\n",
       "      <th>11284</th>\n",
       "      <td>180000.000000</td>\n",
       "      <td>2</td>\n",
       "      <td>3</td>\n",
       "      <td>2</td>\n",
       "      <td>39</td>\n",
       "      <td>1</td>\n",
       "      <td>-1</td>\n",
       "      <td>0</td>\n",
       "      <td>-1</td>\n",
       "      <td>0</td>\n",
       "      <td>0</td>\n",
       "      <td>15002.000000</td>\n",
       "      <td>1.949506</td>\n",
       "      <td>3.663562</td>\n",
       "      <td>0.025641</td>\n",
       "    </tr>\n",
       "    <tr>\n",
       "      <th>44732</th>\n",
       "      <td>50000.000000</td>\n",
       "      <td>2</td>\n",
       "      <td>2</td>\n",
       "      <td>1</td>\n",
       "      <td>35</td>\n",
       "      <td>0</td>\n",
       "      <td>0</td>\n",
       "      <td>0</td>\n",
       "      <td>1</td>\n",
       "      <td>-1</td>\n",
       "      <td>-1</td>\n",
       "      <td>34851.708796</td>\n",
       "      <td>1.923032</td>\n",
       "      <td>3.555348</td>\n",
       "      <td>0.028571</td>\n",
       "    </tr>\n",
       "    <tr>\n",
       "      <th>38158</th>\n",
       "      <td>30000.000000</td>\n",
       "      <td>1</td>\n",
       "      <td>2</td>\n",
       "      <td>1</td>\n",
       "      <td>55</td>\n",
       "      <td>1</td>\n",
       "      <td>6</td>\n",
       "      <td>5</td>\n",
       "      <td>4</td>\n",
       "      <td>3</td>\n",
       "      <td>2</td>\n",
       "      <td>175382.848421</td>\n",
       "      <td>2.026565</td>\n",
       "      <td>4.007333</td>\n",
       "      <td>0.018182</td>\n",
       "    </tr>\n",
       "    <tr>\n",
       "      <th>860</th>\n",
       "      <td>320000.000000</td>\n",
       "      <td>1</td>\n",
       "      <td>1</td>\n",
       "      <td>2</td>\n",
       "      <td>27</td>\n",
       "      <td>0</td>\n",
       "      <td>0</td>\n",
       "      <td>0</td>\n",
       "      <td>0</td>\n",
       "      <td>0</td>\n",
       "      <td>0</td>\n",
       "      <td>736344.000000</td>\n",
       "      <td>1.854798</td>\n",
       "      <td>3.295837</td>\n",
       "      <td>0.037037</td>\n",
       "    </tr>\n",
       "    <tr>\n",
       "      <th>15795</th>\n",
       "      <td>110000.000000</td>\n",
       "      <td>2</td>\n",
       "      <td>1</td>\n",
       "      <td>1</td>\n",
       "      <td>44</td>\n",
       "      <td>0</td>\n",
       "      <td>0</td>\n",
       "      <td>2</td>\n",
       "      <td>2</td>\n",
       "      <td>2</td>\n",
       "      <td>2</td>\n",
       "      <td>544884.000000</td>\n",
       "      <td>1.977730</td>\n",
       "      <td>3.784190</td>\n",
       "      <td>0.022727</td>\n",
       "    </tr>\n",
       "  </tbody>\n",
       "</table>\n",
       "<p>31822 rows × 15 columns</p>\n",
       "</div>"
      ],
      "text/plain": [
       "           LIMIT_BAL  SEX  EDUCATION  MARRIAGE  AGE  PAY_1  PAY_2  PAY_3  \\\n",
       "10671  290000.000000    1          4         1   38     -2     -2     -2   \n",
       "19012  240000.000000    2          2         1   47      0      0      0   \n",
       "19016  290000.000000    2          1         2   30      0      0      0   \n",
       "17795  130000.000000    2          2         2   23     -1     -1     -2   \n",
       "44700   57543.208221    2          2         2   22      1      0      0   \n",
       "...              ...  ...        ...       ...  ...    ...    ...    ...   \n",
       "11284  180000.000000    2          3         2   39      1     -1      0   \n",
       "44732   50000.000000    2          2         1   35      0      0      0   \n",
       "38158   30000.000000    1          2         1   55      1      6      5   \n",
       "860    320000.000000    1          1         2   27      0      0      0   \n",
       "15795  110000.000000    2          1         1   44      0      0      2   \n",
       "\n",
       "       PAY_4  PAY_5  PAY_6           Dues  age_boxcox   age_log   age_rec  \n",
       "10671     -2     -2     -2     555.000000    1.943253  3.637586  0.026316  \n",
       "19012      0      0      0  717902.000000    1.992610  3.850148  0.021277  \n",
       "19016      0      0      0  133361.000000    1.883336  3.401197  0.033333  \n",
       "17795     -2     -2     -2      69.000000    1.809053  3.135494  0.043478  \n",
       "44700      0      0      0  186322.210769    1.795856  3.091042  0.045455  \n",
       "...      ...    ...    ...            ...         ...       ...       ...  \n",
       "11284     -1      0      0   15002.000000    1.949506  3.663562  0.025641  \n",
       "44732      1     -1     -1   34851.708796    1.923032  3.555348  0.028571  \n",
       "38158      4      3      2  175382.848421    2.026565  4.007333  0.018182  \n",
       "860        0      0      0  736344.000000    1.854798  3.295837  0.037037  \n",
       "15795      2      2      2  544884.000000    1.977730  3.784190  0.022727  \n",
       "\n",
       "[31822 rows x 15 columns]"
      ]
     },
     "execution_count": 42,
     "metadata": {},
     "output_type": "execute_result"
    }
   ],
   "source": [
    "x_tr_lg\n"
   ]
  },
  {
   "cell_type": "code",
   "execution_count": 43,
   "id": "09da15b1",
   "metadata": {},
   "outputs": [],
   "source": [
    "#from  the above transfromtion we found that  log  transformation  is  best  suited\n",
    "x_tr_lg.drop(['age_boxcox','AGE','age_rec'],axis=1,inplace=True)\n",
    "x_ts_lg.drop(['age_boxcox','AGE','age_rec'],axis=1,inplace=True)\n",
    "\n"
   ]
  },
  {
   "cell_type": "code",
   "execution_count": 44,
   "id": "6a24395a",
   "metadata": {},
   "outputs": [
    {
     "name": "stderr",
     "output_type": "stream",
     "text": [
      "C:\\Users\\slrk4\\anaconda3\\lib\\site-packages\\seaborn\\distributions.py:2619: FutureWarning: `distplot` is a deprecated function and will be removed in a future version. Please adapt your code to use either `displot` (a figure-level function with similar flexibility) or `histplot` (an axes-level function for histograms).\n",
      "  warnings.warn(msg, FutureWarning)\n",
      "C:\\Users\\slrk4\\anaconda3\\lib\\site-packages\\seaborn\\distributions.py:2619: FutureWarning: `distplot` is a deprecated function and will be removed in a future version. Please adapt your code to use either `displot` (a figure-level function with similar flexibility) or `histplot` (an axes-level function for histograms).\n",
      "  warnings.warn(msg, FutureWarning)\n"
     ]
    },
    {
     "data": {
      "text/plain": [
       "<AxesSubplot:xlabel='LIMIT_BAL', ylabel='Density'>"
      ]
     },
     "execution_count": 44,
     "metadata": {},
     "output_type": "execute_result"
    },
    {
     "data": {
      "image/png": "[encoded data removed]",
      "text/plain": [
       "<Figure size 720x360 with 2 Axes>"
      ]
     },
     "metadata": {
      "needs_background": "light"
     },
     "output_type": "display_data"
    }
   ],
   "source": [
    "#check  for LIMIT_BAL  feature \n",
    "plt.figure(figsize=(10,5))\n",
    "plt.subplot(1,2,1)\n",
    "sns.distplot(x_tr_lg['LIMIT_BAL'])\n",
    "plt.subplot(1,2,2)\n",
    "sns.distplot(x_ts_lg['LIMIT_BAL'])\n",
    "#  the \"LIMIT_BAL\" is right  skewed "
   ]
  },
  {
   "cell_type": "code",
   "execution_count": 45,
   "id": "858626b4",
   "metadata": {},
   "outputs": [
    {
     "data": {
      "image/png": "[encoded data removed]",
      "text/plain": [
       "<Figure size 720x432 with 4 Axes>"
      ]
     },
     "metadata": {
      "needs_background": "light"
     },
     "output_type": "display_data"
    }
   ],
   "source": [
    "\n",
    "plot_data('LIMIT_BAL')"
   ]
  },
  {
   "cell_type": "code",
   "execution_count": 46,
   "id": "f30896d3",
   "metadata": {},
   "outputs": [
    {
     "data": {
      "image/png": "[encoded data removed]",
      "text/plain": [
       "<Figure size 720x432 with 4 Axes>"
      ]
     },
     "metadata": {
      "needs_background": "light"
     },
     "output_type": "display_data"
    }
   ],
   "source": [
    "#boxcox transformation\n",
    "x_tr_lg['LIMIT_BAL_boxcox'],param=stats.boxcox(x_tr_lg['LIMIT_BAL'])\n",
    "x_ts_lg['LIMIT_BAL_boxcox'],param=stats.boxcox(x_ts_lg['LIMIT_BAL'])\n",
    "\n",
    "\n",
    "plot_data('LIMIT_BAL_boxcox')"
   ]
  },
  {
   "cell_type": "code",
   "execution_count": 47,
   "id": "d53e925d",
   "metadata": {},
   "outputs": [
    {
     "data": {
      "image/png": "[encoded data removed]",
      "text/plain": [
       "<Figure size 720x432 with 4 Axes>"
      ]
     },
     "metadata": {
      "needs_background": "light"
     },
     "output_type": "display_data"
    }
   ],
   "source": [
    "#log transformation\n",
    "x_tr_lg['LIMIT_BAL_log']=np.log(x_tr_lg['LIMIT_BAL'])\n",
    "x_ts_lg['LIMIT_BAL_log']=np.log(x_ts_lg['LIMIT_BAL'])\n",
    "\n",
    "\n",
    "plot_data('LIMIT_BAL_log')"
   ]
  },
  {
   "cell_type": "code",
   "execution_count": 48,
   "id": "8c04f14e",
   "metadata": {},
   "outputs": [],
   "source": [
    "from sklearn.preprocessing import  StandardScaler\n",
    "sc=StandardScaler()\n",
    "x_tr_lg_scaled=sc.fit_transform(x_tr_lg)\n",
    "x_ts_lg_scaled=sc.fit_transform(x_ts_lg)\n",
    "\n"
   ]
  },
  {
   "cell_type": "code",
   "execution_count": 49,
   "id": "7f0d46f2",
   "metadata": {},
   "outputs": [],
   "source": [
    "from  sklearn.linear_model import  LogisticRegression\n",
    "from sklearn.model_selection import RepeatedStratifiedKFold\n",
    "from sklearn.model_selection import GridSearchCV\n",
    "logModel=LogisticRegression()\n",
    "solvers = ['newton-cg', 'lbfgs', 'liblinear']\n",
    "penalty = ['l2']\n",
    "c_values = [100, 10, 1.0, 0.1, 0.01]\n",
    "# define grid search\n",
    "grid = dict(solver=solvers,penalty=penalty,C=c_values)\n",
    "cv = RepeatedStratifiedKFold(n_splits=10, n_repeats=3, random_state=1)\n",
    "grid_search = GridSearchCV(estimator=logModel, param_grid=grid, n_jobs=-1, cv=cv, scoring='accuracy',error_score=0)\n"
   ]
  },
  {
   "cell_type": "code",
   "execution_count": 50,
   "id": "71e29a17",
   "metadata": {},
   "outputs": [
    {
     "data": {
      "text/html": [
       "<div>\n",
       "<style scoped>\n",
       "    .dataframe tbody tr th:only-of-type {\n",
       "        vertical-align: middle;\n",
       "    }\n",
       "\n",
       "    .dataframe tbody tr th {\n",
       "        vertical-align: top;\n",
       "    }\n",
       "\n",
       "    .dataframe thead th {\n",
       "        text-align: right;\n",
       "    }\n",
       "</style>\n",
       "<table border=\"1\" class=\"dataframe\">\n",
       "  <thead>\n",
       "    <tr style=\"text-align: right;\">\n",
       "      <th></th>\n",
       "      <th>default</th>\n",
       "    </tr>\n",
       "  </thead>\n",
       "  <tbody>\n",
       "    <tr>\n",
       "      <th>10671</th>\n",
       "      <td>0</td>\n",
       "    </tr>\n",
       "    <tr>\n",
       "      <th>19012</th>\n",
       "      <td>0</td>\n",
       "    </tr>\n",
       "    <tr>\n",
       "      <th>19016</th>\n",
       "      <td>0</td>\n",
       "    </tr>\n",
       "    <tr>\n",
       "      <th>17795</th>\n",
       "      <td>0</td>\n",
       "    </tr>\n",
       "    <tr>\n",
       "      <th>44700</th>\n",
       "      <td>1</td>\n",
       "    </tr>\n",
       "    <tr>\n",
       "      <th>...</th>\n",
       "      <td>...</td>\n",
       "    </tr>\n",
       "    <tr>\n",
       "      <th>11284</th>\n",
       "      <td>0</td>\n",
       "    </tr>\n",
       "    <tr>\n",
       "      <th>44732</th>\n",
       "      <td>1</td>\n",
       "    </tr>\n",
       "    <tr>\n",
       "      <th>38158</th>\n",
       "      <td>1</td>\n",
       "    </tr>\n",
       "    <tr>\n",
       "      <th>860</th>\n",
       "      <td>0</td>\n",
       "    </tr>\n",
       "    <tr>\n",
       "      <th>15795</th>\n",
       "      <td>1</td>\n",
       "    </tr>\n",
       "  </tbody>\n",
       "</table>\n",
       "<p>31822 rows × 1 columns</p>\n",
       "</div>"
      ],
      "text/plain": [
       "       default\n",
       "10671        0\n",
       "19012        0\n",
       "19016        0\n",
       "17795        0\n",
       "44700        1\n",
       "...        ...\n",
       "11284        0\n",
       "44732        1\n",
       "38158        1\n",
       "860          0\n",
       "15795        1\n",
       "\n",
       "[31822 rows x 1 columns]"
      ]
     },
     "execution_count": 50,
     "metadata": {},
     "output_type": "execute_result"
    }
   ],
   "source": [
    "y_tr_lg"
   ]
  },
  {
   "cell_type": "code",
   "execution_count": 51,
   "id": "19209365",
   "metadata": {},
   "outputs": [],
   "source": [
    "# grid_result = grid_search.fit(x_tr_lg_scaled, y_tr_lg['default'])"
   ]
  },
  {
   "cell_type": "code",
   "execution_count": 53,
   "id": "79e831df",
   "metadata": {},
   "outputs": [
    {
     "ename": "NameError",
     "evalue": "name 'grid_result' is not defined",
     "output_type": "error",
     "traceback": [
      "\u001b[1;31m---------------------------------------------------------------------------\u001b[0m",
      "\u001b[1;31mNameError\u001b[0m                                 Traceback (most recent call last)",
      "\u001b[1;32m~\\AppData\\Local\\Temp/ipykernel_10804/1191200572.py\u001b[0m in \u001b[0;36m<module>\u001b[1;34m\u001b[0m\n\u001b[1;32m----> 1\u001b[1;33m \u001b[0mprint\u001b[0m\u001b[1;33m(\u001b[0m\u001b[1;34m\"Best: %f using %s\"\u001b[0m \u001b[1;33m%\u001b[0m \u001b[1;33m(\u001b[0m\u001b[0mgrid_result\u001b[0m\u001b[1;33m.\u001b[0m\u001b[0mbest_score_\u001b[0m\u001b[1;33m,\u001b[0m \u001b[0mgrid_result\u001b[0m\u001b[1;33m.\u001b[0m\u001b[0mbest_params_\u001b[0m\u001b[1;33m)\u001b[0m\u001b[1;33m)\u001b[0m\u001b[1;33m\u001b[0m\u001b[1;33m\u001b[0m\u001b[0m\n\u001b[0m",
      "\u001b[1;31mNameError\u001b[0m: name 'grid_result' is not defined"
     ]
    }
   ],
   "source": [
    "print(\"Best: %f using %s\" % (grid_result.best_score_, grid_result.best_params_))"
   ]
  },
  {
   "cell_type": "markdown",
   "id": "65fd5c41",
   "metadata": {},
   "source": [
    "# random  forest \n"
   ]
  },
  {
   "cell_type": "code",
   "execution_count": 52,
   "id": "ae11a351",
   "metadata": {},
   "outputs": [
    {
     "data": {
      "text/html": [
       "<div>\n",
       "<style scoped>\n",
       "    .dataframe tbody tr th:only-of-type {\n",
       "        vertical-align: middle;\n",
       "    }\n",
       "\n",
       "    .dataframe tbody tr th {\n",
       "        vertical-align: top;\n",
       "    }\n",
       "\n",
       "    .dataframe thead th {\n",
       "        text-align: right;\n",
       "    }\n",
       "</style>\n",
       "<table border=\"1\" class=\"dataframe\">\n",
       "  <thead>\n",
       "    <tr style=\"text-align: right;\">\n",
       "      <th></th>\n",
       "      <th>LIMIT_BAL</th>\n",
       "      <th>SEX</th>\n",
       "      <th>EDUCATION</th>\n",
       "      <th>MARRIAGE</th>\n",
       "      <th>AGE</th>\n",
       "      <th>PAY_1</th>\n",
       "      <th>PAY_2</th>\n",
       "      <th>PAY_3</th>\n",
       "      <th>PAY_4</th>\n",
       "      <th>PAY_5</th>\n",
       "      <th>...</th>\n",
       "      <th>BILL_AMT5</th>\n",
       "      <th>BILL_AMT6</th>\n",
       "      <th>PAY_AMT1</th>\n",
       "      <th>PAY_AMT2</th>\n",
       "      <th>PAY_AMT3</th>\n",
       "      <th>PAY_AMT4</th>\n",
       "      <th>PAY_AMT5</th>\n",
       "      <th>PAY_AMT6</th>\n",
       "      <th>default</th>\n",
       "      <th>Dues</th>\n",
       "    </tr>\n",
       "  </thead>\n",
       "  <tbody>\n",
       "    <tr>\n",
       "      <th>0</th>\n",
       "      <td>20000.0</td>\n",
       "      <td>2</td>\n",
       "      <td>2</td>\n",
       "      <td>1</td>\n",
       "      <td>24</td>\n",
       "      <td>2</td>\n",
       "      <td>2</td>\n",
       "      <td>-1</td>\n",
       "      <td>-1</td>\n",
       "      <td>-2</td>\n",
       "      <td>...</td>\n",
       "      <td>0.0</td>\n",
       "      <td>0.0</td>\n",
       "      <td>0.0</td>\n",
       "      <td>689.0</td>\n",
       "      <td>0.0</td>\n",
       "      <td>0.0</td>\n",
       "      <td>0.0</td>\n",
       "      <td>0.0</td>\n",
       "      <td>1</td>\n",
       "      <td>7015.0</td>\n",
       "    </tr>\n",
       "    <tr>\n",
       "      <th>1</th>\n",
       "      <td>120000.0</td>\n",
       "      <td>2</td>\n",
       "      <td>2</td>\n",
       "      <td>2</td>\n",
       "      <td>26</td>\n",
       "      <td>-1</td>\n",
       "      <td>2</td>\n",
       "      <td>0</td>\n",
       "      <td>0</td>\n",
       "      <td>0</td>\n",
       "      <td>...</td>\n",
       "      <td>3455.0</td>\n",
       "      <td>3261.0</td>\n",
       "      <td>0.0</td>\n",
       "      <td>1000.0</td>\n",
       "      <td>1000.0</td>\n",
       "      <td>1000.0</td>\n",
       "      <td>0.0</td>\n",
       "      <td>2000.0</td>\n",
       "      <td>1</td>\n",
       "      <td>12077.0</td>\n",
       "    </tr>\n",
       "    <tr>\n",
       "      <th>2</th>\n",
       "      <td>90000.0</td>\n",
       "      <td>2</td>\n",
       "      <td>2</td>\n",
       "      <td>2</td>\n",
       "      <td>34</td>\n",
       "      <td>0</td>\n",
       "      <td>0</td>\n",
       "      <td>0</td>\n",
       "      <td>0</td>\n",
       "      <td>0</td>\n",
       "      <td>...</td>\n",
       "      <td>14948.0</td>\n",
       "      <td>15549.0</td>\n",
       "      <td>1518.0</td>\n",
       "      <td>1500.0</td>\n",
       "      <td>1000.0</td>\n",
       "      <td>1000.0</td>\n",
       "      <td>1000.0</td>\n",
       "      <td>5000.0</td>\n",
       "      <td>0</td>\n",
       "      <td>90635.0</td>\n",
       "    </tr>\n",
       "    <tr>\n",
       "      <th>3</th>\n",
       "      <td>50000.0</td>\n",
       "      <td>2</td>\n",
       "      <td>2</td>\n",
       "      <td>1</td>\n",
       "      <td>37</td>\n",
       "      <td>0</td>\n",
       "      <td>0</td>\n",
       "      <td>0</td>\n",
       "      <td>0</td>\n",
       "      <td>0</td>\n",
       "      <td>...</td>\n",
       "      <td>28959.0</td>\n",
       "      <td>29547.0</td>\n",
       "      <td>2000.0</td>\n",
       "      <td>2019.0</td>\n",
       "      <td>1200.0</td>\n",
       "      <td>1100.0</td>\n",
       "      <td>1069.0</td>\n",
       "      <td>1000.0</td>\n",
       "      <td>0</td>\n",
       "      <td>222946.0</td>\n",
       "    </tr>\n",
       "    <tr>\n",
       "      <th>4</th>\n",
       "      <td>50000.0</td>\n",
       "      <td>1</td>\n",
       "      <td>2</td>\n",
       "      <td>1</td>\n",
       "      <td>57</td>\n",
       "      <td>-1</td>\n",
       "      <td>0</td>\n",
       "      <td>-1</td>\n",
       "      <td>0</td>\n",
       "      <td>0</td>\n",
       "      <td>...</td>\n",
       "      <td>19146.0</td>\n",
       "      <td>19131.0</td>\n",
       "      <td>2000.0</td>\n",
       "      <td>36681.0</td>\n",
       "      <td>10000.0</td>\n",
       "      <td>9000.0</td>\n",
       "      <td>689.0</td>\n",
       "      <td>679.0</td>\n",
       "      <td>0</td>\n",
       "      <td>50290.0</td>\n",
       "    </tr>\n",
       "  </tbody>\n",
       "</table>\n",
       "<p>5 rows × 25 columns</p>\n",
       "</div>"
      ],
      "text/plain": [
       "   LIMIT_BAL  SEX  EDUCATION  MARRIAGE  AGE  PAY_1  PAY_2  PAY_3  PAY_4  \\\n",
       "0    20000.0    2          2         1   24      2      2     -1     -1   \n",
       "1   120000.0    2          2         2   26     -1      2      0      0   \n",
       "2    90000.0    2          2         2   34      0      0      0      0   \n",
       "3    50000.0    2          2         1   37      0      0      0      0   \n",
       "4    50000.0    1          2         1   57     -1      0     -1      0   \n",
       "\n",
       "   PAY_5  ...  BILL_AMT5  BILL_AMT6  PAY_AMT1  PAY_AMT2  PAY_AMT3  PAY_AMT4  \\\n",
       "0     -2  ...        0.0        0.0       0.0     689.0       0.0       0.0   \n",
       "1      0  ...     3455.0     3261.0       0.0    1000.0    1000.0    1000.0   \n",
       "2      0  ...    14948.0    15549.0    1518.0    1500.0    1000.0    1000.0   \n",
       "3      0  ...    28959.0    29547.0    2000.0    2019.0    1200.0    1100.0   \n",
       "4      0  ...    19146.0    19131.0    2000.0   36681.0   10000.0    9000.0   \n",
       "\n",
       "   PAY_AMT5  PAY_AMT6  default      Dues  \n",
       "0       0.0       0.0        1    7015.0  \n",
       "1       0.0    2000.0        1   12077.0  \n",
       "2    1000.0    5000.0        0   90635.0  \n",
       "3    1069.0    1000.0        0  222946.0  \n",
       "4     689.0     679.0        0   50290.0  \n",
       "\n",
       "[5 rows x 25 columns]"
      ]
     },
     "execution_count": 52,
     "metadata": {},
     "output_type": "execute_result"
    }
   ],
   "source": [
    "df_rf=df_lg.copy()\n",
    "df_rf.head()"
   ]
  },
  {
   "cell_type": "code",
   "execution_count": 55,
   "id": "7dc1cbda",
   "metadata": {},
   "outputs": [],
   "source": [
    "# adding new feature  \"Dues\" by finding the  difference between the\n",
    "df_rf['Dues']=(bal_df['BILL_AMT1']+bal_df['BILL_AMT2']+bal_df['BILL_AMT3']+bal_df['BILL_AMT4']+bal_df['BILL_AMT5']+bal_df['BILL_AMT6'])-(bal_df['PAY_AMT1']+bal_df['PAY_AMT2']+bal_df['PAY_AMT3']+bal_df['PAY_AMT4']+bal_df['PAY_AMT5']+bal_df['PAY_AMT6'])"
   ]
  },
  {
   "cell_type": "code",
   "execution_count": 56,
   "id": "17266357",
   "metadata": {},
   "outputs": [],
   "source": [
    "x_rf=df_rf[['LIMIT_BAL', 'SEX', 'EDUCATION', 'MARRIAGE', 'AGE', 'PAY_1', 'PAY_2', 'PAY_3', 'PAY_4', 'PAY_5', 'PAY_6','Dues']]\n",
    "y_rf=df_lg['default']"
   ]
  },
  {
   "cell_type": "code",
   "execution_count": 57,
   "id": "5dbcc009",
   "metadata": {},
   "outputs": [],
   "source": [
    "from  sklearn.model_selection import  train_test_split\n",
    "x_tr_rf,x_ts_rf,y_tr_rf,y_ts_rf=train_test_split(x_rf,y_rf,test_size=0.3,random_state=42)"
   ]
  },
  {
   "cell_type": "code",
   "execution_count": 58,
   "id": "ea11c692",
   "metadata": {},
   "outputs": [
    {
     "data": {
      "text/plain": [
       "17672    0\n",
       "37890    1\n",
       "20237    0\n",
       "26317    1\n",
       "13862    0\n",
       "        ..\n",
       "11284    0\n",
       "44732    1\n",
       "38158    1\n",
       "860      0\n",
       "15795    0\n",
       "Name: default, Length: 31833, dtype: int64"
      ]
     },
     "execution_count": 58,
     "metadata": {},
     "output_type": "execute_result"
    }
   ],
   "source": [
    "y_tr_rf"
   ]
  },
  {
   "cell_type": "code",
   "execution_count": 74,
   "id": "902a2371",
   "metadata": {},
   "outputs": [],
   "source": [
    "from sklearn.model_selection import RandomizedSearchCV\n",
    "n_estimators = [25,50,75,100] # number of trees in the random forest\n",
    "max_features = ['auto', 'sqrt'] # number of features in consideration at every split\n",
    "max_depth = [int(x) for x in np.linspace(10, 120, num = 10)] # maximum number of levels allowed in each decision tree\n",
    "min_samples_split = [2, 6, 10] # minimum sample number to split a node\n",
    "min_samples_leaf = [1, 3, 4] # minimum sample number that can be stored in a leaf node\n",
    "bootstrap = [True, False] # method used to sample data points\n",
    "\n",
    "random_grid = {'n_estimators': n_estimators,\n",
    "\n",
    "'max_features': max_features,\n",
    "\n",
    "'max_depth': max_depth,\n",
    "\n",
    "'min_samples_split': min_samples_split,\n",
    "\n",
    "'min_samples_leaf': min_samples_leaf,\n",
    "\n",
    "'bootstrap': bootstrap}"
   ]
  },
  {
   "cell_type": "code",
   "execution_count": 75,
   "id": "0752ab0b",
   "metadata": {},
   "outputs": [],
   "source": [
    "from sklearn.ensemble import RandomForestClassifier\n",
    "rf = RandomForestClassifier()\n",
    "from sklearn.model_selection import RandomizedSearchCV\n",
    "rf_random = RandomizedSearchCV(estimator = rf,param_distributions = random_grid,\n",
    "               n_iter = 70, cv = 3, verbose=3, random_state=35, n_jobs = -1)"
   ]
  },
  {
   "cell_type": "code",
   "execution_count": 76,
   "id": "4a1ba354",
   "metadata": {},
   "outputs": [
    {
     "name": "stdout",
     "output_type": "stream",
     "text": [
      "Fitting 3 folds for each of 70 candidates, totalling 210 fits\n"
     ]
    },
    {
     "name": "stderr",
     "output_type": "stream",
     "text": [
      "C:\\Users\\slrk4\\anaconda3\\lib\\site-packages\\sklearn\\ensemble\\_forest.py:427: FutureWarning: `max_features='auto'` has been deprecated in 1.1 and will be removed in 1.3. To keep the past behaviour, explicitly set `max_features='sqrt'` or remove this parameter as it is also the default value for RandomForestClassifiers and ExtraTreesClassifiers.\n",
      "  warn(\n"
     ]
    },
    {
     "data": {
      "text/html": [
       "<style>#sk-container-id-3 {color: black;background-color: white;}#sk-container-id-3 pre{padding: 0;}#sk-container-id-3 div.sk-toggleable {background-color: white;}#sk-container-id-3 label.sk-toggleable__label {cursor: pointer;display: block;width: 100%;margin-bottom: 0;padding: 0.3em;box-sizing: border-box;text-align: center;}#sk-container-id-3 label.sk-toggleable__label-arrow:before {content: \"▸\";float: left;margin-right: 0.25em;color: #696969;}#sk-container-id-3 label.sk-toggleable__label-arrow:hover:before {color: black;}#sk-container-id-3 div.sk-estimator:hover label.sk-toggleable__label-arrow:before {color: black;}#sk-container-id-3 div.sk-toggleable__content {max-height: 0;max-width: 0;overflow: hidden;text-align: left;background-color: #f0f8ff;}#sk-container-id-3 div.sk-toggleable__content pre {margin: 0.2em;color: black;border-radius: 0.25em;background-color: #f0f8ff;}#sk-container-id-3 input.sk-toggleable__control:checked~div.sk-toggleable__content {max-height: 200px;max-width: 100%;overflow: auto;}#sk-container-id-3 input.sk-toggleable__control:checked~label.sk-toggleable__label-arrow:before {content: \"▾\";}#sk-container-id-3 div.sk-estimator input.sk-toggleable__control:checked~label.sk-toggleable__label {background-color: #d4ebff;}#sk-container-id-3 div.sk-label input.sk-toggleable__control:checked~label.sk-toggleable__label {background-color: #d4ebff;}#sk-container-id-3 input.sk-hidden--visually {border: 0;clip: rect(1px 1px 1px 1px);clip: rect(1px, 1px, 1px, 1px);height: 1px;margin: -1px;overflow: hidden;padding: 0;position: absolute;width: 1px;}#sk-container-id-3 div.sk-estimator {font-family: monospace;background-color: #f0f8ff;border: 1px dotted black;border-radius: 0.25em;box-sizing: border-box;margin-bottom: 0.5em;}#sk-container-id-3 div.sk-estimator:hover {background-color: #d4ebff;}#sk-container-id-3 div.sk-parallel-item::after {content: \"\";width: 100%;border-bottom: 1px solid gray;flex-grow: 1;}#sk-container-id-3 div.sk-label:hover label.sk-toggleable__label {background-color: #d4ebff;}#sk-container-id-3 div.sk-serial::before {content: \"\";position: absolute;border-left: 1px solid gray;box-sizing: border-box;top: 0;bottom: 0;left: 50%;z-index: 0;}#sk-container-id-3 div.sk-serial {display: flex;flex-direction: column;align-items: center;background-color: white;padding-right: 0.2em;padding-left: 0.2em;position: relative;}#sk-container-id-3 div.sk-item {position: relative;z-index: 1;}#sk-container-id-3 div.sk-parallel {display: flex;align-items: stretch;justify-content: center;background-color: white;position: relative;}#sk-container-id-3 div.sk-item::before, #sk-container-id-3 div.sk-parallel-item::before {content: \"\";position: absolute;border-left: 1px solid gray;box-sizing: border-box;top: 0;bottom: 0;left: 50%;z-index: -1;}#sk-container-id-3 div.sk-parallel-item {display: flex;flex-direction: column;z-index: 1;position: relative;background-color: white;}#sk-container-id-3 div.sk-parallel-item:first-child::after {align-self: flex-end;width: 50%;}#sk-container-id-3 div.sk-parallel-item:last-child::after {align-self: flex-start;width: 50%;}#sk-container-id-3 div.sk-parallel-item:only-child::after {width: 0;}#sk-container-id-3 div.sk-dashed-wrapped {border: 1px dashed gray;margin: 0 0.4em 0.5em 0.4em;box-sizing: border-box;padding-bottom: 0.4em;background-color: white;}#sk-container-id-3 div.sk-label label {font-family: monospace;font-weight: bold;display: inline-block;line-height: 1.2em;}#sk-container-id-3 div.sk-label-container {text-align: center;}#sk-container-id-3 div.sk-container {/* jupyter's `normalize.less` sets `[hidden] { display: none; }` but bootstrap.min.css set `[hidden] { display: none !important; }` so we also need the `!important` here to be able to override the default hidden behavior on the sphinx rendered scikit-learn.org. See: https://github.com/scikit-learn/scikit-learn/issues/21755 */display: inline-block !important;position: relative;}#sk-container-id-3 div.sk-text-repr-fallback {display: none;}</style><div id=\"sk-container-id-3\" class=\"sk-top-container\"><div class=\"sk-text-repr-fallback\"><pre>RandomizedSearchCV(cv=3, estimator=RandomForestClassifier(), n_iter=70,\n",
       "                   n_jobs=-1,\n",
       "                   param_distributions={&#x27;bootstrap&#x27;: [True, False],\n",
       "                                        &#x27;max_depth&#x27;: [10, 22, 34, 46, 58, 71,\n",
       "                                                      83, 95, 107, 120],\n",
       "                                        &#x27;max_features&#x27;: [&#x27;auto&#x27;, &#x27;sqrt&#x27;],\n",
       "                                        &#x27;min_samples_leaf&#x27;: [1, 3, 4],\n",
       "                                        &#x27;min_samples_split&#x27;: [2, 6, 10],\n",
       "                                        &#x27;n_estimators&#x27;: [25, 50, 75, 100]},\n",
       "                   random_state=35, verbose=3)</pre><b>In a Jupyter environment, please rerun this cell to show the HTML representation or trust the notebook. <br />On GitHub, the HTML representation is unable to render, please try loading this page with nbviewer.org.</b></div><div class=\"sk-container\" hidden><div class=\"sk-item sk-dashed-wrapped\"><div class=\"sk-label-container\"><div class=\"sk-label sk-toggleable\"><input class=\"sk-toggleable__control sk-hidden--visually\" id=\"sk-estimator-id-5\" type=\"checkbox\" ><label for=\"sk-estimator-id-5\" class=\"sk-toggleable__label sk-toggleable__label-arrow\">RandomizedSearchCV</label><div class=\"sk-toggleable__content\"><pre>RandomizedSearchCV(cv=3, estimator=RandomForestClassifier(), n_iter=70,\n",
       "                   n_jobs=-1,\n",
       "                   param_distributions={&#x27;bootstrap&#x27;: [True, False],\n",
       "                                        &#x27;max_depth&#x27;: [10, 22, 34, 46, 58, 71,\n",
       "                                                      83, 95, 107, 120],\n",
       "                                        &#x27;max_features&#x27;: [&#x27;auto&#x27;, &#x27;sqrt&#x27;],\n",
       "                                        &#x27;min_samples_leaf&#x27;: [1, 3, 4],\n",
       "                                        &#x27;min_samples_split&#x27;: [2, 6, 10],\n",
       "                                        &#x27;n_estimators&#x27;: [25, 50, 75, 100]},\n",
       "                   random_state=35, verbose=3)</pre></div></div></div><div class=\"sk-parallel\"><div class=\"sk-parallel-item\"><div class=\"sk-item\"><div class=\"sk-label-container\"><div class=\"sk-label sk-toggleable\"><input class=\"sk-toggleable__control sk-hidden--visually\" id=\"sk-estimator-id-6\" type=\"checkbox\" ><label for=\"sk-estimator-id-6\" class=\"sk-toggleable__label sk-toggleable__label-arrow\">estimator: RandomForestClassifier</label><div class=\"sk-toggleable__content\"><pre>RandomForestClassifier()</pre></div></div></div><div class=\"sk-serial\"><div class=\"sk-item\"><div class=\"sk-estimator sk-toggleable\"><input class=\"sk-toggleable__control sk-hidden--visually\" id=\"sk-estimator-id-7\" type=\"checkbox\" ><label for=\"sk-estimator-id-7\" class=\"sk-toggleable__label sk-toggleable__label-arrow\">RandomForestClassifier</label><div class=\"sk-toggleable__content\"><pre>RandomForestClassifier()</pre></div></div></div></div></div></div></div></div></div></div>"
      ],
      "text/plain": [
       "RandomizedSearchCV(cv=3, estimator=RandomForestClassifier(), n_iter=70,\n",
       "                   n_jobs=-1,\n",
       "                   param_distributions={'bootstrap': [True, False],\n",
       "                                        'max_depth': [10, 22, 34, 46, 58, 71,\n",
       "                                                      83, 95, 107, 120],\n",
       "                                        'max_features': ['auto', 'sqrt'],\n",
       "                                        'min_samples_leaf': [1, 3, 4],\n",
       "                                        'min_samples_split': [2, 6, 10],\n",
       "                                        'n_estimators': [25, 50, 75, 100]},\n",
       "                   random_state=35, verbose=3)"
      ]
     },
     "execution_count": 76,
     "metadata": {},
     "output_type": "execute_result"
    }
   ],
   "source": [
    "rf_random.fit(x_tr_rf, y_tr_rf)"
   ]
  },
  {
   "cell_type": "code",
   "execution_count": 77,
   "id": "e6103d4d",
   "metadata": {},
   "outputs": [
    {
     "name": "stdout",
     "output_type": "stream",
     "text": [
      "Best Parameters:  {'n_estimators': 75, 'min_samples_split': 6, 'min_samples_leaf': 1, 'max_features': 'auto', 'max_depth': 120, 'bootstrap': False}  \n",
      "\n"
     ]
    }
   ],
   "source": [
    "# print the best parameters\n",
    "print ('Best Parameters: ', rf_random.best_params_, ' \\n')"
   ]
  },
  {
   "cell_type": "code",
   "execution_count": 78,
   "id": "9540eaef",
   "metadata": {},
   "outputs": [
    {
     "data": {
      "text/plain": [
       "0.7997361228913391"
      ]
     },
     "execution_count": 78,
     "metadata": {},
     "output_type": "execute_result"
    }
   ],
   "source": [
    "rf_random.best_score_\n"
   ]
  },
  {
   "cell_type": "code",
   "execution_count": 82,
   "id": "d85b9555",
   "metadata": {},
   "outputs": [],
   "source": [
    "randmf = RandomForestClassifier(n_estimators = 75, min_samples_split = 6, min_samples_leaf= 1, max_features = 'auto', max_depth= 120, bootstrap=False) "
   ]
  },
  {
   "cell_type": "code",
   "execution_count": 83,
   "id": "1bcf4f77",
   "metadata": {},
   "outputs": [
    {
     "data": {
      "text/html": [
       "<div>\n",
       "<style scoped>\n",
       "    .dataframe tbody tr th:only-of-type {\n",
       "        vertical-align: middle;\n",
       "    }\n",
       "\n",
       "    .dataframe tbody tr th {\n",
       "        vertical-align: top;\n",
       "    }\n",
       "\n",
       "    .dataframe thead th {\n",
       "        text-align: right;\n",
       "    }\n",
       "</style>\n",
       "<table border=\"1\" class=\"dataframe\">\n",
       "  <thead>\n",
       "    <tr style=\"text-align: right;\">\n",
       "      <th></th>\n",
       "      <th>LIMIT_BAL</th>\n",
       "      <th>SEX</th>\n",
       "      <th>EDUCATION</th>\n",
       "      <th>MARRIAGE</th>\n",
       "      <th>AGE</th>\n",
       "      <th>PAY_1</th>\n",
       "      <th>PAY_2</th>\n",
       "      <th>PAY_3</th>\n",
       "      <th>PAY_4</th>\n",
       "      <th>PAY_5</th>\n",
       "      <th>PAY_6</th>\n",
       "      <th>Dues</th>\n",
       "    </tr>\n",
       "  </thead>\n",
       "  <tbody>\n",
       "    <tr>\n",
       "      <th>26981</th>\n",
       "      <td>100000.000000</td>\n",
       "      <td>2</td>\n",
       "      <td>3</td>\n",
       "      <td>2</td>\n",
       "      <td>27</td>\n",
       "      <td>0</td>\n",
       "      <td>0</td>\n",
       "      <td>0</td>\n",
       "      <td>0</td>\n",
       "      <td>0</td>\n",
       "      <td>0</td>\n",
       "      <td>441967.000000</td>\n",
       "    </tr>\n",
       "    <tr>\n",
       "      <th>45041</th>\n",
       "      <td>99726.405617</td>\n",
       "      <td>1</td>\n",
       "      <td>2</td>\n",
       "      <td>2</td>\n",
       "      <td>34</td>\n",
       "      <td>0</td>\n",
       "      <td>1</td>\n",
       "      <td>1</td>\n",
       "      <td>-1</td>\n",
       "      <td>0</td>\n",
       "      <td>1</td>\n",
       "      <td>132344.215101</td>\n",
       "    </tr>\n",
       "    <tr>\n",
       "      <th>1818</th>\n",
       "      <td>300000.000000</td>\n",
       "      <td>2</td>\n",
       "      <td>1</td>\n",
       "      <td>1</td>\n",
       "      <td>31</td>\n",
       "      <td>-2</td>\n",
       "      <td>-2</td>\n",
       "      <td>-1</td>\n",
       "      <td>0</td>\n",
       "      <td>0</td>\n",
       "      <td>0</td>\n",
       "      <td>8480.000000</td>\n",
       "    </tr>\n",
       "    <tr>\n",
       "      <th>11841</th>\n",
       "      <td>20000.000000</td>\n",
       "      <td>2</td>\n",
       "      <td>2</td>\n",
       "      <td>1</td>\n",
       "      <td>36</td>\n",
       "      <td>2</td>\n",
       "      <td>0</td>\n",
       "      <td>0</td>\n",
       "      <td>0</td>\n",
       "      <td>2</td>\n",
       "      <td>0</td>\n",
       "      <td>102182.000000</td>\n",
       "    </tr>\n",
       "    <tr>\n",
       "      <th>20026</th>\n",
       "      <td>50000.000000</td>\n",
       "      <td>1</td>\n",
       "      <td>3</td>\n",
       "      <td>2</td>\n",
       "      <td>31</td>\n",
       "      <td>0</td>\n",
       "      <td>0</td>\n",
       "      <td>0</td>\n",
       "      <td>0</td>\n",
       "      <td>0</td>\n",
       "      <td>2</td>\n",
       "      <td>130877.000000</td>\n",
       "    </tr>\n",
       "    <tr>\n",
       "      <th>...</th>\n",
       "      <td>...</td>\n",
       "      <td>...</td>\n",
       "      <td>...</td>\n",
       "      <td>...</td>\n",
       "      <td>...</td>\n",
       "      <td>...</td>\n",
       "      <td>...</td>\n",
       "      <td>...</td>\n",
       "      <td>...</td>\n",
       "      <td>...</td>\n",
       "      <td>...</td>\n",
       "      <td>...</td>\n",
       "    </tr>\n",
       "    <tr>\n",
       "      <th>40365</th>\n",
       "      <td>30000.000000</td>\n",
       "      <td>2</td>\n",
       "      <td>2</td>\n",
       "      <td>1</td>\n",
       "      <td>32</td>\n",
       "      <td>2</td>\n",
       "      <td>1</td>\n",
       "      <td>1</td>\n",
       "      <td>1</td>\n",
       "      <td>1</td>\n",
       "      <td>0</td>\n",
       "      <td>163416.595300</td>\n",
       "    </tr>\n",
       "    <tr>\n",
       "      <th>25483</th>\n",
       "      <td>490000.000000</td>\n",
       "      <td>2</td>\n",
       "      <td>1</td>\n",
       "      <td>1</td>\n",
       "      <td>36</td>\n",
       "      <td>-2</td>\n",
       "      <td>-2</td>\n",
       "      <td>-2</td>\n",
       "      <td>-2</td>\n",
       "      <td>-2</td>\n",
       "      <td>-2</td>\n",
       "      <td>-3368.000000</td>\n",
       "    </tr>\n",
       "    <tr>\n",
       "      <th>30149</th>\n",
       "      <td>210000.000000</td>\n",
       "      <td>2</td>\n",
       "      <td>2</td>\n",
       "      <td>1</td>\n",
       "      <td>41</td>\n",
       "      <td>-1</td>\n",
       "      <td>-1</td>\n",
       "      <td>-1</td>\n",
       "      <td>-2</td>\n",
       "      <td>-2</td>\n",
       "      <td>-2</td>\n",
       "      <td>484.136217</td>\n",
       "    </tr>\n",
       "    <tr>\n",
       "      <th>34344</th>\n",
       "      <td>70000.000000</td>\n",
       "      <td>2</td>\n",
       "      <td>2</td>\n",
       "      <td>1</td>\n",
       "      <td>25</td>\n",
       "      <td>1</td>\n",
       "      <td>2</td>\n",
       "      <td>0</td>\n",
       "      <td>0</td>\n",
       "      <td>0</td>\n",
       "      <td>0</td>\n",
       "      <td>40414.228140</td>\n",
       "    </tr>\n",
       "    <tr>\n",
       "      <th>1635</th>\n",
       "      <td>290000.000000</td>\n",
       "      <td>2</td>\n",
       "      <td>2</td>\n",
       "      <td>2</td>\n",
       "      <td>54</td>\n",
       "      <td>-2</td>\n",
       "      <td>-2</td>\n",
       "      <td>-2</td>\n",
       "      <td>-2</td>\n",
       "      <td>-2</td>\n",
       "      <td>-2</td>\n",
       "      <td>-1256.000000</td>\n",
       "    </tr>\n",
       "  </tbody>\n",
       "</table>\n",
       "<p>13643 rows × 12 columns</p>\n",
       "</div>"
      ],
      "text/plain": [
       "           LIMIT_BAL  SEX  EDUCATION  MARRIAGE  AGE  PAY_1  PAY_2  PAY_3  \\\n",
       "26981  100000.000000    2          3         2   27      0      0      0   \n",
       "45041   99726.405617    1          2         2   34      0      1      1   \n",
       "1818   300000.000000    2          1         1   31     -2     -2     -1   \n",
       "11841   20000.000000    2          2         1   36      2      0      0   \n",
       "20026   50000.000000    1          3         2   31      0      0      0   \n",
       "...              ...  ...        ...       ...  ...    ...    ...    ...   \n",
       "40365   30000.000000    2          2         1   32      2      1      1   \n",
       "25483  490000.000000    2          1         1   36     -2     -2     -2   \n",
       "30149  210000.000000    2          2         1   41     -1     -1     -1   \n",
       "34344   70000.000000    2          2         1   25      1      2      0   \n",
       "1635   290000.000000    2          2         2   54     -2     -2     -2   \n",
       "\n",
       "       PAY_4  PAY_5  PAY_6           Dues  \n",
       "26981      0      0      0  441967.000000  \n",
       "45041     -1      0      1  132344.215101  \n",
       "1818       0      0      0    8480.000000  \n",
       "11841      0      2      0  102182.000000  \n",
       "20026      0      0      2  130877.000000  \n",
       "...      ...    ...    ...            ...  \n",
       "40365      1      1      0  163416.595300  \n",
       "25483     -2     -2     -2   -3368.000000  \n",
       "30149     -2     -2     -2     484.136217  \n",
       "34344      0      0      0   40414.228140  \n",
       "1635      -2     -2     -2   -1256.000000  \n",
       "\n",
       "[13643 rows x 12 columns]"
      ]
     },
     "execution_count": 83,
     "metadata": {},
     "output_type": "execute_result"
    }
   ],
   "source": [
    "x_ts_rf"
   ]
  },
  {
   "cell_type": "code",
   "execution_count": 84,
   "id": "51a9bb9e",
   "metadata": {},
   "outputs": [
    {
     "name": "stderr",
     "output_type": "stream",
     "text": [
      "C:\\Users\\slrk4\\anaconda3\\lib\\site-packages\\sklearn\\ensemble\\_forest.py:427: FutureWarning: `max_features='auto'` has been deprecated in 1.1 and will be removed in 1.3. To keep the past behaviour, explicitly set `max_features='sqrt'` or remove this parameter as it is also the default value for RandomForestClassifiers and ExtraTreesClassifiers.\n",
      "  warn(\n"
     ]
    },
    {
     "data": {
      "text/html": [
       "<style>#sk-container-id-5 {color: black;background-color: white;}#sk-container-id-5 pre{padding: 0;}#sk-container-id-5 div.sk-toggleable {background-color: white;}#sk-container-id-5 label.sk-toggleable__label {cursor: pointer;display: block;width: 100%;margin-bottom: 0;padding: 0.3em;box-sizing: border-box;text-align: center;}#sk-container-id-5 label.sk-toggleable__label-arrow:before {content: \"▸\";float: left;margin-right: 0.25em;color: #696969;}#sk-container-id-5 label.sk-toggleable__label-arrow:hover:before {color: black;}#sk-container-id-5 div.sk-estimator:hover label.sk-toggleable__label-arrow:before {color: black;}#sk-container-id-5 div.sk-toggleable__content {max-height: 0;max-width: 0;overflow: hidden;text-align: left;background-color: #f0f8ff;}#sk-container-id-5 div.sk-toggleable__content pre {margin: 0.2em;color: black;border-radius: 0.25em;background-color: #f0f8ff;}#sk-container-id-5 input.sk-toggleable__control:checked~div.sk-toggleable__content {max-height: 200px;max-width: 100%;overflow: auto;}#sk-container-id-5 input.sk-toggleable__control:checked~label.sk-toggleable__label-arrow:before {content: \"▾\";}#sk-container-id-5 div.sk-estimator input.sk-toggleable__control:checked~label.sk-toggleable__label {background-color: #d4ebff;}#sk-container-id-5 div.sk-label input.sk-toggleable__control:checked~label.sk-toggleable__label {background-color: #d4ebff;}#sk-container-id-5 input.sk-hidden--visually {border: 0;clip: rect(1px 1px 1px 1px);clip: rect(1px, 1px, 1px, 1px);height: 1px;margin: -1px;overflow: hidden;padding: 0;position: absolute;width: 1px;}#sk-container-id-5 div.sk-estimator {font-family: monospace;background-color: #f0f8ff;border: 1px dotted black;border-radius: 0.25em;box-sizing: border-box;margin-bottom: 0.5em;}#sk-container-id-5 div.sk-estimator:hover {background-color: #d4ebff;}#sk-container-id-5 div.sk-parallel-item::after {content: \"\";width: 100%;border-bottom: 1px solid gray;flex-grow: 1;}#sk-container-id-5 div.sk-label:hover label.sk-toggleable__label {background-color: #d4ebff;}#sk-container-id-5 div.sk-serial::before {content: \"\";position: absolute;border-left: 1px solid gray;box-sizing: border-box;top: 0;bottom: 0;left: 50%;z-index: 0;}#sk-container-id-5 div.sk-serial {display: flex;flex-direction: column;align-items: center;background-color: white;padding-right: 0.2em;padding-left: 0.2em;position: relative;}#sk-container-id-5 div.sk-item {position: relative;z-index: 1;}#sk-container-id-5 div.sk-parallel {display: flex;align-items: stretch;justify-content: center;background-color: white;position: relative;}#sk-container-id-5 div.sk-item::before, #sk-container-id-5 div.sk-parallel-item::before {content: \"\";position: absolute;border-left: 1px solid gray;box-sizing: border-box;top: 0;bottom: 0;left: 50%;z-index: -1;}#sk-container-id-5 div.sk-parallel-item {display: flex;flex-direction: column;z-index: 1;position: relative;background-color: white;}#sk-container-id-5 div.sk-parallel-item:first-child::after {align-self: flex-end;width: 50%;}#sk-container-id-5 div.sk-parallel-item:last-child::after {align-self: flex-start;width: 50%;}#sk-container-id-5 div.sk-parallel-item:only-child::after {width: 0;}#sk-container-id-5 div.sk-dashed-wrapped {border: 1px dashed gray;margin: 0 0.4em 0.5em 0.4em;box-sizing: border-box;padding-bottom: 0.4em;background-color: white;}#sk-container-id-5 div.sk-label label {font-family: monospace;font-weight: bold;display: inline-block;line-height: 1.2em;}#sk-container-id-5 div.sk-label-container {text-align: center;}#sk-container-id-5 div.sk-container {/* jupyter's `normalize.less` sets `[hidden] { display: none; }` but bootstrap.min.css set `[hidden] { display: none !important; }` so we also need the `!important` here to be able to override the default hidden behavior on the sphinx rendered scikit-learn.org. See: https://github.com/scikit-learn/scikit-learn/issues/21755 */display: inline-block !important;position: relative;}#sk-container-id-5 div.sk-text-repr-fallback {display: none;}</style><div id=\"sk-container-id-5\" class=\"sk-top-container\"><div class=\"sk-text-repr-fallback\"><pre>RandomForestClassifier(bootstrap=False, max_depth=120, max_features=&#x27;auto&#x27;,\n",
       "                       min_samples_split=6, n_estimators=75)</pre><b>In a Jupyter environment, please rerun this cell to show the HTML representation or trust the notebook. <br />On GitHub, the HTML representation is unable to render, please try loading this page with nbviewer.org.</b></div><div class=\"sk-container\" hidden><div class=\"sk-item\"><div class=\"sk-estimator sk-toggleable\"><input class=\"sk-toggleable__control sk-hidden--visually\" id=\"sk-estimator-id-9\" type=\"checkbox\" checked><label for=\"sk-estimator-id-9\" class=\"sk-toggleable__label sk-toggleable__label-arrow\">RandomForestClassifier</label><div class=\"sk-toggleable__content\"><pre>RandomForestClassifier(bootstrap=False, max_depth=120, max_features=&#x27;auto&#x27;,\n",
       "                       min_samples_split=6, n_estimators=75)</pre></div></div></div></div></div>"
      ],
      "text/plain": [
       "RandomForestClassifier(bootstrap=False, max_depth=120, max_features='auto',\n",
       "                       min_samples_split=6, n_estimators=75)"
      ]
     },
     "execution_count": 84,
     "metadata": {},
     "output_type": "execute_result"
    }
   ],
   "source": [
    "randmf.fit(x_tr_rf, y_tr_rf)"
   ]
  },
  {
   "cell_type": "code",
   "execution_count": 88,
   "id": "f6fabe88",
   "metadata": {},
   "outputs": [
    {
     "data": {
      "text/plain": [
       "array([[5666, 1163],\n",
       "       [1444, 5370]], dtype=int64)"
      ]
     },
     "execution_count": 88,
     "metadata": {},
     "output_type": "execute_result"
    }
   ],
   "source": [
    "from sklearn.metrics import accuracy_score ,confusion_matrix\n",
    "y_pred=randmf.predict(x_ts_rf)\n",
    "y_pred\n",
    "accuracy_score(y_ts_rf,y_pred)\n",
    "confusion_matrix(y_ts_rf,y_pred)"
   ]
  },
  {
   "cell_type": "markdown",
   "id": "8a1d3b01",
   "metadata": {},
   "source": [
    "# xgboost"
   ]
  },
  {
   "cell_type": "code",
   "execution_count": 58,
   "id": "aeac42dc",
   "metadata": {},
   "outputs": [
    {
     "data": {
      "text/html": [
       "<div>\n",
       "<style scoped>\n",
       "    .dataframe tbody tr th:only-of-type {\n",
       "        vertical-align: middle;\n",
       "    }\n",
       "\n",
       "    .dataframe tbody tr th {\n",
       "        vertical-align: top;\n",
       "    }\n",
       "\n",
       "    .dataframe thead th {\n",
       "        text-align: right;\n",
       "    }\n",
       "</style>\n",
       "<table border=\"1\" class=\"dataframe\">\n",
       "  <thead>\n",
       "    <tr style=\"text-align: right;\">\n",
       "      <th></th>\n",
       "      <th>LIMIT_BAL</th>\n",
       "      <th>SEX</th>\n",
       "      <th>EDUCATION</th>\n",
       "      <th>MARRIAGE</th>\n",
       "      <th>AGE</th>\n",
       "      <th>PAY_1</th>\n",
       "      <th>PAY_2</th>\n",
       "      <th>PAY_3</th>\n",
       "      <th>PAY_4</th>\n",
       "      <th>PAY_5</th>\n",
       "      <th>...</th>\n",
       "      <th>BILL_AMT5</th>\n",
       "      <th>BILL_AMT6</th>\n",
       "      <th>PAY_AMT1</th>\n",
       "      <th>PAY_AMT2</th>\n",
       "      <th>PAY_AMT3</th>\n",
       "      <th>PAY_AMT4</th>\n",
       "      <th>PAY_AMT5</th>\n",
       "      <th>PAY_AMT6</th>\n",
       "      <th>default</th>\n",
       "      <th>Dues</th>\n",
       "    </tr>\n",
       "  </thead>\n",
       "  <tbody>\n",
       "    <tr>\n",
       "      <th>0</th>\n",
       "      <td>20000.0</td>\n",
       "      <td>2</td>\n",
       "      <td>2</td>\n",
       "      <td>1</td>\n",
       "      <td>24</td>\n",
       "      <td>2</td>\n",
       "      <td>2</td>\n",
       "      <td>-1</td>\n",
       "      <td>-1</td>\n",
       "      <td>-2</td>\n",
       "      <td>...</td>\n",
       "      <td>0.0</td>\n",
       "      <td>0.0</td>\n",
       "      <td>0.0</td>\n",
       "      <td>689.0</td>\n",
       "      <td>0.0</td>\n",
       "      <td>0.0</td>\n",
       "      <td>0.0</td>\n",
       "      <td>0.0</td>\n",
       "      <td>1</td>\n",
       "      <td>7015.0</td>\n",
       "    </tr>\n",
       "    <tr>\n",
       "      <th>1</th>\n",
       "      <td>120000.0</td>\n",
       "      <td>2</td>\n",
       "      <td>2</td>\n",
       "      <td>2</td>\n",
       "      <td>26</td>\n",
       "      <td>-1</td>\n",
       "      <td>2</td>\n",
       "      <td>0</td>\n",
       "      <td>0</td>\n",
       "      <td>0</td>\n",
       "      <td>...</td>\n",
       "      <td>3455.0</td>\n",
       "      <td>3261.0</td>\n",
       "      <td>0.0</td>\n",
       "      <td>1000.0</td>\n",
       "      <td>1000.0</td>\n",
       "      <td>1000.0</td>\n",
       "      <td>0.0</td>\n",
       "      <td>2000.0</td>\n",
       "      <td>1</td>\n",
       "      <td>12077.0</td>\n",
       "    </tr>\n",
       "    <tr>\n",
       "      <th>2</th>\n",
       "      <td>90000.0</td>\n",
       "      <td>2</td>\n",
       "      <td>2</td>\n",
       "      <td>2</td>\n",
       "      <td>34</td>\n",
       "      <td>0</td>\n",
       "      <td>0</td>\n",
       "      <td>0</td>\n",
       "      <td>0</td>\n",
       "      <td>0</td>\n",
       "      <td>...</td>\n",
       "      <td>14948.0</td>\n",
       "      <td>15549.0</td>\n",
       "      <td>1518.0</td>\n",
       "      <td>1500.0</td>\n",
       "      <td>1000.0</td>\n",
       "      <td>1000.0</td>\n",
       "      <td>1000.0</td>\n",
       "      <td>5000.0</td>\n",
       "      <td>0</td>\n",
       "      <td>90635.0</td>\n",
       "    </tr>\n",
       "    <tr>\n",
       "      <th>3</th>\n",
       "      <td>50000.0</td>\n",
       "      <td>2</td>\n",
       "      <td>2</td>\n",
       "      <td>1</td>\n",
       "      <td>37</td>\n",
       "      <td>0</td>\n",
       "      <td>0</td>\n",
       "      <td>0</td>\n",
       "      <td>0</td>\n",
       "      <td>0</td>\n",
       "      <td>...</td>\n",
       "      <td>28959.0</td>\n",
       "      <td>29547.0</td>\n",
       "      <td>2000.0</td>\n",
       "      <td>2019.0</td>\n",
       "      <td>1200.0</td>\n",
       "      <td>1100.0</td>\n",
       "      <td>1069.0</td>\n",
       "      <td>1000.0</td>\n",
       "      <td>0</td>\n",
       "      <td>222946.0</td>\n",
       "    </tr>\n",
       "    <tr>\n",
       "      <th>4</th>\n",
       "      <td>50000.0</td>\n",
       "      <td>1</td>\n",
       "      <td>2</td>\n",
       "      <td>1</td>\n",
       "      <td>57</td>\n",
       "      <td>-1</td>\n",
       "      <td>0</td>\n",
       "      <td>-1</td>\n",
       "      <td>0</td>\n",
       "      <td>0</td>\n",
       "      <td>...</td>\n",
       "      <td>19146.0</td>\n",
       "      <td>19131.0</td>\n",
       "      <td>2000.0</td>\n",
       "      <td>36681.0</td>\n",
       "      <td>10000.0</td>\n",
       "      <td>9000.0</td>\n",
       "      <td>689.0</td>\n",
       "      <td>679.0</td>\n",
       "      <td>0</td>\n",
       "      <td>50290.0</td>\n",
       "    </tr>\n",
       "  </tbody>\n",
       "</table>\n",
       "<p>5 rows × 25 columns</p>\n",
       "</div>"
      ],
      "text/plain": [
       "   LIMIT_BAL  SEX  EDUCATION  MARRIAGE  AGE  PAY_1  PAY_2  PAY_3  PAY_4  \\\n",
       "0    20000.0    2          2         1   24      2      2     -1     -1   \n",
       "1   120000.0    2          2         2   26     -1      2      0      0   \n",
       "2    90000.0    2          2         2   34      0      0      0      0   \n",
       "3    50000.0    2          2         1   37      0      0      0      0   \n",
       "4    50000.0    1          2         1   57     -1      0     -1      0   \n",
       "\n",
       "   PAY_5  ...  BILL_AMT5  BILL_AMT6  PAY_AMT1  PAY_AMT2  PAY_AMT3  PAY_AMT4  \\\n",
       "0     -2  ...        0.0        0.0       0.0     689.0       0.0       0.0   \n",
       "1      0  ...     3455.0     3261.0       0.0    1000.0    1000.0    1000.0   \n",
       "2      0  ...    14948.0    15549.0    1518.0    1500.0    1000.0    1000.0   \n",
       "3      0  ...    28959.0    29547.0    2000.0    2019.0    1200.0    1100.0   \n",
       "4      0  ...    19146.0    19131.0    2000.0   36681.0   10000.0    9000.0   \n",
       "\n",
       "   PAY_AMT5  PAY_AMT6  default      Dues  \n",
       "0       0.0       0.0        1    7015.0  \n",
       "1       0.0    2000.0        1   12077.0  \n",
       "2    1000.0    5000.0        0   90635.0  \n",
       "3    1069.0    1000.0        0  222946.0  \n",
       "4     689.0     679.0        0   50290.0  \n",
       "\n",
       "[5 rows x 25 columns]"
      ]
     },
     "execution_count": 58,
     "metadata": {},
     "output_type": "execute_result"
    }
   ],
   "source": [
    "df_xg=df_lg.copy()\n",
    "df_xg.head()"
   ]
  },
  {
   "cell_type": "code",
   "execution_count": 59,
   "id": "ebcaade5",
   "metadata": {},
   "outputs": [],
   "source": [
    "# adding new feature  \"Dues\" by finding the  difference between the\n",
    "df_xg['Dues']=(bal_df['BILL_AMT1']+bal_df['BILL_AMT2']+bal_df['BILL_AMT3']+bal_df['BILL_AMT4']+bal_df['BILL_AMT5']+bal_df['BILL_AMT6'])-(bal_df['PAY_AMT1']+bal_df['PAY_AMT2']+bal_df['PAY_AMT3']+bal_df['PAY_AMT4']+bal_df['PAY_AMT5']+bal_df['PAY_AMT6'])"
   ]
  },
  {
   "cell_type": "code",
   "execution_count": 60,
   "id": "bac082c5",
   "metadata": {},
   "outputs": [],
   "source": [
    "x_xg=df_xg[['LIMIT_BAL', 'SEX', 'EDUCATION', 'MARRIAGE', 'AGE', 'PAY_1', 'PAY_2', 'PAY_3', 'PAY_4', 'PAY_5', 'PAY_6','Dues']]\n",
    "y_xg=df_xg['default']"
   ]
  },
  {
   "cell_type": "code",
   "execution_count": 61,
   "id": "d8449027",
   "metadata": {},
   "outputs": [],
   "source": [
    "from  sklearn.model_selection import  train_test_split\n",
    "x_tr_xg,x_ts_xg,y_tr_xg,y_ts_xg=train_test_split(x_xg,y_xg,test_size=0.3,random_state=42)"
   ]
  },
  {
   "cell_type": "code",
   "execution_count": 85,
   "id": "38ecd16f",
   "metadata": {},
   "outputs": [
    {
     "data": {
      "text/plain": [
       "(31822, 12)"
      ]
     },
     "execution_count": 85,
     "metadata": {},
     "output_type": "execute_result"
    }
   ],
   "source": [
    "x_tr_xg.shape"
   ]
  },
  {
   "cell_type": "code",
   "execution_count": 66,
   "id": "790e797b",
   "metadata": {},
   "outputs": [],
   "source": [
    "import xgboost as xgb\n",
    "from sklearn.model_selection import RandomizedSearchCV, GridSearchCV\n",
    "params={\n",
    " \"learning_rate\"    : [0.05, 0.10, 0.15, 0.20, 0.25, 0.30 ] ,\n",
    " \"max_depth\"        : [ 3, 4, 5, 6, 8, 10, 12, 15],\n",
    " \"min_child_weight\" : [ 1, 3, 5, 7 ],\n",
    " \"gamma\"            : [ 0.0, 0.1, 0.2 , 0.3, 0.4 ],\n",
    " \"colsample_bytree\" : [ 0.3, 0.4, 0.5 , 0.7 ]\n",
    "    \n",
    "}"
   ]
  },
  {
   "cell_type": "code",
   "execution_count": 68,
   "id": "51f3ac8e",
   "metadata": {},
   "outputs": [],
   "source": [
    "classifier=xgb.XGBClassifier()\n",
    "random_search=RandomizedSearchCV(classifier,param_distributions=params,n_iter=5,scoring='roc_auc',n_jobs=-1,cv=5,verbose=3)"
   ]
  },
  {
   "cell_type": "code",
   "execution_count": 69,
   "id": "65fe2d13",
   "metadata": {},
   "outputs": [
    {
     "name": "stdout",
     "output_type": "stream",
     "text": [
      "Fitting 5 folds for each of 5 candidates, totalling 25 fits\n"
     ]
    },
    {
     "data": {
      "text/html": [
       "<style>#sk-container-id-1 {color: black;background-color: white;}#sk-container-id-1 pre{padding: 0;}#sk-container-id-1 div.sk-toggleable {background-color: white;}#sk-container-id-1 label.sk-toggleable__label {cursor: pointer;display: block;width: 100%;margin-bottom: 0;padding: 0.3em;box-sizing: border-box;text-align: center;}#sk-container-id-1 label.sk-toggleable__label-arrow:before {content: \"▸\";float: left;margin-right: 0.25em;color: #696969;}#sk-container-id-1 label.sk-toggleable__label-arrow:hover:before {color: black;}#sk-container-id-1 div.sk-estimator:hover label.sk-toggleable__label-arrow:before {color: black;}#sk-container-id-1 div.sk-toggleable__content {max-height: 0;max-width: 0;overflow: hidden;text-align: left;background-color: #f0f8ff;}#sk-container-id-1 div.sk-toggleable__content pre {margin: 0.2em;color: black;border-radius: 0.25em;background-color: #f0f8ff;}#sk-container-id-1 input.sk-toggleable__control:checked~div.sk-toggleable__content {max-height: 200px;max-width: 100%;overflow: auto;}#sk-container-id-1 input.sk-toggleable__control:checked~label.sk-toggleable__label-arrow:before {content: \"▾\";}#sk-container-id-1 div.sk-estimator input.sk-toggleable__control:checked~label.sk-toggleable__label {background-color: #d4ebff;}#sk-container-id-1 div.sk-label input.sk-toggleable__control:checked~label.sk-toggleable__label {background-color: #d4ebff;}#sk-container-id-1 input.sk-hidden--visually {border: 0;clip: rect(1px 1px 1px 1px);clip: rect(1px, 1px, 1px, 1px);height: 1px;margin: -1px;overflow: hidden;padding: 0;position: absolute;width: 1px;}#sk-container-id-1 div.sk-estimator {font-family: monospace;background-color: #f0f8ff;border: 1px dotted black;border-radius: 0.25em;box-sizing: border-box;margin-bottom: 0.5em;}#sk-container-id-1 div.sk-estimator:hover {background-color: #d4ebff;}#sk-container-id-1 div.sk-parallel-item::after {content: \"\";width: 100%;border-bottom: 1px solid gray;flex-grow: 1;}#sk-container-id-1 div.sk-label:hover label.sk-toggleable__label {background-color: #d4ebff;}#sk-container-id-1 div.sk-serial::before {content: \"\";position: absolute;border-left: 1px solid gray;box-sizing: border-box;top: 0;bottom: 0;left: 50%;z-index: 0;}#sk-container-id-1 div.sk-serial {display: flex;flex-direction: column;align-items: center;background-color: white;padding-right: 0.2em;padding-left: 0.2em;position: relative;}#sk-container-id-1 div.sk-item {position: relative;z-index: 1;}#sk-container-id-1 div.sk-parallel {display: flex;align-items: stretch;justify-content: center;background-color: white;position: relative;}#sk-container-id-1 div.sk-item::before, #sk-container-id-1 div.sk-parallel-item::before {content: \"\";position: absolute;border-left: 1px solid gray;box-sizing: border-box;top: 0;bottom: 0;left: 50%;z-index: -1;}#sk-container-id-1 div.sk-parallel-item {display: flex;flex-direction: column;z-index: 1;position: relative;background-color: white;}#sk-container-id-1 div.sk-parallel-item:first-child::after {align-self: flex-end;width: 50%;}#sk-container-id-1 div.sk-parallel-item:last-child::after {align-self: flex-start;width: 50%;}#sk-container-id-1 div.sk-parallel-item:only-child::after {width: 0;}#sk-container-id-1 div.sk-dashed-wrapped {border: 1px dashed gray;margin: 0 0.4em 0.5em 0.4em;box-sizing: border-box;padding-bottom: 0.4em;background-color: white;}#sk-container-id-1 div.sk-label label {font-family: monospace;font-weight: bold;display: inline-block;line-height: 1.2em;}#sk-container-id-1 div.sk-label-container {text-align: center;}#sk-container-id-1 div.sk-container {/* jupyter's `normalize.less` sets `[hidden] { display: none; }` but bootstrap.min.css set `[hidden] { display: none !important; }` so we also need the `!important` here to be able to override the default hidden behavior on the sphinx rendered scikit-learn.org. See: https://github.com/scikit-learn/scikit-learn/issues/21755 */display: inline-block !important;position: relative;}#sk-container-id-1 div.sk-text-repr-fallback {display: none;}</style><div id=\"sk-container-id-1\" class=\"sk-top-container\"><div class=\"sk-text-repr-fallback\"><pre>RandomizedSearchCV(cv=5,\n",
       "                   estimator=XGBClassifier(base_score=None, booster=None,\n",
       "                                           callbacks=None,\n",
       "                                           colsample_bylevel=None,\n",
       "                                           colsample_bynode=None,\n",
       "                                           colsample_bytree=None,\n",
       "                                           early_stopping_rounds=None,\n",
       "                                           enable_categorical=False,\n",
       "                                           eval_metric=None, gamma=None,\n",
       "                                           gpu_id=None, grow_policy=None,\n",
       "                                           importance_type=None,\n",
       "                                           interaction_constraints=None,\n",
       "                                           learning_rate=None, max_bin=None,...\n",
       "                                           n_estimators=100, n_jobs=None,\n",
       "                                           num_parallel_tree=None,\n",
       "                                           predictor=None, random_state=None,\n",
       "                                           reg_alpha=None, reg_lambda=None, ...),\n",
       "                   n_iter=5, n_jobs=-1,\n",
       "                   param_distributions={&#x27;colsample_bytree&#x27;: [0.3, 0.4, 0.5,\n",
       "                                                             0.7],\n",
       "                                        &#x27;gamma&#x27;: [0.0, 0.1, 0.2, 0.3, 0.4],\n",
       "                                        &#x27;learning_rate&#x27;: [0.05, 0.1, 0.15, 0.2,\n",
       "                                                          0.25, 0.3],\n",
       "                                        &#x27;max_depth&#x27;: [3, 4, 5, 6, 8, 10, 12,\n",
       "                                                      15],\n",
       "                                        &#x27;min_child_weight&#x27;: [1, 3, 5, 7]},\n",
       "                   scoring=&#x27;roc_auc&#x27;, verbose=3)</pre><b>In a Jupyter environment, please rerun this cell to show the HTML representation or trust the notebook. <br />On GitHub, the HTML representation is unable to render, please try loading this page with nbviewer.org.</b></div><div class=\"sk-container\" hidden><div class=\"sk-item sk-dashed-wrapped\"><div class=\"sk-label-container\"><div class=\"sk-label sk-toggleable\"><input class=\"sk-toggleable__control sk-hidden--visually\" id=\"sk-estimator-id-1\" type=\"checkbox\" ><label for=\"sk-estimator-id-1\" class=\"sk-toggleable__label sk-toggleable__label-arrow\">RandomizedSearchCV</label><div class=\"sk-toggleable__content\"><pre>RandomizedSearchCV(cv=5,\n",
       "                   estimator=XGBClassifier(base_score=None, booster=None,\n",
       "                                           callbacks=None,\n",
       "                                           colsample_bylevel=None,\n",
       "                                           colsample_bynode=None,\n",
       "                                           colsample_bytree=None,\n",
       "                                           early_stopping_rounds=None,\n",
       "                                           enable_categorical=False,\n",
       "                                           eval_metric=None, gamma=None,\n",
       "                                           gpu_id=None, grow_policy=None,\n",
       "                                           importance_type=None,\n",
       "                                           interaction_constraints=None,\n",
       "                                           learning_rate=None, max_bin=None,...\n",
       "                                           n_estimators=100, n_jobs=None,\n",
       "                                           num_parallel_tree=None,\n",
       "                                           predictor=None, random_state=None,\n",
       "                                           reg_alpha=None, reg_lambda=None, ...),\n",
       "                   n_iter=5, n_jobs=-1,\n",
       "                   param_distributions={&#x27;colsample_bytree&#x27;: [0.3, 0.4, 0.5,\n",
       "                                                             0.7],\n",
       "                                        &#x27;gamma&#x27;: [0.0, 0.1, 0.2, 0.3, 0.4],\n",
       "                                        &#x27;learning_rate&#x27;: [0.05, 0.1, 0.15, 0.2,\n",
       "                                                          0.25, 0.3],\n",
       "                                        &#x27;max_depth&#x27;: [3, 4, 5, 6, 8, 10, 12,\n",
       "                                                      15],\n",
       "                                        &#x27;min_child_weight&#x27;: [1, 3, 5, 7]},\n",
       "                   scoring=&#x27;roc_auc&#x27;, verbose=3)</pre></div></div></div><div class=\"sk-parallel\"><div class=\"sk-parallel-item\"><div class=\"sk-item\"><div class=\"sk-label-container\"><div class=\"sk-label sk-toggleable\"><input class=\"sk-toggleable__control sk-hidden--visually\" id=\"sk-estimator-id-2\" type=\"checkbox\" ><label for=\"sk-estimator-id-2\" class=\"sk-toggleable__label sk-toggleable__label-arrow\">estimator: XGBClassifier</label><div class=\"sk-toggleable__content\"><pre>XGBClassifier(base_score=None, booster=None, callbacks=None,\n",
       "              colsample_bylevel=None, colsample_bynode=None,\n",
       "              colsample_bytree=None, early_stopping_rounds=None,\n",
       "              enable_categorical=False, eval_metric=None, gamma=None,\n",
       "              gpu_id=None, grow_policy=None, importance_type=None,\n",
       "              interaction_constraints=None, learning_rate=None, max_bin=None,\n",
       "              max_cat_to_onehot=None, max_delta_step=None, max_depth=None,\n",
       "              max_leaves=None, min_child_weight=None, missing=nan,\n",
       "              monotone_constraints=None, n_estimators=100, n_jobs=None,\n",
       "              num_parallel_tree=None, predictor=None, random_state=None,\n",
       "              reg_alpha=None, reg_lambda=None, ...)</pre></div></div></div><div class=\"sk-serial\"><div class=\"sk-item\"><div class=\"sk-estimator sk-toggleable\"><input class=\"sk-toggleable__control sk-hidden--visually\" id=\"sk-estimator-id-3\" type=\"checkbox\" ><label for=\"sk-estimator-id-3\" class=\"sk-toggleable__label sk-toggleable__label-arrow\">XGBClassifier</label><div class=\"sk-toggleable__content\"><pre>XGBClassifier(base_score=None, booster=None, callbacks=None,\n",
       "              colsample_bylevel=None, colsample_bynode=None,\n",
       "              colsample_bytree=None, early_stopping_rounds=None,\n",
       "              enable_categorical=False, eval_metric=None, gamma=None,\n",
       "              gpu_id=None, grow_policy=None, importance_type=None,\n",
       "              interaction_constraints=None, learning_rate=None, max_bin=None,\n",
       "              max_cat_to_onehot=None, max_delta_step=None, max_depth=None,\n",
       "              max_leaves=None, min_child_weight=None, missing=nan,\n",
       "              monotone_constraints=None, n_estimators=100, n_jobs=None,\n",
       "              num_parallel_tree=None, predictor=None, random_state=None,\n",
       "              reg_alpha=None, reg_lambda=None, ...)</pre></div></div></div></div></div></div></div></div></div></div>"
      ],
      "text/plain": [
       "RandomizedSearchCV(cv=5,\n",
       "                   estimator=XGBClassifier(base_score=None, booster=None,\n",
       "                                           callbacks=None,\n",
       "                                           colsample_bylevel=None,\n",
       "                                           colsample_bynode=None,\n",
       "                                           colsample_bytree=None,\n",
       "                                           early_stopping_rounds=None,\n",
       "                                           enable_categorical=False,\n",
       "                                           eval_metric=None, gamma=None,\n",
       "                                           gpu_id=None, grow_policy=None,\n",
       "                                           importance_type=None,\n",
       "                                           interaction_constraints=None,\n",
       "                                           learning_rate=None, max_bin=None,...\n",
       "                                           n_estimators=100, n_jobs=None,\n",
       "                                           num_parallel_tree=None,\n",
       "                                           predictor=None, random_state=None,\n",
       "                                           reg_alpha=None, reg_lambda=None, ...),\n",
       "                   n_iter=5, n_jobs=-1,\n",
       "                   param_distributions={'colsample_bytree': [0.3, 0.4, 0.5,\n",
       "                                                             0.7],\n",
       "                                        'gamma': [0.0, 0.1, 0.2, 0.3, 0.4],\n",
       "                                        'learning_rate': [0.05, 0.1, 0.15, 0.2,\n",
       "                                                          0.25, 0.3],\n",
       "                                        'max_depth': [3, 4, 5, 6, 8, 10, 12,\n",
       "                                                      15],\n",
       "                                        'min_child_weight': [1, 3, 5, 7]},\n",
       "                   scoring='roc_auc', verbose=3)"
      ]
     },
     "execution_count": 69,
     "metadata": {},
     "output_type": "execute_result"
    }
   ],
   "source": [
    "random_search.fit(x_tr_xg,y_tr_xg)"
   ]
  },
  {
   "cell_type": "code",
   "execution_count": 72,
   "id": "7faf2286",
   "metadata": {},
   "outputs": [
    {
     "data": {
      "text/html": [
       "<style>#sk-container-id-2 {color: black;background-color: white;}#sk-container-id-2 pre{padding: 0;}#sk-container-id-2 div.sk-toggleable {background-color: white;}#sk-container-id-2 label.sk-toggleable__label {cursor: pointer;display: block;width: 100%;margin-bottom: 0;padding: 0.3em;box-sizing: border-box;text-align: center;}#sk-container-id-2 label.sk-toggleable__label-arrow:before {content: \"▸\";float: left;margin-right: 0.25em;color: #696969;}#sk-container-id-2 label.sk-toggleable__label-arrow:hover:before {color: black;}#sk-container-id-2 div.sk-estimator:hover label.sk-toggleable__label-arrow:before {color: black;}#sk-container-id-2 div.sk-toggleable__content {max-height: 0;max-width: 0;overflow: hidden;text-align: left;background-color: #f0f8ff;}#sk-container-id-2 div.sk-toggleable__content pre {margin: 0.2em;color: black;border-radius: 0.25em;background-color: #f0f8ff;}#sk-container-id-2 input.sk-toggleable__control:checked~div.sk-toggleable__content {max-height: 200px;max-width: 100%;overflow: auto;}#sk-container-id-2 input.sk-toggleable__control:checked~label.sk-toggleable__label-arrow:before {content: \"▾\";}#sk-container-id-2 div.sk-estimator input.sk-toggleable__control:checked~label.sk-toggleable__label {background-color: #d4ebff;}#sk-container-id-2 div.sk-label input.sk-toggleable__control:checked~label.sk-toggleable__label {background-color: #d4ebff;}#sk-container-id-2 input.sk-hidden--visually {border: 0;clip: rect(1px 1px 1px 1px);clip: rect(1px, 1px, 1px, 1px);height: 1px;margin: -1px;overflow: hidden;padding: 0;position: absolute;width: 1px;}#sk-container-id-2 div.sk-estimator {font-family: monospace;background-color: #f0f8ff;border: 1px dotted black;border-radius: 0.25em;box-sizing: border-box;margin-bottom: 0.5em;}#sk-container-id-2 div.sk-estimator:hover {background-color: #d4ebff;}#sk-container-id-2 div.sk-parallel-item::after {content: \"\";width: 100%;border-bottom: 1px solid gray;flex-grow: 1;}#sk-container-id-2 div.sk-label:hover label.sk-toggleable__label {background-color: #d4ebff;}#sk-container-id-2 div.sk-serial::before {content: \"\";position: absolute;border-left: 1px solid gray;box-sizing: border-box;top: 0;bottom: 0;left: 50%;z-index: 0;}#sk-container-id-2 div.sk-serial {display: flex;flex-direction: column;align-items: center;background-color: white;padding-right: 0.2em;padding-left: 0.2em;position: relative;}#sk-container-id-2 div.sk-item {position: relative;z-index: 1;}#sk-container-id-2 div.sk-parallel {display: flex;align-items: stretch;justify-content: center;background-color: white;position: relative;}#sk-container-id-2 div.sk-item::before, #sk-container-id-2 div.sk-parallel-item::before {content: \"\";position: absolute;border-left: 1px solid gray;box-sizing: border-box;top: 0;bottom: 0;left: 50%;z-index: -1;}#sk-container-id-2 div.sk-parallel-item {display: flex;flex-direction: column;z-index: 1;position: relative;background-color: white;}#sk-container-id-2 div.sk-parallel-item:first-child::after {align-self: flex-end;width: 50%;}#sk-container-id-2 div.sk-parallel-item:last-child::after {align-self: flex-start;width: 50%;}#sk-container-id-2 div.sk-parallel-item:only-child::after {width: 0;}#sk-container-id-2 div.sk-dashed-wrapped {border: 1px dashed gray;margin: 0 0.4em 0.5em 0.4em;box-sizing: border-box;padding-bottom: 0.4em;background-color: white;}#sk-container-id-2 div.sk-label label {font-family: monospace;font-weight: bold;display: inline-block;line-height: 1.2em;}#sk-container-id-2 div.sk-label-container {text-align: center;}#sk-container-id-2 div.sk-container {/* jupyter's `normalize.less` sets `[hidden] { display: none; }` but bootstrap.min.css set `[hidden] { display: none !important; }` so we also need the `!important` here to be able to override the default hidden behavior on the sphinx rendered scikit-learn.org. See: https://github.com/scikit-learn/scikit-learn/issues/21755 */display: inline-block !important;position: relative;}#sk-container-id-2 div.sk-text-repr-fallback {display: none;}</style><div id=\"sk-container-id-2\" class=\"sk-top-container\"><div class=\"sk-text-repr-fallback\"><pre>XGBClassifier(base_score=0.5, booster=&#x27;gbtree&#x27;, callbacks=None,\n",
       "              colsample_bylevel=1, colsample_bynode=1, colsample_bytree=0.3,\n",
       "              early_stopping_rounds=None, enable_categorical=False,\n",
       "              eval_metric=None, gamma=0.0, gpu_id=-1, grow_policy=&#x27;depthwise&#x27;,\n",
       "              importance_type=None, interaction_constraints=&#x27;&#x27;,\n",
       "              learning_rate=0.25, max_bin=256, max_cat_to_onehot=4,\n",
       "              max_delta_step=0, max_depth=10, max_leaves=0, min_child_weight=1,\n",
       "              missing=nan, monotone_constraints=&#x27;()&#x27;, n_estimators=100,\n",
       "              n_jobs=0, num_parallel_tree=1, predictor=&#x27;auto&#x27;, random_state=0,\n",
       "              reg_alpha=0, reg_lambda=1, ...)</pre><b>In a Jupyter environment, please rerun this cell to show the HTML representation or trust the notebook. <br />On GitHub, the HTML representation is unable to render, please try loading this page with nbviewer.org.</b></div><div class=\"sk-container\" hidden><div class=\"sk-item\"><div class=\"sk-estimator sk-toggleable\"><input class=\"sk-toggleable__control sk-hidden--visually\" id=\"sk-estimator-id-4\" type=\"checkbox\" checked><label for=\"sk-estimator-id-4\" class=\"sk-toggleable__label sk-toggleable__label-arrow\">XGBClassifier</label><div class=\"sk-toggleable__content\"><pre>XGBClassifier(base_score=0.5, booster=&#x27;gbtree&#x27;, callbacks=None,\n",
       "              colsample_bylevel=1, colsample_bynode=1, colsample_bytree=0.3,\n",
       "              early_stopping_rounds=None, enable_categorical=False,\n",
       "              eval_metric=None, gamma=0.0, gpu_id=-1, grow_policy=&#x27;depthwise&#x27;,\n",
       "              importance_type=None, interaction_constraints=&#x27;&#x27;,\n",
       "              learning_rate=0.25, max_bin=256, max_cat_to_onehot=4,\n",
       "              max_delta_step=0, max_depth=10, max_leaves=0, min_child_weight=1,\n",
       "              missing=nan, monotone_constraints=&#x27;()&#x27;, n_estimators=100,\n",
       "              n_jobs=0, num_parallel_tree=1, predictor=&#x27;auto&#x27;, random_state=0,\n",
       "              reg_alpha=0, reg_lambda=1, ...)</pre></div></div></div></div></div>"
      ],
      "text/plain": [
       "XGBClassifier(base_score=0.5, booster='gbtree', callbacks=None,\n",
       "              colsample_bylevel=1, colsample_bynode=1, colsample_bytree=0.3,\n",
       "              early_stopping_rounds=None, enable_categorical=False,\n",
       "              eval_metric=None, gamma=0.0, gpu_id=-1, grow_policy='depthwise',\n",
       "              importance_type=None, interaction_constraints='',\n",
       "              learning_rate=0.25, max_bin=256, max_cat_to_onehot=4,\n",
       "              max_delta_step=0, max_depth=10, max_leaves=0, min_child_weight=1,\n",
       "              missing=nan, monotone_constraints='()', n_estimators=100,\n",
       "              n_jobs=0, num_parallel_tree=1, predictor='auto', random_state=0,\n",
       "              reg_alpha=0, reg_lambda=1, ...)"
      ]
     },
     "execution_count": 72,
     "metadata": {},
     "output_type": "execute_result"
    }
   ],
   "source": [
    "random_search.best_estimator_"
   ]
  },
  {
   "cell_type": "code",
   "execution_count": 95,
   "id": "73c4dc65",
   "metadata": {},
   "outputs": [
    {
     "data": {
      "text/plain": [
       "False"
      ]
     },
     "execution_count": 95,
     "metadata": {},
     "output_type": "execute_result"
    }
   ],
   "source": [
    "random_search.\n"
   ]
  },
  {
   "cell_type": "code",
   "execution_count": 70,
   "id": "ef6dc12e",
   "metadata": {},
   "outputs": [
    {
     "data": {
      "text/plain": [
       "{'min_child_weight': 1,\n",
       " 'max_depth': 10,\n",
       " 'learning_rate': 0.25,\n",
       " 'gamma': 0.0,\n",
       " 'colsample_bytree': 0.3}"
      ]
     },
     "execution_count": 70,
     "metadata": {},
     "output_type": "execute_result"
    }
   ],
   "source": [
    "random_search.best_params_\n"
   ]
  },
  {
   "cell_type": "code",
   "execution_count": 87,
   "id": "71f12523",
   "metadata": {},
   "outputs": [],
   "source": [
    "model_xgb=xgb.XGBClassifier(base_score=0.5, booster='gbtree', colsample_bylevel=1,\n",
    "       colsample_bytree=0.3, gamma=0.0, learning_rate=0.25,\n",
    "       max_delta_step=0, max_depth=10, min_child_weight=1, missing=1,\n",
    "       n_estimators=100, n_jobs=0, nthread=None,\n",
    "       objective='binary:logistic', random_state=0, reg_alpha=0)"
   ]
  },
  {
   "cell_type": "code",
   "execution_count": 88,
   "id": "f14486fb",
   "metadata": {},
   "outputs": [
    {
     "data": {
      "text/html": [
       "<style>#sk-container-id-5 {color: black;background-color: white;}#sk-container-id-5 pre{padding: 0;}#sk-container-id-5 div.sk-toggleable {background-color: white;}#sk-container-id-5 label.sk-toggleable__label {cursor: pointer;display: block;width: 100%;margin-bottom: 0;padding: 0.3em;box-sizing: border-box;text-align: center;}#sk-container-id-5 label.sk-toggleable__label-arrow:before {content: \"▸\";float: left;margin-right: 0.25em;color: #696969;}#sk-container-id-5 label.sk-toggleable__label-arrow:hover:before {color: black;}#sk-container-id-5 div.sk-estimator:hover label.sk-toggleable__label-arrow:before {color: black;}#sk-container-id-5 div.sk-toggleable__content {max-height: 0;max-width: 0;overflow: hidden;text-align: left;background-color: #f0f8ff;}#sk-container-id-5 div.sk-toggleable__content pre {margin: 0.2em;color: black;border-radius: 0.25em;background-color: #f0f8ff;}#sk-container-id-5 input.sk-toggleable__control:checked~div.sk-toggleable__content {max-height: 200px;max-width: 100%;overflow: auto;}#sk-container-id-5 input.sk-toggleable__control:checked~label.sk-toggleable__label-arrow:before {content: \"▾\";}#sk-container-id-5 div.sk-estimator input.sk-toggleable__control:checked~label.sk-toggleable__label {background-color: #d4ebff;}#sk-container-id-5 div.sk-label input.sk-toggleable__control:checked~label.sk-toggleable__label {background-color: #d4ebff;}#sk-container-id-5 input.sk-hidden--visually {border: 0;clip: rect(1px 1px 1px 1px);clip: rect(1px, 1px, 1px, 1px);height: 1px;margin: -1px;overflow: hidden;padding: 0;position: absolute;width: 1px;}#sk-container-id-5 div.sk-estimator {font-family: monospace;background-color: #f0f8ff;border: 1px dotted black;border-radius: 0.25em;box-sizing: border-box;margin-bottom: 0.5em;}#sk-container-id-5 div.sk-estimator:hover {background-color: #d4ebff;}#sk-container-id-5 div.sk-parallel-item::after {content: \"\";width: 100%;border-bottom: 1px solid gray;flex-grow: 1;}#sk-container-id-5 div.sk-label:hover label.sk-toggleable__label {background-color: #d4ebff;}#sk-container-id-5 div.sk-serial::before {content: \"\";position: absolute;border-left: 1px solid gray;box-sizing: border-box;top: 0;bottom: 0;left: 50%;z-index: 0;}#sk-container-id-5 div.sk-serial {display: flex;flex-direction: column;align-items: center;background-color: white;padding-right: 0.2em;padding-left: 0.2em;position: relative;}#sk-container-id-5 div.sk-item {position: relative;z-index: 1;}#sk-container-id-5 div.sk-parallel {display: flex;align-items: stretch;justify-content: center;background-color: white;position: relative;}#sk-container-id-5 div.sk-item::before, #sk-container-id-5 div.sk-parallel-item::before {content: \"\";position: absolute;border-left: 1px solid gray;box-sizing: border-box;top: 0;bottom: 0;left: 50%;z-index: -1;}#sk-container-id-5 div.sk-parallel-item {display: flex;flex-direction: column;z-index: 1;position: relative;background-color: white;}#sk-container-id-5 div.sk-parallel-item:first-child::after {align-self: flex-end;width: 50%;}#sk-container-id-5 div.sk-parallel-item:last-child::after {align-self: flex-start;width: 50%;}#sk-container-id-5 div.sk-parallel-item:only-child::after {width: 0;}#sk-container-id-5 div.sk-dashed-wrapped {border: 1px dashed gray;margin: 0 0.4em 0.5em 0.4em;box-sizing: border-box;padding-bottom: 0.4em;background-color: white;}#sk-container-id-5 div.sk-label label {font-family: monospace;font-weight: bold;display: inline-block;line-height: 1.2em;}#sk-container-id-5 div.sk-label-container {text-align: center;}#sk-container-id-5 div.sk-container {/* jupyter's `normalize.less` sets `[hidden] { display: none; }` but bootstrap.min.css set `[hidden] { display: none !important; }` so we also need the `!important` here to be able to override the default hidden behavior on the sphinx rendered scikit-learn.org. See: https://github.com/scikit-learn/scikit-learn/issues/21755 */display: inline-block !important;position: relative;}#sk-container-id-5 div.sk-text-repr-fallback {display: none;}</style><div id=\"sk-container-id-5\" class=\"sk-top-container\"><div class=\"sk-text-repr-fallback\"><pre>XGBClassifier(base_score=0.5, booster=&#x27;gbtree&#x27;, callbacks=None,\n",
       "              colsample_bylevel=1, colsample_bynode=1, colsample_bytree=0.3,\n",
       "              early_stopping_rounds=None, enable_categorical=False,\n",
       "              eval_metric=None, gamma=0.0, gpu_id=-1, grow_policy=&#x27;depthwise&#x27;,\n",
       "              importance_type=None, interaction_constraints=&#x27;&#x27;,\n",
       "              learning_rate=0.25, max_bin=256, max_cat_to_onehot=4,\n",
       "              max_delta_step=0, max_depth=10, max_leaves=0, min_child_weight=1,\n",
       "              missing=1, monotone_constraints=&#x27;()&#x27;, n_estimators=100, n_jobs=0,\n",
       "              nthread=0, num_parallel_tree=1, predictor=&#x27;auto&#x27;, random_state=0,\n",
       "              reg_alpha=0, ...)</pre><b>In a Jupyter environment, please rerun this cell to show the HTML representation or trust the notebook. <br />On GitHub, the HTML representation is unable to render, please try loading this page with nbviewer.org.</b></div><div class=\"sk-container\" hidden><div class=\"sk-item\"><div class=\"sk-estimator sk-toggleable\"><input class=\"sk-toggleable__control sk-hidden--visually\" id=\"sk-estimator-id-7\" type=\"checkbox\" checked><label for=\"sk-estimator-id-7\" class=\"sk-toggleable__label sk-toggleable__label-arrow\">XGBClassifier</label><div class=\"sk-toggleable__content\"><pre>XGBClassifier(base_score=0.5, booster=&#x27;gbtree&#x27;, callbacks=None,\n",
       "              colsample_bylevel=1, colsample_bynode=1, colsample_bytree=0.3,\n",
       "              early_stopping_rounds=None, enable_categorical=False,\n",
       "              eval_metric=None, gamma=0.0, gpu_id=-1, grow_policy=&#x27;depthwise&#x27;,\n",
       "              importance_type=None, interaction_constraints=&#x27;&#x27;,\n",
       "              learning_rate=0.25, max_bin=256, max_cat_to_onehot=4,\n",
       "              max_delta_step=0, max_depth=10, max_leaves=0, min_child_weight=1,\n",
       "              missing=1, monotone_constraints=&#x27;()&#x27;, n_estimators=100, n_jobs=0,\n",
       "              nthread=0, num_parallel_tree=1, predictor=&#x27;auto&#x27;, random_state=0,\n",
       "              reg_alpha=0, ...)</pre></div></div></div></div></div>"
      ],
      "text/plain": [
       "XGBClassifier(base_score=0.5, booster='gbtree', callbacks=None,\n",
       "              colsample_bylevel=1, colsample_bynode=1, colsample_bytree=0.3,\n",
       "              early_stopping_rounds=None, enable_categorical=False,\n",
       "              eval_metric=None, gamma=0.0, gpu_id=-1, grow_policy='depthwise',\n",
       "              importance_type=None, interaction_constraints='',\n",
       "              learning_rate=0.25, max_bin=256, max_cat_to_onehot=4,\n",
       "              max_delta_step=0, max_depth=10, max_leaves=0, min_child_weight=1,\n",
       "              missing=1, monotone_constraints='()', n_estimators=100, n_jobs=0,\n",
       "              nthread=0, num_parallel_tree=1, predictor='auto', random_state=0,\n",
       "              reg_alpha=0, ...)"
      ]
     },
     "execution_count": 88,
     "metadata": {},
     "output_type": "execute_result"
    }
   ],
   "source": [
    "model_xgb.fit(x_tr_xg,y_tr_xg)"
   ]
  },
  {
   "cell_type": "code",
   "execution_count": 89,
   "id": "fed52eee",
   "metadata": {},
   "outputs": [
    {
     "data": {
      "text/html": [
       "<div>\n",
       "<style scoped>\n",
       "    .dataframe tbody tr th:only-of-type {\n",
       "        vertical-align: middle;\n",
       "    }\n",
       "\n",
       "    .dataframe tbody tr th {\n",
       "        vertical-align: top;\n",
       "    }\n",
       "\n",
       "    .dataframe thead th {\n",
       "        text-align: right;\n",
       "    }\n",
       "</style>\n",
       "<table border=\"1\" class=\"dataframe\">\n",
       "  <thead>\n",
       "    <tr style=\"text-align: right;\">\n",
       "      <th></th>\n",
       "      <th>LIMIT_BAL</th>\n",
       "      <th>SEX</th>\n",
       "      <th>EDUCATION</th>\n",
       "      <th>MARRIAGE</th>\n",
       "      <th>AGE</th>\n",
       "      <th>PAY_1</th>\n",
       "      <th>PAY_2</th>\n",
       "      <th>PAY_3</th>\n",
       "      <th>PAY_4</th>\n",
       "      <th>PAY_5</th>\n",
       "      <th>PAY_6</th>\n",
       "      <th>Dues</th>\n",
       "    </tr>\n",
       "  </thead>\n",
       "  <tbody>\n",
       "    <tr>\n",
       "      <th>9571</th>\n",
       "      <td>150000.0</td>\n",
       "      <td>2</td>\n",
       "      <td>2</td>\n",
       "      <td>1</td>\n",
       "      <td>34</td>\n",
       "      <td>-2</td>\n",
       "      <td>-2</td>\n",
       "      <td>-2</td>\n",
       "      <td>-2</td>\n",
       "      <td>-2</td>\n",
       "      <td>-2</td>\n",
       "      <td>0.000000</td>\n",
       "    </tr>\n",
       "    <tr>\n",
       "      <th>35679</th>\n",
       "      <td>10000.0</td>\n",
       "      <td>1</td>\n",
       "      <td>2</td>\n",
       "      <td>1</td>\n",
       "      <td>27</td>\n",
       "      <td>0</td>\n",
       "      <td>0</td>\n",
       "      <td>0</td>\n",
       "      <td>0</td>\n",
       "      <td>0</td>\n",
       "      <td>0</td>\n",
       "      <td>52803.995243</td>\n",
       "    </tr>\n",
       "    <tr>\n",
       "      <th>39145</th>\n",
       "      <td>280000.0</td>\n",
       "      <td>1</td>\n",
       "      <td>1</td>\n",
       "      <td>2</td>\n",
       "      <td>30</td>\n",
       "      <td>-1</td>\n",
       "      <td>-1</td>\n",
       "      <td>-1</td>\n",
       "      <td>-1</td>\n",
       "      <td>-1</td>\n",
       "      <td>-1</td>\n",
       "      <td>98.843222</td>\n",
       "    </tr>\n",
       "    <tr>\n",
       "      <th>33166</th>\n",
       "      <td>50000.0</td>\n",
       "      <td>1</td>\n",
       "      <td>2</td>\n",
       "      <td>1</td>\n",
       "      <td>31</td>\n",
       "      <td>0</td>\n",
       "      <td>0</td>\n",
       "      <td>0</td>\n",
       "      <td>0</td>\n",
       "      <td>0</td>\n",
       "      <td>0</td>\n",
       "      <td>168731.405024</td>\n",
       "    </tr>\n",
       "    <tr>\n",
       "      <th>44569</th>\n",
       "      <td>60000.0</td>\n",
       "      <td>2</td>\n",
       "      <td>2</td>\n",
       "      <td>1</td>\n",
       "      <td>23</td>\n",
       "      <td>0</td>\n",
       "      <td>0</td>\n",
       "      <td>0</td>\n",
       "      <td>0</td>\n",
       "      <td>0</td>\n",
       "      <td>0</td>\n",
       "      <td>211934.456390</td>\n",
       "    </tr>\n",
       "    <tr>\n",
       "      <th>...</th>\n",
       "      <td>...</td>\n",
       "      <td>...</td>\n",
       "      <td>...</td>\n",
       "      <td>...</td>\n",
       "      <td>...</td>\n",
       "      <td>...</td>\n",
       "      <td>...</td>\n",
       "      <td>...</td>\n",
       "      <td>...</td>\n",
       "      <td>...</td>\n",
       "      <td>...</td>\n",
       "      <td>...</td>\n",
       "    </tr>\n",
       "    <tr>\n",
       "      <th>37877</th>\n",
       "      <td>50000.0</td>\n",
       "      <td>1</td>\n",
       "      <td>2</td>\n",
       "      <td>1</td>\n",
       "      <td>39</td>\n",
       "      <td>0</td>\n",
       "      <td>0</td>\n",
       "      <td>0</td>\n",
       "      <td>0</td>\n",
       "      <td>0</td>\n",
       "      <td>0</td>\n",
       "      <td>193953.307933</td>\n",
       "    </tr>\n",
       "    <tr>\n",
       "      <th>16749</th>\n",
       "      <td>380000.0</td>\n",
       "      <td>2</td>\n",
       "      <td>2</td>\n",
       "      <td>1</td>\n",
       "      <td>31</td>\n",
       "      <td>1</td>\n",
       "      <td>-2</td>\n",
       "      <td>-1</td>\n",
       "      <td>-1</td>\n",
       "      <td>-2</td>\n",
       "      <td>-1</td>\n",
       "      <td>-21149.000000</td>\n",
       "    </tr>\n",
       "    <tr>\n",
       "      <th>17126</th>\n",
       "      <td>30000.0</td>\n",
       "      <td>2</td>\n",
       "      <td>2</td>\n",
       "      <td>1</td>\n",
       "      <td>44</td>\n",
       "      <td>1</td>\n",
       "      <td>4</td>\n",
       "      <td>4</td>\n",
       "      <td>3</td>\n",
       "      <td>2</td>\n",
       "      <td>2</td>\n",
       "      <td>168748.000000</td>\n",
       "    </tr>\n",
       "    <tr>\n",
       "      <th>42166</th>\n",
       "      <td>360000.0</td>\n",
       "      <td>2</td>\n",
       "      <td>1</td>\n",
       "      <td>1</td>\n",
       "      <td>35</td>\n",
       "      <td>-2</td>\n",
       "      <td>-2</td>\n",
       "      <td>-2</td>\n",
       "      <td>-2</td>\n",
       "      <td>-2</td>\n",
       "      <td>-2</td>\n",
       "      <td>0.000000</td>\n",
       "    </tr>\n",
       "    <tr>\n",
       "      <th>37989</th>\n",
       "      <td>120000.0</td>\n",
       "      <td>1</td>\n",
       "      <td>2</td>\n",
       "      <td>1</td>\n",
       "      <td>38</td>\n",
       "      <td>1</td>\n",
       "      <td>2</td>\n",
       "      <td>2</td>\n",
       "      <td>2</td>\n",
       "      <td>2</td>\n",
       "      <td>2</td>\n",
       "      <td>349452.126611</td>\n",
       "    </tr>\n",
       "  </tbody>\n",
       "</table>\n",
       "<p>13638 rows × 12 columns</p>\n",
       "</div>"
      ],
      "text/plain": [
       "       LIMIT_BAL  SEX  EDUCATION  MARRIAGE  AGE  PAY_1  PAY_2  PAY_3  PAY_4  \\\n",
       "9571    150000.0    2          2         1   34     -2     -2     -2     -2   \n",
       "35679    10000.0    1          2         1   27      0      0      0      0   \n",
       "39145   280000.0    1          1         2   30     -1     -1     -1     -1   \n",
       "33166    50000.0    1          2         1   31      0      0      0      0   \n",
       "44569    60000.0    2          2         1   23      0      0      0      0   \n",
       "...          ...  ...        ...       ...  ...    ...    ...    ...    ...   \n",
       "37877    50000.0    1          2         1   39      0      0      0      0   \n",
       "16749   380000.0    2          2         1   31      1     -2     -1     -1   \n",
       "17126    30000.0    2          2         1   44      1      4      4      3   \n",
       "42166   360000.0    2          1         1   35     -2     -2     -2     -2   \n",
       "37989   120000.0    1          2         1   38      1      2      2      2   \n",
       "\n",
       "       PAY_5  PAY_6           Dues  \n",
       "9571      -2     -2       0.000000  \n",
       "35679      0      0   52803.995243  \n",
       "39145     -1     -1      98.843222  \n",
       "33166      0      0  168731.405024  \n",
       "44569      0      0  211934.456390  \n",
       "...      ...    ...            ...  \n",
       "37877      0      0  193953.307933  \n",
       "16749     -2     -1  -21149.000000  \n",
       "17126      2      2  168748.000000  \n",
       "42166     -2     -2       0.000000  \n",
       "37989      2      2  349452.126611  \n",
       "\n",
       "[13638 rows x 12 columns]"
      ]
     },
     "execution_count": 89,
     "metadata": {},
     "output_type": "execute_result"
    }
   ],
   "source": [
    "x_ts_xg"
   ]
  },
  {
   "cell_type": "code",
   "execution_count": 90,
   "id": "a355fd3d",
   "metadata": {},
   "outputs": [
    {
     "name": "stdout",
     "output_type": "stream",
     "text": [
      "0.8046634403871535\n"
     ]
    }
   ],
   "source": [
    "from  sklearn.metrics import accuracy_score,confusion_matrix\n",
    "\n",
    "y_pred_xg=model_xgb.predict(x_ts_xg)\n",
    "print(accuracy_score(y_ts_xg,y_pred_xg))"
   ]
  },
  {
   "cell_type": "markdown",
   "id": "70238189",
   "metadata": {},
   "source": [
    "# using optuna  "
   ]
  },
  {
   "cell_type": "code",
   "execution_count": 96,
   "id": "1dbf2a59",
   "metadata": {},
   "outputs": [],
   "source": [
    "def objective(trial):\n",
    "    \"\"\"Define the objective function\"\"\"\n",
    "\n",
    "    params = {\n",
    "        'max_depth': trial.suggest_int('max_depth', 1, 9),\n",
    "        'learning_rate': trial.suggest_loguniform('learning_rate', 0.01, 1.0),\n",
    "        'n_estimators': trial.suggest_int('n_estimators', 50, 500),\n",
    "        'min_child_weight': trial.suggest_int('min_child_weight', 1, 10),\n",
    "        'gamma': trial.suggest_loguniform('gamma', 1e-8, 1.0),\n",
    "        'subsample': trial.suggest_loguniform('subsample', 0.01, 1.0),\n",
    "        'colsample_bytree': trial.suggest_loguniform('colsample_bytree', 0.01, 1.0),\n",
    "        'reg_alpha': trial.suggest_loguniform('reg_alpha', 1e-8, 1.0),\n",
    "        'reg_lambda': trial.suggest_loguniform('reg_lambda', 1e-8, 1.0),\n",
    "        'eval_metric': 'mlogloss',\n",
    "        'use_label_encoder': False\n",
    "    }\n",
    "\n",
    "    # Fit the model\n",
    "    optuna_model = XGBClassifier(**params)\n",
    "    optuna_model.fit(x_tr_xg, y_tr_xg)\n",
    "\n",
    "    # Make predictions\n",
    "    y_pred = optuna_model.predict(x_ts_xg)\n",
    "\n",
    "    # Evaluate predictions\n",
    "    accuracy = accuracy_score(y_ts_xg, y_pred)\n",
    "    return accuracy"
   ]
  },
  {
   "cell_type": "code",
   "execution_count": 100,
   "id": "3ebb2a61",
   "metadata": {},
   "outputs": [
    {
     "name": "stderr",
     "output_type": "stream",
     "text": [
      "\u001b[32m[I 2022-11-05 10:11:29,217]\u001b[0m A new study created in memory with name: no-name-2313ff96-e34c-4776-b356-2062093cb5c6\u001b[0m\n"
     ]
    }
   ],
   "source": [
    "import optuna\n",
    "from xgboost import XGBClassifier\n",
    "\n",
    "study = optuna.create_study(direction='maximize')"
   ]
  },
  {
   "cell_type": "code",
   "execution_count": 101,
   "id": "c23e8d51",
   "metadata": {},
   "outputs": [
    {
     "name": "stderr",
     "output_type": "stream",
     "text": [
      "C:\\Users\\slrk4\\AppData\\Local\\Temp/ipykernel_11964/716984137.py:6: FutureWarning: suggest_loguniform has been deprecated in v3.0.0. This feature will be removed in v6.0.0. See https://github.com/optuna/optuna/releases/tag/v3.0.0. Use :func:`~optuna.trial.Trial.suggest_float` instead.\n",
      "  'learning_rate': trial.suggest_loguniform('learning_rate', 0.01, 1.0),\n",
      "C:\\Users\\slrk4\\AppData\\Local\\Temp/ipykernel_11964/716984137.py:9: FutureWarning: suggest_loguniform has been deprecated in v3.0.0. This feature will be removed in v6.0.0. See https://github.com/optuna/optuna/releases/tag/v3.0.0. Use :func:`~optuna.trial.Trial.suggest_float` instead.\n",
      "  'gamma': trial.suggest_loguniform('gamma', 1e-8, 1.0),\n",
      "C:\\Users\\slrk4\\AppData\\Local\\Temp/ipykernel_11964/716984137.py:10: FutureWarning: suggest_loguniform has been deprecated in v3.0.0. This feature will be removed in v6.0.0. See https://github.com/optuna/optuna/releases/tag/v3.0.0. Use :func:`~optuna.trial.Trial.suggest_float` instead.\n",
      "  'subsample': trial.suggest_loguniform('subsample', 0.01, 1.0),\n",
      "C:\\Users\\slrk4\\AppData\\Local\\Temp/ipykernel_11964/716984137.py:11: FutureWarning: suggest_loguniform has been deprecated in v3.0.0. This feature will be removed in v6.0.0. See https://github.com/optuna/optuna/releases/tag/v3.0.0. Use :func:`~optuna.trial.Trial.suggest_float` instead.\n",
      "  'colsample_bytree': trial.suggest_loguniform('colsample_bytree', 0.01, 1.0),\n",
      "C:\\Users\\slrk4\\AppData\\Local\\Temp/ipykernel_11964/716984137.py:12: FutureWarning: suggest_loguniform has been deprecated in v3.0.0. This feature will be removed in v6.0.0. See https://github.com/optuna/optuna/releases/tag/v3.0.0. Use :func:`~optuna.trial.Trial.suggest_float` instead.\n",
      "  'reg_alpha': trial.suggest_loguniform('reg_alpha', 1e-8, 1.0),\n",
      "C:\\Users\\slrk4\\AppData\\Local\\Temp/ipykernel_11964/716984137.py:13: FutureWarning: suggest_loguniform has been deprecated in v3.0.0. This feature will be removed in v6.0.0. See https://github.com/optuna/optuna/releases/tag/v3.0.0. Use :func:`~optuna.trial.Trial.suggest_float` instead.\n",
      "  'reg_lambda': trial.suggest_loguniform('reg_lambda', 1e-8, 1.0),\n",
      "\u001b[32m[I 2022-11-05 10:11:30,714]\u001b[0m Trial 0 finished with value: 0.7546561079337146 and parameters: {'max_depth': 2, 'learning_rate': 0.0946966957933099, 'n_estimators': 263, 'min_child_weight': 8, 'gamma': 0.11900011481412891, 'subsample': 0.12317191138557362, 'colsample_bytree': 0.1445374379696163, 'reg_alpha': 5.1666330192152276e-08, 'reg_lambda': 1.885062618479812e-06}. Best is trial 0 with value: 0.7546561079337146.\u001b[0m\n",
      "C:\\Users\\slrk4\\AppData\\Local\\Temp/ipykernel_11964/716984137.py:6: FutureWarning: suggest_loguniform has been deprecated in v3.0.0. This feature will be removed in v6.0.0. See https://github.com/optuna/optuna/releases/tag/v3.0.0. Use :func:`~optuna.trial.Trial.suggest_float` instead.\n",
      "  'learning_rate': trial.suggest_loguniform('learning_rate', 0.01, 1.0),\n",
      "C:\\Users\\slrk4\\AppData\\Local\\Temp/ipykernel_11964/716984137.py:9: FutureWarning: suggest_loguniform has been deprecated in v3.0.0. This feature will be removed in v6.0.0. See https://github.com/optuna/optuna/releases/tag/v3.0.0. Use :func:`~optuna.trial.Trial.suggest_float` instead.\n",
      "  'gamma': trial.suggest_loguniform('gamma', 1e-8, 1.0),\n",
      "C:\\Users\\slrk4\\AppData\\Local\\Temp/ipykernel_11964/716984137.py:10: FutureWarning: suggest_loguniform has been deprecated in v3.0.0. This feature will be removed in v6.0.0. See https://github.com/optuna/optuna/releases/tag/v3.0.0. Use :func:`~optuna.trial.Trial.suggest_float` instead.\n",
      "  'subsample': trial.suggest_loguniform('subsample', 0.01, 1.0),\n",
      "C:\\Users\\slrk4\\AppData\\Local\\Temp/ipykernel_11964/716984137.py:11: FutureWarning: suggest_loguniform has been deprecated in v3.0.0. This feature will be removed in v6.0.0. See https://github.com/optuna/optuna/releases/tag/v3.0.0. Use :func:`~optuna.trial.Trial.suggest_float` instead.\n",
      "  'colsample_bytree': trial.suggest_loguniform('colsample_bytree', 0.01, 1.0),\n",
      "C:\\Users\\slrk4\\AppData\\Local\\Temp/ipykernel_11964/716984137.py:12: FutureWarning: suggest_loguniform has been deprecated in v3.0.0. This feature will be removed in v6.0.0. See https://github.com/optuna/optuna/releases/tag/v3.0.0. Use :func:`~optuna.trial.Trial.suggest_float` instead.\n",
      "  'reg_alpha': trial.suggest_loguniform('reg_alpha', 1e-8, 1.0),\n",
      "C:\\Users\\slrk4\\AppData\\Local\\Temp/ipykernel_11964/716984137.py:13: FutureWarning: suggest_loguniform has been deprecated in v3.0.0. This feature will be removed in v6.0.0. See https://github.com/optuna/optuna/releases/tag/v3.0.0. Use :func:`~optuna.trial.Trial.suggest_float` instead.\n",
      "  'reg_lambda': trial.suggest_loguniform('reg_lambda', 1e-8, 1.0),\n",
      "\u001b[32m[I 2022-11-05 10:11:31,669]\u001b[0m Trial 1 finished with value: 0.7259862149875348 and parameters: {'max_depth': 5, 'learning_rate': 0.016032226614348482, 'n_estimators': 172, 'min_child_weight': 2, 'gamma': 2.172518017906737e-08, 'subsample': 0.3349351215040373, 'colsample_bytree': 0.15210609028773725, 'reg_alpha': 0.001395156959018086, 'reg_lambda': 0.0011243568041954888}. Best is trial 0 with value: 0.7546561079337146.\u001b[0m\n",
      "C:\\Users\\slrk4\\AppData\\Local\\Temp/ipykernel_11964/716984137.py:6: FutureWarning: suggest_loguniform has been deprecated in v3.0.0. This feature will be removed in v6.0.0. See https://github.com/optuna/optuna/releases/tag/v3.0.0. Use :func:`~optuna.trial.Trial.suggest_float` instead.\n",
      "  'learning_rate': trial.suggest_loguniform('learning_rate', 0.01, 1.0),\n",
      "C:\\Users\\slrk4\\AppData\\Local\\Temp/ipykernel_11964/716984137.py:9: FutureWarning: suggest_loguniform has been deprecated in v3.0.0. This feature will be removed in v6.0.0. See https://github.com/optuna/optuna/releases/tag/v3.0.0. Use :func:`~optuna.trial.Trial.suggest_float` instead.\n",
      "  'gamma': trial.suggest_loguniform('gamma', 1e-8, 1.0),\n",
      "C:\\Users\\slrk4\\AppData\\Local\\Temp/ipykernel_11964/716984137.py:10: FutureWarning: suggest_loguniform has been deprecated in v3.0.0. This feature will be removed in v6.0.0. See https://github.com/optuna/optuna/releases/tag/v3.0.0. Use :func:`~optuna.trial.Trial.suggest_float` instead.\n",
      "  'subsample': trial.suggest_loguniform('subsample', 0.01, 1.0),\n",
      "C:\\Users\\slrk4\\AppData\\Local\\Temp/ipykernel_11964/716984137.py:11: FutureWarning: suggest_loguniform has been deprecated in v3.0.0. This feature will be removed in v6.0.0. See https://github.com/optuna/optuna/releases/tag/v3.0.0. Use :func:`~optuna.trial.Trial.suggest_float` instead.\n",
      "  'colsample_bytree': trial.suggest_loguniform('colsample_bytree', 0.01, 1.0),\n",
      "C:\\Users\\slrk4\\AppData\\Local\\Temp/ipykernel_11964/716984137.py:12: FutureWarning: suggest_loguniform has been deprecated in v3.0.0. This feature will be removed in v6.0.0. See https://github.com/optuna/optuna/releases/tag/v3.0.0. Use :func:`~optuna.trial.Trial.suggest_float` instead.\n",
      "  'reg_alpha': trial.suggest_loguniform('reg_alpha', 1e-8, 1.0),\n",
      "C:\\Users\\slrk4\\AppData\\Local\\Temp/ipykernel_11964/716984137.py:13: FutureWarning: suggest_loguniform has been deprecated in v3.0.0. This feature will be removed in v6.0.0. See https://github.com/optuna/optuna/releases/tag/v3.0.0. Use :func:`~optuna.trial.Trial.suggest_float` instead.\n",
      "  'reg_lambda': trial.suggest_loguniform('reg_lambda', 1e-8, 1.0),\n",
      "\u001b[32m[I 2022-11-05 10:11:34,258]\u001b[0m Trial 2 finished with value: 0.7589822554626778 and parameters: {'max_depth': 7, 'learning_rate': 0.7309505462487793, 'n_estimators': 498, 'min_child_weight': 2, 'gamma': 0.29556907893474954, 'subsample': 0.25274679294900854, 'colsample_bytree': 0.024559179500020734, 'reg_alpha': 0.12760373211310763, 'reg_lambda': 0.08495032193515378}. Best is trial 2 with value: 0.7589822554626778.\u001b[0m\n",
      "C:\\Users\\slrk4\\AppData\\Local\\Temp/ipykernel_11964/716984137.py:6: FutureWarning: suggest_loguniform has been deprecated in v3.0.0. This feature will be removed in v6.0.0. See https://github.com/optuna/optuna/releases/tag/v3.0.0. Use :func:`~optuna.trial.Trial.suggest_float` instead.\n",
      "  'learning_rate': trial.suggest_loguniform('learning_rate', 0.01, 1.0),\n",
      "C:\\Users\\slrk4\\AppData\\Local\\Temp/ipykernel_11964/716984137.py:9: FutureWarning: suggest_loguniform has been deprecated in v3.0.0. This feature will be removed in v6.0.0. See https://github.com/optuna/optuna/releases/tag/v3.0.0. Use :func:`~optuna.trial.Trial.suggest_float` instead.\n",
      "  'gamma': trial.suggest_loguniform('gamma', 1e-8, 1.0),\n",
      "C:\\Users\\slrk4\\AppData\\Local\\Temp/ipykernel_11964/716984137.py:10: FutureWarning: suggest_loguniform has been deprecated in v3.0.0. This feature will be removed in v6.0.0. See https://github.com/optuna/optuna/releases/tag/v3.0.0. Use :func:`~optuna.trial.Trial.suggest_float` instead.\n",
      "  'subsample': trial.suggest_loguniform('subsample', 0.01, 1.0),\n",
      "C:\\Users\\slrk4\\AppData\\Local\\Temp/ipykernel_11964/716984137.py:11: FutureWarning: suggest_loguniform has been deprecated in v3.0.0. This feature will be removed in v6.0.0. See https://github.com/optuna/optuna/releases/tag/v3.0.0. Use :func:`~optuna.trial.Trial.suggest_float` instead.\n",
      "  'colsample_bytree': trial.suggest_loguniform('colsample_bytree', 0.01, 1.0),\n",
      "C:\\Users\\slrk4\\AppData\\Local\\Temp/ipykernel_11964/716984137.py:12: FutureWarning: suggest_loguniform has been deprecated in v3.0.0. This feature will be removed in v6.0.0. See https://github.com/optuna/optuna/releases/tag/v3.0.0. Use :func:`~optuna.trial.Trial.suggest_float` instead.\n",
      "  'reg_alpha': trial.suggest_loguniform('reg_alpha', 1e-8, 1.0),\n",
      "C:\\Users\\slrk4\\AppData\\Local\\Temp/ipykernel_11964/716984137.py:13: FutureWarning: suggest_loguniform has been deprecated in v3.0.0. This feature will be removed in v6.0.0. See https://github.com/optuna/optuna/releases/tag/v3.0.0. Use :func:`~optuna.trial.Trial.suggest_float` instead.\n",
      "  'reg_lambda': trial.suggest_loguniform('reg_lambda', 1e-8, 1.0),\n"
     ]
    },
    {
     "name": "stderr",
     "output_type": "stream",
     "text": [
      "\u001b[32m[I 2022-11-05 10:11:38,631]\u001b[0m Trial 3 finished with value: 0.7960844698636164 and parameters: {'max_depth': 9, 'learning_rate': 0.08307035715231534, 'n_estimators': 341, 'min_child_weight': 7, 'gamma': 3.073042191067895e-05, 'subsample': 0.5357156803471808, 'colsample_bytree': 0.40549529821340996, 'reg_alpha': 0.019067755709359452, 'reg_lambda': 5.177409790996679e-07}. Best is trial 3 with value: 0.7960844698636164.\u001b[0m\n",
      "C:\\Users\\slrk4\\AppData\\Local\\Temp/ipykernel_11964/716984137.py:6: FutureWarning: suggest_loguniform has been deprecated in v3.0.0. This feature will be removed in v6.0.0. See https://github.com/optuna/optuna/releases/tag/v3.0.0. Use :func:`~optuna.trial.Trial.suggest_float` instead.\n",
      "  'learning_rate': trial.suggest_loguniform('learning_rate', 0.01, 1.0),\n",
      "C:\\Users\\slrk4\\AppData\\Local\\Temp/ipykernel_11964/716984137.py:9: FutureWarning: suggest_loguniform has been deprecated in v3.0.0. This feature will be removed in v6.0.0. See https://github.com/optuna/optuna/releases/tag/v3.0.0. Use :func:`~optuna.trial.Trial.suggest_float` instead.\n",
      "  'gamma': trial.suggest_loguniform('gamma', 1e-8, 1.0),\n",
      "C:\\Users\\slrk4\\AppData\\Local\\Temp/ipykernel_11964/716984137.py:10: FutureWarning: suggest_loguniform has been deprecated in v3.0.0. This feature will be removed in v6.0.0. See https://github.com/optuna/optuna/releases/tag/v3.0.0. Use :func:`~optuna.trial.Trial.suggest_float` instead.\n",
      "  'subsample': trial.suggest_loguniform('subsample', 0.01, 1.0),\n",
      "C:\\Users\\slrk4\\AppData\\Local\\Temp/ipykernel_11964/716984137.py:11: FutureWarning: suggest_loguniform has been deprecated in v3.0.0. This feature will be removed in v6.0.0. See https://github.com/optuna/optuna/releases/tag/v3.0.0. Use :func:`~optuna.trial.Trial.suggest_float` instead.\n",
      "  'colsample_bytree': trial.suggest_loguniform('colsample_bytree', 0.01, 1.0),\n",
      "C:\\Users\\slrk4\\AppData\\Local\\Temp/ipykernel_11964/716984137.py:12: FutureWarning: suggest_loguniform has been deprecated in v3.0.0. This feature will be removed in v6.0.0. See https://github.com/optuna/optuna/releases/tag/v3.0.0. Use :func:`~optuna.trial.Trial.suggest_float` instead.\n",
      "  'reg_alpha': trial.suggest_loguniform('reg_alpha', 1e-8, 1.0),\n",
      "C:\\Users\\slrk4\\AppData\\Local\\Temp/ipykernel_11964/716984137.py:13: FutureWarning: suggest_loguniform has been deprecated in v3.0.0. This feature will be removed in v6.0.0. See https://github.com/optuna/optuna/releases/tag/v3.0.0. Use :func:`~optuna.trial.Trial.suggest_float` instead.\n",
      "  'reg_lambda': trial.suggest_loguniform('reg_lambda', 1e-8, 1.0),\n",
      "\u001b[32m[I 2022-11-05 10:11:39,858]\u001b[0m Trial 4 finished with value: 0.7605220706848511 and parameters: {'max_depth': 4, 'learning_rate': 0.03649610035660873, 'n_estimators': 275, 'min_child_weight': 2, 'gamma': 2.8615045711885955e-08, 'subsample': 0.01056077060645362, 'colsample_bytree': 0.2850689291575139, 'reg_alpha': 1.749752964308001e-07, 'reg_lambda': 1.20163030504316e-08}. Best is trial 3 with value: 0.7960844698636164.\u001b[0m\n",
      "C:\\Users\\slrk4\\AppData\\Local\\Temp/ipykernel_11964/716984137.py:6: FutureWarning: suggest_loguniform has been deprecated in v3.0.0. This feature will be removed in v6.0.0. See https://github.com/optuna/optuna/releases/tag/v3.0.0. Use :func:`~optuna.trial.Trial.suggest_float` instead.\n",
      "  'learning_rate': trial.suggest_loguniform('learning_rate', 0.01, 1.0),\n",
      "C:\\Users\\slrk4\\AppData\\Local\\Temp/ipykernel_11964/716984137.py:9: FutureWarning: suggest_loguniform has been deprecated in v3.0.0. This feature will be removed in v6.0.0. See https://github.com/optuna/optuna/releases/tag/v3.0.0. Use :func:`~optuna.trial.Trial.suggest_float` instead.\n",
      "  'gamma': trial.suggest_loguniform('gamma', 1e-8, 1.0),\n",
      "C:\\Users\\slrk4\\AppData\\Local\\Temp/ipykernel_11964/716984137.py:10: FutureWarning: suggest_loguniform has been deprecated in v3.0.0. This feature will be removed in v6.0.0. See https://github.com/optuna/optuna/releases/tag/v3.0.0. Use :func:`~optuna.trial.Trial.suggest_float` instead.\n",
      "  'subsample': trial.suggest_loguniform('subsample', 0.01, 1.0),\n",
      "C:\\Users\\slrk4\\AppData\\Local\\Temp/ipykernel_11964/716984137.py:11: FutureWarning: suggest_loguniform has been deprecated in v3.0.0. This feature will be removed in v6.0.0. See https://github.com/optuna/optuna/releases/tag/v3.0.0. Use :func:`~optuna.trial.Trial.suggest_float` instead.\n",
      "  'colsample_bytree': trial.suggest_loguniform('colsample_bytree', 0.01, 1.0),\n",
      "C:\\Users\\slrk4\\AppData\\Local\\Temp/ipykernel_11964/716984137.py:12: FutureWarning: suggest_loguniform has been deprecated in v3.0.0. This feature will be removed in v6.0.0. See https://github.com/optuna/optuna/releases/tag/v3.0.0. Use :func:`~optuna.trial.Trial.suggest_float` instead.\n",
      "  'reg_alpha': trial.suggest_loguniform('reg_alpha', 1e-8, 1.0),\n",
      "C:\\Users\\slrk4\\AppData\\Local\\Temp/ipykernel_11964/716984137.py:13: FutureWarning: suggest_loguniform has been deprecated in v3.0.0. This feature will be removed in v6.0.0. See https://github.com/optuna/optuna/releases/tag/v3.0.0. Use :func:`~optuna.trial.Trial.suggest_float` instead.\n",
      "  'reg_lambda': trial.suggest_loguniform('reg_lambda', 1e-8, 1.0),\n",
      "\u001b[32m[I 2022-11-05 10:11:43,454]\u001b[0m Trial 5 finished with value: 0.7901451825780906 and parameters: {'max_depth': 7, 'learning_rate': 0.03287641728094374, 'n_estimators': 342, 'min_child_weight': 1, 'gamma': 7.479709388686587e-08, 'subsample': 0.1596383981710031, 'colsample_bytree': 0.9721673849881391, 'reg_alpha': 0.00012550587499459743, 'reg_lambda': 0.019150749690594944}. Best is trial 3 with value: 0.7960844698636164.\u001b[0m\n",
      "C:\\Users\\slrk4\\AppData\\Local\\Temp/ipykernel_11964/716984137.py:6: FutureWarning: suggest_loguniform has been deprecated in v3.0.0. This feature will be removed in v6.0.0. See https://github.com/optuna/optuna/releases/tag/v3.0.0. Use :func:`~optuna.trial.Trial.suggest_float` instead.\n",
      "  'learning_rate': trial.suggest_loguniform('learning_rate', 0.01, 1.0),\n",
      "C:\\Users\\slrk4\\AppData\\Local\\Temp/ipykernel_11964/716984137.py:9: FutureWarning: suggest_loguniform has been deprecated in v3.0.0. This feature will be removed in v6.0.0. See https://github.com/optuna/optuna/releases/tag/v3.0.0. Use :func:`~optuna.trial.Trial.suggest_float` instead.\n",
      "  'gamma': trial.suggest_loguniform('gamma', 1e-8, 1.0),\n",
      "C:\\Users\\slrk4\\AppData\\Local\\Temp/ipykernel_11964/716984137.py:10: FutureWarning: suggest_loguniform has been deprecated in v3.0.0. This feature will be removed in v6.0.0. See https://github.com/optuna/optuna/releases/tag/v3.0.0. Use :func:`~optuna.trial.Trial.suggest_float` instead.\n",
      "  'subsample': trial.suggest_loguniform('subsample', 0.01, 1.0),\n",
      "C:\\Users\\slrk4\\AppData\\Local\\Temp/ipykernel_11964/716984137.py:11: FutureWarning: suggest_loguniform has been deprecated in v3.0.0. This feature will be removed in v6.0.0. See https://github.com/optuna/optuna/releases/tag/v3.0.0. Use :func:`~optuna.trial.Trial.suggest_float` instead.\n",
      "  'colsample_bytree': trial.suggest_loguniform('colsample_bytree', 0.01, 1.0),\n",
      "C:\\Users\\slrk4\\AppData\\Local\\Temp/ipykernel_11964/716984137.py:12: FutureWarning: suggest_loguniform has been deprecated in v3.0.0. This feature will be removed in v6.0.0. See https://github.com/optuna/optuna/releases/tag/v3.0.0. Use :func:`~optuna.trial.Trial.suggest_float` instead.\n",
      "  'reg_alpha': trial.suggest_loguniform('reg_alpha', 1e-8, 1.0),\n",
      "C:\\Users\\slrk4\\AppData\\Local\\Temp/ipykernel_11964/716984137.py:13: FutureWarning: suggest_loguniform has been deprecated in v3.0.0. This feature will be removed in v6.0.0. See https://github.com/optuna/optuna/releases/tag/v3.0.0. Use :func:`~optuna.trial.Trial.suggest_float` instead.\n",
      "  'reg_lambda': trial.suggest_loguniform('reg_lambda', 1e-8, 1.0),\n",
      "\u001b[32m[I 2022-11-05 10:11:48,447]\u001b[0m Trial 6 finished with value: 0.7931514884880481 and parameters: {'max_depth': 4, 'learning_rate': 0.10299332874839186, 'n_estimators': 459, 'min_child_weight': 4, 'gamma': 0.001442483484524404, 'subsample': 0.8209258306500029, 'colsample_bytree': 0.7500577522141323, 'reg_alpha': 0.0033261022216438496, 'reg_lambda': 9.423270758854994e-06}. Best is trial 3 with value: 0.7960844698636164.\u001b[0m\n",
      "C:\\Users\\slrk4\\AppData\\Local\\Temp/ipykernel_11964/716984137.py:6: FutureWarning: suggest_loguniform has been deprecated in v3.0.0. This feature will be removed in v6.0.0. See https://github.com/optuna/optuna/releases/tag/v3.0.0. Use :func:`~optuna.trial.Trial.suggest_float` instead.\n",
      "  'learning_rate': trial.suggest_loguniform('learning_rate', 0.01, 1.0),\n",
      "C:\\Users\\slrk4\\AppData\\Local\\Temp/ipykernel_11964/716984137.py:9: FutureWarning: suggest_loguniform has been deprecated in v3.0.0. This feature will be removed in v6.0.0. See https://github.com/optuna/optuna/releases/tag/v3.0.0. Use :func:`~optuna.trial.Trial.suggest_float` instead.\n",
      "  'gamma': trial.suggest_loguniform('gamma', 1e-8, 1.0),\n",
      "C:\\Users\\slrk4\\AppData\\Local\\Temp/ipykernel_11964/716984137.py:10: FutureWarning: suggest_loguniform has been deprecated in v3.0.0. This feature will be removed in v6.0.0. See https://github.com/optuna/optuna/releases/tag/v3.0.0. Use :func:`~optuna.trial.Trial.suggest_float` instead.\n",
      "  'subsample': trial.suggest_loguniform('subsample', 0.01, 1.0),\n",
      "C:\\Users\\slrk4\\AppData\\Local\\Temp/ipykernel_11964/716984137.py:11: FutureWarning: suggest_loguniform has been deprecated in v3.0.0. This feature will be removed in v6.0.0. See https://github.com/optuna/optuna/releases/tag/v3.0.0. Use :func:`~optuna.trial.Trial.suggest_float` instead.\n",
      "  'colsample_bytree': trial.suggest_loguniform('colsample_bytree', 0.01, 1.0),\n",
      "C:\\Users\\slrk4\\AppData\\Local\\Temp/ipykernel_11964/716984137.py:12: FutureWarning: suggest_loguniform has been deprecated in v3.0.0. This feature will be removed in v6.0.0. See https://github.com/optuna/optuna/releases/tag/v3.0.0. Use :func:`~optuna.trial.Trial.suggest_float` instead.\n",
      "  'reg_alpha': trial.suggest_loguniform('reg_alpha', 1e-8, 1.0),\n",
      "C:\\Users\\slrk4\\AppData\\Local\\Temp/ipykernel_11964/716984137.py:13: FutureWarning: suggest_loguniform has been deprecated in v3.0.0. This feature will be removed in v6.0.0. See https://github.com/optuna/optuna/releases/tag/v3.0.0. Use :func:`~optuna.trial.Trial.suggest_float` instead.\n",
      "  'reg_lambda': trial.suggest_loguniform('reg_lambda', 1e-8, 1.0),\n"
     ]
    },
    {
     "name": "stderr",
     "output_type": "stream",
     "text": [
      "\u001b[32m[I 2022-11-05 10:11:49,214]\u001b[0m Trial 7 finished with value: 0.7559759495527203 and parameters: {'max_depth': 2, 'learning_rate': 0.07398296314358074, 'n_estimators': 169, 'min_child_weight': 8, 'gamma': 0.07745153860578823, 'subsample': 0.4041229349436584, 'colsample_bytree': 0.24851983162551547, 'reg_alpha': 9.397218507129958e-07, 'reg_lambda': 0.00039407131392338985}. Best is trial 3 with value: 0.7960844698636164.\u001b[0m\n",
      "C:\\Users\\slrk4\\AppData\\Local\\Temp/ipykernel_11964/716984137.py:6: FutureWarning: suggest_loguniform has been deprecated in v3.0.0. This feature will be removed in v6.0.0. See https://github.com/optuna/optuna/releases/tag/v3.0.0. Use :func:`~optuna.trial.Trial.suggest_float` instead.\n",
      "  'learning_rate': trial.suggest_loguniform('learning_rate', 0.01, 1.0),\n",
      "C:\\Users\\slrk4\\AppData\\Local\\Temp/ipykernel_11964/716984137.py:9: FutureWarning: suggest_loguniform has been deprecated in v3.0.0. This feature will be removed in v6.0.0. See https://github.com/optuna/optuna/releases/tag/v3.0.0. Use :func:`~optuna.trial.Trial.suggest_float` instead.\n",
      "  'gamma': trial.suggest_loguniform('gamma', 1e-8, 1.0),\n",
      "C:\\Users\\slrk4\\AppData\\Local\\Temp/ipykernel_11964/716984137.py:10: FutureWarning: suggest_loguniform has been deprecated in v3.0.0. This feature will be removed in v6.0.0. See https://github.com/optuna/optuna/releases/tag/v3.0.0. Use :func:`~optuna.trial.Trial.suggest_float` instead.\n",
      "  'subsample': trial.suggest_loguniform('subsample', 0.01, 1.0),\n",
      "C:\\Users\\slrk4\\AppData\\Local\\Temp/ipykernel_11964/716984137.py:11: FutureWarning: suggest_loguniform has been deprecated in v3.0.0. This feature will be removed in v6.0.0. See https://github.com/optuna/optuna/releases/tag/v3.0.0. Use :func:`~optuna.trial.Trial.suggest_float` instead.\n",
      "  'colsample_bytree': trial.suggest_loguniform('colsample_bytree', 0.01, 1.0),\n",
      "C:\\Users\\slrk4\\AppData\\Local\\Temp/ipykernel_11964/716984137.py:12: FutureWarning: suggest_loguniform has been deprecated in v3.0.0. This feature will be removed in v6.0.0. See https://github.com/optuna/optuna/releases/tag/v3.0.0. Use :func:`~optuna.trial.Trial.suggest_float` instead.\n",
      "  'reg_alpha': trial.suggest_loguniform('reg_alpha', 1e-8, 1.0),\n",
      "C:\\Users\\slrk4\\AppData\\Local\\Temp/ipykernel_11964/716984137.py:13: FutureWarning: suggest_loguniform has been deprecated in v3.0.0. This feature will be removed in v6.0.0. See https://github.com/optuna/optuna/releases/tag/v3.0.0. Use :func:`~optuna.trial.Trial.suggest_float` instead.\n",
      "  'reg_lambda': trial.suggest_loguniform('reg_lambda', 1e-8, 1.0),\n",
      "\u001b[32m[I 2022-11-05 10:11:50,984]\u001b[0m Trial 8 finished with value: 0.7848658161020677 and parameters: {'max_depth': 6, 'learning_rate': 0.04301076530691039, 'n_estimators': 251, 'min_child_weight': 1, 'gamma': 0.012453166892539396, 'subsample': 0.19201466658177768, 'colsample_bytree': 0.40364757748975455, 'reg_alpha': 0.01806843592241102, 'reg_lambda': 1.5526745636616207e-07}. Best is trial 3 with value: 0.7960844698636164.\u001b[0m\n",
      "C:\\Users\\slrk4\\AppData\\Local\\Temp/ipykernel_11964/716984137.py:6: FutureWarning: suggest_loguniform has been deprecated in v3.0.0. This feature will be removed in v6.0.0. See https://github.com/optuna/optuna/releases/tag/v3.0.0. Use :func:`~optuna.trial.Trial.suggest_float` instead.\n",
      "  'learning_rate': trial.suggest_loguniform('learning_rate', 0.01, 1.0),\n",
      "C:\\Users\\slrk4\\AppData\\Local\\Temp/ipykernel_11964/716984137.py:9: FutureWarning: suggest_loguniform has been deprecated in v3.0.0. This feature will be removed in v6.0.0. See https://github.com/optuna/optuna/releases/tag/v3.0.0. Use :func:`~optuna.trial.Trial.suggest_float` instead.\n",
      "  'gamma': trial.suggest_loguniform('gamma', 1e-8, 1.0),\n",
      "C:\\Users\\slrk4\\AppData\\Local\\Temp/ipykernel_11964/716984137.py:10: FutureWarning: suggest_loguniform has been deprecated in v3.0.0. This feature will be removed in v6.0.0. See https://github.com/optuna/optuna/releases/tag/v3.0.0. Use :func:`~optuna.trial.Trial.suggest_float` instead.\n",
      "  'subsample': trial.suggest_loguniform('subsample', 0.01, 1.0),\n",
      "C:\\Users\\slrk4\\AppData\\Local\\Temp/ipykernel_11964/716984137.py:11: FutureWarning: suggest_loguniform has been deprecated in v3.0.0. This feature will be removed in v6.0.0. See https://github.com/optuna/optuna/releases/tag/v3.0.0. Use :func:`~optuna.trial.Trial.suggest_float` instead.\n",
      "  'colsample_bytree': trial.suggest_loguniform('colsample_bytree', 0.01, 1.0),\n",
      "C:\\Users\\slrk4\\AppData\\Local\\Temp/ipykernel_11964/716984137.py:12: FutureWarning: suggest_loguniform has been deprecated in v3.0.0. This feature will be removed in v6.0.0. See https://github.com/optuna/optuna/releases/tag/v3.0.0. Use :func:`~optuna.trial.Trial.suggest_float` instead.\n",
      "  'reg_alpha': trial.suggest_loguniform('reg_alpha', 1e-8, 1.0),\n",
      "C:\\Users\\slrk4\\AppData\\Local\\Temp/ipykernel_11964/716984137.py:13: FutureWarning: suggest_loguniform has been deprecated in v3.0.0. This feature will be removed in v6.0.0. See https://github.com/optuna/optuna/releases/tag/v3.0.0. Use :func:`~optuna.trial.Trial.suggest_float` instead.\n",
      "  'reg_lambda': trial.suggest_loguniform('reg_lambda', 1e-8, 1.0),\n",
      "\u001b[32m[I 2022-11-05 10:11:51,658]\u001b[0m Trial 9 finished with value: 0.7418243144156035 and parameters: {'max_depth': 4, 'learning_rate': 0.0639252085786376, 'n_estimators': 163, 'min_child_weight': 9, 'gamma': 3.155095186105475e-07, 'subsample': 0.05227943994819776, 'colsample_bytree': 0.06889232494660015, 'reg_alpha': 0.7448520878798309, 'reg_lambda': 9.83686982418658e-05}. Best is trial 3 with value: 0.7960844698636164.\u001b[0m\n",
      "C:\\Users\\slrk4\\AppData\\Local\\Temp/ipykernel_11964/716984137.py:6: FutureWarning: suggest_loguniform has been deprecated in v3.0.0. This feature will be removed in v6.0.0. See https://github.com/optuna/optuna/releases/tag/v3.0.0. Use :func:`~optuna.trial.Trial.suggest_float` instead.\n",
      "  'learning_rate': trial.suggest_loguniform('learning_rate', 0.01, 1.0),\n",
      "C:\\Users\\slrk4\\AppData\\Local\\Temp/ipykernel_11964/716984137.py:9: FutureWarning: suggest_loguniform has been deprecated in v3.0.0. This feature will be removed in v6.0.0. See https://github.com/optuna/optuna/releases/tag/v3.0.0. Use :func:`~optuna.trial.Trial.suggest_float` instead.\n",
      "  'gamma': trial.suggest_loguniform('gamma', 1e-8, 1.0),\n",
      "C:\\Users\\slrk4\\AppData\\Local\\Temp/ipykernel_11964/716984137.py:10: FutureWarning: suggest_loguniform has been deprecated in v3.0.0. This feature will be removed in v6.0.0. See https://github.com/optuna/optuna/releases/tag/v3.0.0. Use :func:`~optuna.trial.Trial.suggest_float` instead.\n",
      "  'subsample': trial.suggest_loguniform('subsample', 0.01, 1.0),\n",
      "C:\\Users\\slrk4\\AppData\\Local\\Temp/ipykernel_11964/716984137.py:11: FutureWarning: suggest_loguniform has been deprecated in v3.0.0. This feature will be removed in v6.0.0. See https://github.com/optuna/optuna/releases/tag/v3.0.0. Use :func:`~optuna.trial.Trial.suggest_float` instead.\n",
      "  'colsample_bytree': trial.suggest_loguniform('colsample_bytree', 0.01, 1.0),\n",
      "C:\\Users\\slrk4\\AppData\\Local\\Temp/ipykernel_11964/716984137.py:12: FutureWarning: suggest_loguniform has been deprecated in v3.0.0. This feature will be removed in v6.0.0. See https://github.com/optuna/optuna/releases/tag/v3.0.0. Use :func:`~optuna.trial.Trial.suggest_float` instead.\n",
      "  'reg_alpha': trial.suggest_loguniform('reg_alpha', 1e-8, 1.0),\n",
      "C:\\Users\\slrk4\\AppData\\Local\\Temp/ipykernel_11964/716984137.py:13: FutureWarning: suggest_loguniform has been deprecated in v3.0.0. This feature will be removed in v6.0.0. See https://github.com/optuna/optuna/releases/tag/v3.0.0. Use :func:`~optuna.trial.Trial.suggest_float` instead.\n",
      "  'reg_lambda': trial.suggest_loguniform('reg_lambda', 1e-8, 1.0),\n",
      "\u001b[32m[I 2022-11-05 10:11:51,996]\u001b[0m Trial 10 finished with value: 0.7389646575744244 and parameters: {'max_depth': 9, 'learning_rate': 0.29633067527432727, 'n_estimators': 61, 'min_child_weight': 6, 'gamma': 1.1541175717175756e-05, 'subsample': 0.044464420937559986, 'colsample_bytree': 0.010547482674672275, 'reg_alpha': 8.017223182831624e-06, 'reg_lambda': 5.664340545984549e-07}. Best is trial 3 with value: 0.7960844698636164.\u001b[0m\n",
      "C:\\Users\\slrk4\\AppData\\Local\\Temp/ipykernel_11964/716984137.py:6: FutureWarning: suggest_loguniform has been deprecated in v3.0.0. This feature will be removed in v6.0.0. See https://github.com/optuna/optuna/releases/tag/v3.0.0. Use :func:`~optuna.trial.Trial.suggest_float` instead.\n",
      "  'learning_rate': trial.suggest_loguniform('learning_rate', 0.01, 1.0),\n",
      "C:\\Users\\slrk4\\AppData\\Local\\Temp/ipykernel_11964/716984137.py:9: FutureWarning: suggest_loguniform has been deprecated in v3.0.0. This feature will be removed in v6.0.0. See https://github.com/optuna/optuna/releases/tag/v3.0.0. Use :func:`~optuna.trial.Trial.suggest_float` instead.\n",
      "  'gamma': trial.suggest_loguniform('gamma', 1e-8, 1.0),\n",
      "C:\\Users\\slrk4\\AppData\\Local\\Temp/ipykernel_11964/716984137.py:10: FutureWarning: suggest_loguniform has been deprecated in v3.0.0. This feature will be removed in v6.0.0. See https://github.com/optuna/optuna/releases/tag/v3.0.0. Use :func:`~optuna.trial.Trial.suggest_float` instead.\n",
      "  'subsample': trial.suggest_loguniform('subsample', 0.01, 1.0),\n",
      "C:\\Users\\slrk4\\AppData\\Local\\Temp/ipykernel_11964/716984137.py:11: FutureWarning: suggest_loguniform has been deprecated in v3.0.0. This feature will be removed in v6.0.0. See https://github.com/optuna/optuna/releases/tag/v3.0.0. Use :func:`~optuna.trial.Trial.suggest_float` instead.\n",
      "  'colsample_bytree': trial.suggest_loguniform('colsample_bytree', 0.01, 1.0),\n",
      "C:\\Users\\slrk4\\AppData\\Local\\Temp/ipykernel_11964/716984137.py:12: FutureWarning: suggest_loguniform has been deprecated in v3.0.0. This feature will be removed in v6.0.0. See https://github.com/optuna/optuna/releases/tag/v3.0.0. Use :func:`~optuna.trial.Trial.suggest_float` instead.\n",
      "  'reg_alpha': trial.suggest_loguniform('reg_alpha', 1e-8, 1.0),\n",
      "C:\\Users\\slrk4\\AppData\\Local\\Temp/ipykernel_11964/716984137.py:13: FutureWarning: suggest_loguniform has been deprecated in v3.0.0. This feature will be removed in v6.0.0. See https://github.com/optuna/optuna/releases/tag/v3.0.0. Use :func:`~optuna.trial.Trial.suggest_float` instead.\n",
      "  'reg_lambda': trial.suggest_loguniform('reg_lambda', 1e-8, 1.0),\n"
     ]
    },
    {
     "name": "stderr",
     "output_type": "stream",
     "text": [
      "\u001b[32m[I 2022-11-05 10:12:02,277]\u001b[0m Trial 11 finished with value: 0.8061299310749377 and parameters: {'max_depth': 9, 'learning_rate': 0.22317173460764497, 'n_estimators': 454, 'min_child_weight': 5, 'gamma': 0.0005824657575863098, 'subsample': 0.8565468645939612, 'colsample_bytree': 0.927332763685444, 'reg_alpha': 0.0035402776844940587, 'reg_lambda': 6.250765416612764e-06}. Best is trial 11 with value: 0.8061299310749377.\u001b[0m\n",
      "C:\\Users\\slrk4\\AppData\\Local\\Temp/ipykernel_11964/716984137.py:6: FutureWarning: suggest_loguniform has been deprecated in v3.0.0. This feature will be removed in v6.0.0. See https://github.com/optuna/optuna/releases/tag/v3.0.0. Use :func:`~optuna.trial.Trial.suggest_float` instead.\n",
      "  'learning_rate': trial.suggest_loguniform('learning_rate', 0.01, 1.0),\n",
      "C:\\Users\\slrk4\\AppData\\Local\\Temp/ipykernel_11964/716984137.py:9: FutureWarning: suggest_loguniform has been deprecated in v3.0.0. This feature will be removed in v6.0.0. See https://github.com/optuna/optuna/releases/tag/v3.0.0. Use :func:`~optuna.trial.Trial.suggest_float` instead.\n",
      "  'gamma': trial.suggest_loguniform('gamma', 1e-8, 1.0),\n",
      "C:\\Users\\slrk4\\AppData\\Local\\Temp/ipykernel_11964/716984137.py:10: FutureWarning: suggest_loguniform has been deprecated in v3.0.0. This feature will be removed in v6.0.0. See https://github.com/optuna/optuna/releases/tag/v3.0.0. Use :func:`~optuna.trial.Trial.suggest_float` instead.\n",
      "  'subsample': trial.suggest_loguniform('subsample', 0.01, 1.0),\n",
      "C:\\Users\\slrk4\\AppData\\Local\\Temp/ipykernel_11964/716984137.py:11: FutureWarning: suggest_loguniform has been deprecated in v3.0.0. This feature will be removed in v6.0.0. See https://github.com/optuna/optuna/releases/tag/v3.0.0. Use :func:`~optuna.trial.Trial.suggest_float` instead.\n",
      "  'colsample_bytree': trial.suggest_loguniform('colsample_bytree', 0.01, 1.0),\n",
      "C:\\Users\\slrk4\\AppData\\Local\\Temp/ipykernel_11964/716984137.py:12: FutureWarning: suggest_loguniform has been deprecated in v3.0.0. This feature will be removed in v6.0.0. See https://github.com/optuna/optuna/releases/tag/v3.0.0. Use :func:`~optuna.trial.Trial.suggest_float` instead.\n",
      "  'reg_alpha': trial.suggest_loguniform('reg_alpha', 1e-8, 1.0),\n",
      "C:\\Users\\slrk4\\AppData\\Local\\Temp/ipykernel_11964/716984137.py:13: FutureWarning: suggest_loguniform has been deprecated in v3.0.0. This feature will be removed in v6.0.0. See https://github.com/optuna/optuna/releases/tag/v3.0.0. Use :func:`~optuna.trial.Trial.suggest_float` instead.\n",
      "  'reg_lambda': trial.suggest_loguniform('reg_lambda', 1e-8, 1.0),\n",
      "\u001b[32m[I 2022-11-05 10:12:08,331]\u001b[0m Trial 12 finished with value: 0.8018771080803637 and parameters: {'max_depth': 9, 'learning_rate': 0.23000855975478446, 'n_estimators': 372, 'min_child_weight': 6, 'gamma': 3.964462456029608e-05, 'subsample': 0.8725445035095469, 'colsample_bytree': 0.571624262977266, 'reg_alpha': 0.00018112232285084494, 'reg_lambda': 1.9935146077489878e-05}. Best is trial 11 with value: 0.8061299310749377.\u001b[0m\n",
      "C:\\Users\\slrk4\\AppData\\Local\\Temp/ipykernel_11964/716984137.py:6: FutureWarning: suggest_loguniform has been deprecated in v3.0.0. This feature will be removed in v6.0.0. See https://github.com/optuna/optuna/releases/tag/v3.0.0. Use :func:`~optuna.trial.Trial.suggest_float` instead.\n",
      "  'learning_rate': trial.suggest_loguniform('learning_rate', 0.01, 1.0),\n",
      "C:\\Users\\slrk4\\AppData\\Local\\Temp/ipykernel_11964/716984137.py:9: FutureWarning: suggest_loguniform has been deprecated in v3.0.0. This feature will be removed in v6.0.0. See https://github.com/optuna/optuna/releases/tag/v3.0.0. Use :func:`~optuna.trial.Trial.suggest_float` instead.\n",
      "  'gamma': trial.suggest_loguniform('gamma', 1e-8, 1.0),\n",
      "C:\\Users\\slrk4\\AppData\\Local\\Temp/ipykernel_11964/716984137.py:10: FutureWarning: suggest_loguniform has been deprecated in v3.0.0. This feature will be removed in v6.0.0. See https://github.com/optuna/optuna/releases/tag/v3.0.0. Use :func:`~optuna.trial.Trial.suggest_float` instead.\n",
      "  'subsample': trial.suggest_loguniform('subsample', 0.01, 1.0),\n",
      "C:\\Users\\slrk4\\AppData\\Local\\Temp/ipykernel_11964/716984137.py:11: FutureWarning: suggest_loguniform has been deprecated in v3.0.0. This feature will be removed in v6.0.0. See https://github.com/optuna/optuna/releases/tag/v3.0.0. Use :func:`~optuna.trial.Trial.suggest_float` instead.\n",
      "  'colsample_bytree': trial.suggest_loguniform('colsample_bytree', 0.01, 1.0),\n",
      "C:\\Users\\slrk4\\AppData\\Local\\Temp/ipykernel_11964/716984137.py:12: FutureWarning: suggest_loguniform has been deprecated in v3.0.0. This feature will be removed in v6.0.0. See https://github.com/optuna/optuna/releases/tag/v3.0.0. Use :func:`~optuna.trial.Trial.suggest_float` instead.\n",
      "  'reg_alpha': trial.suggest_loguniform('reg_alpha', 1e-8, 1.0),\n",
      "C:\\Users\\slrk4\\AppData\\Local\\Temp/ipykernel_11964/716984137.py:13: FutureWarning: suggest_loguniform has been deprecated in v3.0.0. This feature will be removed in v6.0.0. See https://github.com/optuna/optuna/releases/tag/v3.0.0. Use :func:`~optuna.trial.Trial.suggest_float` instead.\n",
      "  'reg_lambda': trial.suggest_loguniform('reg_lambda', 1e-8, 1.0),\n",
      "\u001b[32m[I 2022-11-05 10:12:15,165]\u001b[0m Trial 13 finished with value: 0.8069365009532189 and parameters: {'max_depth': 8, 'learning_rate': 0.2499793166896286, 'n_estimators': 409, 'min_child_weight': 5, 'gamma': 0.0003769841280398082, 'subsample': 0.9024520867838979, 'colsample_bytree': 0.6360451718113497, 'reg_alpha': 8.977954107734247e-05, 'reg_lambda': 1.646308275554409e-05}. Best is trial 13 with value: 0.8069365009532189.\u001b[0m\n",
      "C:\\Users\\slrk4\\AppData\\Local\\Temp/ipykernel_11964/716984137.py:6: FutureWarning: suggest_loguniform has been deprecated in v3.0.0. This feature will be removed in v6.0.0. See https://github.com/optuna/optuna/releases/tag/v3.0.0. Use :func:`~optuna.trial.Trial.suggest_float` instead.\n",
      "  'learning_rate': trial.suggest_loguniform('learning_rate', 0.01, 1.0),\n",
      "C:\\Users\\slrk4\\AppData\\Local\\Temp/ipykernel_11964/716984137.py:9: FutureWarning: suggest_loguniform has been deprecated in v3.0.0. This feature will be removed in v6.0.0. See https://github.com/optuna/optuna/releases/tag/v3.0.0. Use :func:`~optuna.trial.Trial.suggest_float` instead.\n",
      "  'gamma': trial.suggest_loguniform('gamma', 1e-8, 1.0),\n",
      "C:\\Users\\slrk4\\AppData\\Local\\Temp/ipykernel_11964/716984137.py:10: FutureWarning: suggest_loguniform has been deprecated in v3.0.0. This feature will be removed in v6.0.0. See https://github.com/optuna/optuna/releases/tag/v3.0.0. Use :func:`~optuna.trial.Trial.suggest_float` instead.\n",
      "  'subsample': trial.suggest_loguniform('subsample', 0.01, 1.0),\n",
      "C:\\Users\\slrk4\\AppData\\Local\\Temp/ipykernel_11964/716984137.py:11: FutureWarning: suggest_loguniform has been deprecated in v3.0.0. This feature will be removed in v6.0.0. See https://github.com/optuna/optuna/releases/tag/v3.0.0. Use :func:`~optuna.trial.Trial.suggest_float` instead.\n",
      "  'colsample_bytree': trial.suggest_loguniform('colsample_bytree', 0.01, 1.0),\n",
      "C:\\Users\\slrk4\\AppData\\Local\\Temp/ipykernel_11964/716984137.py:12: FutureWarning: suggest_loguniform has been deprecated in v3.0.0. This feature will be removed in v6.0.0. See https://github.com/optuna/optuna/releases/tag/v3.0.0. Use :func:`~optuna.trial.Trial.suggest_float` instead.\n",
      "  'reg_alpha': trial.suggest_loguniform('reg_alpha', 1e-8, 1.0),\n",
      "C:\\Users\\slrk4\\AppData\\Local\\Temp/ipykernel_11964/716984137.py:13: FutureWarning: suggest_loguniform has been deprecated in v3.0.0. This feature will be removed in v6.0.0. See https://github.com/optuna/optuna/releases/tag/v3.0.0. Use :func:`~optuna.trial.Trial.suggest_float` instead.\n",
      "  'reg_lambda': trial.suggest_loguniform('reg_lambda', 1e-8, 1.0),\n",
      "\u001b[32m[I 2022-11-05 10:12:18,075]\u001b[0m Trial 14 finished with value: 0.7787065552133744 and parameters: {'max_depth': 8, 'learning_rate': 0.23807575943834758, 'n_estimators': 420, 'min_child_weight': 4, 'gamma': 0.0011689110277478178, 'subsample': 0.9932624353392794, 'colsample_bytree': 0.060734028130883085, 'reg_alpha': 1.0435910214669635e-05, 'reg_lambda': 0.004715890680478587}. Best is trial 13 with value: 0.8069365009532189.\u001b[0m\n",
      "C:\\Users\\slrk4\\AppData\\Local\\Temp/ipykernel_11964/716984137.py:6: FutureWarning: suggest_loguniform has been deprecated in v3.0.0. This feature will be removed in v6.0.0. See https://github.com/optuna/optuna/releases/tag/v3.0.0. Use :func:`~optuna.trial.Trial.suggest_float` instead.\n",
      "  'learning_rate': trial.suggest_loguniform('learning_rate', 0.01, 1.0),\n",
      "C:\\Users\\slrk4\\AppData\\Local\\Temp/ipykernel_11964/716984137.py:9: FutureWarning: suggest_loguniform has been deprecated in v3.0.0. This feature will be removed in v6.0.0. See https://github.com/optuna/optuna/releases/tag/v3.0.0. Use :func:`~optuna.trial.Trial.suggest_float` instead.\n",
      "  'gamma': trial.suggest_loguniform('gamma', 1e-8, 1.0),\n",
      "C:\\Users\\slrk4\\AppData\\Local\\Temp/ipykernel_11964/716984137.py:10: FutureWarning: suggest_loguniform has been deprecated in v3.0.0. This feature will be removed in v6.0.0. See https://github.com/optuna/optuna/releases/tag/v3.0.0. Use :func:`~optuna.trial.Trial.suggest_float` instead.\n",
      "  'subsample': trial.suggest_loguniform('subsample', 0.01, 1.0),\n",
      "C:\\Users\\slrk4\\AppData\\Local\\Temp/ipykernel_11964/716984137.py:11: FutureWarning: suggest_loguniform has been deprecated in v3.0.0. This feature will be removed in v6.0.0. See https://github.com/optuna/optuna/releases/tag/v3.0.0. Use :func:`~optuna.trial.Trial.suggest_float` instead.\n",
      "  'colsample_bytree': trial.suggest_loguniform('colsample_bytree', 0.01, 1.0),\n",
      "C:\\Users\\slrk4\\AppData\\Local\\Temp/ipykernel_11964/716984137.py:12: FutureWarning: suggest_loguniform has been deprecated in v3.0.0. This feature will be removed in v6.0.0. See https://github.com/optuna/optuna/releases/tag/v3.0.0. Use :func:`~optuna.trial.Trial.suggest_float` instead.\n",
      "  'reg_alpha': trial.suggest_loguniform('reg_alpha', 1e-8, 1.0),\n",
      "C:\\Users\\slrk4\\AppData\\Local\\Temp/ipykernel_11964/716984137.py:13: FutureWarning: suggest_loguniform has been deprecated in v3.0.0. This feature will be removed in v6.0.0. See https://github.com/optuna/optuna/releases/tag/v3.0.0. Use :func:`~optuna.trial.Trial.suggest_float` instead.\n",
      "  'reg_lambda': trial.suggest_loguniform('reg_lambda', 1e-8, 1.0),\n"
     ]
    },
    {
     "name": "stderr",
     "output_type": "stream",
     "text": [
      "\u001b[32m[I 2022-11-05 10:12:22,201]\u001b[0m Trial 15 finished with value: 0.7276726792784866 and parameters: {'max_depth': 7, 'learning_rate': 0.6347238152812105, 'n_estimators': 405, 'min_child_weight': 4, 'gamma': 0.0004945543833779798, 'subsample': 0.08213362602479861, 'colsample_bytree': 0.886247139711037, 'reg_alpha': 0.001035206872542566, 'reg_lambda': 4.633594228062531e-05}. Best is trial 13 with value: 0.8069365009532189.\u001b[0m\n",
      "C:\\Users\\slrk4\\AppData\\Local\\Temp/ipykernel_11964/716984137.py:6: FutureWarning: suggest_loguniform has been deprecated in v3.0.0. This feature will be removed in v6.0.0. See https://github.com/optuna/optuna/releases/tag/v3.0.0. Use :func:`~optuna.trial.Trial.suggest_float` instead.\n",
      "  'learning_rate': trial.suggest_loguniform('learning_rate', 0.01, 1.0),\n",
      "C:\\Users\\slrk4\\AppData\\Local\\Temp/ipykernel_11964/716984137.py:9: FutureWarning: suggest_loguniform has been deprecated in v3.0.0. This feature will be removed in v6.0.0. See https://github.com/optuna/optuna/releases/tag/v3.0.0. Use :func:`~optuna.trial.Trial.suggest_float` instead.\n",
      "  'gamma': trial.suggest_loguniform('gamma', 1e-8, 1.0),\n",
      "C:\\Users\\slrk4\\AppData\\Local\\Temp/ipykernel_11964/716984137.py:10: FutureWarning: suggest_loguniform has been deprecated in v3.0.0. This feature will be removed in v6.0.0. See https://github.com/optuna/optuna/releases/tag/v3.0.0. Use :func:`~optuna.trial.Trial.suggest_float` instead.\n",
      "  'subsample': trial.suggest_loguniform('subsample', 0.01, 1.0),\n",
      "C:\\Users\\slrk4\\AppData\\Local\\Temp/ipykernel_11964/716984137.py:11: FutureWarning: suggest_loguniform has been deprecated in v3.0.0. This feature will be removed in v6.0.0. See https://github.com/optuna/optuna/releases/tag/v3.0.0. Use :func:`~optuna.trial.Trial.suggest_float` instead.\n",
      "  'colsample_bytree': trial.suggest_loguniform('colsample_bytree', 0.01, 1.0),\n",
      "C:\\Users\\slrk4\\AppData\\Local\\Temp/ipykernel_11964/716984137.py:12: FutureWarning: suggest_loguniform has been deprecated in v3.0.0. This feature will be removed in v6.0.0. See https://github.com/optuna/optuna/releases/tag/v3.0.0. Use :func:`~optuna.trial.Trial.suggest_float` instead.\n",
      "  'reg_alpha': trial.suggest_loguniform('reg_alpha', 1e-8, 1.0),\n",
      "C:\\Users\\slrk4\\AppData\\Local\\Temp/ipykernel_11964/716984137.py:13: FutureWarning: suggest_loguniform has been deprecated in v3.0.0. This feature will be removed in v6.0.0. See https://github.com/optuna/optuna/releases/tag/v3.0.0. Use :func:`~optuna.trial.Trial.suggest_float` instead.\n",
      "  'reg_lambda': trial.suggest_loguniform('reg_lambda', 1e-8, 1.0),\n",
      "\u001b[32m[I 2022-11-05 10:12:27,871]\u001b[0m Trial 16 finished with value: 0.7890453145622526 and parameters: {'max_depth': 8, 'learning_rate': 0.42861500744141223, 'n_estimators': 462, 'min_child_weight': 5, 'gamma': 5.652608722407484e-06, 'subsample': 0.5085690445435597, 'colsample_bytree': 0.44630503825220963, 'reg_alpha': 1.6828910128857894e-05, 'reg_lambda': 3.583411075482254e-08}. Best is trial 13 with value: 0.8069365009532189.\u001b[0m\n",
      "C:\\Users\\slrk4\\AppData\\Local\\Temp/ipykernel_11964/716984137.py:6: FutureWarning: suggest_loguniform has been deprecated in v3.0.0. This feature will be removed in v6.0.0. See https://github.com/optuna/optuna/releases/tag/v3.0.0. Use :func:`~optuna.trial.Trial.suggest_float` instead.\n",
      "  'learning_rate': trial.suggest_loguniform('learning_rate', 0.01, 1.0),\n",
      "C:\\Users\\slrk4\\AppData\\Local\\Temp/ipykernel_11964/716984137.py:9: FutureWarning: suggest_loguniform has been deprecated in v3.0.0. This feature will be removed in v6.0.0. See https://github.com/optuna/optuna/releases/tag/v3.0.0. Use :func:`~optuna.trial.Trial.suggest_float` instead.\n",
      "  'gamma': trial.suggest_loguniform('gamma', 1e-8, 1.0),\n",
      "C:\\Users\\slrk4\\AppData\\Local\\Temp/ipykernel_11964/716984137.py:10: FutureWarning: suggest_loguniform has been deprecated in v3.0.0. This feature will be removed in v6.0.0. See https://github.com/optuna/optuna/releases/tag/v3.0.0. Use :func:`~optuna.trial.Trial.suggest_float` instead.\n",
      "  'subsample': trial.suggest_loguniform('subsample', 0.01, 1.0),\n",
      "C:\\Users\\slrk4\\AppData\\Local\\Temp/ipykernel_11964/716984137.py:11: FutureWarning: suggest_loguniform has been deprecated in v3.0.0. This feature will be removed in v6.0.0. See https://github.com/optuna/optuna/releases/tag/v3.0.0. Use :func:`~optuna.trial.Trial.suggest_float` instead.\n",
      "  'colsample_bytree': trial.suggest_loguniform('colsample_bytree', 0.01, 1.0),\n",
      "C:\\Users\\slrk4\\AppData\\Local\\Temp/ipykernel_11964/716984137.py:12: FutureWarning: suggest_loguniform has been deprecated in v3.0.0. This feature will be removed in v6.0.0. See https://github.com/optuna/optuna/releases/tag/v3.0.0. Use :func:`~optuna.trial.Trial.suggest_float` instead.\n",
      "  'reg_alpha': trial.suggest_loguniform('reg_alpha', 1e-8, 1.0),\n",
      "C:\\Users\\slrk4\\AppData\\Local\\Temp/ipykernel_11964/716984137.py:13: FutureWarning: suggest_loguniform has been deprecated in v3.0.0. This feature will be removed in v6.0.0. See https://github.com/optuna/optuna/releases/tag/v3.0.0. Use :func:`~optuna.trial.Trial.suggest_float` instead.\n",
      "  'reg_lambda': trial.suggest_loguniform('reg_lambda', 1e-8, 1.0),\n",
      "\u001b[32m[I 2022-11-05 10:12:30,341]\u001b[0m Trial 17 finished with value: 0.7609620178911863 and parameters: {'max_depth': 8, 'learning_rate': 0.16758281630056357, 'n_estimators': 498, 'min_child_weight': 5, 'gamma': 1.478268468942882e-06, 'subsample': 0.014824159457884106, 'colsample_bytree': 0.1929411914739075, 'reg_alpha': 1.0574086777756326e-06, 'reg_lambda': 7.209966108203743e-06}. Best is trial 13 with value: 0.8069365009532189.\u001b[0m\n",
      "C:\\Users\\slrk4\\AppData\\Local\\Temp/ipykernel_11964/716984137.py:6: FutureWarning: suggest_loguniform has been deprecated in v3.0.0. This feature will be removed in v6.0.0. See https://github.com/optuna/optuna/releases/tag/v3.0.0. Use :func:`~optuna.trial.Trial.suggest_float` instead.\n",
      "  'learning_rate': trial.suggest_loguniform('learning_rate', 0.01, 1.0),\n",
      "C:\\Users\\slrk4\\AppData\\Local\\Temp/ipykernel_11964/716984137.py:9: FutureWarning: suggest_loguniform has been deprecated in v3.0.0. This feature will be removed in v6.0.0. See https://github.com/optuna/optuna/releases/tag/v3.0.0. Use :func:`~optuna.trial.Trial.suggest_float` instead.\n",
      "  'gamma': trial.suggest_loguniform('gamma', 1e-8, 1.0),\n",
      "C:\\Users\\slrk4\\AppData\\Local\\Temp/ipykernel_11964/716984137.py:10: FutureWarning: suggest_loguniform has been deprecated in v3.0.0. This feature will be removed in v6.0.0. See https://github.com/optuna/optuna/releases/tag/v3.0.0. Use :func:`~optuna.trial.Trial.suggest_float` instead.\n",
      "  'subsample': trial.suggest_loguniform('subsample', 0.01, 1.0),\n",
      "C:\\Users\\slrk4\\AppData\\Local\\Temp/ipykernel_11964/716984137.py:11: FutureWarning: suggest_loguniform has been deprecated in v3.0.0. This feature will be removed in v6.0.0. See https://github.com/optuna/optuna/releases/tag/v3.0.0. Use :func:`~optuna.trial.Trial.suggest_float` instead.\n",
      "  'colsample_bytree': trial.suggest_loguniform('colsample_bytree', 0.01, 1.0),\n",
      "C:\\Users\\slrk4\\AppData\\Local\\Temp/ipykernel_11964/716984137.py:12: FutureWarning: suggest_loguniform has been deprecated in v3.0.0. This feature will be removed in v6.0.0. See https://github.com/optuna/optuna/releases/tag/v3.0.0. Use :func:`~optuna.trial.Trial.suggest_float` instead.\n",
      "  'reg_alpha': trial.suggest_loguniform('reg_alpha', 1e-8, 1.0),\n",
      "C:\\Users\\slrk4\\AppData\\Local\\Temp/ipykernel_11964/716984137.py:13: FutureWarning: suggest_loguniform has been deprecated in v3.0.0. This feature will be removed in v6.0.0. See https://github.com/optuna/optuna/releases/tag/v3.0.0. Use :func:`~optuna.trial.Trial.suggest_float` instead.\n",
      "  'reg_lambda': trial.suggest_loguniform('reg_lambda', 1e-8, 1.0),\n",
      "\u001b[32m[I 2022-11-05 10:12:31,833]\u001b[0m Trial 18 finished with value: 0.7474703035635724 and parameters: {'max_depth': 6, 'learning_rate': 0.42251259387790097, 'n_estimators': 341, 'min_child_weight': 10, 'gamma': 0.008044575006652139, 'subsample': 0.024012161207607446, 'colsample_bytree': 0.03637687572942839, 'reg_alpha': 1.0134283240477287e-08, 'reg_lambda': 0.3170672674761665}. Best is trial 13 with value: 0.8069365009532189.\u001b[0m\n",
      "C:\\Users\\slrk4\\AppData\\Local\\Temp/ipykernel_11964/716984137.py:6: FutureWarning: suggest_loguniform has been deprecated in v3.0.0. This feature will be removed in v6.0.0. See https://github.com/optuna/optuna/releases/tag/v3.0.0. Use :func:`~optuna.trial.Trial.suggest_float` instead.\n",
      "  'learning_rate': trial.suggest_loguniform('learning_rate', 0.01, 1.0),\n",
      "C:\\Users\\slrk4\\AppData\\Local\\Temp/ipykernel_11964/716984137.py:9: FutureWarning: suggest_loguniform has been deprecated in v3.0.0. This feature will be removed in v6.0.0. See https://github.com/optuna/optuna/releases/tag/v3.0.0. Use :func:`~optuna.trial.Trial.suggest_float` instead.\n",
      "  'gamma': trial.suggest_loguniform('gamma', 1e-8, 1.0),\n",
      "C:\\Users\\slrk4\\AppData\\Local\\Temp/ipykernel_11964/716984137.py:10: FutureWarning: suggest_loguniform has been deprecated in v3.0.0. This feature will be removed in v6.0.0. See https://github.com/optuna/optuna/releases/tag/v3.0.0. Use :func:`~optuna.trial.Trial.suggest_float` instead.\n",
      "  'subsample': trial.suggest_loguniform('subsample', 0.01, 1.0),\n",
      "C:\\Users\\slrk4\\AppData\\Local\\Temp/ipykernel_11964/716984137.py:11: FutureWarning: suggest_loguniform has been deprecated in v3.0.0. This feature will be removed in v6.0.0. See https://github.com/optuna/optuna/releases/tag/v3.0.0. Use :func:`~optuna.trial.Trial.suggest_float` instead.\n",
      "  'colsample_bytree': trial.suggest_loguniform('colsample_bytree', 0.01, 1.0),\n",
      "C:\\Users\\slrk4\\AppData\\Local\\Temp/ipykernel_11964/716984137.py:12: FutureWarning: suggest_loguniform has been deprecated in v3.0.0. This feature will be removed in v6.0.0. See https://github.com/optuna/optuna/releases/tag/v3.0.0. Use :func:`~optuna.trial.Trial.suggest_float` instead.\n",
      "  'reg_alpha': trial.suggest_loguniform('reg_alpha', 1e-8, 1.0),\n",
      "C:\\Users\\slrk4\\AppData\\Local\\Temp/ipykernel_11964/716984137.py:13: FutureWarning: suggest_loguniform has been deprecated in v3.0.0. This feature will be removed in v6.0.0. See https://github.com/optuna/optuna/releases/tag/v3.0.0. Use :func:`~optuna.trial.Trial.suggest_float` instead.\n",
      "  'reg_lambda': trial.suggest_loguniform('reg_lambda', 1e-8, 1.0),\n"
     ]
    },
    {
     "name": "stderr",
     "output_type": "stream",
     "text": [
      "\u001b[32m[I 2022-11-05 10:12:34,830]\u001b[0m Trial 19 finished with value: 0.7573691157061153 and parameters: {'max_depth': 9, 'learning_rate': 0.9869247399411656, 'n_estimators': 415, 'min_child_weight': 3, 'gamma': 0.0002807136112237662, 'subsample': 0.556584056826894, 'colsample_bytree': 0.1022844039287208, 'reg_alpha': 0.00040422238757600106, 'reg_lambda': 0.0006533026307901607}. Best is trial 13 with value: 0.8069365009532189.\u001b[0m\n",
      "C:\\Users\\slrk4\\AppData\\Local\\Temp/ipykernel_11964/716984137.py:6: FutureWarning: suggest_loguniform has been deprecated in v3.0.0. This feature will be removed in v6.0.0. See https://github.com/optuna/optuna/releases/tag/v3.0.0. Use :func:`~optuna.trial.Trial.suggest_float` instead.\n",
      "  'learning_rate': trial.suggest_loguniform('learning_rate', 0.01, 1.0),\n",
      "C:\\Users\\slrk4\\AppData\\Local\\Temp/ipykernel_11964/716984137.py:9: FutureWarning: suggest_loguniform has been deprecated in v3.0.0. This feature will be removed in v6.0.0. See https://github.com/optuna/optuna/releases/tag/v3.0.0. Use :func:`~optuna.trial.Trial.suggest_float` instead.\n",
      "  'gamma': trial.suggest_loguniform('gamma', 1e-8, 1.0),\n",
      "C:\\Users\\slrk4\\AppData\\Local\\Temp/ipykernel_11964/716984137.py:10: FutureWarning: suggest_loguniform has been deprecated in v3.0.0. This feature will be removed in v6.0.0. See https://github.com/optuna/optuna/releases/tag/v3.0.0. Use :func:`~optuna.trial.Trial.suggest_float` instead.\n",
      "  'subsample': trial.suggest_loguniform('subsample', 0.01, 1.0),\n",
      "C:\\Users\\slrk4\\AppData\\Local\\Temp/ipykernel_11964/716984137.py:11: FutureWarning: suggest_loguniform has been deprecated in v3.0.0. This feature will be removed in v6.0.0. See https://github.com/optuna/optuna/releases/tag/v3.0.0. Use :func:`~optuna.trial.Trial.suggest_float` instead.\n",
      "  'colsample_bytree': trial.suggest_loguniform('colsample_bytree', 0.01, 1.0),\n",
      "C:\\Users\\slrk4\\AppData\\Local\\Temp/ipykernel_11964/716984137.py:12: FutureWarning: suggest_loguniform has been deprecated in v3.0.0. This feature will be removed in v6.0.0. See https://github.com/optuna/optuna/releases/tag/v3.0.0. Use :func:`~optuna.trial.Trial.suggest_float` instead.\n",
      "  'reg_alpha': trial.suggest_loguniform('reg_alpha', 1e-8, 1.0),\n",
      "C:\\Users\\slrk4\\AppData\\Local\\Temp/ipykernel_11964/716984137.py:13: FutureWarning: suggest_loguniform has been deprecated in v3.0.0. This feature will be removed in v6.0.0. See https://github.com/optuna/optuna/releases/tag/v3.0.0. Use :func:`~optuna.trial.Trial.suggest_float` instead.\n",
      "  'reg_lambda': trial.suggest_loguniform('reg_lambda', 1e-8, 1.0),\n",
      "\u001b[32m[I 2022-11-05 10:12:36,642]\u001b[0m Trial 20 finished with value: 0.7597155008065699 and parameters: {'max_depth': 1, 'learning_rate': 0.1681763114613317, 'n_estimators': 447, 'min_child_weight': 7, 'gamma': 0.00960062141195927, 'subsample': 0.24828927275441062, 'colsample_bytree': 0.6686581144919684, 'reg_alpha': 0.00623922048180425, 'reg_lambda': 2.714329117511098e-06}. Best is trial 13 with value: 0.8069365009532189.\u001b[0m\n",
      "C:\\Users\\slrk4\\AppData\\Local\\Temp/ipykernel_11964/716984137.py:6: FutureWarning: suggest_loguniform has been deprecated in v3.0.0. This feature will be removed in v6.0.0. See https://github.com/optuna/optuna/releases/tag/v3.0.0. Use :func:`~optuna.trial.Trial.suggest_float` instead.\n",
      "  'learning_rate': trial.suggest_loguniform('learning_rate', 0.01, 1.0),\n",
      "C:\\Users\\slrk4\\AppData\\Local\\Temp/ipykernel_11964/716984137.py:9: FutureWarning: suggest_loguniform has been deprecated in v3.0.0. This feature will be removed in v6.0.0. See https://github.com/optuna/optuna/releases/tag/v3.0.0. Use :func:`~optuna.trial.Trial.suggest_float` instead.\n",
      "  'gamma': trial.suggest_loguniform('gamma', 1e-8, 1.0),\n",
      "C:\\Users\\slrk4\\AppData\\Local\\Temp/ipykernel_11964/716984137.py:10: FutureWarning: suggest_loguniform has been deprecated in v3.0.0. This feature will be removed in v6.0.0. See https://github.com/optuna/optuna/releases/tag/v3.0.0. Use :func:`~optuna.trial.Trial.suggest_float` instead.\n",
      "  'subsample': trial.suggest_loguniform('subsample', 0.01, 1.0),\n",
      "C:\\Users\\slrk4\\AppData\\Local\\Temp/ipykernel_11964/716984137.py:11: FutureWarning: suggest_loguniform has been deprecated in v3.0.0. This feature will be removed in v6.0.0. See https://github.com/optuna/optuna/releases/tag/v3.0.0. Use :func:`~optuna.trial.Trial.suggest_float` instead.\n",
      "  'colsample_bytree': trial.suggest_loguniform('colsample_bytree', 0.01, 1.0),\n",
      "C:\\Users\\slrk4\\AppData\\Local\\Temp/ipykernel_11964/716984137.py:12: FutureWarning: suggest_loguniform has been deprecated in v3.0.0. This feature will be removed in v6.0.0. See https://github.com/optuna/optuna/releases/tag/v3.0.0. Use :func:`~optuna.trial.Trial.suggest_float` instead.\n",
      "  'reg_alpha': trial.suggest_loguniform('reg_alpha', 1e-8, 1.0),\n",
      "C:\\Users\\slrk4\\AppData\\Local\\Temp/ipykernel_11964/716984137.py:13: FutureWarning: suggest_loguniform has been deprecated in v3.0.0. This feature will be removed in v6.0.0. See https://github.com/optuna/optuna/releases/tag/v3.0.0. Use :func:`~optuna.trial.Trial.suggest_float` instead.\n",
      "  'reg_lambda': trial.suggest_loguniform('reg_lambda', 1e-8, 1.0),\n",
      "\u001b[32m[I 2022-11-05 10:12:42,893]\u001b[0m Trial 21 finished with value: 0.8048834139903212 and parameters: {'max_depth': 9, 'learning_rate': 0.15933470922418122, 'n_estimators': 374, 'min_child_weight': 6, 'gamma': 3.960960911616624e-05, 'subsample': 0.8287425217614374, 'colsample_bytree': 0.5340737951424664, 'reg_alpha': 9.050107699211817e-05, 'reg_lambda': 5.023937236748974e-05}. Best is trial 13 with value: 0.8069365009532189.\u001b[0m\n",
      "C:\\Users\\slrk4\\AppData\\Local\\Temp/ipykernel_11964/716984137.py:6: FutureWarning: suggest_loguniform has been deprecated in v3.0.0. This feature will be removed in v6.0.0. See https://github.com/optuna/optuna/releases/tag/v3.0.0. Use :func:`~optuna.trial.Trial.suggest_float` instead.\n",
      "  'learning_rate': trial.suggest_loguniform('learning_rate', 0.01, 1.0),\n",
      "C:\\Users\\slrk4\\AppData\\Local\\Temp/ipykernel_11964/716984137.py:9: FutureWarning: suggest_loguniform has been deprecated in v3.0.0. This feature will be removed in v6.0.0. See https://github.com/optuna/optuna/releases/tag/v3.0.0. Use :func:`~optuna.trial.Trial.suggest_float` instead.\n",
      "  'gamma': trial.suggest_loguniform('gamma', 1e-8, 1.0),\n",
      "C:\\Users\\slrk4\\AppData\\Local\\Temp/ipykernel_11964/716984137.py:10: FutureWarning: suggest_loguniform has been deprecated in v3.0.0. This feature will be removed in v6.0.0. See https://github.com/optuna/optuna/releases/tag/v3.0.0. Use :func:`~optuna.trial.Trial.suggest_float` instead.\n",
      "  'subsample': trial.suggest_loguniform('subsample', 0.01, 1.0),\n",
      "C:\\Users\\slrk4\\AppData\\Local\\Temp/ipykernel_11964/716984137.py:11: FutureWarning: suggest_loguniform has been deprecated in v3.0.0. This feature will be removed in v6.0.0. See https://github.com/optuna/optuna/releases/tag/v3.0.0. Use :func:`~optuna.trial.Trial.suggest_float` instead.\n",
      "  'colsample_bytree': trial.suggest_loguniform('colsample_bytree', 0.01, 1.0),\n",
      "C:\\Users\\slrk4\\AppData\\Local\\Temp/ipykernel_11964/716984137.py:12: FutureWarning: suggest_loguniform has been deprecated in v3.0.0. This feature will be removed in v6.0.0. See https://github.com/optuna/optuna/releases/tag/v3.0.0. Use :func:`~optuna.trial.Trial.suggest_float` instead.\n",
      "  'reg_alpha': trial.suggest_loguniform('reg_alpha', 1e-8, 1.0),\n",
      "C:\\Users\\slrk4\\AppData\\Local\\Temp/ipykernel_11964/716984137.py:13: FutureWarning: suggest_loguniform has been deprecated in v3.0.0. This feature will be removed in v6.0.0. See https://github.com/optuna/optuna/releases/tag/v3.0.0. Use :func:`~optuna.trial.Trial.suggest_float` instead.\n",
      "  'reg_lambda': trial.suggest_loguniform('reg_lambda', 1e-8, 1.0),\n",
      "\u001b[32m[I 2022-11-05 10:12:48,614]\u001b[0m Trial 22 finished with value: 0.8041501686464291 and parameters: {'max_depth': 8, 'learning_rate': 0.13938824757256985, 'n_estimators': 383, 'min_child_weight': 6, 'gamma': 0.00012891610774592438, 'subsample': 0.6569491009789064, 'colsample_bytree': 0.5552216797747166, 'reg_alpha': 3.4599536693203326e-05, 'reg_lambda': 0.00010609381984820094}. Best is trial 13 with value: 0.8069365009532189.\u001b[0m\n",
      "C:\\Users\\slrk4\\AppData\\Local\\Temp/ipykernel_11964/716984137.py:6: FutureWarning: suggest_loguniform has been deprecated in v3.0.0. This feature will be removed in v6.0.0. See https://github.com/optuna/optuna/releases/tag/v3.0.0. Use :func:`~optuna.trial.Trial.suggest_float` instead.\n",
      "  'learning_rate': trial.suggest_loguniform('learning_rate', 0.01, 1.0),\n",
      "C:\\Users\\slrk4\\AppData\\Local\\Temp/ipykernel_11964/716984137.py:9: FutureWarning: suggest_loguniform has been deprecated in v3.0.0. This feature will be removed in v6.0.0. See https://github.com/optuna/optuna/releases/tag/v3.0.0. Use :func:`~optuna.trial.Trial.suggest_float` instead.\n",
      "  'gamma': trial.suggest_loguniform('gamma', 1e-8, 1.0),\n",
      "C:\\Users\\slrk4\\AppData\\Local\\Temp/ipykernel_11964/716984137.py:10: FutureWarning: suggest_loguniform has been deprecated in v3.0.0. This feature will be removed in v6.0.0. See https://github.com/optuna/optuna/releases/tag/v3.0.0. Use :func:`~optuna.trial.Trial.suggest_float` instead.\n",
      "  'subsample': trial.suggest_loguniform('subsample', 0.01, 1.0),\n",
      "C:\\Users\\slrk4\\AppData\\Local\\Temp/ipykernel_11964/716984137.py:11: FutureWarning: suggest_loguniform has been deprecated in v3.0.0. This feature will be removed in v6.0.0. See https://github.com/optuna/optuna/releases/tag/v3.0.0. Use :func:`~optuna.trial.Trial.suggest_float` instead.\n",
      "  'colsample_bytree': trial.suggest_loguniform('colsample_bytree', 0.01, 1.0),\n",
      "C:\\Users\\slrk4\\AppData\\Local\\Temp/ipykernel_11964/716984137.py:12: FutureWarning: suggest_loguniform has been deprecated in v3.0.0. This feature will be removed in v6.0.0. See https://github.com/optuna/optuna/releases/tag/v3.0.0. Use :func:`~optuna.trial.Trial.suggest_float` instead.\n",
      "  'reg_alpha': trial.suggest_loguniform('reg_alpha', 1e-8, 1.0),\n",
      "C:\\Users\\slrk4\\AppData\\Local\\Temp/ipykernel_11964/716984137.py:13: FutureWarning: suggest_loguniform has been deprecated in v3.0.0. This feature will be removed in v6.0.0. See https://github.com/optuna/optuna/releases/tag/v3.0.0. Use :func:`~optuna.trial.Trial.suggest_float` instead.\n",
      "  'reg_lambda': trial.suggest_loguniform('reg_lambda', 1e-8, 1.0),\n"
     ]
    },
    {
     "name": "stderr",
     "output_type": "stream",
     "text": [
      "\u001b[32m[I 2022-11-05 10:12:52,034]\u001b[0m Trial 23 finished with value: 0.7815662120545535 and parameters: {'max_depth': 9, 'learning_rate': 0.3185358616533872, 'n_estimators': 313, 'min_child_weight': 5, 'gamma': 0.0026447536242235558, 'subsample': 0.3411089954167655, 'colsample_bytree': 0.3332812950511266, 'reg_alpha': 5.110648448555614e-05, 'reg_lambda': 0.0002512939520423596}. Best is trial 13 with value: 0.8069365009532189.\u001b[0m\n",
      "C:\\Users\\slrk4\\AppData\\Local\\Temp/ipykernel_11964/716984137.py:6: FutureWarning: suggest_loguniform has been deprecated in v3.0.0. This feature will be removed in v6.0.0. See https://github.com/optuna/optuna/releases/tag/v3.0.0. Use :func:`~optuna.trial.Trial.suggest_float` instead.\n",
      "  'learning_rate': trial.suggest_loguniform('learning_rate', 0.01, 1.0),\n",
      "C:\\Users\\slrk4\\AppData\\Local\\Temp/ipykernel_11964/716984137.py:9: FutureWarning: suggest_loguniform has been deprecated in v3.0.0. This feature will be removed in v6.0.0. See https://github.com/optuna/optuna/releases/tag/v3.0.0. Use :func:`~optuna.trial.Trial.suggest_float` instead.\n",
      "  'gamma': trial.suggest_loguniform('gamma', 1e-8, 1.0),\n",
      "C:\\Users\\slrk4\\AppData\\Local\\Temp/ipykernel_11964/716984137.py:10: FutureWarning: suggest_loguniform has been deprecated in v3.0.0. This feature will be removed in v6.0.0. See https://github.com/optuna/optuna/releases/tag/v3.0.0. Use :func:`~optuna.trial.Trial.suggest_float` instead.\n",
      "  'subsample': trial.suggest_loguniform('subsample', 0.01, 1.0),\n",
      "C:\\Users\\slrk4\\AppData\\Local\\Temp/ipykernel_11964/716984137.py:11: FutureWarning: suggest_loguniform has been deprecated in v3.0.0. This feature will be removed in v6.0.0. See https://github.com/optuna/optuna/releases/tag/v3.0.0. Use :func:`~optuna.trial.Trial.suggest_float` instead.\n",
      "  'colsample_bytree': trial.suggest_loguniform('colsample_bytree', 0.01, 1.0),\n",
      "C:\\Users\\slrk4\\AppData\\Local\\Temp/ipykernel_11964/716984137.py:12: FutureWarning: suggest_loguniform has been deprecated in v3.0.0. This feature will be removed in v6.0.0. See https://github.com/optuna/optuna/releases/tag/v3.0.0. Use :func:`~optuna.trial.Trial.suggest_float` instead.\n",
      "  'reg_alpha': trial.suggest_loguniform('reg_alpha', 1e-8, 1.0),\n",
      "C:\\Users\\slrk4\\AppData\\Local\\Temp/ipykernel_11964/716984137.py:13: FutureWarning: suggest_loguniform has been deprecated in v3.0.0. This feature will be removed in v6.0.0. See https://github.com/optuna/optuna/releases/tag/v3.0.0. Use :func:`~optuna.trial.Trial.suggest_float` instead.\n",
      "  'reg_lambda': trial.suggest_loguniform('reg_lambda', 1e-8, 1.0),\n",
      "\u001b[32m[I 2022-11-05 10:13:02,182]\u001b[0m Trial 24 finished with value: 0.8066432028156622 and parameters: {'max_depth': 8, 'learning_rate': 0.1338645027433626, 'n_estimators': 436, 'min_child_weight': 7, 'gamma': 3.321017319125911e-06, 'subsample': 0.9378371123871377, 'colsample_bytree': 0.9200445535858398, 'reg_alpha': 2.420907929596631e-06, 'reg_lambda': 2.6350079344874736e-05}. Best is trial 13 with value: 0.8069365009532189.\u001b[0m\n",
      "C:\\Users\\slrk4\\AppData\\Local\\Temp/ipykernel_11964/716984137.py:6: FutureWarning: suggest_loguniform has been deprecated in v3.0.0. This feature will be removed in v6.0.0. See https://github.com/optuna/optuna/releases/tag/v3.0.0. Use :func:`~optuna.trial.Trial.suggest_float` instead.\n",
      "  'learning_rate': trial.suggest_loguniform('learning_rate', 0.01, 1.0),\n",
      "C:\\Users\\slrk4\\AppData\\Local\\Temp/ipykernel_11964/716984137.py:9: FutureWarning: suggest_loguniform has been deprecated in v3.0.0. This feature will be removed in v6.0.0. See https://github.com/optuna/optuna/releases/tag/v3.0.0. Use :func:`~optuna.trial.Trial.suggest_float` instead.\n",
      "  'gamma': trial.suggest_loguniform('gamma', 1e-8, 1.0),\n",
      "C:\\Users\\slrk4\\AppData\\Local\\Temp/ipykernel_11964/716984137.py:10: FutureWarning: suggest_loguniform has been deprecated in v3.0.0. This feature will be removed in v6.0.0. See https://github.com/optuna/optuna/releases/tag/v3.0.0. Use :func:`~optuna.trial.Trial.suggest_float` instead.\n",
      "  'subsample': trial.suggest_loguniform('subsample', 0.01, 1.0),\n",
      "C:\\Users\\slrk4\\AppData\\Local\\Temp/ipykernel_11964/716984137.py:11: FutureWarning: suggest_loguniform has been deprecated in v3.0.0. This feature will be removed in v6.0.0. See https://github.com/optuna/optuna/releases/tag/v3.0.0. Use :func:`~optuna.trial.Trial.suggest_float` instead.\n",
      "  'colsample_bytree': trial.suggest_loguniform('colsample_bytree', 0.01, 1.0),\n",
      "C:\\Users\\slrk4\\AppData\\Local\\Temp/ipykernel_11964/716984137.py:12: FutureWarning: suggest_loguniform has been deprecated in v3.0.0. This feature will be removed in v6.0.0. See https://github.com/optuna/optuna/releases/tag/v3.0.0. Use :func:`~optuna.trial.Trial.suggest_float` instead.\n",
      "  'reg_alpha': trial.suggest_loguniform('reg_alpha', 1e-8, 1.0),\n",
      "C:\\Users\\slrk4\\AppData\\Local\\Temp/ipykernel_11964/716984137.py:13: FutureWarning: suggest_loguniform has been deprecated in v3.0.0. This feature will be removed in v6.0.0. See https://github.com/optuna/optuna/releases/tag/v3.0.0. Use :func:`~optuna.trial.Trial.suggest_float` instead.\n",
      "  'reg_lambda': trial.suggest_loguniform('reg_lambda', 1e-8, 1.0),\n",
      "\u001b[32m[I 2022-11-05 10:13:08,405]\u001b[0m Trial 25 finished with value: 0.7828860536735591 and parameters: {'max_depth': 6, 'learning_rate': 0.39602517086801214, 'n_estimators': 451, 'min_child_weight': 7, 'gamma': 1.9471575668656433e-06, 'subsample': 0.42378049856123995, 'colsample_bytree': 0.8623068975874248, 'reg_alpha': 1.5393536500112516e-06, 'reg_lambda': 2.3420014235140744e-06}. Best is trial 13 with value: 0.8069365009532189.\u001b[0m\n",
      "C:\\Users\\slrk4\\AppData\\Local\\Temp/ipykernel_11964/716984137.py:6: FutureWarning: suggest_loguniform has been deprecated in v3.0.0. This feature will be removed in v6.0.0. See https://github.com/optuna/optuna/releases/tag/v3.0.0. Use :func:`~optuna.trial.Trial.suggest_float` instead.\n",
      "  'learning_rate': trial.suggest_loguniform('learning_rate', 0.01, 1.0),\n",
      "C:\\Users\\slrk4\\AppData\\Local\\Temp/ipykernel_11964/716984137.py:9: FutureWarning: suggest_loguniform has been deprecated in v3.0.0. This feature will be removed in v6.0.0. See https://github.com/optuna/optuna/releases/tag/v3.0.0. Use :func:`~optuna.trial.Trial.suggest_float` instead.\n",
      "  'gamma': trial.suggest_loguniform('gamma', 1e-8, 1.0),\n",
      "C:\\Users\\slrk4\\AppData\\Local\\Temp/ipykernel_11964/716984137.py:10: FutureWarning: suggest_loguniform has been deprecated in v3.0.0. This feature will be removed in v6.0.0. See https://github.com/optuna/optuna/releases/tag/v3.0.0. Use :func:`~optuna.trial.Trial.suggest_float` instead.\n",
      "  'subsample': trial.suggest_loguniform('subsample', 0.01, 1.0),\n",
      "C:\\Users\\slrk4\\AppData\\Local\\Temp/ipykernel_11964/716984137.py:11: FutureWarning: suggest_loguniform has been deprecated in v3.0.0. This feature will be removed in v6.0.0. See https://github.com/optuna/optuna/releases/tag/v3.0.0. Use :func:`~optuna.trial.Trial.suggest_float` instead.\n",
      "  'colsample_bytree': trial.suggest_loguniform('colsample_bytree', 0.01, 1.0),\n",
      "C:\\Users\\slrk4\\AppData\\Local\\Temp/ipykernel_11964/716984137.py:12: FutureWarning: suggest_loguniform has been deprecated in v3.0.0. This feature will be removed in v6.0.0. See https://github.com/optuna/optuna/releases/tag/v3.0.0. Use :func:`~optuna.trial.Trial.suggest_float` instead.\n",
      "  'reg_alpha': trial.suggest_loguniform('reg_alpha', 1e-8, 1.0),\n",
      "C:\\Users\\slrk4\\AppData\\Local\\Temp/ipykernel_11964/716984137.py:13: FutureWarning: suggest_loguniform has been deprecated in v3.0.0. This feature will be removed in v6.0.0. See https://github.com/optuna/optuna/releases/tag/v3.0.0. Use :func:`~optuna.trial.Trial.suggest_float` instead.\n",
      "  'reg_lambda': trial.suggest_loguniform('reg_lambda', 1e-8, 1.0),\n",
      "\u001b[32m[I 2022-11-05 10:13:18,226]\u001b[0m Trial 26 finished with value: 0.7824461064672239 and parameters: {'max_depth': 7, 'learning_rate': 0.0103944082113263, 'n_estimators': 484, 'min_child_weight': 8, 'gamma': 5.55005785644774e-07, 'subsample': 0.6332161060696709, 'colsample_bytree': 0.9745535189150456, 'reg_alpha': 5.302695148030923e-06, 'reg_lambda': 1.9428543080925358e-05}. Best is trial 13 with value: 0.8069365009532189.\u001b[0m\n",
      "C:\\Users\\slrk4\\AppData\\Local\\Temp/ipykernel_11964/716984137.py:6: FutureWarning: suggest_loguniform has been deprecated in v3.0.0. This feature will be removed in v6.0.0. See https://github.com/optuna/optuna/releases/tag/v3.0.0. Use :func:`~optuna.trial.Trial.suggest_float` instead.\n",
      "  'learning_rate': trial.suggest_loguniform('learning_rate', 0.01, 1.0),\n",
      "C:\\Users\\slrk4\\AppData\\Local\\Temp/ipykernel_11964/716984137.py:9: FutureWarning: suggest_loguniform has been deprecated in v3.0.0. This feature will be removed in v6.0.0. See https://github.com/optuna/optuna/releases/tag/v3.0.0. Use :func:`~optuna.trial.Trial.suggest_float` instead.\n",
      "  'gamma': trial.suggest_loguniform('gamma', 1e-8, 1.0),\n",
      "C:\\Users\\slrk4\\AppData\\Local\\Temp/ipykernel_11964/716984137.py:10: FutureWarning: suggest_loguniform has been deprecated in v3.0.0. This feature will be removed in v6.0.0. See https://github.com/optuna/optuna/releases/tag/v3.0.0. Use :func:`~optuna.trial.Trial.suggest_float` instead.\n",
      "  'subsample': trial.suggest_loguniform('subsample', 0.01, 1.0),\n",
      "C:\\Users\\slrk4\\AppData\\Local\\Temp/ipykernel_11964/716984137.py:11: FutureWarning: suggest_loguniform has been deprecated in v3.0.0. This feature will be removed in v6.0.0. See https://github.com/optuna/optuna/releases/tag/v3.0.0. Use :func:`~optuna.trial.Trial.suggest_float` instead.\n",
      "  'colsample_bytree': trial.suggest_loguniform('colsample_bytree', 0.01, 1.0),\n",
      "C:\\Users\\slrk4\\AppData\\Local\\Temp/ipykernel_11964/716984137.py:12: FutureWarning: suggest_loguniform has been deprecated in v3.0.0. This feature will be removed in v6.0.0. See https://github.com/optuna/optuna/releases/tag/v3.0.0. Use :func:`~optuna.trial.Trial.suggest_float` instead.\n",
      "  'reg_alpha': trial.suggest_loguniform('reg_alpha', 1e-8, 1.0),\n",
      "C:\\Users\\slrk4\\AppData\\Local\\Temp/ipykernel_11964/716984137.py:13: FutureWarning: suggest_loguniform has been deprecated in v3.0.0. This feature will be removed in v6.0.0. See https://github.com/optuna/optuna/releases/tag/v3.0.0. Use :func:`~optuna.trial.Trial.suggest_float` instead.\n",
      "  'reg_lambda': trial.suggest_loguniform('reg_lambda', 1e-8, 1.0),\n"
     ]
    },
    {
     "name": "stderr",
     "output_type": "stream",
     "text": [
      "\u001b[32m[I 2022-11-05 10:13:25,739]\u001b[0m Trial 27 finished with value: 0.8125824901011879 and parameters: {'max_depth': 8, 'learning_rate': 0.12228972183560839, 'n_estimators': 424, 'min_child_weight': 3, 'gamma': 0.0001890336092976691, 'subsample': 0.9897189191981255, 'colsample_bytree': 0.6333415086518241, 'reg_alpha': 0.00043692764144120005, 'reg_lambda': 0.0022061514327349325}. Best is trial 27 with value: 0.8125824901011879.\u001b[0m\n",
      "C:\\Users\\slrk4\\AppData\\Local\\Temp/ipykernel_11964/716984137.py:6: FutureWarning: suggest_loguniform has been deprecated in v3.0.0. This feature will be removed in v6.0.0. See https://github.com/optuna/optuna/releases/tag/v3.0.0. Use :func:`~optuna.trial.Trial.suggest_float` instead.\n",
      "  'learning_rate': trial.suggest_loguniform('learning_rate', 0.01, 1.0),\n",
      "C:\\Users\\slrk4\\AppData\\Local\\Temp/ipykernel_11964/716984137.py:9: FutureWarning: suggest_loguniform has been deprecated in v3.0.0. This feature will be removed in v6.0.0. See https://github.com/optuna/optuna/releases/tag/v3.0.0. Use :func:`~optuna.trial.Trial.suggest_float` instead.\n",
      "  'gamma': trial.suggest_loguniform('gamma', 1e-8, 1.0),\n",
      "C:\\Users\\slrk4\\AppData\\Local\\Temp/ipykernel_11964/716984137.py:10: FutureWarning: suggest_loguniform has been deprecated in v3.0.0. This feature will be removed in v6.0.0. See https://github.com/optuna/optuna/releases/tag/v3.0.0. Use :func:`~optuna.trial.Trial.suggest_float` instead.\n",
      "  'subsample': trial.suggest_loguniform('subsample', 0.01, 1.0),\n",
      "C:\\Users\\slrk4\\AppData\\Local\\Temp/ipykernel_11964/716984137.py:11: FutureWarning: suggest_loguniform has been deprecated in v3.0.0. This feature will be removed in v6.0.0. See https://github.com/optuna/optuna/releases/tag/v3.0.0. Use :func:`~optuna.trial.Trial.suggest_float` instead.\n",
      "  'colsample_bytree': trial.suggest_loguniform('colsample_bytree', 0.01, 1.0),\n",
      "C:\\Users\\slrk4\\AppData\\Local\\Temp/ipykernel_11964/716984137.py:12: FutureWarning: suggest_loguniform has been deprecated in v3.0.0. This feature will be removed in v6.0.0. See https://github.com/optuna/optuna/releases/tag/v3.0.0. Use :func:`~optuna.trial.Trial.suggest_float` instead.\n",
      "  'reg_alpha': trial.suggest_loguniform('reg_alpha', 1e-8, 1.0),\n",
      "C:\\Users\\slrk4\\AppData\\Local\\Temp/ipykernel_11964/716984137.py:13: FutureWarning: suggest_loguniform has been deprecated in v3.0.0. This feature will be removed in v6.0.0. See https://github.com/optuna/optuna/releases/tag/v3.0.0. Use :func:`~optuna.trial.Trial.suggest_float` instead.\n",
      "  'reg_lambda': trial.suggest_loguniform('reg_lambda', 1e-8, 1.0),\n",
      "\u001b[32m[I 2022-11-05 10:13:27,663]\u001b[0m Trial 28 finished with value: 0.783179351811116 and parameters: {'max_depth': 5, 'learning_rate': 0.1233079598734053, 'n_estimators': 297, 'min_child_weight': 3, 'gamma': 0.00010012162172997908, 'subsample': 0.2322337351694028, 'colsample_bytree': 0.20828600217653684, 'reg_alpha': 2.699805946163551e-07, 'reg_lambda': 0.004449278223756584}. Best is trial 27 with value: 0.8125824901011879.\u001b[0m\n",
      "C:\\Users\\slrk4\\AppData\\Local\\Temp/ipykernel_11964/716984137.py:6: FutureWarning: suggest_loguniform has been deprecated in v3.0.0. This feature will be removed in v6.0.0. See https://github.com/optuna/optuna/releases/tag/v3.0.0. Use :func:`~optuna.trial.Trial.suggest_float` instead.\n",
      "  'learning_rate': trial.suggest_loguniform('learning_rate', 0.01, 1.0),\n",
      "C:\\Users\\slrk4\\AppData\\Local\\Temp/ipykernel_11964/716984137.py:9: FutureWarning: suggest_loguniform has been deprecated in v3.0.0. This feature will be removed in v6.0.0. See https://github.com/optuna/optuna/releases/tag/v3.0.0. Use :func:`~optuna.trial.Trial.suggest_float` instead.\n",
      "  'gamma': trial.suggest_loguniform('gamma', 1e-8, 1.0),\n",
      "C:\\Users\\slrk4\\AppData\\Local\\Temp/ipykernel_11964/716984137.py:10: FutureWarning: suggest_loguniform has been deprecated in v3.0.0. This feature will be removed in v6.0.0. See https://github.com/optuna/optuna/releases/tag/v3.0.0. Use :func:`~optuna.trial.Trial.suggest_float` instead.\n",
      "  'subsample': trial.suggest_loguniform('subsample', 0.01, 1.0),\n",
      "C:\\Users\\slrk4\\AppData\\Local\\Temp/ipykernel_11964/716984137.py:11: FutureWarning: suggest_loguniform has been deprecated in v3.0.0. This feature will be removed in v6.0.0. See https://github.com/optuna/optuna/releases/tag/v3.0.0. Use :func:`~optuna.trial.Trial.suggest_float` instead.\n",
      "  'colsample_bytree': trial.suggest_loguniform('colsample_bytree', 0.01, 1.0),\n",
      "C:\\Users\\slrk4\\AppData\\Local\\Temp/ipykernel_11964/716984137.py:12: FutureWarning: suggest_loguniform has been deprecated in v3.0.0. This feature will be removed in v6.0.0. See https://github.com/optuna/optuna/releases/tag/v3.0.0. Use :func:`~optuna.trial.Trial.suggest_float` instead.\n",
      "  'reg_alpha': trial.suggest_loguniform('reg_alpha', 1e-8, 1.0),\n",
      "C:\\Users\\slrk4\\AppData\\Local\\Temp/ipykernel_11964/716984137.py:13: FutureWarning: suggest_loguniform has been deprecated in v3.0.0. This feature will be removed in v6.0.0. See https://github.com/optuna/optuna/releases/tag/v3.0.0. Use :func:`~optuna.trial.Trial.suggest_float` instead.\n",
      "  'reg_lambda': trial.suggest_loguniform('reg_lambda', 1e-8, 1.0),\n",
      "\u001b[32m[I 2022-11-05 10:13:29,538]\u001b[0m Trial 29 finished with value: 0.7765801437160874 and parameters: {'max_depth': 8, 'learning_rate': 0.05424418048178568, 'n_estimators': 238, 'min_child_weight': 9, 'gamma': 0.05532136832059578, 'subsample': 0.10434311237976916, 'colsample_bytree': 0.32731362482681736, 'reg_alpha': 0.0003366607790629765, 'reg_lambda': 0.007488898670909787}. Best is trial 27 with value: 0.8125824901011879.\u001b[0m\n",
      "C:\\Users\\slrk4\\AppData\\Local\\Temp/ipykernel_11964/716984137.py:6: FutureWarning: suggest_loguniform has been deprecated in v3.0.0. This feature will be removed in v6.0.0. See https://github.com/optuna/optuna/releases/tag/v3.0.0. Use :func:`~optuna.trial.Trial.suggest_float` instead.\n",
      "  'learning_rate': trial.suggest_loguniform('learning_rate', 0.01, 1.0),\n",
      "C:\\Users\\slrk4\\AppData\\Local\\Temp/ipykernel_11964/716984137.py:9: FutureWarning: suggest_loguniform has been deprecated in v3.0.0. This feature will be removed in v6.0.0. See https://github.com/optuna/optuna/releases/tag/v3.0.0. Use :func:`~optuna.trial.Trial.suggest_float` instead.\n",
      "  'gamma': trial.suggest_loguniform('gamma', 1e-8, 1.0),\n",
      "C:\\Users\\slrk4\\AppData\\Local\\Temp/ipykernel_11964/716984137.py:10: FutureWarning: suggest_loguniform has been deprecated in v3.0.0. This feature will be removed in v6.0.0. See https://github.com/optuna/optuna/releases/tag/v3.0.0. Use :func:`~optuna.trial.Trial.suggest_float` instead.\n",
      "  'subsample': trial.suggest_loguniform('subsample', 0.01, 1.0),\n",
      "C:\\Users\\slrk4\\AppData\\Local\\Temp/ipykernel_11964/716984137.py:11: FutureWarning: suggest_loguniform has been deprecated in v3.0.0. This feature will be removed in v6.0.0. See https://github.com/optuna/optuna/releases/tag/v3.0.0. Use :func:`~optuna.trial.Trial.suggest_float` instead.\n",
      "  'colsample_bytree': trial.suggest_loguniform('colsample_bytree', 0.01, 1.0),\n",
      "C:\\Users\\slrk4\\AppData\\Local\\Temp/ipykernel_11964/716984137.py:12: FutureWarning: suggest_loguniform has been deprecated in v3.0.0. This feature will be removed in v6.0.0. See https://github.com/optuna/optuna/releases/tag/v3.0.0. Use :func:`~optuna.trial.Trial.suggest_float` instead.\n",
      "  'reg_alpha': trial.suggest_loguniform('reg_alpha', 1e-8, 1.0),\n",
      "C:\\Users\\slrk4\\AppData\\Local\\Temp/ipykernel_11964/716984137.py:13: FutureWarning: suggest_loguniform has been deprecated in v3.0.0. This feature will be removed in v6.0.0. See https://github.com/optuna/optuna/releases/tag/v3.0.0. Use :func:`~optuna.trial.Trial.suggest_float` instead.\n",
      "  'reg_lambda': trial.suggest_loguniform('reg_lambda', 1e-8, 1.0),\n",
      "\u001b[32m[I 2022-11-05 10:13:31,898]\u001b[0m Trial 30 finished with value: 0.7622818595101921 and parameters: {'max_depth': 7, 'learning_rate': 0.052550195662589706, 'n_estimators': 418, 'min_child_weight': 3, 'gamma': 7.983109195926769e-06, 'subsample': 0.14400470212703376, 'colsample_bytree': 0.15314747093150072, 'reg_alpha': 2.081802699289065e-08, 'reg_lambda': 0.0018414350459422396}. Best is trial 27 with value: 0.8125824901011879.\u001b[0m\n",
      "C:\\Users\\slrk4\\AppData\\Local\\Temp/ipykernel_11964/716984137.py:6: FutureWarning: suggest_loguniform has been deprecated in v3.0.0. This feature will be removed in v6.0.0. See https://github.com/optuna/optuna/releases/tag/v3.0.0. Use :func:`~optuna.trial.Trial.suggest_float` instead.\n",
      "  'learning_rate': trial.suggest_loguniform('learning_rate', 0.01, 1.0),\n",
      "C:\\Users\\slrk4\\AppData\\Local\\Temp/ipykernel_11964/716984137.py:9: FutureWarning: suggest_loguniform has been deprecated in v3.0.0. This feature will be removed in v6.0.0. See https://github.com/optuna/optuna/releases/tag/v3.0.0. Use :func:`~optuna.trial.Trial.suggest_float` instead.\n",
      "  'gamma': trial.suggest_loguniform('gamma', 1e-8, 1.0),\n",
      "C:\\Users\\slrk4\\AppData\\Local\\Temp/ipykernel_11964/716984137.py:10: FutureWarning: suggest_loguniform has been deprecated in v3.0.0. This feature will be removed in v6.0.0. See https://github.com/optuna/optuna/releases/tag/v3.0.0. Use :func:`~optuna.trial.Trial.suggest_float` instead.\n",
      "  'subsample': trial.suggest_loguniform('subsample', 0.01, 1.0),\n",
      "C:\\Users\\slrk4\\AppData\\Local\\Temp/ipykernel_11964/716984137.py:11: FutureWarning: suggest_loguniform has been deprecated in v3.0.0. This feature will be removed in v6.0.0. See https://github.com/optuna/optuna/releases/tag/v3.0.0. Use :func:`~optuna.trial.Trial.suggest_float` instead.\n",
      "  'colsample_bytree': trial.suggest_loguniform('colsample_bytree', 0.01, 1.0),\n",
      "C:\\Users\\slrk4\\AppData\\Local\\Temp/ipykernel_11964/716984137.py:12: FutureWarning: suggest_loguniform has been deprecated in v3.0.0. This feature will be removed in v6.0.0. See https://github.com/optuna/optuna/releases/tag/v3.0.0. Use :func:`~optuna.trial.Trial.suggest_float` instead.\n",
      "  'reg_alpha': trial.suggest_loguniform('reg_alpha', 1e-8, 1.0),\n",
      "C:\\Users\\slrk4\\AppData\\Local\\Temp/ipykernel_11964/716984137.py:13: FutureWarning: suggest_loguniform has been deprecated in v3.0.0. This feature will be removed in v6.0.0. See https://github.com/optuna/optuna/releases/tag/v3.0.0. Use :func:`~optuna.trial.Trial.suggest_float` instead.\n",
      "  'reg_lambda': trial.suggest_loguniform('reg_lambda', 1e-8, 1.0),\n"
     ]
    },
    {
     "name": "stderr",
     "output_type": "stream",
     "text": [
      "\u001b[32m[I 2022-11-05 10:13:39,868]\u001b[0m Trial 31 finished with value: 0.8059099574717701 and parameters: {'max_depth': 8, 'learning_rate': 0.2206341210650703, 'n_estimators': 438, 'min_child_weight': 4, 'gamma': 0.00037296234296624764, 'subsample': 0.9834914943789113, 'colsample_bytree': 0.6323959330571528, 'reg_alpha': 0.0009053012397802275, 'reg_lambda': 7.993877138302037e-07}. Best is trial 27 with value: 0.8125824901011879.\u001b[0m\n",
      "C:\\Users\\slrk4\\AppData\\Local\\Temp/ipykernel_11964/716984137.py:6: FutureWarning: suggest_loguniform has been deprecated in v3.0.0. This feature will be removed in v6.0.0. See https://github.com/optuna/optuna/releases/tag/v3.0.0. Use :func:`~optuna.trial.Trial.suggest_float` instead.\n",
      "  'learning_rate': trial.suggest_loguniform('learning_rate', 0.01, 1.0),\n",
      "C:\\Users\\slrk4\\AppData\\Local\\Temp/ipykernel_11964/716984137.py:9: FutureWarning: suggest_loguniform has been deprecated in v3.0.0. This feature will be removed in v6.0.0. See https://github.com/optuna/optuna/releases/tag/v3.0.0. Use :func:`~optuna.trial.Trial.suggest_float` instead.\n",
      "  'gamma': trial.suggest_loguniform('gamma', 1e-8, 1.0),\n",
      "C:\\Users\\slrk4\\AppData\\Local\\Temp/ipykernel_11964/716984137.py:10: FutureWarning: suggest_loguniform has been deprecated in v3.0.0. This feature will be removed in v6.0.0. See https://github.com/optuna/optuna/releases/tag/v3.0.0. Use :func:`~optuna.trial.Trial.suggest_float` instead.\n",
      "  'subsample': trial.suggest_loguniform('subsample', 0.01, 1.0),\n",
      "C:\\Users\\slrk4\\AppData\\Local\\Temp/ipykernel_11964/716984137.py:11: FutureWarning: suggest_loguniform has been deprecated in v3.0.0. This feature will be removed in v6.0.0. See https://github.com/optuna/optuna/releases/tag/v3.0.0. Use :func:`~optuna.trial.Trial.suggest_float` instead.\n",
      "  'colsample_bytree': trial.suggest_loguniform('colsample_bytree', 0.01, 1.0),\n",
      "C:\\Users\\slrk4\\AppData\\Local\\Temp/ipykernel_11964/716984137.py:12: FutureWarning: suggest_loguniform has been deprecated in v3.0.0. This feature will be removed in v6.0.0. See https://github.com/optuna/optuna/releases/tag/v3.0.0. Use :func:`~optuna.trial.Trial.suggest_float` instead.\n",
      "  'reg_alpha': trial.suggest_loguniform('reg_alpha', 1e-8, 1.0),\n",
      "C:\\Users\\slrk4\\AppData\\Local\\Temp/ipykernel_11964/716984137.py:13: FutureWarning: suggest_loguniform has been deprecated in v3.0.0. This feature will be removed in v6.0.0. See https://github.com/optuna/optuna/releases/tag/v3.0.0. Use :func:`~optuna.trial.Trial.suggest_float` instead.\n",
      "  'reg_lambda': trial.suggest_loguniform('reg_lambda', 1e-8, 1.0),\n",
      "\u001b[32m[I 2022-11-05 10:13:47,452]\u001b[0m Trial 32 finished with value: 0.8060566065405484 and parameters: {'max_depth': 8, 'learning_rate': 0.10751427584415514, 'n_estimators': 393, 'min_child_weight': 5, 'gamma': 0.002615883654312126, 'subsample': 0.6905548168744744, 'colsample_bytree': 0.6783104062649441, 'reg_alpha': 0.00412280642612455, 'reg_lambda': 0.0002464927213842601}. Best is trial 27 with value: 0.8125824901011879.\u001b[0m\n",
      "C:\\Users\\slrk4\\AppData\\Local\\Temp/ipykernel_11964/716984137.py:6: FutureWarning: suggest_loguniform has been deprecated in v3.0.0. This feature will be removed in v6.0.0. See https://github.com/optuna/optuna/releases/tag/v3.0.0. Use :func:`~optuna.trial.Trial.suggest_float` instead.\n",
      "  'learning_rate': trial.suggest_loguniform('learning_rate', 0.01, 1.0),\n",
      "C:\\Users\\slrk4\\AppData\\Local\\Temp/ipykernel_11964/716984137.py:9: FutureWarning: suggest_loguniform has been deprecated in v3.0.0. This feature will be removed in v6.0.0. See https://github.com/optuna/optuna/releases/tag/v3.0.0. Use :func:`~optuna.trial.Trial.suggest_float` instead.\n",
      "  'gamma': trial.suggest_loguniform('gamma', 1e-8, 1.0),\n",
      "C:\\Users\\slrk4\\AppData\\Local\\Temp/ipykernel_11964/716984137.py:10: FutureWarning: suggest_loguniform has been deprecated in v3.0.0. This feature will be removed in v6.0.0. See https://github.com/optuna/optuna/releases/tag/v3.0.0. Use :func:`~optuna.trial.Trial.suggest_float` instead.\n",
      "  'subsample': trial.suggest_loguniform('subsample', 0.01, 1.0),\n",
      "C:\\Users\\slrk4\\AppData\\Local\\Temp/ipykernel_11964/716984137.py:11: FutureWarning: suggest_loguniform has been deprecated in v3.0.0. This feature will be removed in v6.0.0. See https://github.com/optuna/optuna/releases/tag/v3.0.0. Use :func:`~optuna.trial.Trial.suggest_float` instead.\n",
      "  'colsample_bytree': trial.suggest_loguniform('colsample_bytree', 0.01, 1.0),\n",
      "C:\\Users\\slrk4\\AppData\\Local\\Temp/ipykernel_11964/716984137.py:12: FutureWarning: suggest_loguniform has been deprecated in v3.0.0. This feature will be removed in v6.0.0. See https://github.com/optuna/optuna/releases/tag/v3.0.0. Use :func:`~optuna.trial.Trial.suggest_float` instead.\n",
      "  'reg_alpha': trial.suggest_loguniform('reg_alpha', 1e-8, 1.0),\n",
      "C:\\Users\\slrk4\\AppData\\Local\\Temp/ipykernel_11964/716984137.py:13: FutureWarning: suggest_loguniform has been deprecated in v3.0.0. This feature will be removed in v6.0.0. See https://github.com/optuna/optuna/releases/tag/v3.0.0. Use :func:`~optuna.trial.Trial.suggest_float` instead.\n",
      "  'reg_lambda': trial.suggest_loguniform('reg_lambda', 1e-8, 1.0),\n",
      "\u001b[32m[I 2022-11-05 10:13:52,375]\u001b[0m Trial 33 finished with value: 0.7895585863029769 and parameters: {'max_depth': 7, 'learning_rate': 0.1934979679668703, 'n_estimators': 473, 'min_child_weight': 7, 'gamma': 0.00011785358767787156, 'subsample': 0.3448944736053692, 'colsample_bytree': 0.4282539372895639, 'reg_alpha': 0.06049161376762865, 'reg_lambda': 4.426188149884322e-06}. Best is trial 27 with value: 0.8125824901011879.\u001b[0m\n",
      "C:\\Users\\slrk4\\AppData\\Local\\Temp/ipykernel_11964/716984137.py:6: FutureWarning: suggest_loguniform has been deprecated in v3.0.0. This feature will be removed in v6.0.0. See https://github.com/optuna/optuna/releases/tag/v3.0.0. Use :func:`~optuna.trial.Trial.suggest_float` instead.\n",
      "  'learning_rate': trial.suggest_loguniform('learning_rate', 0.01, 1.0),\n",
      "C:\\Users\\slrk4\\AppData\\Local\\Temp/ipykernel_11964/716984137.py:9: FutureWarning: suggest_loguniform has been deprecated in v3.0.0. This feature will be removed in v6.0.0. See https://github.com/optuna/optuna/releases/tag/v3.0.0. Use :func:`~optuna.trial.Trial.suggest_float` instead.\n",
      "  'gamma': trial.suggest_loguniform('gamma', 1e-8, 1.0),\n",
      "C:\\Users\\slrk4\\AppData\\Local\\Temp/ipykernel_11964/716984137.py:10: FutureWarning: suggest_loguniform has been deprecated in v3.0.0. This feature will be removed in v6.0.0. See https://github.com/optuna/optuna/releases/tag/v3.0.0. Use :func:`~optuna.trial.Trial.suggest_float` instead.\n",
      "  'subsample': trial.suggest_loguniform('subsample', 0.01, 1.0),\n",
      "C:\\Users\\slrk4\\AppData\\Local\\Temp/ipykernel_11964/716984137.py:11: FutureWarning: suggest_loguniform has been deprecated in v3.0.0. This feature will be removed in v6.0.0. See https://github.com/optuna/optuna/releases/tag/v3.0.0. Use :func:`~optuna.trial.Trial.suggest_float` instead.\n",
      "  'colsample_bytree': trial.suggest_loguniform('colsample_bytree', 0.01, 1.0),\n",
      "C:\\Users\\slrk4\\AppData\\Local\\Temp/ipykernel_11964/716984137.py:12: FutureWarning: suggest_loguniform has been deprecated in v3.0.0. This feature will be removed in v6.0.0. See https://github.com/optuna/optuna/releases/tag/v3.0.0. Use :func:`~optuna.trial.Trial.suggest_float` instead.\n",
      "  'reg_alpha': trial.suggest_loguniform('reg_alpha', 1e-8, 1.0),\n",
      "C:\\Users\\slrk4\\AppData\\Local\\Temp/ipykernel_11964/716984137.py:13: FutureWarning: suggest_loguniform has been deprecated in v3.0.0. This feature will be removed in v6.0.0. See https://github.com/optuna/optuna/releases/tag/v3.0.0. Use :func:`~optuna.trial.Trial.suggest_float` instead.\n",
      "  'reg_lambda': trial.suggest_loguniform('reg_lambda', 1e-8, 1.0),\n",
      "\u001b[32m[I 2022-11-05 10:13:59,662]\u001b[0m Trial 34 finished with value: 0.7955711981228919 and parameters: {'max_depth': 9, 'learning_rate': 0.31457900093754243, 'n_estimators': 431, 'min_child_weight': 3, 'gamma': 2.3330177132829992e-05, 'subsample': 0.45288327156003994, 'colsample_bytree': 0.7469165606244732, 'reg_alpha': 3.1212894450244786e-06, 'reg_lambda': 2.105538051491909e-05}. Best is trial 27 with value: 0.8125824901011879.\u001b[0m\n",
      "C:\\Users\\slrk4\\AppData\\Local\\Temp/ipykernel_11964/716984137.py:6: FutureWarning: suggest_loguniform has been deprecated in v3.0.0. This feature will be removed in v6.0.0. See https://github.com/optuna/optuna/releases/tag/v3.0.0. Use :func:`~optuna.trial.Trial.suggest_float` instead.\n",
      "  'learning_rate': trial.suggest_loguniform('learning_rate', 0.01, 1.0),\n",
      "C:\\Users\\slrk4\\AppData\\Local\\Temp/ipykernel_11964/716984137.py:9: FutureWarning: suggest_loguniform has been deprecated in v3.0.0. This feature will be removed in v6.0.0. See https://github.com/optuna/optuna/releases/tag/v3.0.0. Use :func:`~optuna.trial.Trial.suggest_float` instead.\n",
      "  'gamma': trial.suggest_loguniform('gamma', 1e-8, 1.0),\n",
      "C:\\Users\\slrk4\\AppData\\Local\\Temp/ipykernel_11964/716984137.py:10: FutureWarning: suggest_loguniform has been deprecated in v3.0.0. This feature will be removed in v6.0.0. See https://github.com/optuna/optuna/releases/tag/v3.0.0. Use :func:`~optuna.trial.Trial.suggest_float` instead.\n",
      "  'subsample': trial.suggest_loguniform('subsample', 0.01, 1.0),\n",
      "C:\\Users\\slrk4\\AppData\\Local\\Temp/ipykernel_11964/716984137.py:11: FutureWarning: suggest_loguniform has been deprecated in v3.0.0. This feature will be removed in v6.0.0. See https://github.com/optuna/optuna/releases/tag/v3.0.0. Use :func:`~optuna.trial.Trial.suggest_float` instead.\n",
      "  'colsample_bytree': trial.suggest_loguniform('colsample_bytree', 0.01, 1.0),\n",
      "C:\\Users\\slrk4\\AppData\\Local\\Temp/ipykernel_11964/716984137.py:12: FutureWarning: suggest_loguniform has been deprecated in v3.0.0. This feature will be removed in v6.0.0. See https://github.com/optuna/optuna/releases/tag/v3.0.0. Use :func:`~optuna.trial.Trial.suggest_float` instead.\n",
      "  'reg_alpha': trial.suggest_loguniform('reg_alpha', 1e-8, 1.0),\n",
      "C:\\Users\\slrk4\\AppData\\Local\\Temp/ipykernel_11964/716984137.py:13: FutureWarning: suggest_loguniform has been deprecated in v3.0.0. This feature will be removed in v6.0.0. See https://github.com/optuna/optuna/releases/tag/v3.0.0. Use :func:`~optuna.trial.Trial.suggest_float` instead.\n",
      "  'reg_lambda': trial.suggest_loguniform('reg_lambda', 1e-8, 1.0),\n"
     ]
    },
    {
     "name": "stderr",
     "output_type": "stream",
     "text": [
      "\u001b[32m[I 2022-11-05 10:14:03,873]\u001b[0m Trial 35 finished with value: 0.8006305909957472 and parameters: {'max_depth': 6, 'learning_rate': 0.08950237367459819, 'n_estimators': 363, 'min_child_weight': 2, 'gamma': 0.0005186644662944433, 'subsample': 0.6639579810367975, 'colsample_bytree': 0.45825987577498295, 'reg_alpha': 0.012079004960868042, 'reg_lambda': 0.05474043434220452}. Best is trial 27 with value: 0.8125824901011879.\u001b[0m\n",
      "C:\\Users\\slrk4\\AppData\\Local\\Temp/ipykernel_11964/716984137.py:6: FutureWarning: suggest_loguniform has been deprecated in v3.0.0. This feature will be removed in v6.0.0. See https://github.com/optuna/optuna/releases/tag/v3.0.0. Use :func:`~optuna.trial.Trial.suggest_float` instead.\n",
      "  'learning_rate': trial.suggest_loguniform('learning_rate', 0.01, 1.0),\n",
      "C:\\Users\\slrk4\\AppData\\Local\\Temp/ipykernel_11964/716984137.py:9: FutureWarning: suggest_loguniform has been deprecated in v3.0.0. This feature will be removed in v6.0.0. See https://github.com/optuna/optuna/releases/tag/v3.0.0. Use :func:`~optuna.trial.Trial.suggest_float` instead.\n",
      "  'gamma': trial.suggest_loguniform('gamma', 1e-8, 1.0),\n",
      "C:\\Users\\slrk4\\AppData\\Local\\Temp/ipykernel_11964/716984137.py:10: FutureWarning: suggest_loguniform has been deprecated in v3.0.0. This feature will be removed in v6.0.0. See https://github.com/optuna/optuna/releases/tag/v3.0.0. Use :func:`~optuna.trial.Trial.suggest_float` instead.\n",
      "  'subsample': trial.suggest_loguniform('subsample', 0.01, 1.0),\n",
      "C:\\Users\\slrk4\\AppData\\Local\\Temp/ipykernel_11964/716984137.py:11: FutureWarning: suggest_loguniform has been deprecated in v3.0.0. This feature will be removed in v6.0.0. See https://github.com/optuna/optuna/releases/tag/v3.0.0. Use :func:`~optuna.trial.Trial.suggest_float` instead.\n",
      "  'colsample_bytree': trial.suggest_loguniform('colsample_bytree', 0.01, 1.0),\n",
      "C:\\Users\\slrk4\\AppData\\Local\\Temp/ipykernel_11964/716984137.py:12: FutureWarning: suggest_loguniform has been deprecated in v3.0.0. This feature will be removed in v6.0.0. See https://github.com/optuna/optuna/releases/tag/v3.0.0. Use :func:`~optuna.trial.Trial.suggest_float` instead.\n",
      "  'reg_alpha': trial.suggest_loguniform('reg_alpha', 1e-8, 1.0),\n",
      "C:\\Users\\slrk4\\AppData\\Local\\Temp/ipykernel_11964/716984137.py:13: FutureWarning: suggest_loguniform has been deprecated in v3.0.0. This feature will be removed in v6.0.0. See https://github.com/optuna/optuna/releases/tag/v3.0.0. Use :func:`~optuna.trial.Trial.suggest_float` instead.\n",
      "  'reg_lambda': trial.suggest_loguniform('reg_lambda', 1e-8, 1.0),\n",
      "\u001b[32m[I 2022-11-05 10:14:07,155]\u001b[0m Trial 36 finished with value: 0.7748203548907464 and parameters: {'max_depth': 5, 'learning_rate': 0.02219169696679561, 'n_estimators': 210, 'min_child_weight': 5, 'gamma': 2.8775654661567253e-06, 'subsample': 0.7248636152251445, 'colsample_bytree': 0.9701409564848734, 'reg_alpha': 1.5584924501792374e-07, 'reg_lambda': 0.0014205994947986019}. Best is trial 27 with value: 0.8125824901011879.\u001b[0m\n",
      "C:\\Users\\slrk4\\AppData\\Local\\Temp/ipykernel_11964/716984137.py:6: FutureWarning: suggest_loguniform has been deprecated in v3.0.0. This feature will be removed in v6.0.0. See https://github.com/optuna/optuna/releases/tag/v3.0.0. Use :func:`~optuna.trial.Trial.suggest_float` instead.\n",
      "  'learning_rate': trial.suggest_loguniform('learning_rate', 0.01, 1.0),\n",
      "C:\\Users\\slrk4\\AppData\\Local\\Temp/ipykernel_11964/716984137.py:9: FutureWarning: suggest_loguniform has been deprecated in v3.0.0. This feature will be removed in v6.0.0. See https://github.com/optuna/optuna/releases/tag/v3.0.0. Use :func:`~optuna.trial.Trial.suggest_float` instead.\n",
      "  'gamma': trial.suggest_loguniform('gamma', 1e-8, 1.0),\n",
      "C:\\Users\\slrk4\\AppData\\Local\\Temp/ipykernel_11964/716984137.py:10: FutureWarning: suggest_loguniform has been deprecated in v3.0.0. This feature will be removed in v6.0.0. See https://github.com/optuna/optuna/releases/tag/v3.0.0. Use :func:`~optuna.trial.Trial.suggest_float` instead.\n",
      "  'subsample': trial.suggest_loguniform('subsample', 0.01, 1.0),\n",
      "C:\\Users\\slrk4\\AppData\\Local\\Temp/ipykernel_11964/716984137.py:11: FutureWarning: suggest_loguniform has been deprecated in v3.0.0. This feature will be removed in v6.0.0. See https://github.com/optuna/optuna/releases/tag/v3.0.0. Use :func:`~optuna.trial.Trial.suggest_float` instead.\n",
      "  'colsample_bytree': trial.suggest_loguniform('colsample_bytree', 0.01, 1.0),\n",
      "C:\\Users\\slrk4\\AppData\\Local\\Temp/ipykernel_11964/716984137.py:12: FutureWarning: suggest_loguniform has been deprecated in v3.0.0. This feature will be removed in v6.0.0. See https://github.com/optuna/optuna/releases/tag/v3.0.0. Use :func:`~optuna.trial.Trial.suggest_float` instead.\n",
      "  'reg_alpha': trial.suggest_loguniform('reg_alpha', 1e-8, 1.0),\n",
      "C:\\Users\\slrk4\\AppData\\Local\\Temp/ipykernel_11964/716984137.py:13: FutureWarning: suggest_loguniform has been deprecated in v3.0.0. This feature will be removed in v6.0.0. See https://github.com/optuna/optuna/releases/tag/v3.0.0. Use :func:`~optuna.trial.Trial.suggest_float` instead.\n",
      "  'reg_lambda': trial.suggest_loguniform('reg_lambda', 1e-8, 1.0),\n",
      "\u001b[32m[I 2022-11-05 10:14:08,967]\u001b[0m Trial 37 finished with value: 0.7724006452559026 and parameters: {'max_depth': 3, 'learning_rate': 0.6462823995109499, 'n_estimators': 317, 'min_child_weight': 4, 'gamma': 0.025045957825660214, 'subsample': 0.2821194425904474, 'colsample_bytree': 0.3249474082777862, 'reg_alpha': 0.06170748470742099, 'reg_lambda': 1.9063306341122362e-07}. Best is trial 27 with value: 0.8125824901011879.\u001b[0m\n",
      "C:\\Users\\slrk4\\AppData\\Local\\Temp/ipykernel_11964/716984137.py:6: FutureWarning: suggest_loguniform has been deprecated in v3.0.0. This feature will be removed in v6.0.0. See https://github.com/optuna/optuna/releases/tag/v3.0.0. Use :func:`~optuna.trial.Trial.suggest_float` instead.\n",
      "  'learning_rate': trial.suggest_loguniform('learning_rate', 0.01, 1.0),\n",
      "C:\\Users\\slrk4\\AppData\\Local\\Temp/ipykernel_11964/716984137.py:9: FutureWarning: suggest_loguniform has been deprecated in v3.0.0. This feature will be removed in v6.0.0. See https://github.com/optuna/optuna/releases/tag/v3.0.0. Use :func:`~optuna.trial.Trial.suggest_float` instead.\n",
      "  'gamma': trial.suggest_loguniform('gamma', 1e-8, 1.0),\n",
      "C:\\Users\\slrk4\\AppData\\Local\\Temp/ipykernel_11964/716984137.py:10: FutureWarning: suggest_loguniform has been deprecated in v3.0.0. This feature will be removed in v6.0.0. See https://github.com/optuna/optuna/releases/tag/v3.0.0. Use :func:`~optuna.trial.Trial.suggest_float` instead.\n",
      "  'subsample': trial.suggest_loguniform('subsample', 0.01, 1.0),\n",
      "C:\\Users\\slrk4\\AppData\\Local\\Temp/ipykernel_11964/716984137.py:11: FutureWarning: suggest_loguniform has been deprecated in v3.0.0. This feature will be removed in v6.0.0. See https://github.com/optuna/optuna/releases/tag/v3.0.0. Use :func:`~optuna.trial.Trial.suggest_float` instead.\n",
      "  'colsample_bytree': trial.suggest_loguniform('colsample_bytree', 0.01, 1.0),\n",
      "C:\\Users\\slrk4\\AppData\\Local\\Temp/ipykernel_11964/716984137.py:12: FutureWarning: suggest_loguniform has been deprecated in v3.0.0. This feature will be removed in v6.0.0. See https://github.com/optuna/optuna/releases/tag/v3.0.0. Use :func:`~optuna.trial.Trial.suggest_float` instead.\n",
      "  'reg_alpha': trial.suggest_loguniform('reg_alpha', 1e-8, 1.0),\n",
      "C:\\Users\\slrk4\\AppData\\Local\\Temp/ipykernel_11964/716984137.py:13: FutureWarning: suggest_loguniform has been deprecated in v3.0.0. This feature will be removed in v6.0.0. See https://github.com/optuna/optuna/releases/tag/v3.0.0. Use :func:`~optuna.trial.Trial.suggest_float` instead.\n",
      "  'reg_lambda': trial.suggest_loguniform('reg_lambda', 1e-8, 1.0),\n",
      "\u001b[32m[I 2022-11-05 10:14:13,614]\u001b[0m Trial 38 finished with value: 0.790291831646869 and parameters: {'max_depth': 7, 'learning_rate': 0.10226316019872639, 'n_estimators': 500, 'min_child_weight': 6, 'gamma': 7.01872995116077e-08, 'subsample': 0.5069256654452435, 'colsample_bytree': 0.24424174234320495, 'reg_alpha': 0.0021185288398720445, 'reg_lambda': 1.014132759203413e-06}. Best is trial 27 with value: 0.8125824901011879.\u001b[0m\n",
      "C:\\Users\\slrk4\\AppData\\Local\\Temp/ipykernel_11964/716984137.py:6: FutureWarning: suggest_loguniform has been deprecated in v3.0.0. This feature will be removed in v6.0.0. See https://github.com/optuna/optuna/releases/tag/v3.0.0. Use :func:`~optuna.trial.Trial.suggest_float` instead.\n",
      "  'learning_rate': trial.suggest_loguniform('learning_rate', 0.01, 1.0),\n",
      "C:\\Users\\slrk4\\AppData\\Local\\Temp/ipykernel_11964/716984137.py:9: FutureWarning: suggest_loguniform has been deprecated in v3.0.0. This feature will be removed in v6.0.0. See https://github.com/optuna/optuna/releases/tag/v3.0.0. Use :func:`~optuna.trial.Trial.suggest_float` instead.\n",
      "  'gamma': trial.suggest_loguniform('gamma', 1e-8, 1.0),\n",
      "C:\\Users\\slrk4\\AppData\\Local\\Temp/ipykernel_11964/716984137.py:10: FutureWarning: suggest_loguniform has been deprecated in v3.0.0. This feature will be removed in v6.0.0. See https://github.com/optuna/optuna/releases/tag/v3.0.0. Use :func:`~optuna.trial.Trial.suggest_float` instead.\n",
      "  'subsample': trial.suggest_loguniform('subsample', 0.01, 1.0),\n",
      "C:\\Users\\slrk4\\AppData\\Local\\Temp/ipykernel_11964/716984137.py:11: FutureWarning: suggest_loguniform has been deprecated in v3.0.0. This feature will be removed in v6.0.0. See https://github.com/optuna/optuna/releases/tag/v3.0.0. Use :func:`~optuna.trial.Trial.suggest_float` instead.\n",
      "  'colsample_bytree': trial.suggest_loguniform('colsample_bytree', 0.01, 1.0),\n",
      "C:\\Users\\slrk4\\AppData\\Local\\Temp/ipykernel_11964/716984137.py:12: FutureWarning: suggest_loguniform has been deprecated in v3.0.0. This feature will be removed in v6.0.0. See https://github.com/optuna/optuna/releases/tag/v3.0.0. Use :func:`~optuna.trial.Trial.suggest_float` instead.\n",
      "  'reg_alpha': trial.suggest_loguniform('reg_alpha', 1e-8, 1.0),\n",
      "C:\\Users\\slrk4\\AppData\\Local\\Temp/ipykernel_11964/716984137.py:13: FutureWarning: suggest_loguniform has been deprecated in v3.0.0. This feature will be removed in v6.0.0. See https://github.com/optuna/optuna/releases/tag/v3.0.0. Use :func:`~optuna.trial.Trial.suggest_float` instead.\n",
      "  'reg_lambda': trial.suggest_loguniform('reg_lambda', 1e-8, 1.0),\n"
     ]
    },
    {
     "name": "stderr",
     "output_type": "stream",
     "text": [
      "\u001b[32m[I 2022-11-05 10:14:16,072]\u001b[0m Trial 39 finished with value: 0.7792931514884881 and parameters: {'max_depth': 8, 'learning_rate': 0.13388772588758505, 'n_estimators': 343, 'min_child_weight': 2, 'gamma': 0.27737102515014583, 'subsample': 0.9306291157516404, 'colsample_bytree': 0.02074456900598425, 'reg_alpha': 2.8683460537351056e-05, 'reg_lambda': 9.934852968538266e-05}. Best is trial 27 with value: 0.8125824901011879.\u001b[0m\n",
      "C:\\Users\\slrk4\\AppData\\Local\\Temp/ipykernel_11964/716984137.py:6: FutureWarning: suggest_loguniform has been deprecated in v3.0.0. This feature will be removed in v6.0.0. See https://github.com/optuna/optuna/releases/tag/v3.0.0. Use :func:`~optuna.trial.Trial.suggest_float` instead.\n",
      "  'learning_rate': trial.suggest_loguniform('learning_rate', 0.01, 1.0),\n",
      "C:\\Users\\slrk4\\AppData\\Local\\Temp/ipykernel_11964/716984137.py:9: FutureWarning: suggest_loguniform has been deprecated in v3.0.0. This feature will be removed in v6.0.0. See https://github.com/optuna/optuna/releases/tag/v3.0.0. Use :func:`~optuna.trial.Trial.suggest_float` instead.\n",
      "  'gamma': trial.suggest_loguniform('gamma', 1e-8, 1.0),\n",
      "C:\\Users\\slrk4\\AppData\\Local\\Temp/ipykernel_11964/716984137.py:10: FutureWarning: suggest_loguniform has been deprecated in v3.0.0. This feature will be removed in v6.0.0. See https://github.com/optuna/optuna/releases/tag/v3.0.0. Use :func:`~optuna.trial.Trial.suggest_float` instead.\n",
      "  'subsample': trial.suggest_loguniform('subsample', 0.01, 1.0),\n",
      "C:\\Users\\slrk4\\AppData\\Local\\Temp/ipykernel_11964/716984137.py:11: FutureWarning: suggest_loguniform has been deprecated in v3.0.0. This feature will be removed in v6.0.0. See https://github.com/optuna/optuna/releases/tag/v3.0.0. Use :func:`~optuna.trial.Trial.suggest_float` instead.\n",
      "  'colsample_bytree': trial.suggest_loguniform('colsample_bytree', 0.01, 1.0),\n",
      "C:\\Users\\slrk4\\AppData\\Local\\Temp/ipykernel_11964/716984137.py:12: FutureWarning: suggest_loguniform has been deprecated in v3.0.0. This feature will be removed in v6.0.0. See https://github.com/optuna/optuna/releases/tag/v3.0.0. Use :func:`~optuna.trial.Trial.suggest_float` instead.\n",
      "  'reg_alpha': trial.suggest_loguniform('reg_alpha', 1e-8, 1.0),\n",
      "C:\\Users\\slrk4\\AppData\\Local\\Temp/ipykernel_11964/716984137.py:13: FutureWarning: suggest_loguniform has been deprecated in v3.0.0. This feature will be removed in v6.0.0. See https://github.com/optuna/optuna/releases/tag/v3.0.0. Use :func:`~optuna.trial.Trial.suggest_float` instead.\n",
      "  'reg_lambda': trial.suggest_loguniform('reg_lambda', 1e-8, 1.0),\n",
      "\u001b[32m[I 2022-11-05 10:14:21,437]\u001b[0m Trial 40 finished with value: 0.7755536002346385 and parameters: {'max_depth': 9, 'learning_rate': 0.5298354531307605, 'n_estimators': 401, 'min_child_weight': 8, 'gamma': 0.0012385132193102845, 'subsample': 0.3792093848495585, 'colsample_bytree': 0.5228291943472361, 'reg_alpha': 0.0007416653202077735, 'reg_lambda': 1.1296401932851415e-05}. Best is trial 27 with value: 0.8125824901011879.\u001b[0m\n",
      "C:\\Users\\slrk4\\AppData\\Local\\Temp/ipykernel_11964/716984137.py:6: FutureWarning: suggest_loguniform has been deprecated in v3.0.0. This feature will be removed in v6.0.0. See https://github.com/optuna/optuna/releases/tag/v3.0.0. Use :func:`~optuna.trial.Trial.suggest_float` instead.\n",
      "  'learning_rate': trial.suggest_loguniform('learning_rate', 0.01, 1.0),\n",
      "C:\\Users\\slrk4\\AppData\\Local\\Temp/ipykernel_11964/716984137.py:9: FutureWarning: suggest_loguniform has been deprecated in v3.0.0. This feature will be removed in v6.0.0. See https://github.com/optuna/optuna/releases/tag/v3.0.0. Use :func:`~optuna.trial.Trial.suggest_float` instead.\n",
      "  'gamma': trial.suggest_loguniform('gamma', 1e-8, 1.0),\n",
      "C:\\Users\\slrk4\\AppData\\Local\\Temp/ipykernel_11964/716984137.py:10: FutureWarning: suggest_loguniform has been deprecated in v3.0.0. This feature will be removed in v6.0.0. See https://github.com/optuna/optuna/releases/tag/v3.0.0. Use :func:`~optuna.trial.Trial.suggest_float` instead.\n",
      "  'subsample': trial.suggest_loguniform('subsample', 0.01, 1.0),\n",
      "C:\\Users\\slrk4\\AppData\\Local\\Temp/ipykernel_11964/716984137.py:11: FutureWarning: suggest_loguniform has been deprecated in v3.0.0. This feature will be removed in v6.0.0. See https://github.com/optuna/optuna/releases/tag/v3.0.0. Use :func:`~optuna.trial.Trial.suggest_float` instead.\n",
      "  'colsample_bytree': trial.suggest_loguniform('colsample_bytree', 0.01, 1.0),\n",
      "C:\\Users\\slrk4\\AppData\\Local\\Temp/ipykernel_11964/716984137.py:12: FutureWarning: suggest_loguniform has been deprecated in v3.0.0. This feature will be removed in v6.0.0. See https://github.com/optuna/optuna/releases/tag/v3.0.0. Use :func:`~optuna.trial.Trial.suggest_float` instead.\n",
      "  'reg_alpha': trial.suggest_loguniform('reg_alpha', 1e-8, 1.0),\n",
      "C:\\Users\\slrk4\\AppData\\Local\\Temp/ipykernel_11964/716984137.py:13: FutureWarning: suggest_loguniform has been deprecated in v3.0.0. This feature will be removed in v6.0.0. See https://github.com/optuna/optuna/releases/tag/v3.0.0. Use :func:`~optuna.trial.Trial.suggest_float` instead.\n",
      "  'reg_lambda': trial.suggest_loguniform('reg_lambda', 1e-8, 1.0),\n",
      "\u001b[32m[I 2022-11-05 10:14:29,123]\u001b[0m Trial 41 finished with value: 0.8049567385247104 and parameters: {'max_depth': 8, 'learning_rate': 0.0736802431073561, 'n_estimators': 395, 'min_child_weight': 5, 'gamma': 0.004964316669985062, 'subsample': 0.7563362227457399, 'colsample_bytree': 0.72496706810979, 'reg_alpha': 0.0024330397207756893, 'reg_lambda': 0.00024023977786905834}. Best is trial 27 with value: 0.8125824901011879.\u001b[0m\n",
      "C:\\Users\\slrk4\\AppData\\Local\\Temp/ipykernel_11964/716984137.py:6: FutureWarning: suggest_loguniform has been deprecated in v3.0.0. This feature will be removed in v6.0.0. See https://github.com/optuna/optuna/releases/tag/v3.0.0. Use :func:`~optuna.trial.Trial.suggest_float` instead.\n",
      "  'learning_rate': trial.suggest_loguniform('learning_rate', 0.01, 1.0),\n",
      "C:\\Users\\slrk4\\AppData\\Local\\Temp/ipykernel_11964/716984137.py:9: FutureWarning: suggest_loguniform has been deprecated in v3.0.0. This feature will be removed in v6.0.0. See https://github.com/optuna/optuna/releases/tag/v3.0.0. Use :func:`~optuna.trial.Trial.suggest_float` instead.\n",
      "  'gamma': trial.suggest_loguniform('gamma', 1e-8, 1.0),\n",
      "C:\\Users\\slrk4\\AppData\\Local\\Temp/ipykernel_11964/716984137.py:10: FutureWarning: suggest_loguniform has been deprecated in v3.0.0. This feature will be removed in v6.0.0. See https://github.com/optuna/optuna/releases/tag/v3.0.0. Use :func:`~optuna.trial.Trial.suggest_float` instead.\n",
      "  'subsample': trial.suggest_loguniform('subsample', 0.01, 1.0),\n",
      "C:\\Users\\slrk4\\AppData\\Local\\Temp/ipykernel_11964/716984137.py:11: FutureWarning: suggest_loguniform has been deprecated in v3.0.0. This feature will be removed in v6.0.0. See https://github.com/optuna/optuna/releases/tag/v3.0.0. Use :func:`~optuna.trial.Trial.suggest_float` instead.\n",
      "  'colsample_bytree': trial.suggest_loguniform('colsample_bytree', 0.01, 1.0),\n",
      "C:\\Users\\slrk4\\AppData\\Local\\Temp/ipykernel_11964/716984137.py:12: FutureWarning: suggest_loguniform has been deprecated in v3.0.0. This feature will be removed in v6.0.0. See https://github.com/optuna/optuna/releases/tag/v3.0.0. Use :func:`~optuna.trial.Trial.suggest_float` instead.\n",
      "  'reg_alpha': trial.suggest_loguniform('reg_alpha', 1e-8, 1.0),\n",
      "C:\\Users\\slrk4\\AppData\\Local\\Temp/ipykernel_11964/716984137.py:13: FutureWarning: suggest_loguniform has been deprecated in v3.0.0. This feature will be removed in v6.0.0. See https://github.com/optuna/optuna/releases/tag/v3.0.0. Use :func:`~optuna.trial.Trial.suggest_float` instead.\n",
      "  'reg_lambda': trial.suggest_loguniform('reg_lambda', 1e-8, 1.0),\n",
      "\u001b[32m[I 2022-11-05 10:14:36,694]\u001b[0m Trial 42 finished with value: 0.8018771080803637 and parameters: {'max_depth': 7, 'learning_rate': 0.12027117228866718, 'n_estimators': 469, 'min_child_weight': 4, 'gamma': 0.0030425790873982793, 'subsample': 0.5765808354127985, 'colsample_bytree': 0.7340613404795382, 'reg_alpha': 0.005103376694853088, 'reg_lambda': 5.502829476149463e-05}. Best is trial 27 with value: 0.8125824901011879.\u001b[0m\n",
      "C:\\Users\\slrk4\\AppData\\Local\\Temp/ipykernel_11964/716984137.py:6: FutureWarning: suggest_loguniform has been deprecated in v3.0.0. This feature will be removed in v6.0.0. See https://github.com/optuna/optuna/releases/tag/v3.0.0. Use :func:`~optuna.trial.Trial.suggest_float` instead.\n",
      "  'learning_rate': trial.suggest_loguniform('learning_rate', 0.01, 1.0),\n",
      "C:\\Users\\slrk4\\AppData\\Local\\Temp/ipykernel_11964/716984137.py:9: FutureWarning: suggest_loguniform has been deprecated in v3.0.0. This feature will be removed in v6.0.0. See https://github.com/optuna/optuna/releases/tag/v3.0.0. Use :func:`~optuna.trial.Trial.suggest_float` instead.\n",
      "  'gamma': trial.suggest_loguniform('gamma', 1e-8, 1.0),\n",
      "C:\\Users\\slrk4\\AppData\\Local\\Temp/ipykernel_11964/716984137.py:10: FutureWarning: suggest_loguniform has been deprecated in v3.0.0. This feature will be removed in v6.0.0. See https://github.com/optuna/optuna/releases/tag/v3.0.0. Use :func:`~optuna.trial.Trial.suggest_float` instead.\n",
      "  'subsample': trial.suggest_loguniform('subsample', 0.01, 1.0),\n",
      "C:\\Users\\slrk4\\AppData\\Local\\Temp/ipykernel_11964/716984137.py:11: FutureWarning: suggest_loguniform has been deprecated in v3.0.0. This feature will be removed in v6.0.0. See https://github.com/optuna/optuna/releases/tag/v3.0.0. Use :func:`~optuna.trial.Trial.suggest_float` instead.\n",
      "  'colsample_bytree': trial.suggest_loguniform('colsample_bytree', 0.01, 1.0),\n",
      "C:\\Users\\slrk4\\AppData\\Local\\Temp/ipykernel_11964/716984137.py:12: FutureWarning: suggest_loguniform has been deprecated in v3.0.0. This feature will be removed in v6.0.0. See https://github.com/optuna/optuna/releases/tag/v3.0.0. Use :func:`~optuna.trial.Trial.suggest_float` instead.\n",
      "  'reg_alpha': trial.suggest_loguniform('reg_alpha', 1e-8, 1.0),\n",
      "C:\\Users\\slrk4\\AppData\\Local\\Temp/ipykernel_11964/716984137.py:13: FutureWarning: suggest_loguniform has been deprecated in v3.0.0. This feature will be removed in v6.0.0. See https://github.com/optuna/optuna/releases/tag/v3.0.0. Use :func:`~optuna.trial.Trial.suggest_float` instead.\n",
      "  'reg_lambda': trial.suggest_loguniform('reg_lambda', 1e-8, 1.0),\n"
     ]
    },
    {
     "name": "stderr",
     "output_type": "stream",
     "text": [
      "\u001b[32m[I 2022-11-05 10:14:45,545]\u001b[0m Trial 43 finished with value: 0.8019504326147529 and parameters: {'max_depth': 8, 'learning_rate': 0.26254646921582264, 'n_estimators': 430, 'min_child_weight': 7, 'gamma': 0.0010143880535833387, 'subsample': 0.7652903927136089, 'colsample_bytree': 0.6329737428155531, 'reg_alpha': 0.3430418217331509, 'reg_lambda': 0.0006084218675825641}. Best is trial 27 with value: 0.8125824901011879.\u001b[0m\n",
      "C:\\Users\\slrk4\\AppData\\Local\\Temp/ipykernel_11964/716984137.py:6: FutureWarning: suggest_loguniform has been deprecated in v3.0.0. This feature will be removed in v6.0.0. See https://github.com/optuna/optuna/releases/tag/v3.0.0. Use :func:`~optuna.trial.Trial.suggest_float` instead.\n",
      "  'learning_rate': trial.suggest_loguniform('learning_rate', 0.01, 1.0),\n",
      "C:\\Users\\slrk4\\AppData\\Local\\Temp/ipykernel_11964/716984137.py:9: FutureWarning: suggest_loguniform has been deprecated in v3.0.0. This feature will be removed in v6.0.0. See https://github.com/optuna/optuna/releases/tag/v3.0.0. Use :func:`~optuna.trial.Trial.suggest_float` instead.\n",
      "  'gamma': trial.suggest_loguniform('gamma', 1e-8, 1.0),\n",
      "C:\\Users\\slrk4\\AppData\\Local\\Temp/ipykernel_11964/716984137.py:10: FutureWarning: suggest_loguniform has been deprecated in v3.0.0. This feature will be removed in v6.0.0. See https://github.com/optuna/optuna/releases/tag/v3.0.0. Use :func:`~optuna.trial.Trial.suggest_float` instead.\n",
      "  'subsample': trial.suggest_loguniform('subsample', 0.01, 1.0),\n",
      "C:\\Users\\slrk4\\AppData\\Local\\Temp/ipykernel_11964/716984137.py:11: FutureWarning: suggest_loguniform has been deprecated in v3.0.0. This feature will be removed in v6.0.0. See https://github.com/optuna/optuna/releases/tag/v3.0.0. Use :func:`~optuna.trial.Trial.suggest_float` instead.\n",
      "  'colsample_bytree': trial.suggest_loguniform('colsample_bytree', 0.01, 1.0),\n",
      "C:\\Users\\slrk4\\AppData\\Local\\Temp/ipykernel_11964/716984137.py:12: FutureWarning: suggest_loguniform has been deprecated in v3.0.0. This feature will be removed in v6.0.0. See https://github.com/optuna/optuna/releases/tag/v3.0.0. Use :func:`~optuna.trial.Trial.suggest_float` instead.\n",
      "  'reg_alpha': trial.suggest_loguniform('reg_alpha', 1e-8, 1.0),\n",
      "C:\\Users\\slrk4\\AppData\\Local\\Temp/ipykernel_11964/716984137.py:13: FutureWarning: suggest_loguniform has been deprecated in v3.0.0. This feature will be removed in v6.0.0. See https://github.com/optuna/optuna/releases/tag/v3.0.0. Use :func:`~optuna.trial.Trial.suggest_float` instead.\n",
      "  'reg_lambda': trial.suggest_loguniform('reg_lambda', 1e-8, 1.0),\n",
      "\u001b[32m[I 2022-11-05 10:14:46,813]\u001b[0m Trial 44 finished with value: 0.7932981375568265 and parameters: {'max_depth': 9, 'learning_rate': 0.10326456972467894, 'n_estimators': 80, 'min_child_weight': 5, 'gamma': 2.042366977199842e-05, 'subsample': 0.9949663648188407, 'colsample_bytree': 0.3814206103748335, 'reg_alpha': 0.0002206687289321982, 'reg_lambda': 0.014331244028125552}. Best is trial 27 with value: 0.8125824901011879.\u001b[0m\n",
      "C:\\Users\\slrk4\\AppData\\Local\\Temp/ipykernel_11964/716984137.py:6: FutureWarning: suggest_loguniform has been deprecated in v3.0.0. This feature will be removed in v6.0.0. See https://github.com/optuna/optuna/releases/tag/v3.0.0. Use :func:`~optuna.trial.Trial.suggest_float` instead.\n",
      "  'learning_rate': trial.suggest_loguniform('learning_rate', 0.01, 1.0),\n",
      "C:\\Users\\slrk4\\AppData\\Local\\Temp/ipykernel_11964/716984137.py:9: FutureWarning: suggest_loguniform has been deprecated in v3.0.0. This feature will be removed in v6.0.0. See https://github.com/optuna/optuna/releases/tag/v3.0.0. Use :func:`~optuna.trial.Trial.suggest_float` instead.\n",
      "  'gamma': trial.suggest_loguniform('gamma', 1e-8, 1.0),\n",
      "C:\\Users\\slrk4\\AppData\\Local\\Temp/ipykernel_11964/716984137.py:10: FutureWarning: suggest_loguniform has been deprecated in v3.0.0. This feature will be removed in v6.0.0. See https://github.com/optuna/optuna/releases/tag/v3.0.0. Use :func:`~optuna.trial.Trial.suggest_float` instead.\n",
      "  'subsample': trial.suggest_loguniform('subsample', 0.01, 1.0),\n",
      "C:\\Users\\slrk4\\AppData\\Local\\Temp/ipykernel_11964/716984137.py:11: FutureWarning: suggest_loguniform has been deprecated in v3.0.0. This feature will be removed in v6.0.0. See https://github.com/optuna/optuna/releases/tag/v3.0.0. Use :func:`~optuna.trial.Trial.suggest_float` instead.\n",
      "  'colsample_bytree': trial.suggest_loguniform('colsample_bytree', 0.01, 1.0),\n",
      "C:\\Users\\slrk4\\AppData\\Local\\Temp/ipykernel_11964/716984137.py:12: FutureWarning: suggest_loguniform has been deprecated in v3.0.0. This feature will be removed in v6.0.0. See https://github.com/optuna/optuna/releases/tag/v3.0.0. Use :func:`~optuna.trial.Trial.suggest_float` instead.\n",
      "  'reg_alpha': trial.suggest_loguniform('reg_alpha', 1e-8, 1.0),\n",
      "C:\\Users\\slrk4\\AppData\\Local\\Temp/ipykernel_11964/716984137.py:13: FutureWarning: suggest_loguniform has been deprecated in v3.0.0. This feature will be removed in v6.0.0. See https://github.com/optuna/optuna/releases/tag/v3.0.0. Use :func:`~optuna.trial.Trial.suggest_float` instead.\n",
      "  'reg_lambda': trial.suggest_loguniform('reg_lambda', 1e-8, 1.0),\n",
      "\u001b[32m[I 2022-11-05 10:14:54,857]\u001b[0m Trial 45 finished with value: 0.8100894559319548 and parameters: {'max_depth': 8, 'learning_rate': 0.19886425443768213, 'n_estimators': 390, 'min_child_weight': 1, 'gamma': 0.00022080468464362658, 'subsample': 0.623127015108176, 'colsample_bytree': 0.8142077252856119, 'reg_alpha': 0.00914015870135652, 'reg_lambda': 0.00019204655500862578}. Best is trial 27 with value: 0.8125824901011879.\u001b[0m\n",
      "C:\\Users\\slrk4\\AppData\\Local\\Temp/ipykernel_11964/716984137.py:6: FutureWarning: suggest_loguniform has been deprecated in v3.0.0. This feature will be removed in v6.0.0. See https://github.com/optuna/optuna/releases/tag/v3.0.0. Use :func:`~optuna.trial.Trial.suggest_float` instead.\n",
      "  'learning_rate': trial.suggest_loguniform('learning_rate', 0.01, 1.0),\n",
      "C:\\Users\\slrk4\\AppData\\Local\\Temp/ipykernel_11964/716984137.py:9: FutureWarning: suggest_loguniform has been deprecated in v3.0.0. This feature will be removed in v6.0.0. See https://github.com/optuna/optuna/releases/tag/v3.0.0. Use :func:`~optuna.trial.Trial.suggest_float` instead.\n",
      "  'gamma': trial.suggest_loguniform('gamma', 1e-8, 1.0),\n",
      "C:\\Users\\slrk4\\AppData\\Local\\Temp/ipykernel_11964/716984137.py:10: FutureWarning: suggest_loguniform has been deprecated in v3.0.0. This feature will be removed in v6.0.0. See https://github.com/optuna/optuna/releases/tag/v3.0.0. Use :func:`~optuna.trial.Trial.suggest_float` instead.\n",
      "  'subsample': trial.suggest_loguniform('subsample', 0.01, 1.0),\n",
      "C:\\Users\\slrk4\\AppData\\Local\\Temp/ipykernel_11964/716984137.py:11: FutureWarning: suggest_loguniform has been deprecated in v3.0.0. This feature will be removed in v6.0.0. See https://github.com/optuna/optuna/releases/tag/v3.0.0. Use :func:`~optuna.trial.Trial.suggest_float` instead.\n",
      "  'colsample_bytree': trial.suggest_loguniform('colsample_bytree', 0.01, 1.0),\n",
      "C:\\Users\\slrk4\\AppData\\Local\\Temp/ipykernel_11964/716984137.py:12: FutureWarning: suggest_loguniform has been deprecated in v3.0.0. This feature will be removed in v6.0.0. See https://github.com/optuna/optuna/releases/tag/v3.0.0. Use :func:`~optuna.trial.Trial.suggest_float` instead.\n",
      "  'reg_alpha': trial.suggest_loguniform('reg_alpha', 1e-8, 1.0),\n",
      "C:\\Users\\slrk4\\AppData\\Local\\Temp/ipykernel_11964/716984137.py:13: FutureWarning: suggest_loguniform has been deprecated in v3.0.0. This feature will be removed in v6.0.0. See https://github.com/optuna/optuna/releases/tag/v3.0.0. Use :func:`~optuna.trial.Trial.suggest_float` instead.\n",
      "  'reg_lambda': trial.suggest_loguniform('reg_lambda', 1e-8, 1.0),\n",
      "\u001b[32m[I 2022-11-05 10:14:59,873]\u001b[0m Trial 46 finished with value: 0.8016571344771961 and parameters: {'max_depth': 6, 'learning_rate': 0.17625149755336122, 'n_estimators': 361, 'min_child_weight': 1, 'gamma': 0.00020294508482086588, 'subsample': 0.44485672227944184, 'colsample_bytree': 0.819628674437741, 'reg_alpha': 0.02805249422058625, 'reg_lambda': 2.504806208525059e-07}. Best is trial 27 with value: 0.8125824901011879.\u001b[0m\n",
      "C:\\Users\\slrk4\\AppData\\Local\\Temp/ipykernel_11964/716984137.py:6: FutureWarning: suggest_loguniform has been deprecated in v3.0.0. This feature will be removed in v6.0.0. See https://github.com/optuna/optuna/releases/tag/v3.0.0. Use :func:`~optuna.trial.Trial.suggest_float` instead.\n",
      "  'learning_rate': trial.suggest_loguniform('learning_rate', 0.01, 1.0),\n",
      "C:\\Users\\slrk4\\AppData\\Local\\Temp/ipykernel_11964/716984137.py:9: FutureWarning: suggest_loguniform has been deprecated in v3.0.0. This feature will be removed in v6.0.0. See https://github.com/optuna/optuna/releases/tag/v3.0.0. Use :func:`~optuna.trial.Trial.suggest_float` instead.\n",
      "  'gamma': trial.suggest_loguniform('gamma', 1e-8, 1.0),\n",
      "C:\\Users\\slrk4\\AppData\\Local\\Temp/ipykernel_11964/716984137.py:10: FutureWarning: suggest_loguniform has been deprecated in v3.0.0. This feature will be removed in v6.0.0. See https://github.com/optuna/optuna/releases/tag/v3.0.0. Use :func:`~optuna.trial.Trial.suggest_float` instead.\n",
      "  'subsample': trial.suggest_loguniform('subsample', 0.01, 1.0),\n",
      "C:\\Users\\slrk4\\AppData\\Local\\Temp/ipykernel_11964/716984137.py:11: FutureWarning: suggest_loguniform has been deprecated in v3.0.0. This feature will be removed in v6.0.0. See https://github.com/optuna/optuna/releases/tag/v3.0.0. Use :func:`~optuna.trial.Trial.suggest_float` instead.\n",
      "  'colsample_bytree': trial.suggest_loguniform('colsample_bytree', 0.01, 1.0),\n",
      "C:\\Users\\slrk4\\AppData\\Local\\Temp/ipykernel_11964/716984137.py:12: FutureWarning: suggest_loguniform has been deprecated in v3.0.0. This feature will be removed in v6.0.0. See https://github.com/optuna/optuna/releases/tag/v3.0.0. Use :func:`~optuna.trial.Trial.suggest_float` instead.\n",
      "  'reg_alpha': trial.suggest_loguniform('reg_alpha', 1e-8, 1.0),\n",
      "C:\\Users\\slrk4\\AppData\\Local\\Temp/ipykernel_11964/716984137.py:13: FutureWarning: suggest_loguniform has been deprecated in v3.0.0. This feature will be removed in v6.0.0. See https://github.com/optuna/optuna/releases/tag/v3.0.0. Use :func:`~optuna.trial.Trial.suggest_float` instead.\n",
      "  'reg_lambda': trial.suggest_loguniform('reg_lambda', 1e-8, 1.0),\n"
     ]
    },
    {
     "name": "stderr",
     "output_type": "stream",
     "text": [
      "\u001b[32m[I 2022-11-05 10:15:07,334]\u001b[0m Trial 47 finished with value: 0.8078163953658895 and parameters: {'max_depth': 9, 'learning_rate': 0.20578242108737593, 'n_estimators': 450, 'min_child_weight': 1, 'gamma': 5.9881919113633744e-05, 'subsample': 0.5634009279540647, 'colsample_bytree': 0.5163829663332556, 'reg_alpha': 0.009996446670113481, 'reg_lambda': 7.764408882676675e-06}. Best is trial 27 with value: 0.8125824901011879.\u001b[0m\n",
      "C:\\Users\\slrk4\\AppData\\Local\\Temp/ipykernel_11964/716984137.py:6: FutureWarning: suggest_loguniform has been deprecated in v3.0.0. This feature will be removed in v6.0.0. See https://github.com/optuna/optuna/releases/tag/v3.0.0. Use :func:`~optuna.trial.Trial.suggest_float` instead.\n",
      "  'learning_rate': trial.suggest_loguniform('learning_rate', 0.01, 1.0),\n",
      "C:\\Users\\slrk4\\AppData\\Local\\Temp/ipykernel_11964/716984137.py:9: FutureWarning: suggest_loguniform has been deprecated in v3.0.0. This feature will be removed in v6.0.0. See https://github.com/optuna/optuna/releases/tag/v3.0.0. Use :func:`~optuna.trial.Trial.suggest_float` instead.\n",
      "  'gamma': trial.suggest_loguniform('gamma', 1e-8, 1.0),\n",
      "C:\\Users\\slrk4\\AppData\\Local\\Temp/ipykernel_11964/716984137.py:10: FutureWarning: suggest_loguniform has been deprecated in v3.0.0. This feature will be removed in v6.0.0. See https://github.com/optuna/optuna/releases/tag/v3.0.0. Use :func:`~optuna.trial.Trial.suggest_float` instead.\n",
      "  'subsample': trial.suggest_loguniform('subsample', 0.01, 1.0),\n",
      "C:\\Users\\slrk4\\AppData\\Local\\Temp/ipykernel_11964/716984137.py:11: FutureWarning: suggest_loguniform has been deprecated in v3.0.0. This feature will be removed in v6.0.0. See https://github.com/optuna/optuna/releases/tag/v3.0.0. Use :func:`~optuna.trial.Trial.suggest_float` instead.\n",
      "  'colsample_bytree': trial.suggest_loguniform('colsample_bytree', 0.01, 1.0),\n",
      "C:\\Users\\slrk4\\AppData\\Local\\Temp/ipykernel_11964/716984137.py:12: FutureWarning: suggest_loguniform has been deprecated in v3.0.0. This feature will be removed in v6.0.0. See https://github.com/optuna/optuna/releases/tag/v3.0.0. Use :func:`~optuna.trial.Trial.suggest_float` instead.\n",
      "  'reg_alpha': trial.suggest_loguniform('reg_alpha', 1e-8, 1.0),\n",
      "C:\\Users\\slrk4\\AppData\\Local\\Temp/ipykernel_11964/716984137.py:13: FutureWarning: suggest_loguniform has been deprecated in v3.0.0. This feature will be removed in v6.0.0. See https://github.com/optuna/optuna/releases/tag/v3.0.0. Use :func:`~optuna.trial.Trial.suggest_float` instead.\n",
      "  'reg_lambda': trial.suggest_loguniform('reg_lambda', 1e-8, 1.0),\n",
      "\u001b[32m[I 2022-11-05 10:15:13,130]\u001b[0m Trial 48 finished with value: 0.7894119372341986 and parameters: {'max_depth': 8, 'learning_rate': 0.2713441996936993, 'n_estimators': 480, 'min_child_weight': 1, 'gamma': 6.381438083333941e-05, 'subsample': 0.2970807698287682, 'colsample_bytree': 0.55119597849104, 'reg_alpha': 0.18743189163723384, 'reg_lambda': 0.0023468563398782055}. Best is trial 27 with value: 0.8125824901011879.\u001b[0m\n",
      "C:\\Users\\slrk4\\AppData\\Local\\Temp/ipykernel_11964/716984137.py:6: FutureWarning: suggest_loguniform has been deprecated in v3.0.0. This feature will be removed in v6.0.0. See https://github.com/optuna/optuna/releases/tag/v3.0.0. Use :func:`~optuna.trial.Trial.suggest_float` instead.\n",
      "  'learning_rate': trial.suggest_loguniform('learning_rate', 0.01, 1.0),\n",
      "C:\\Users\\slrk4\\AppData\\Local\\Temp/ipykernel_11964/716984137.py:9: FutureWarning: suggest_loguniform has been deprecated in v3.0.0. This feature will be removed in v6.0.0. See https://github.com/optuna/optuna/releases/tag/v3.0.0. Use :func:`~optuna.trial.Trial.suggest_float` instead.\n",
      "  'gamma': trial.suggest_loguniform('gamma', 1e-8, 1.0),\n",
      "C:\\Users\\slrk4\\AppData\\Local\\Temp/ipykernel_11964/716984137.py:10: FutureWarning: suggest_loguniform has been deprecated in v3.0.0. This feature will be removed in v6.0.0. See https://github.com/optuna/optuna/releases/tag/v3.0.0. Use :func:`~optuna.trial.Trial.suggest_float` instead.\n",
      "  'subsample': trial.suggest_loguniform('subsample', 0.01, 1.0),\n",
      "C:\\Users\\slrk4\\AppData\\Local\\Temp/ipykernel_11964/716984137.py:11: FutureWarning: suggest_loguniform has been deprecated in v3.0.0. This feature will be removed in v6.0.0. See https://github.com/optuna/optuna/releases/tag/v3.0.0. Use :func:`~optuna.trial.Trial.suggest_float` instead.\n",
      "  'colsample_bytree': trial.suggest_loguniform('colsample_bytree', 0.01, 1.0),\n",
      "C:\\Users\\slrk4\\AppData\\Local\\Temp/ipykernel_11964/716984137.py:12: FutureWarning: suggest_loguniform has been deprecated in v3.0.0. This feature will be removed in v6.0.0. See https://github.com/optuna/optuna/releases/tag/v3.0.0. Use :func:`~optuna.trial.Trial.suggest_float` instead.\n",
      "  'reg_alpha': trial.suggest_loguniform('reg_alpha', 1e-8, 1.0),\n",
      "C:\\Users\\slrk4\\AppData\\Local\\Temp/ipykernel_11964/716984137.py:13: FutureWarning: suggest_loguniform has been deprecated in v3.0.0. This feature will be removed in v6.0.0. See https://github.com/optuna/optuna/releases/tag/v3.0.0. Use :func:`~optuna.trial.Trial.suggest_float` instead.\n",
      "  'reg_lambda': trial.suggest_loguniform('reg_lambda', 1e-8, 1.0),\n",
      "\u001b[32m[I 2022-11-05 10:15:17,265]\u001b[0m Trial 49 finished with value: 0.7869922275993547 and parameters: {'max_depth': 9, 'learning_rate': 0.20688088748965214, 'n_estimators': 441, 'min_child_weight': 2, 'gamma': 6.005963646613374e-07, 'subsample': 0.1894359620138126, 'colsample_bytree': 0.2853685546855321, 'reg_alpha': 3.122465628999935e-07, 'reg_lambda': 0.00015388022584012843}. Best is trial 27 with value: 0.8125824901011879.\u001b[0m\n",
      "C:\\Users\\slrk4\\AppData\\Local\\Temp/ipykernel_11964/716984137.py:6: FutureWarning: suggest_loguniform has been deprecated in v3.0.0. This feature will be removed in v6.0.0. See https://github.com/optuna/optuna/releases/tag/v3.0.0. Use :func:`~optuna.trial.Trial.suggest_float` instead.\n",
      "  'learning_rate': trial.suggest_loguniform('learning_rate', 0.01, 1.0),\n",
      "C:\\Users\\slrk4\\AppData\\Local\\Temp/ipykernel_11964/716984137.py:9: FutureWarning: suggest_loguniform has been deprecated in v3.0.0. This feature will be removed in v6.0.0. See https://github.com/optuna/optuna/releases/tag/v3.0.0. Use :func:`~optuna.trial.Trial.suggest_float` instead.\n",
      "  'gamma': trial.suggest_loguniform('gamma', 1e-8, 1.0),\n",
      "C:\\Users\\slrk4\\AppData\\Local\\Temp/ipykernel_11964/716984137.py:10: FutureWarning: suggest_loguniform has been deprecated in v3.0.0. This feature will be removed in v6.0.0. See https://github.com/optuna/optuna/releases/tag/v3.0.0. Use :func:`~optuna.trial.Trial.suggest_float` instead.\n",
      "  'subsample': trial.suggest_loguniform('subsample', 0.01, 1.0),\n",
      "C:\\Users\\slrk4\\AppData\\Local\\Temp/ipykernel_11964/716984137.py:11: FutureWarning: suggest_loguniform has been deprecated in v3.0.0. This feature will be removed in v6.0.0. See https://github.com/optuna/optuna/releases/tag/v3.0.0. Use :func:`~optuna.trial.Trial.suggest_float` instead.\n",
      "  'colsample_bytree': trial.suggest_loguniform('colsample_bytree', 0.01, 1.0),\n",
      "C:\\Users\\slrk4\\AppData\\Local\\Temp/ipykernel_11964/716984137.py:12: FutureWarning: suggest_loguniform has been deprecated in v3.0.0. This feature will be removed in v6.0.0. See https://github.com/optuna/optuna/releases/tag/v3.0.0. Use :func:`~optuna.trial.Trial.suggest_float` instead.\n",
      "  'reg_alpha': trial.suggest_loguniform('reg_alpha', 1e-8, 1.0),\n",
      "C:\\Users\\slrk4\\AppData\\Local\\Temp/ipykernel_11964/716984137.py:13: FutureWarning: suggest_loguniform has been deprecated in v3.0.0. This feature will be removed in v6.0.0. See https://github.com/optuna/optuna/releases/tag/v3.0.0. Use :func:`~optuna.trial.Trial.suggest_float` instead.\n",
      "  'reg_lambda': trial.suggest_loguniform('reg_lambda', 1e-8, 1.0),\n",
      "\u001b[32m[I 2022-11-05 10:15:17,988]\u001b[0m Trial 50 finished with value: 0.7478369262355185 and parameters: {'max_depth': 7, 'learning_rate': 0.3714191108873462, 'n_estimators': 130, 'min_child_weight': 1, 'gamma': 1.2190014113197202e-05, 'subsample': 0.04809088646572322, 'colsample_bytree': 0.11003731258309118, 'reg_alpha': 0.012264518794136628, 'reg_lambda': 2.7483251233900184e-05}. Best is trial 27 with value: 0.8125824901011879.\u001b[0m\n",
      "C:\\Users\\slrk4\\AppData\\Local\\Temp/ipykernel_11964/716984137.py:6: FutureWarning: suggest_loguniform has been deprecated in v3.0.0. This feature will be removed in v6.0.0. See https://github.com/optuna/optuna/releases/tag/v3.0.0. Use :func:`~optuna.trial.Trial.suggest_float` instead.\n",
      "  'learning_rate': trial.suggest_loguniform('learning_rate', 0.01, 1.0),\n",
      "C:\\Users\\slrk4\\AppData\\Local\\Temp/ipykernel_11964/716984137.py:9: FutureWarning: suggest_loguniform has been deprecated in v3.0.0. This feature will be removed in v6.0.0. See https://github.com/optuna/optuna/releases/tag/v3.0.0. Use :func:`~optuna.trial.Trial.suggest_float` instead.\n",
      "  'gamma': trial.suggest_loguniform('gamma', 1e-8, 1.0),\n",
      "C:\\Users\\slrk4\\AppData\\Local\\Temp/ipykernel_11964/716984137.py:10: FutureWarning: suggest_loguniform has been deprecated in v3.0.0. This feature will be removed in v6.0.0. See https://github.com/optuna/optuna/releases/tag/v3.0.0. Use :func:`~optuna.trial.Trial.suggest_float` instead.\n",
      "  'subsample': trial.suggest_loguniform('subsample', 0.01, 1.0),\n",
      "C:\\Users\\slrk4\\AppData\\Local\\Temp/ipykernel_11964/716984137.py:11: FutureWarning: suggest_loguniform has been deprecated in v3.0.0. This feature will be removed in v6.0.0. See https://github.com/optuna/optuna/releases/tag/v3.0.0. Use :func:`~optuna.trial.Trial.suggest_float` instead.\n",
      "  'colsample_bytree': trial.suggest_loguniform('colsample_bytree', 0.01, 1.0),\n",
      "C:\\Users\\slrk4\\AppData\\Local\\Temp/ipykernel_11964/716984137.py:12: FutureWarning: suggest_loguniform has been deprecated in v3.0.0. This feature will be removed in v6.0.0. See https://github.com/optuna/optuna/releases/tag/v3.0.0. Use :func:`~optuna.trial.Trial.suggest_float` instead.\n",
      "  'reg_alpha': trial.suggest_loguniform('reg_alpha', 1e-8, 1.0),\n",
      "C:\\Users\\slrk4\\AppData\\Local\\Temp/ipykernel_11964/716984137.py:13: FutureWarning: suggest_loguniform has been deprecated in v3.0.0. This feature will be removed in v6.0.0. See https://github.com/optuna/optuna/releases/tag/v3.0.0. Use :func:`~optuna.trial.Trial.suggest_float` instead.\n",
      "  'reg_lambda': trial.suggest_loguniform('reg_lambda', 1e-8, 1.0),\n"
     ]
    },
    {
     "name": "stderr",
     "output_type": "stream",
     "text": [
      "\u001b[32m[I 2022-11-05 10:15:29,786]\u001b[0m Trial 51 finished with value: 0.8108960258102361 and parameters: {'max_depth': 9, 'learning_rate': 0.15342758614726554, 'n_estimators': 455, 'min_child_weight': 1, 'gamma': 0.0006287539602172821, 'subsample': 0.5513009784684049, 'colsample_bytree': 0.8638604495887843, 'reg_alpha': 0.044495200117825734, 'reg_lambda': 7.654240101182832e-06}. Best is trial 27 with value: 0.8125824901011879.\u001b[0m\n",
      "C:\\Users\\slrk4\\AppData\\Local\\Temp/ipykernel_11964/716984137.py:6: FutureWarning: suggest_loguniform has been deprecated in v3.0.0. This feature will be removed in v6.0.0. See https://github.com/optuna/optuna/releases/tag/v3.0.0. Use :func:`~optuna.trial.Trial.suggest_float` instead.\n",
      "  'learning_rate': trial.suggest_loguniform('learning_rate', 0.01, 1.0),\n",
      "C:\\Users\\slrk4\\AppData\\Local\\Temp/ipykernel_11964/716984137.py:9: FutureWarning: suggest_loguniform has been deprecated in v3.0.0. This feature will be removed in v6.0.0. See https://github.com/optuna/optuna/releases/tag/v3.0.0. Use :func:`~optuna.trial.Trial.suggest_float` instead.\n",
      "  'gamma': trial.suggest_loguniform('gamma', 1e-8, 1.0),\n",
      "C:\\Users\\slrk4\\AppData\\Local\\Temp/ipykernel_11964/716984137.py:10: FutureWarning: suggest_loguniform has been deprecated in v3.0.0. This feature will be removed in v6.0.0. See https://github.com/optuna/optuna/releases/tag/v3.0.0. Use :func:`~optuna.trial.Trial.suggest_float` instead.\n",
      "  'subsample': trial.suggest_loguniform('subsample', 0.01, 1.0),\n",
      "C:\\Users\\slrk4\\AppData\\Local\\Temp/ipykernel_11964/716984137.py:11: FutureWarning: suggest_loguniform has been deprecated in v3.0.0. This feature will be removed in v6.0.0. See https://github.com/optuna/optuna/releases/tag/v3.0.0. Use :func:`~optuna.trial.Trial.suggest_float` instead.\n",
      "  'colsample_bytree': trial.suggest_loguniform('colsample_bytree', 0.01, 1.0),\n",
      "C:\\Users\\slrk4\\AppData\\Local\\Temp/ipykernel_11964/716984137.py:12: FutureWarning: suggest_loguniform has been deprecated in v3.0.0. This feature will be removed in v6.0.0. See https://github.com/optuna/optuna/releases/tag/v3.0.0. Use :func:`~optuna.trial.Trial.suggest_float` instead.\n",
      "  'reg_alpha': trial.suggest_loguniform('reg_alpha', 1e-8, 1.0),\n",
      "C:\\Users\\slrk4\\AppData\\Local\\Temp/ipykernel_11964/716984137.py:13: FutureWarning: suggest_loguniform has been deprecated in v3.0.0. This feature will be removed in v6.0.0. See https://github.com/optuna/optuna/releases/tag/v3.0.0. Use :func:`~optuna.trial.Trial.suggest_float` instead.\n",
      "  'reg_lambda': trial.suggest_loguniform('reg_lambda', 1e-8, 1.0),\n",
      "\u001b[32m[I 2022-11-05 10:15:43,690]\u001b[0m Trial 52 finished with value: 0.8114826220853497 and parameters: {'max_depth': 9, 'learning_rate': 0.14016766476492962, 'n_estimators': 459, 'min_child_weight': 1, 'gamma': 0.0002090771006122898, 'subsample': 0.5366907245922389, 'colsample_bytree': 0.9922587876191467, 'reg_alpha': 0.04025558099206546, 'reg_lambda': 9.908744515207711e-06}. Best is trial 27 with value: 0.8125824901011879.\u001b[0m\n",
      "C:\\Users\\slrk4\\AppData\\Local\\Temp/ipykernel_11964/716984137.py:6: FutureWarning: suggest_loguniform has been deprecated in v3.0.0. This feature will be removed in v6.0.0. See https://github.com/optuna/optuna/releases/tag/v3.0.0. Use :func:`~optuna.trial.Trial.suggest_float` instead.\n",
      "  'learning_rate': trial.suggest_loguniform('learning_rate', 0.01, 1.0),\n",
      "C:\\Users\\slrk4\\AppData\\Local\\Temp/ipykernel_11964/716984137.py:9: FutureWarning: suggest_loguniform has been deprecated in v3.0.0. This feature will be removed in v6.0.0. See https://github.com/optuna/optuna/releases/tag/v3.0.0. Use :func:`~optuna.trial.Trial.suggest_float` instead.\n",
      "  'gamma': trial.suggest_loguniform('gamma', 1e-8, 1.0),\n",
      "C:\\Users\\slrk4\\AppData\\Local\\Temp/ipykernel_11964/716984137.py:10: FutureWarning: suggest_loguniform has been deprecated in v3.0.0. This feature will be removed in v6.0.0. See https://github.com/optuna/optuna/releases/tag/v3.0.0. Use :func:`~optuna.trial.Trial.suggest_float` instead.\n",
      "  'subsample': trial.suggest_loguniform('subsample', 0.01, 1.0),\n",
      "C:\\Users\\slrk4\\AppData\\Local\\Temp/ipykernel_11964/716984137.py:11: FutureWarning: suggest_loguniform has been deprecated in v3.0.0. This feature will be removed in v6.0.0. See https://github.com/optuna/optuna/releases/tag/v3.0.0. Use :func:`~optuna.trial.Trial.suggest_float` instead.\n",
      "  'colsample_bytree': trial.suggest_loguniform('colsample_bytree', 0.01, 1.0),\n",
      "C:\\Users\\slrk4\\AppData\\Local\\Temp/ipykernel_11964/716984137.py:12: FutureWarning: suggest_loguniform has been deprecated in v3.0.0. This feature will be removed in v6.0.0. See https://github.com/optuna/optuna/releases/tag/v3.0.0. Use :func:`~optuna.trial.Trial.suggest_float` instead.\n",
      "  'reg_alpha': trial.suggest_loguniform('reg_alpha', 1e-8, 1.0),\n",
      "C:\\Users\\slrk4\\AppData\\Local\\Temp/ipykernel_11964/716984137.py:13: FutureWarning: suggest_loguniform has been deprecated in v3.0.0. This feature will be removed in v6.0.0. See https://github.com/optuna/optuna/releases/tag/v3.0.0. Use :func:`~optuna.trial.Trial.suggest_float` instead.\n",
      "  'reg_lambda': trial.suggest_loguniform('reg_lambda', 1e-8, 1.0),\n",
      "\u001b[32m[I 2022-11-05 10:15:51,541]\u001b[0m Trial 53 finished with value: 0.8060566065405484 and parameters: {'max_depth': 9, 'learning_rate': 0.15125063668432626, 'n_estimators': 412, 'min_child_weight': 1, 'gamma': 6.273701452764386e-05, 'subsample': 0.49917572938076626, 'colsample_bytree': 0.5000784813082914, 'reg_alpha': 0.0699562030202568, 'reg_lambda': 1.4492372799168516e-06}. Best is trial 27 with value: 0.8125824901011879.\u001b[0m\n",
      "C:\\Users\\slrk4\\AppData\\Local\\Temp/ipykernel_11964/716984137.py:6: FutureWarning: suggest_loguniform has been deprecated in v3.0.0. This feature will be removed in v6.0.0. See https://github.com/optuna/optuna/releases/tag/v3.0.0. Use :func:`~optuna.trial.Trial.suggest_float` instead.\n",
      "  'learning_rate': trial.suggest_loguniform('learning_rate', 0.01, 1.0),\n",
      "C:\\Users\\slrk4\\AppData\\Local\\Temp/ipykernel_11964/716984137.py:9: FutureWarning: suggest_loguniform has been deprecated in v3.0.0. This feature will be removed in v6.0.0. See https://github.com/optuna/optuna/releases/tag/v3.0.0. Use :func:`~optuna.trial.Trial.suggest_float` instead.\n",
      "  'gamma': trial.suggest_loguniform('gamma', 1e-8, 1.0),\n",
      "C:\\Users\\slrk4\\AppData\\Local\\Temp/ipykernel_11964/716984137.py:10: FutureWarning: suggest_loguniform has been deprecated in v3.0.0. This feature will be removed in v6.0.0. See https://github.com/optuna/optuna/releases/tag/v3.0.0. Use :func:`~optuna.trial.Trial.suggest_float` instead.\n",
      "  'subsample': trial.suggest_loguniform('subsample', 0.01, 1.0),\n",
      "C:\\Users\\slrk4\\AppData\\Local\\Temp/ipykernel_11964/716984137.py:11: FutureWarning: suggest_loguniform has been deprecated in v3.0.0. This feature will be removed in v6.0.0. See https://github.com/optuna/optuna/releases/tag/v3.0.0. Use :func:`~optuna.trial.Trial.suggest_float` instead.\n",
      "  'colsample_bytree': trial.suggest_loguniform('colsample_bytree', 0.01, 1.0),\n",
      "C:\\Users\\slrk4\\AppData\\Local\\Temp/ipykernel_11964/716984137.py:12: FutureWarning: suggest_loguniform has been deprecated in v3.0.0. This feature will be removed in v6.0.0. See https://github.com/optuna/optuna/releases/tag/v3.0.0. Use :func:`~optuna.trial.Trial.suggest_float` instead.\n",
      "  'reg_alpha': trial.suggest_loguniform('reg_alpha', 1e-8, 1.0),\n",
      "C:\\Users\\slrk4\\AppData\\Local\\Temp/ipykernel_11964/716984137.py:13: FutureWarning: suggest_loguniform has been deprecated in v3.0.0. This feature will be removed in v6.0.0. See https://github.com/optuna/optuna/releases/tag/v3.0.0. Use :func:`~optuna.trial.Trial.suggest_float` instead.\n",
      "  'reg_lambda': trial.suggest_loguniform('reg_lambda', 1e-8, 1.0),\n",
      "\u001b[32m[I 2022-11-05 10:15:59,580]\u001b[0m Trial 54 finished with value: 0.8051033875934888 and parameters: {'max_depth': 9, 'learning_rate': 0.19483540785268044, 'n_estimators': 468, 'min_child_weight': 2, 'gamma': 0.00031411906613345886, 'subsample': 0.5775352507038157, 'colsample_bytree': 0.3795654272656746, 'reg_alpha': 0.7058994023793081, 'reg_lambda': 3.8000428495808032e-06}. Best is trial 27 with value: 0.8125824901011879.\u001b[0m\n",
      "C:\\Users\\slrk4\\AppData\\Local\\Temp/ipykernel_11964/716984137.py:6: FutureWarning: suggest_loguniform has been deprecated in v3.0.0. This feature will be removed in v6.0.0. See https://github.com/optuna/optuna/releases/tag/v3.0.0. Use :func:`~optuna.trial.Trial.suggest_float` instead.\n",
      "  'learning_rate': trial.suggest_loguniform('learning_rate', 0.01, 1.0),\n",
      "C:\\Users\\slrk4\\AppData\\Local\\Temp/ipykernel_11964/716984137.py:9: FutureWarning: suggest_loguniform has been deprecated in v3.0.0. This feature will be removed in v6.0.0. See https://github.com/optuna/optuna/releases/tag/v3.0.0. Use :func:`~optuna.trial.Trial.suggest_float` instead.\n",
      "  'gamma': trial.suggest_loguniform('gamma', 1e-8, 1.0),\n",
      "C:\\Users\\slrk4\\AppData\\Local\\Temp/ipykernel_11964/716984137.py:10: FutureWarning: suggest_loguniform has been deprecated in v3.0.0. This feature will be removed in v6.0.0. See https://github.com/optuna/optuna/releases/tag/v3.0.0. Use :func:`~optuna.trial.Trial.suggest_float` instead.\n",
      "  'subsample': trial.suggest_loguniform('subsample', 0.01, 1.0),\n",
      "C:\\Users\\slrk4\\AppData\\Local\\Temp/ipykernel_11964/716984137.py:11: FutureWarning: suggest_loguniform has been deprecated in v3.0.0. This feature will be removed in v6.0.0. See https://github.com/optuna/optuna/releases/tag/v3.0.0. Use :func:`~optuna.trial.Trial.suggest_float` instead.\n",
      "  'colsample_bytree': trial.suggest_loguniform('colsample_bytree', 0.01, 1.0),\n",
      "C:\\Users\\slrk4\\AppData\\Local\\Temp/ipykernel_11964/716984137.py:12: FutureWarning: suggest_loguniform has been deprecated in v3.0.0. This feature will be removed in v6.0.0. See https://github.com/optuna/optuna/releases/tag/v3.0.0. Use :func:`~optuna.trial.Trial.suggest_float` instead.\n",
      "  'reg_alpha': trial.suggest_loguniform('reg_alpha', 1e-8, 1.0),\n",
      "C:\\Users\\slrk4\\AppData\\Local\\Temp/ipykernel_11964/716984137.py:13: FutureWarning: suggest_loguniform has been deprecated in v3.0.0. This feature will be removed in v6.0.0. See https://github.com/optuna/optuna/releases/tag/v3.0.0. Use :func:`~optuna.trial.Trial.suggest_float` instead.\n",
      "  'reg_lambda': trial.suggest_loguniform('reg_lambda', 1e-8, 1.0),\n"
     ]
    },
    {
     "name": "stderr",
     "output_type": "stream",
     "text": [
      "\u001b[32m[I 2022-11-05 10:16:05,260]\u001b[0m Trial 55 finished with value: 0.769687637483502 and parameters: {'max_depth': 9, 'learning_rate': 0.06605158613686248, 'n_estimators': 456, 'min_child_weight': 1, 'gamma': 0.00018187975978816175, 'subsample': 0.036488045086396484, 'colsample_bytree': 0.7755259866077187, 'reg_alpha': 0.031832904497667514, 'reg_lambda': 7.667917560222675e-06}. Best is trial 27 with value: 0.8125824901011879.\u001b[0m\n",
      "C:\\Users\\slrk4\\AppData\\Local\\Temp/ipykernel_11964/716984137.py:6: FutureWarning: suggest_loguniform has been deprecated in v3.0.0. This feature will be removed in v6.0.0. See https://github.com/optuna/optuna/releases/tag/v3.0.0. Use :func:`~optuna.trial.Trial.suggest_float` instead.\n",
      "  'learning_rate': trial.suggest_loguniform('learning_rate', 0.01, 1.0),\n",
      "C:\\Users\\slrk4\\AppData\\Local\\Temp/ipykernel_11964/716984137.py:9: FutureWarning: suggest_loguniform has been deprecated in v3.0.0. This feature will be removed in v6.0.0. See https://github.com/optuna/optuna/releases/tag/v3.0.0. Use :func:`~optuna.trial.Trial.suggest_float` instead.\n",
      "  'gamma': trial.suggest_loguniform('gamma', 1e-8, 1.0),\n",
      "C:\\Users\\slrk4\\AppData\\Local\\Temp/ipykernel_11964/716984137.py:10: FutureWarning: suggest_loguniform has been deprecated in v3.0.0. This feature will be removed in v6.0.0. See https://github.com/optuna/optuna/releases/tag/v3.0.0. Use :func:`~optuna.trial.Trial.suggest_float` instead.\n",
      "  'subsample': trial.suggest_loguniform('subsample', 0.01, 1.0),\n",
      "C:\\Users\\slrk4\\AppData\\Local\\Temp/ipykernel_11964/716984137.py:11: FutureWarning: suggest_loguniform has been deprecated in v3.0.0. This feature will be removed in v6.0.0. See https://github.com/optuna/optuna/releases/tag/v3.0.0. Use :func:`~optuna.trial.Trial.suggest_float` instead.\n",
      "  'colsample_bytree': trial.suggest_loguniform('colsample_bytree', 0.01, 1.0),\n",
      "C:\\Users\\slrk4\\AppData\\Local\\Temp/ipykernel_11964/716984137.py:12: FutureWarning: suggest_loguniform has been deprecated in v3.0.0. This feature will be removed in v6.0.0. See https://github.com/optuna/optuna/releases/tag/v3.0.0. Use :func:`~optuna.trial.Trial.suggest_float` instead.\n",
      "  'reg_alpha': trial.suggest_loguniform('reg_alpha', 1e-8, 1.0),\n",
      "C:\\Users\\slrk4\\AppData\\Local\\Temp/ipykernel_11964/716984137.py:13: FutureWarning: suggest_loguniform has been deprecated in v3.0.0. This feature will be removed in v6.0.0. See https://github.com/optuna/optuna/releases/tag/v3.0.0. Use :func:`~optuna.trial.Trial.suggest_float` instead.\n",
      "  'reg_lambda': trial.suggest_loguniform('reg_lambda', 1e-8, 1.0),\n",
      "\u001b[32m[I 2022-11-05 10:16:13,374]\u001b[0m Trial 56 finished with value: 0.7993840739111306 and parameters: {'max_depth': 9, 'learning_rate': 0.2519759266081108, 'n_estimators': 487, 'min_child_weight': 2, 'gamma': 5.7092297617655464e-05, 'subsample': 0.3731636950676665, 'colsample_bytree': 0.6166490574364507, 'reg_alpha': 0.008375023820984902, 'reg_lambda': 4.318246289843117e-07}. Best is trial 27 with value: 0.8125824901011879.\u001b[0m\n",
      "C:\\Users\\slrk4\\AppData\\Local\\Temp/ipykernel_11964/716984137.py:6: FutureWarning: suggest_loguniform has been deprecated in v3.0.0. This feature will be removed in v6.0.0. See https://github.com/optuna/optuna/releases/tag/v3.0.0. Use :func:`~optuna.trial.Trial.suggest_float` instead.\n",
      "  'learning_rate': trial.suggest_loguniform('learning_rate', 0.01, 1.0),\n",
      "C:\\Users\\slrk4\\AppData\\Local\\Temp/ipykernel_11964/716984137.py:9: FutureWarning: suggest_loguniform has been deprecated in v3.0.0. This feature will be removed in v6.0.0. See https://github.com/optuna/optuna/releases/tag/v3.0.0. Use :func:`~optuna.trial.Trial.suggest_float` instead.\n",
      "  'gamma': trial.suggest_loguniform('gamma', 1e-8, 1.0),\n",
      "C:\\Users\\slrk4\\AppData\\Local\\Temp/ipykernel_11964/716984137.py:10: FutureWarning: suggest_loguniform has been deprecated in v3.0.0. This feature will be removed in v6.0.0. See https://github.com/optuna/optuna/releases/tag/v3.0.0. Use :func:`~optuna.trial.Trial.suggest_float` instead.\n",
      "  'subsample': trial.suggest_loguniform('subsample', 0.01, 1.0),\n",
      "C:\\Users\\slrk4\\AppData\\Local\\Temp/ipykernel_11964/716984137.py:11: FutureWarning: suggest_loguniform has been deprecated in v3.0.0. This feature will be removed in v6.0.0. See https://github.com/optuna/optuna/releases/tag/v3.0.0. Use :func:`~optuna.trial.Trial.suggest_float` instead.\n",
      "  'colsample_bytree': trial.suggest_loguniform('colsample_bytree', 0.01, 1.0),\n",
      "C:\\Users\\slrk4\\AppData\\Local\\Temp/ipykernel_11964/716984137.py:12: FutureWarning: suggest_loguniform has been deprecated in v3.0.0. This feature will be removed in v6.0.0. See https://github.com/optuna/optuna/releases/tag/v3.0.0. Use :func:`~optuna.trial.Trial.suggest_float` instead.\n",
      "  'reg_alpha': trial.suggest_loguniform('reg_alpha', 1e-8, 1.0),\n",
      "C:\\Users\\slrk4\\AppData\\Local\\Temp/ipykernel_11964/716984137.py:13: FutureWarning: suggest_loguniform has been deprecated in v3.0.0. This feature will be removed in v6.0.0. See https://github.com/optuna/optuna/releases/tag/v3.0.0. Use :func:`~optuna.trial.Trial.suggest_float` instead.\n",
      "  'reg_lambda': trial.suggest_loguniform('reg_lambda', 1e-8, 1.0),\n",
      "\u001b[32m[I 2022-11-05 10:16:23,714]\u001b[0m Trial 57 finished with value: 0.8155154714767561 and parameters: {'max_depth': 8, 'learning_rate': 0.08849216159709883, 'n_estimators': 383, 'min_child_weight': 1, 'gamma': 0.0005944996549605411, 'subsample': 0.8132147729397227, 'colsample_bytree': 0.7991795366506667, 'reg_alpha': 0.1220461750129562, 'reg_lambda': 4.539808245049455e-08}. Best is trial 57 with value: 0.8155154714767561.\u001b[0m\n",
      "C:\\Users\\slrk4\\AppData\\Local\\Temp/ipykernel_11964/716984137.py:6: FutureWarning: suggest_loguniform has been deprecated in v3.0.0. This feature will be removed in v6.0.0. See https://github.com/optuna/optuna/releases/tag/v3.0.0. Use :func:`~optuna.trial.Trial.suggest_float` instead.\n",
      "  'learning_rate': trial.suggest_loguniform('learning_rate', 0.01, 1.0),\n",
      "C:\\Users\\slrk4\\AppData\\Local\\Temp/ipykernel_11964/716984137.py:9: FutureWarning: suggest_loguniform has been deprecated in v3.0.0. This feature will be removed in v6.0.0. See https://github.com/optuna/optuna/releases/tag/v3.0.0. Use :func:`~optuna.trial.Trial.suggest_float` instead.\n",
      "  'gamma': trial.suggest_loguniform('gamma', 1e-8, 1.0),\n",
      "C:\\Users\\slrk4\\AppData\\Local\\Temp/ipykernel_11964/716984137.py:10: FutureWarning: suggest_loguniform has been deprecated in v3.0.0. This feature will be removed in v6.0.0. See https://github.com/optuna/optuna/releases/tag/v3.0.0. Use :func:`~optuna.trial.Trial.suggest_float` instead.\n",
      "  'subsample': trial.suggest_loguniform('subsample', 0.01, 1.0),\n",
      "C:\\Users\\slrk4\\AppData\\Local\\Temp/ipykernel_11964/716984137.py:11: FutureWarning: suggest_loguniform has been deprecated in v3.0.0. This feature will be removed in v6.0.0. See https://github.com/optuna/optuna/releases/tag/v3.0.0. Use :func:`~optuna.trial.Trial.suggest_float` instead.\n",
      "  'colsample_bytree': trial.suggest_loguniform('colsample_bytree', 0.01, 1.0),\n",
      "C:\\Users\\slrk4\\AppData\\Local\\Temp/ipykernel_11964/716984137.py:12: FutureWarning: suggest_loguniform has been deprecated in v3.0.0. This feature will be removed in v6.0.0. See https://github.com/optuna/optuna/releases/tag/v3.0.0. Use :func:`~optuna.trial.Trial.suggest_float` instead.\n",
      "  'reg_alpha': trial.suggest_loguniform('reg_alpha', 1e-8, 1.0),\n",
      "C:\\Users\\slrk4\\AppData\\Local\\Temp/ipykernel_11964/716984137.py:13: FutureWarning: suggest_loguniform has been deprecated in v3.0.0. This feature will be removed in v6.0.0. See https://github.com/optuna/optuna/releases/tag/v3.0.0. Use :func:`~optuna.trial.Trial.suggest_float` instead.\n",
      "  'reg_lambda': trial.suggest_loguniform('reg_lambda', 1e-8, 1.0),\n",
      "\u001b[32m[I 2022-11-05 10:16:34,790]\u001b[0m Trial 58 finished with value: 0.8160287432174805 and parameters: {'max_depth': 9, 'learning_rate': 0.08221794429057803, 'n_estimators': 382, 'min_child_weight': 1, 'gamma': 0.0008432422973644293, 'subsample': 0.5905638717090548, 'colsample_bytree': 0.9912729248729877, 'reg_alpha': 0.14759350710282498, 'reg_lambda': 6.490649424779601e-08}. Best is trial 58 with value: 0.8160287432174805.\u001b[0m\n",
      "C:\\Users\\slrk4\\AppData\\Local\\Temp/ipykernel_11964/716984137.py:6: FutureWarning: suggest_loguniform has been deprecated in v3.0.0. This feature will be removed in v6.0.0. See https://github.com/optuna/optuna/releases/tag/v3.0.0. Use :func:`~optuna.trial.Trial.suggest_float` instead.\n",
      "  'learning_rate': trial.suggest_loguniform('learning_rate', 0.01, 1.0),\n",
      "C:\\Users\\slrk4\\AppData\\Local\\Temp/ipykernel_11964/716984137.py:9: FutureWarning: suggest_loguniform has been deprecated in v3.0.0. This feature will be removed in v6.0.0. See https://github.com/optuna/optuna/releases/tag/v3.0.0. Use :func:`~optuna.trial.Trial.suggest_float` instead.\n",
      "  'gamma': trial.suggest_loguniform('gamma', 1e-8, 1.0),\n",
      "C:\\Users\\slrk4\\AppData\\Local\\Temp/ipykernel_11964/716984137.py:10: FutureWarning: suggest_loguniform has been deprecated in v3.0.0. This feature will be removed in v6.0.0. See https://github.com/optuna/optuna/releases/tag/v3.0.0. Use :func:`~optuna.trial.Trial.suggest_float` instead.\n",
      "  'subsample': trial.suggest_loguniform('subsample', 0.01, 1.0),\n",
      "C:\\Users\\slrk4\\AppData\\Local\\Temp/ipykernel_11964/716984137.py:11: FutureWarning: suggest_loguniform has been deprecated in v3.0.0. This feature will be removed in v6.0.0. See https://github.com/optuna/optuna/releases/tag/v3.0.0. Use :func:`~optuna.trial.Trial.suggest_float` instead.\n",
      "  'colsample_bytree': trial.suggest_loguniform('colsample_bytree', 0.01, 1.0),\n",
      "C:\\Users\\slrk4\\AppData\\Local\\Temp/ipykernel_11964/716984137.py:12: FutureWarning: suggest_loguniform has been deprecated in v3.0.0. This feature will be removed in v6.0.0. See https://github.com/optuna/optuna/releases/tag/v3.0.0. Use :func:`~optuna.trial.Trial.suggest_float` instead.\n",
      "  'reg_alpha': trial.suggest_loguniform('reg_alpha', 1e-8, 1.0),\n",
      "C:\\Users\\slrk4\\AppData\\Local\\Temp/ipykernel_11964/716984137.py:13: FutureWarning: suggest_loguniform has been deprecated in v3.0.0. This feature will be removed in v6.0.0. See https://github.com/optuna/optuna/releases/tag/v3.0.0. Use :func:`~optuna.trial.Trial.suggest_float` instead.\n",
      "  'reg_lambda': trial.suggest_loguniform('reg_lambda', 1e-8, 1.0),\n"
     ]
    },
    {
     "name": "stderr",
     "output_type": "stream",
     "text": [
      "\u001b[32m[I 2022-11-05 10:16:43,715]\u001b[0m Trial 59 finished with value: 0.8102361050007333 and parameters: {'max_depth': 8, 'learning_rate': 0.07587507319244549, 'n_estimators': 389, 'min_child_weight': 2, 'gamma': 0.0006700263852185738, 'subsample': 0.7729849827421579, 'colsample_bytree': 0.8321994467473894, 'reg_alpha': 0.16327935991251716, 'reg_lambda': 4.139628332378416e-08}. Best is trial 58 with value: 0.8160287432174805.\u001b[0m\n",
      "C:\\Users\\slrk4\\AppData\\Local\\Temp/ipykernel_11964/716984137.py:6: FutureWarning: suggest_loguniform has been deprecated in v3.0.0. This feature will be removed in v6.0.0. See https://github.com/optuna/optuna/releases/tag/v3.0.0. Use :func:`~optuna.trial.Trial.suggest_float` instead.\n",
      "  'learning_rate': trial.suggest_loguniform('learning_rate', 0.01, 1.0),\n",
      "C:\\Users\\slrk4\\AppData\\Local\\Temp/ipykernel_11964/716984137.py:9: FutureWarning: suggest_loguniform has been deprecated in v3.0.0. This feature will be removed in v6.0.0. See https://github.com/optuna/optuna/releases/tag/v3.0.0. Use :func:`~optuna.trial.Trial.suggest_float` instead.\n",
      "  'gamma': trial.suggest_loguniform('gamma', 1e-8, 1.0),\n",
      "C:\\Users\\slrk4\\AppData\\Local\\Temp/ipykernel_11964/716984137.py:10: FutureWarning: suggest_loguniform has been deprecated in v3.0.0. This feature will be removed in v6.0.0. See https://github.com/optuna/optuna/releases/tag/v3.0.0. Use :func:`~optuna.trial.Trial.suggest_float` instead.\n",
      "  'subsample': trial.suggest_loguniform('subsample', 0.01, 1.0),\n",
      "C:\\Users\\slrk4\\AppData\\Local\\Temp/ipykernel_11964/716984137.py:11: FutureWarning: suggest_loguniform has been deprecated in v3.0.0. This feature will be removed in v6.0.0. See https://github.com/optuna/optuna/releases/tag/v3.0.0. Use :func:`~optuna.trial.Trial.suggest_float` instead.\n",
      "  'colsample_bytree': trial.suggest_loguniform('colsample_bytree', 0.01, 1.0),\n",
      "C:\\Users\\slrk4\\AppData\\Local\\Temp/ipykernel_11964/716984137.py:12: FutureWarning: suggest_loguniform has been deprecated in v3.0.0. This feature will be removed in v6.0.0. See https://github.com/optuna/optuna/releases/tag/v3.0.0. Use :func:`~optuna.trial.Trial.suggest_float` instead.\n",
      "  'reg_alpha': trial.suggest_loguniform('reg_alpha', 1e-8, 1.0),\n",
      "C:\\Users\\slrk4\\AppData\\Local\\Temp/ipykernel_11964/716984137.py:13: FutureWarning: suggest_loguniform has been deprecated in v3.0.0. This feature will be removed in v6.0.0. See https://github.com/optuna/optuna/releases/tag/v3.0.0. Use :func:`~optuna.trial.Trial.suggest_float` instead.\n",
      "  'reg_lambda': trial.suggest_loguniform('reg_lambda', 1e-8, 1.0),\n",
      "\u001b[32m[I 2022-11-05 10:16:53,890]\u001b[0m Trial 60 finished with value: 0.8056899838686025 and parameters: {'max_depth': 9, 'learning_rate': 0.035375526938573904, 'n_estimators': 360, 'min_child_weight': 2, 'gamma': 0.0009523525434847383, 'subsample': 0.8015294459169202, 'colsample_bytree': 0.9546374860882932, 'reg_alpha': 0.16456356400917657, 'reg_lambda': 4.802247896446459e-08}. Best is trial 58 with value: 0.8160287432174805.\u001b[0m\n",
      "C:\\Users\\slrk4\\AppData\\Local\\Temp/ipykernel_11964/716984137.py:6: FutureWarning: suggest_loguniform has been deprecated in v3.0.0. This feature will be removed in v6.0.0. See https://github.com/optuna/optuna/releases/tag/v3.0.0. Use :func:`~optuna.trial.Trial.suggest_float` instead.\n",
      "  'learning_rate': trial.suggest_loguniform('learning_rate', 0.01, 1.0),\n",
      "C:\\Users\\slrk4\\AppData\\Local\\Temp/ipykernel_11964/716984137.py:9: FutureWarning: suggest_loguniform has been deprecated in v3.0.0. This feature will be removed in v6.0.0. See https://github.com/optuna/optuna/releases/tag/v3.0.0. Use :func:`~optuna.trial.Trial.suggest_float` instead.\n",
      "  'gamma': trial.suggest_loguniform('gamma', 1e-8, 1.0),\n",
      "C:\\Users\\slrk4\\AppData\\Local\\Temp/ipykernel_11964/716984137.py:10: FutureWarning: suggest_loguniform has been deprecated in v3.0.0. This feature will be removed in v6.0.0. See https://github.com/optuna/optuna/releases/tag/v3.0.0. Use :func:`~optuna.trial.Trial.suggest_float` instead.\n",
      "  'subsample': trial.suggest_loguniform('subsample', 0.01, 1.0),\n",
      "C:\\Users\\slrk4\\AppData\\Local\\Temp/ipykernel_11964/716984137.py:11: FutureWarning: suggest_loguniform has been deprecated in v3.0.0. This feature will be removed in v6.0.0. See https://github.com/optuna/optuna/releases/tag/v3.0.0. Use :func:`~optuna.trial.Trial.suggest_float` instead.\n",
      "  'colsample_bytree': trial.suggest_loguniform('colsample_bytree', 0.01, 1.0),\n",
      "C:\\Users\\slrk4\\AppData\\Local\\Temp/ipykernel_11964/716984137.py:12: FutureWarning: suggest_loguniform has been deprecated in v3.0.0. This feature will be removed in v6.0.0. See https://github.com/optuna/optuna/releases/tag/v3.0.0. Use :func:`~optuna.trial.Trial.suggest_float` instead.\n",
      "  'reg_alpha': trial.suggest_loguniform('reg_alpha', 1e-8, 1.0),\n",
      "C:\\Users\\slrk4\\AppData\\Local\\Temp/ipykernel_11964/716984137.py:13: FutureWarning: suggest_loguniform has been deprecated in v3.0.0. This feature will be removed in v6.0.0. See https://github.com/optuna/optuna/releases/tag/v3.0.0. Use :func:`~optuna.trial.Trial.suggest_float` instead.\n",
      "  'reg_lambda': trial.suggest_loguniform('reg_lambda', 1e-8, 1.0),\n",
      "\u001b[32m[I 2022-11-05 10:16:58,434]\u001b[0m Trial 61 finished with value: 0.7813462384513858 and parameters: {'max_depth': 8, 'learning_rate': 0.08644591464517412, 'n_estimators': 381, 'min_child_weight': 1, 'gamma': 0.0008274875005790462, 'subsample': 0.07237708986263032, 'colsample_bytree': 0.772457834958836, 'reg_alpha': 0.34899163810766554, 'reg_lambda': 3.13746488787202e-08}. Best is trial 58 with value: 0.8160287432174805.\u001b[0m\n",
      "C:\\Users\\slrk4\\AppData\\Local\\Temp/ipykernel_11964/716984137.py:6: FutureWarning: suggest_loguniform has been deprecated in v3.0.0. This feature will be removed in v6.0.0. See https://github.com/optuna/optuna/releases/tag/v3.0.0. Use :func:`~optuna.trial.Trial.suggest_float` instead.\n",
      "  'learning_rate': trial.suggest_loguniform('learning_rate', 0.01, 1.0),\n",
      "C:\\Users\\slrk4\\AppData\\Local\\Temp/ipykernel_11964/716984137.py:9: FutureWarning: suggest_loguniform has been deprecated in v3.0.0. This feature will be removed in v6.0.0. See https://github.com/optuna/optuna/releases/tag/v3.0.0. Use :func:`~optuna.trial.Trial.suggest_float` instead.\n",
      "  'gamma': trial.suggest_loguniform('gamma', 1e-8, 1.0),\n",
      "C:\\Users\\slrk4\\AppData\\Local\\Temp/ipykernel_11964/716984137.py:10: FutureWarning: suggest_loguniform has been deprecated in v3.0.0. This feature will be removed in v6.0.0. See https://github.com/optuna/optuna/releases/tag/v3.0.0. Use :func:`~optuna.trial.Trial.suggest_float` instead.\n",
      "  'subsample': trial.suggest_loguniform('subsample', 0.01, 1.0),\n",
      "C:\\Users\\slrk4\\AppData\\Local\\Temp/ipykernel_11964/716984137.py:11: FutureWarning: suggest_loguniform has been deprecated in v3.0.0. This feature will be removed in v6.0.0. See https://github.com/optuna/optuna/releases/tag/v3.0.0. Use :func:`~optuna.trial.Trial.suggest_float` instead.\n",
      "  'colsample_bytree': trial.suggest_loguniform('colsample_bytree', 0.01, 1.0),\n",
      "C:\\Users\\slrk4\\AppData\\Local\\Temp/ipykernel_11964/716984137.py:12: FutureWarning: suggest_loguniform has been deprecated in v3.0.0. This feature will be removed in v6.0.0. See https://github.com/optuna/optuna/releases/tag/v3.0.0. Use :func:`~optuna.trial.Trial.suggest_float` instead.\n",
      "  'reg_alpha': trial.suggest_loguniform('reg_alpha', 1e-8, 1.0),\n",
      "C:\\Users\\slrk4\\AppData\\Local\\Temp/ipykernel_11964/716984137.py:13: FutureWarning: suggest_loguniform has been deprecated in v3.0.0. This feature will be removed in v6.0.0. See https://github.com/optuna/optuna/releases/tag/v3.0.0. Use :func:`~optuna.trial.Trial.suggest_float` instead.\n",
      "  'reg_lambda': trial.suggest_loguniform('reg_lambda', 1e-8, 1.0),\n",
      "\u001b[32m[I 2022-11-05 10:17:06,467]\u001b[0m Trial 62 finished with value: 0.8089162633817275 and parameters: {'max_depth': 8, 'learning_rate': 0.076637015465977, 'n_estimators': 345, 'min_child_weight': 2, 'gamma': 0.0022996739825213532, 'subsample': 0.6423259139539117, 'colsample_bytree': 0.8406051719995528, 'reg_alpha': 0.10126993267176555, 'reg_lambda': 6.632730881060279e-08}. Best is trial 58 with value: 0.8160287432174805.\u001b[0m\n",
      "C:\\Users\\slrk4\\AppData\\Local\\Temp/ipykernel_11964/716984137.py:6: FutureWarning: suggest_loguniform has been deprecated in v3.0.0. This feature will be removed in v6.0.0. See https://github.com/optuna/optuna/releases/tag/v3.0.0. Use :func:`~optuna.trial.Trial.suggest_float` instead.\n",
      "  'learning_rate': trial.suggest_loguniform('learning_rate', 0.01, 1.0),\n",
      "C:\\Users\\slrk4\\AppData\\Local\\Temp/ipykernel_11964/716984137.py:9: FutureWarning: suggest_loguniform has been deprecated in v3.0.0. This feature will be removed in v6.0.0. See https://github.com/optuna/optuna/releases/tag/v3.0.0. Use :func:`~optuna.trial.Trial.suggest_float` instead.\n",
      "  'gamma': trial.suggest_loguniform('gamma', 1e-8, 1.0),\n",
      "C:\\Users\\slrk4\\AppData\\Local\\Temp/ipykernel_11964/716984137.py:10: FutureWarning: suggest_loguniform has been deprecated in v3.0.0. This feature will be removed in v6.0.0. See https://github.com/optuna/optuna/releases/tag/v3.0.0. Use :func:`~optuna.trial.Trial.suggest_float` instead.\n",
      "  'subsample': trial.suggest_loguniform('subsample', 0.01, 1.0),\n",
      "C:\\Users\\slrk4\\AppData\\Local\\Temp/ipykernel_11964/716984137.py:11: FutureWarning: suggest_loguniform has been deprecated in v3.0.0. This feature will be removed in v6.0.0. See https://github.com/optuna/optuna/releases/tag/v3.0.0. Use :func:`~optuna.trial.Trial.suggest_float` instead.\n",
      "  'colsample_bytree': trial.suggest_loguniform('colsample_bytree', 0.01, 1.0),\n",
      "C:\\Users\\slrk4\\AppData\\Local\\Temp/ipykernel_11964/716984137.py:12: FutureWarning: suggest_loguniform has been deprecated in v3.0.0. This feature will be removed in v6.0.0. See https://github.com/optuna/optuna/releases/tag/v3.0.0. Use :func:`~optuna.trial.Trial.suggest_float` instead.\n",
      "  'reg_alpha': trial.suggest_loguniform('reg_alpha', 1e-8, 1.0),\n",
      "C:\\Users\\slrk4\\AppData\\Local\\Temp/ipykernel_11964/716984137.py:13: FutureWarning: suggest_loguniform has been deprecated in v3.0.0. This feature will be removed in v6.0.0. See https://github.com/optuna/optuna/releases/tag/v3.0.0. Use :func:`~optuna.trial.Trial.suggest_float` instead.\n",
      "  'reg_lambda': trial.suggest_loguniform('reg_lambda', 1e-8, 1.0),\n"
     ]
    },
    {
     "name": "stderr",
     "output_type": "stream",
     "text": [
      "\u001b[32m[I 2022-11-05 10:17:14,624]\u001b[0m Trial 63 finished with value: 0.8047367649215428 and parameters: {'max_depth': 8, 'learning_rate': 0.04451000056565899, 'n_estimators': 387, 'min_child_weight': 1, 'gamma': 0.016184632979409353, 'subsample': 0.43694846343839644, 'colsample_bytree': 0.989939488070768, 'reg_alpha': 0.32763062131512344, 'reg_lambda': 1.1675375216931281e-08}. Best is trial 58 with value: 0.8160287432174805.\u001b[0m\n",
      "C:\\Users\\slrk4\\AppData\\Local\\Temp/ipykernel_11964/716984137.py:6: FutureWarning: suggest_loguniform has been deprecated in v3.0.0. This feature will be removed in v6.0.0. See https://github.com/optuna/optuna/releases/tag/v3.0.0. Use :func:`~optuna.trial.Trial.suggest_float` instead.\n",
      "  'learning_rate': trial.suggest_loguniform('learning_rate', 0.01, 1.0),\n",
      "C:\\Users\\slrk4\\AppData\\Local\\Temp/ipykernel_11964/716984137.py:9: FutureWarning: suggest_loguniform has been deprecated in v3.0.0. This feature will be removed in v6.0.0. See https://github.com/optuna/optuna/releases/tag/v3.0.0. Use :func:`~optuna.trial.Trial.suggest_float` instead.\n",
      "  'gamma': trial.suggest_loguniform('gamma', 1e-8, 1.0),\n",
      "C:\\Users\\slrk4\\AppData\\Local\\Temp/ipykernel_11964/716984137.py:10: FutureWarning: suggest_loguniform has been deprecated in v3.0.0. This feature will be removed in v6.0.0. See https://github.com/optuna/optuna/releases/tag/v3.0.0. Use :func:`~optuna.trial.Trial.suggest_float` instead.\n",
      "  'subsample': trial.suggest_loguniform('subsample', 0.01, 1.0),\n",
      "C:\\Users\\slrk4\\AppData\\Local\\Temp/ipykernel_11964/716984137.py:11: FutureWarning: suggest_loguniform has been deprecated in v3.0.0. This feature will be removed in v6.0.0. See https://github.com/optuna/optuna/releases/tag/v3.0.0. Use :func:`~optuna.trial.Trial.suggest_float` instead.\n",
      "  'colsample_bytree': trial.suggest_loguniform('colsample_bytree', 0.01, 1.0),\n",
      "C:\\Users\\slrk4\\AppData\\Local\\Temp/ipykernel_11964/716984137.py:12: FutureWarning: suggest_loguniform has been deprecated in v3.0.0. This feature will be removed in v6.0.0. See https://github.com/optuna/optuna/releases/tag/v3.0.0. Use :func:`~optuna.trial.Trial.suggest_float` instead.\n",
      "  'reg_alpha': trial.suggest_loguniform('reg_alpha', 1e-8, 1.0),\n",
      "C:\\Users\\slrk4\\AppData\\Local\\Temp/ipykernel_11964/716984137.py:13: FutureWarning: suggest_loguniform has been deprecated in v3.0.0. This feature will be removed in v6.0.0. See https://github.com/optuna/optuna/releases/tag/v3.0.0. Use :func:`~optuna.trial.Trial.suggest_float` instead.\n",
      "  'reg_lambda': trial.suggest_loguniform('reg_lambda', 1e-8, 1.0),\n",
      "\u001b[32m[I 2022-11-05 10:17:17,073]\u001b[0m Trial 64 finished with value: 0.7709341545681185 and parameters: {'max_depth': 9, 'learning_rate': 0.058158672498944984, 'n_estimators': 314, 'min_child_weight': 1, 'gamma': 0.005052609518089741, 'subsample': 0.7654523107523515, 'colsample_bytree': 0.048070146613977016, 'reg_alpha': 0.03194231666184181, 'reg_lambda': 9.23985584064371e-08}. Best is trial 58 with value: 0.8160287432174805.\u001b[0m\n",
      "C:\\Users\\slrk4\\AppData\\Local\\Temp/ipykernel_11964/716984137.py:6: FutureWarning: suggest_loguniform has been deprecated in v3.0.0. This feature will be removed in v6.0.0. See https://github.com/optuna/optuna/releases/tag/v3.0.0. Use :func:`~optuna.trial.Trial.suggest_float` instead.\n",
      "  'learning_rate': trial.suggest_loguniform('learning_rate', 0.01, 1.0),\n",
      "C:\\Users\\slrk4\\AppData\\Local\\Temp/ipykernel_11964/716984137.py:9: FutureWarning: suggest_loguniform has been deprecated in v3.0.0. This feature will be removed in v6.0.0. See https://github.com/optuna/optuna/releases/tag/v3.0.0. Use :func:`~optuna.trial.Trial.suggest_float` instead.\n",
      "  'gamma': trial.suggest_loguniform('gamma', 1e-8, 1.0),\n",
      "C:\\Users\\slrk4\\AppData\\Local\\Temp/ipykernel_11964/716984137.py:10: FutureWarning: suggest_loguniform has been deprecated in v3.0.0. This feature will be removed in v6.0.0. See https://github.com/optuna/optuna/releases/tag/v3.0.0. Use :func:`~optuna.trial.Trial.suggest_float` instead.\n",
      "  'subsample': trial.suggest_loguniform('subsample', 0.01, 1.0),\n",
      "C:\\Users\\slrk4\\AppData\\Local\\Temp/ipykernel_11964/716984137.py:11: FutureWarning: suggest_loguniform has been deprecated in v3.0.0. This feature will be removed in v6.0.0. See https://github.com/optuna/optuna/releases/tag/v3.0.0. Use :func:`~optuna.trial.Trial.suggest_float` instead.\n",
      "  'colsample_bytree': trial.suggest_loguniform('colsample_bytree', 0.01, 1.0),\n",
      "C:\\Users\\slrk4\\AppData\\Local\\Temp/ipykernel_11964/716984137.py:12: FutureWarning: suggest_loguniform has been deprecated in v3.0.0. This feature will be removed in v6.0.0. See https://github.com/optuna/optuna/releases/tag/v3.0.0. Use :func:`~optuna.trial.Trial.suggest_float` instead.\n",
      "  'reg_alpha': trial.suggest_loguniform('reg_alpha', 1e-8, 1.0),\n",
      "C:\\Users\\slrk4\\AppData\\Local\\Temp/ipykernel_11964/716984137.py:13: FutureWarning: suggest_loguniform has been deprecated in v3.0.0. This feature will be removed in v6.0.0. See https://github.com/optuna/optuna/releases/tag/v3.0.0. Use :func:`~optuna.trial.Trial.suggest_float` instead.\n",
      "  'reg_lambda': trial.suggest_loguniform('reg_lambda', 1e-8, 1.0),\n",
      "\u001b[32m[I 2022-11-05 10:17:25,434]\u001b[0m Trial 65 finished with value: 0.8088429388473383 and parameters: {'max_depth': 8, 'learning_rate': 0.11734472246546587, 'n_estimators': 423, 'min_child_weight': 2, 'gamma': 0.0005815023135860237, 'subsample': 0.5003734011688157, 'colsample_bytree': 0.8237104159294567, 'reg_alpha': 0.7739938913964602, 'reg_lambda': 2.3040702238523987e-08}. Best is trial 58 with value: 0.8160287432174805.\u001b[0m\n",
      "C:\\Users\\slrk4\\AppData\\Local\\Temp/ipykernel_11964/716984137.py:6: FutureWarning: suggest_loguniform has been deprecated in v3.0.0. This feature will be removed in v6.0.0. See https://github.com/optuna/optuna/releases/tag/v3.0.0. Use :func:`~optuna.trial.Trial.suggest_float` instead.\n",
      "  'learning_rate': trial.suggest_loguniform('learning_rate', 0.01, 1.0),\n",
      "C:\\Users\\slrk4\\AppData\\Local\\Temp/ipykernel_11964/716984137.py:9: FutureWarning: suggest_loguniform has been deprecated in v3.0.0. This feature will be removed in v6.0.0. See https://github.com/optuna/optuna/releases/tag/v3.0.0. Use :func:`~optuna.trial.Trial.suggest_float` instead.\n",
      "  'gamma': trial.suggest_loguniform('gamma', 1e-8, 1.0),\n",
      "C:\\Users\\slrk4\\AppData\\Local\\Temp/ipykernel_11964/716984137.py:10: FutureWarning: suggest_loguniform has been deprecated in v3.0.0. This feature will be removed in v6.0.0. See https://github.com/optuna/optuna/releases/tag/v3.0.0. Use :func:`~optuna.trial.Trial.suggest_float` instead.\n",
      "  'subsample': trial.suggest_loguniform('subsample', 0.01, 1.0),\n",
      "C:\\Users\\slrk4\\AppData\\Local\\Temp/ipykernel_11964/716984137.py:11: FutureWarning: suggest_loguniform has been deprecated in v3.0.0. This feature will be removed in v6.0.0. See https://github.com/optuna/optuna/releases/tag/v3.0.0. Use :func:`~optuna.trial.Trial.suggest_float` instead.\n",
      "  'colsample_bytree': trial.suggest_loguniform('colsample_bytree', 0.01, 1.0),\n",
      "C:\\Users\\slrk4\\AppData\\Local\\Temp/ipykernel_11964/716984137.py:12: FutureWarning: suggest_loguniform has been deprecated in v3.0.0. This feature will be removed in v6.0.0. See https://github.com/optuna/optuna/releases/tag/v3.0.0. Use :func:`~optuna.trial.Trial.suggest_float` instead.\n",
      "  'reg_alpha': trial.suggest_loguniform('reg_alpha', 1e-8, 1.0),\n",
      "C:\\Users\\slrk4\\AppData\\Local\\Temp/ipykernel_11964/716984137.py:13: FutureWarning: suggest_loguniform has been deprecated in v3.0.0. This feature will be removed in v6.0.0. See https://github.com/optuna/optuna/releases/tag/v3.0.0. Use :func:`~optuna.trial.Trial.suggest_float` instead.\n",
      "  'reg_lambda': trial.suggest_loguniform('reg_lambda', 1e-8, 1.0),\n",
      "\u001b[32m[I 2022-11-05 10:17:27,057]\u001b[0m Trial 66 finished with value: 0.7462237864789558 and parameters: {'max_depth': 1, 'learning_rate': 0.09219495361964304, 'n_estimators': 328, 'min_child_weight': 3, 'gamma': 0.0002364729408366063, 'subsample': 0.8476912097205294, 'colsample_bytree': 0.6181596074065178, 'reg_alpha': 0.11858978970696785, 'reg_lambda': 3.2042297669032513e-07}. Best is trial 58 with value: 0.8160287432174805.\u001b[0m\n",
      "C:\\Users\\slrk4\\AppData\\Local\\Temp/ipykernel_11964/716984137.py:6: FutureWarning: suggest_loguniform has been deprecated in v3.0.0. This feature will be removed in v6.0.0. See https://github.com/optuna/optuna/releases/tag/v3.0.0. Use :func:`~optuna.trial.Trial.suggest_float` instead.\n",
      "  'learning_rate': trial.suggest_loguniform('learning_rate', 0.01, 1.0),\n",
      "C:\\Users\\slrk4\\AppData\\Local\\Temp/ipykernel_11964/716984137.py:9: FutureWarning: suggest_loguniform has been deprecated in v3.0.0. This feature will be removed in v6.0.0. See https://github.com/optuna/optuna/releases/tag/v3.0.0. Use :func:`~optuna.trial.Trial.suggest_float` instead.\n",
      "  'gamma': trial.suggest_loguniform('gamma', 1e-8, 1.0),\n",
      "C:\\Users\\slrk4\\AppData\\Local\\Temp/ipykernel_11964/716984137.py:10: FutureWarning: suggest_loguniform has been deprecated in v3.0.0. This feature will be removed in v6.0.0. See https://github.com/optuna/optuna/releases/tag/v3.0.0. Use :func:`~optuna.trial.Trial.suggest_float` instead.\n",
      "  'subsample': trial.suggest_loguniform('subsample', 0.01, 1.0),\n",
      "C:\\Users\\slrk4\\AppData\\Local\\Temp/ipykernel_11964/716984137.py:11: FutureWarning: suggest_loguniform has been deprecated in v3.0.0. This feature will be removed in v6.0.0. See https://github.com/optuna/optuna/releases/tag/v3.0.0. Use :func:`~optuna.trial.Trial.suggest_float` instead.\n",
      "  'colsample_bytree': trial.suggest_loguniform('colsample_bytree', 0.01, 1.0),\n",
      "C:\\Users\\slrk4\\AppData\\Local\\Temp/ipykernel_11964/716984137.py:12: FutureWarning: suggest_loguniform has been deprecated in v3.0.0. This feature will be removed in v6.0.0. See https://github.com/optuna/optuna/releases/tag/v3.0.0. Use :func:`~optuna.trial.Trial.suggest_float` instead.\n",
      "  'reg_alpha': trial.suggest_loguniform('reg_alpha', 1e-8, 1.0),\n",
      "C:\\Users\\slrk4\\AppData\\Local\\Temp/ipykernel_11964/716984137.py:13: FutureWarning: suggest_loguniform has been deprecated in v3.0.0. This feature will be removed in v6.0.0. See https://github.com/optuna/optuna/releases/tag/v3.0.0. Use :func:`~optuna.trial.Trial.suggest_float` instead.\n",
      "  'reg_lambda': trial.suggest_loguniform('reg_lambda', 1e-8, 1.0),\n"
     ]
    },
    {
     "name": "stderr",
     "output_type": "stream",
     "text": [
      "\u001b[32m[I 2022-11-05 10:17:30,089]\u001b[0m Trial 67 finished with value: 0.7564158967590556 and parameters: {'max_depth': 7, 'learning_rate': 0.028008095926724187, 'n_estimators': 411, 'min_child_weight': 1, 'gamma': 0.0001154100914123654, 'subsample': 0.601171301288622, 'colsample_bytree': 0.010271858500545234, 'reg_alpha': 0.023117739333760233, 'reg_lambda': 1.995394243285665e-08}. Best is trial 58 with value: 0.8160287432174805.\u001b[0m\n",
      "C:\\Users\\slrk4\\AppData\\Local\\Temp/ipykernel_11964/716984137.py:6: FutureWarning: suggest_loguniform has been deprecated in v3.0.0. This feature will be removed in v6.0.0. See https://github.com/optuna/optuna/releases/tag/v3.0.0. Use :func:`~optuna.trial.Trial.suggest_float` instead.\n",
      "  'learning_rate': trial.suggest_loguniform('learning_rate', 0.01, 1.0),\n",
      "C:\\Users\\slrk4\\AppData\\Local\\Temp/ipykernel_11964/716984137.py:9: FutureWarning: suggest_loguniform has been deprecated in v3.0.0. This feature will be removed in v6.0.0. See https://github.com/optuna/optuna/releases/tag/v3.0.0. Use :func:`~optuna.trial.Trial.suggest_float` instead.\n",
      "  'gamma': trial.suggest_loguniform('gamma', 1e-8, 1.0),\n",
      "C:\\Users\\slrk4\\AppData\\Local\\Temp/ipykernel_11964/716984137.py:10: FutureWarning: suggest_loguniform has been deprecated in v3.0.0. This feature will be removed in v6.0.0. See https://github.com/optuna/optuna/releases/tag/v3.0.0. Use :func:`~optuna.trial.Trial.suggest_float` instead.\n",
      "  'subsample': trial.suggest_loguniform('subsample', 0.01, 1.0),\n",
      "C:\\Users\\slrk4\\AppData\\Local\\Temp/ipykernel_11964/716984137.py:11: FutureWarning: suggest_loguniform has been deprecated in v3.0.0. This feature will be removed in v6.0.0. See https://github.com/optuna/optuna/releases/tag/v3.0.0. Use :func:`~optuna.trial.Trial.suggest_float` instead.\n",
      "  'colsample_bytree': trial.suggest_loguniform('colsample_bytree', 0.01, 1.0),\n",
      "C:\\Users\\slrk4\\AppData\\Local\\Temp/ipykernel_11964/716984137.py:12: FutureWarning: suggest_loguniform has been deprecated in v3.0.0. This feature will be removed in v6.0.0. See https://github.com/optuna/optuna/releases/tag/v3.0.0. Use :func:`~optuna.trial.Trial.suggest_float` instead.\n",
      "  'reg_alpha': trial.suggest_loguniform('reg_alpha', 1e-8, 1.0),\n",
      "C:\\Users\\slrk4\\AppData\\Local\\Temp/ipykernel_11964/716984137.py:13: FutureWarning: suggest_loguniform has been deprecated in v3.0.0. This feature will be removed in v6.0.0. See https://github.com/optuna/optuna/releases/tag/v3.0.0. Use :func:`~optuna.trial.Trial.suggest_float` instead.\n",
      "  'reg_lambda': trial.suggest_loguniform('reg_lambda', 1e-8, 1.0),\n",
      "\u001b[32m[I 2022-11-05 10:17:32,119]\u001b[0m Trial 68 finished with value: 0.778926528816542 and parameters: {'max_depth': 3, 'learning_rate': 0.07364714025935085, 'n_estimators': 292, 'min_child_weight': 2, 'gamma': 0.0017465003306710335, 'subsample': 0.307643156617036, 'colsample_bytree': 0.7035887671676384, 'reg_alpha': 0.23380607172307283, 'reg_lambda': 1.2982365831932778e-07}. Best is trial 58 with value: 0.8160287432174805.\u001b[0m\n",
      "C:\\Users\\slrk4\\AppData\\Local\\Temp/ipykernel_11964/716984137.py:6: FutureWarning: suggest_loguniform has been deprecated in v3.0.0. This feature will be removed in v6.0.0. See https://github.com/optuna/optuna/releases/tag/v3.0.0. Use :func:`~optuna.trial.Trial.suggest_float` instead.\n",
      "  'learning_rate': trial.suggest_loguniform('learning_rate', 0.01, 1.0),\n",
      "C:\\Users\\slrk4\\AppData\\Local\\Temp/ipykernel_11964/716984137.py:9: FutureWarning: suggest_loguniform has been deprecated in v3.0.0. This feature will be removed in v6.0.0. See https://github.com/optuna/optuna/releases/tag/v3.0.0. Use :func:`~optuna.trial.Trial.suggest_float` instead.\n",
      "  'gamma': trial.suggest_loguniform('gamma', 1e-8, 1.0),\n",
      "C:\\Users\\slrk4\\AppData\\Local\\Temp/ipykernel_11964/716984137.py:10: FutureWarning: suggest_loguniform has been deprecated in v3.0.0. This feature will be removed in v6.0.0. See https://github.com/optuna/optuna/releases/tag/v3.0.0. Use :func:`~optuna.trial.Trial.suggest_float` instead.\n",
      "  'subsample': trial.suggest_loguniform('subsample', 0.01, 1.0),\n",
      "C:\\Users\\slrk4\\AppData\\Local\\Temp/ipykernel_11964/716984137.py:11: FutureWarning: suggest_loguniform has been deprecated in v3.0.0. This feature will be removed in v6.0.0. See https://github.com/optuna/optuna/releases/tag/v3.0.0. Use :func:`~optuna.trial.Trial.suggest_float` instead.\n",
      "  'colsample_bytree': trial.suggest_loguniform('colsample_bytree', 0.01, 1.0),\n",
      "C:\\Users\\slrk4\\AppData\\Local\\Temp/ipykernel_11964/716984137.py:12: FutureWarning: suggest_loguniform has been deprecated in v3.0.0. This feature will be removed in v6.0.0. See https://github.com/optuna/optuna/releases/tag/v3.0.0. Use :func:`~optuna.trial.Trial.suggest_float` instead.\n",
      "  'reg_alpha': trial.suggest_loguniform('reg_alpha', 1e-8, 1.0),\n",
      "C:\\Users\\slrk4\\AppData\\Local\\Temp/ipykernel_11964/716984137.py:13: FutureWarning: suggest_loguniform has been deprecated in v3.0.0. This feature will be removed in v6.0.0. See https://github.com/optuna/optuna/releases/tag/v3.0.0. Use :func:`~optuna.trial.Trial.suggest_float` instead.\n",
      "  'reg_lambda': trial.suggest_loguniform('reg_lambda', 1e-8, 1.0),\n",
      "\u001b[32m[I 2022-11-05 10:17:37,881]\u001b[0m Trial 69 finished with value: 0.8049567385247104 and parameters: {'max_depth': 8, 'learning_rate': 0.049342254037118664, 'n_estimators': 369, 'min_child_weight': 1, 'gamma': 0.005102165173852531, 'subsample': 0.6892540001359903, 'colsample_bytree': 0.4682241179359454, 'reg_alpha': 0.09921132900213722, 'reg_lambda': 0.0005486777179710984}. Best is trial 58 with value: 0.8160287432174805.\u001b[0m\n",
      "C:\\Users\\slrk4\\AppData\\Local\\Temp/ipykernel_11964/716984137.py:6: FutureWarning: suggest_loguniform has been deprecated in v3.0.0. This feature will be removed in v6.0.0. See https://github.com/optuna/optuna/releases/tag/v3.0.0. Use :func:`~optuna.trial.Trial.suggest_float` instead.\n",
      "  'learning_rate': trial.suggest_loguniform('learning_rate', 0.01, 1.0),\n",
      "C:\\Users\\slrk4\\AppData\\Local\\Temp/ipykernel_11964/716984137.py:9: FutureWarning: suggest_loguniform has been deprecated in v3.0.0. This feature will be removed in v6.0.0. See https://github.com/optuna/optuna/releases/tag/v3.0.0. Use :func:`~optuna.trial.Trial.suggest_float` instead.\n",
      "  'gamma': trial.suggest_loguniform('gamma', 1e-8, 1.0),\n",
      "C:\\Users\\slrk4\\AppData\\Local\\Temp/ipykernel_11964/716984137.py:10: FutureWarning: suggest_loguniform has been deprecated in v3.0.0. This feature will be removed in v6.0.0. See https://github.com/optuna/optuna/releases/tag/v3.0.0. Use :func:`~optuna.trial.Trial.suggest_float` instead.\n",
      "  'subsample': trial.suggest_loguniform('subsample', 0.01, 1.0),\n",
      "C:\\Users\\slrk4\\AppData\\Local\\Temp/ipykernel_11964/716984137.py:11: FutureWarning: suggest_loguniform has been deprecated in v3.0.0. This feature will be removed in v6.0.0. See https://github.com/optuna/optuna/releases/tag/v3.0.0. Use :func:`~optuna.trial.Trial.suggest_float` instead.\n",
      "  'colsample_bytree': trial.suggest_loguniform('colsample_bytree', 0.01, 1.0),\n",
      "C:\\Users\\slrk4\\AppData\\Local\\Temp/ipykernel_11964/716984137.py:12: FutureWarning: suggest_loguniform has been deprecated in v3.0.0. This feature will be removed in v6.0.0. See https://github.com/optuna/optuna/releases/tag/v3.0.0. Use :func:`~optuna.trial.Trial.suggest_float` instead.\n",
      "  'reg_alpha': trial.suggest_loguniform('reg_alpha', 1e-8, 1.0),\n",
      "C:\\Users\\slrk4\\AppData\\Local\\Temp/ipykernel_11964/716984137.py:13: FutureWarning: suggest_loguniform has been deprecated in v3.0.0. This feature will be removed in v6.0.0. See https://github.com/optuna/optuna/releases/tag/v3.0.0. Use :func:`~optuna.trial.Trial.suggest_float` instead.\n",
      "  'reg_lambda': trial.suggest_loguniform('reg_lambda', 1e-8, 1.0),\n",
      "\u001b[32m[I 2022-11-05 10:17:46,151]\u001b[0m Trial 70 finished with value: 0.8039301950432615 and parameters: {'max_depth': 7, 'learning_rate': 0.06251867922766394, 'n_estimators': 400, 'min_child_weight': 3, 'gamma': 0.0005825886147630633, 'subsample': 0.8513391148744295, 'colsample_bytree': 0.8936754903376352, 'reg_alpha': 0.05102728539762339, 'reg_lambda': 7.705691926612704e-08}. Best is trial 58 with value: 0.8160287432174805.\u001b[0m\n",
      "C:\\Users\\slrk4\\AppData\\Local\\Temp/ipykernel_11964/716984137.py:6: FutureWarning: suggest_loguniform has been deprecated in v3.0.0. This feature will be removed in v6.0.0. See https://github.com/optuna/optuna/releases/tag/v3.0.0. Use :func:`~optuna.trial.Trial.suggest_float` instead.\n",
      "  'learning_rate': trial.suggest_loguniform('learning_rate', 0.01, 1.0),\n",
      "C:\\Users\\slrk4\\AppData\\Local\\Temp/ipykernel_11964/716984137.py:9: FutureWarning: suggest_loguniform has been deprecated in v3.0.0. This feature will be removed in v6.0.0. See https://github.com/optuna/optuna/releases/tag/v3.0.0. Use :func:`~optuna.trial.Trial.suggest_float` instead.\n",
      "  'gamma': trial.suggest_loguniform('gamma', 1e-8, 1.0),\n",
      "C:\\Users\\slrk4\\AppData\\Local\\Temp/ipykernel_11964/716984137.py:10: FutureWarning: suggest_loguniform has been deprecated in v3.0.0. This feature will be removed in v6.0.0. See https://github.com/optuna/optuna/releases/tag/v3.0.0. Use :func:`~optuna.trial.Trial.suggest_float` instead.\n",
      "  'subsample': trial.suggest_loguniform('subsample', 0.01, 1.0),\n",
      "C:\\Users\\slrk4\\AppData\\Local\\Temp/ipykernel_11964/716984137.py:11: FutureWarning: suggest_loguniform has been deprecated in v3.0.0. This feature will be removed in v6.0.0. See https://github.com/optuna/optuna/releases/tag/v3.0.0. Use :func:`~optuna.trial.Trial.suggest_float` instead.\n",
      "  'colsample_bytree': trial.suggest_loguniform('colsample_bytree', 0.01, 1.0),\n",
      "C:\\Users\\slrk4\\AppData\\Local\\Temp/ipykernel_11964/716984137.py:12: FutureWarning: suggest_loguniform has been deprecated in v3.0.0. This feature will be removed in v6.0.0. See https://github.com/optuna/optuna/releases/tag/v3.0.0. Use :func:`~optuna.trial.Trial.suggest_float` instead.\n",
      "  'reg_alpha': trial.suggest_loguniform('reg_alpha', 1e-8, 1.0),\n",
      "C:\\Users\\slrk4\\AppData\\Local\\Temp/ipykernel_11964/716984137.py:13: FutureWarning: suggest_loguniform has been deprecated in v3.0.0. This feature will be removed in v6.0.0. See https://github.com/optuna/optuna/releases/tag/v3.0.0. Use :func:`~optuna.trial.Trial.suggest_float` instead.\n",
      "  'reg_lambda': trial.suggest_loguniform('reg_lambda', 1e-8, 1.0),\n"
     ]
    },
    {
     "name": "stderr",
     "output_type": "stream",
     "text": [
      "\u001b[32m[I 2022-11-05 10:17:54,378]\u001b[0m Trial 71 finished with value: 0.8086229652441707 and parameters: {'max_depth': 8, 'learning_rate': 0.0780303399754849, 'n_estimators': 349, 'min_child_weight': 2, 'gamma': 0.0018243435375815936, 'subsample': 0.6306971204787908, 'colsample_bytree': 0.8384929876652844, 'reg_alpha': 0.5400596766195991, 'reg_lambda': 5.651938052075094e-08}. Best is trial 58 with value: 0.8160287432174805.\u001b[0m\n",
      "C:\\Users\\slrk4\\AppData\\Local\\Temp/ipykernel_11964/716984137.py:6: FutureWarning: suggest_loguniform has been deprecated in v3.0.0. This feature will be removed in v6.0.0. See https://github.com/optuna/optuna/releases/tag/v3.0.0. Use :func:`~optuna.trial.Trial.suggest_float` instead.\n",
      "  'learning_rate': trial.suggest_loguniform('learning_rate', 0.01, 1.0),\n",
      "C:\\Users\\slrk4\\AppData\\Local\\Temp/ipykernel_11964/716984137.py:9: FutureWarning: suggest_loguniform has been deprecated in v3.0.0. This feature will be removed in v6.0.0. See https://github.com/optuna/optuna/releases/tag/v3.0.0. Use :func:`~optuna.trial.Trial.suggest_float` instead.\n",
      "  'gamma': trial.suggest_loguniform('gamma', 1e-8, 1.0),\n",
      "C:\\Users\\slrk4\\AppData\\Local\\Temp/ipykernel_11964/716984137.py:10: FutureWarning: suggest_loguniform has been deprecated in v3.0.0. This feature will be removed in v6.0.0. See https://github.com/optuna/optuna/releases/tag/v3.0.0. Use :func:`~optuna.trial.Trial.suggest_float` instead.\n",
      "  'subsample': trial.suggest_loguniform('subsample', 0.01, 1.0),\n",
      "C:\\Users\\slrk4\\AppData\\Local\\Temp/ipykernel_11964/716984137.py:11: FutureWarning: suggest_loguniform has been deprecated in v3.0.0. This feature will be removed in v6.0.0. See https://github.com/optuna/optuna/releases/tag/v3.0.0. Use :func:`~optuna.trial.Trial.suggest_float` instead.\n",
      "  'colsample_bytree': trial.suggest_loguniform('colsample_bytree', 0.01, 1.0),\n",
      "C:\\Users\\slrk4\\AppData\\Local\\Temp/ipykernel_11964/716984137.py:12: FutureWarning: suggest_loguniform has been deprecated in v3.0.0. This feature will be removed in v6.0.0. See https://github.com/optuna/optuna/releases/tag/v3.0.0. Use :func:`~optuna.trial.Trial.suggest_float` instead.\n",
      "  'reg_alpha': trial.suggest_loguniform('reg_alpha', 1e-8, 1.0),\n",
      "C:\\Users\\slrk4\\AppData\\Local\\Temp/ipykernel_11964/716984137.py:13: FutureWarning: suggest_loguniform has been deprecated in v3.0.0. This feature will be removed in v6.0.0. See https://github.com/optuna/optuna/releases/tag/v3.0.0. Use :func:`~optuna.trial.Trial.suggest_float` instead.\n",
      "  'reg_lambda': trial.suggest_loguniform('reg_lambda', 1e-8, 1.0),\n",
      "\u001b[32m[I 2022-11-05 10:18:02,124]\u001b[0m Trial 72 finished with value: 0.8117759202229066 and parameters: {'max_depth': 9, 'learning_rate': 0.11093288213351864, 'n_estimators': 387, 'min_child_weight': 2, 'gamma': 0.00018344414702412814, 'subsample': 0.6733064057036224, 'colsample_bytree': 0.6001531097017752, 'reg_alpha': 0.09544386826167163, 'reg_lambda': 1.4748988857778832e-08}. Best is trial 58 with value: 0.8160287432174805.\u001b[0m\n",
      "C:\\Users\\slrk4\\AppData\\Local\\Temp/ipykernel_11964/716984137.py:6: FutureWarning: suggest_loguniform has been deprecated in v3.0.0. This feature will be removed in v6.0.0. See https://github.com/optuna/optuna/releases/tag/v3.0.0. Use :func:`~optuna.trial.Trial.suggest_float` instead.\n",
      "  'learning_rate': trial.suggest_loguniform('learning_rate', 0.01, 1.0),\n",
      "C:\\Users\\slrk4\\AppData\\Local\\Temp/ipykernel_11964/716984137.py:9: FutureWarning: suggest_loguniform has been deprecated in v3.0.0. This feature will be removed in v6.0.0. See https://github.com/optuna/optuna/releases/tag/v3.0.0. Use :func:`~optuna.trial.Trial.suggest_float` instead.\n",
      "  'gamma': trial.suggest_loguniform('gamma', 1e-8, 1.0),\n",
      "C:\\Users\\slrk4\\AppData\\Local\\Temp/ipykernel_11964/716984137.py:10: FutureWarning: suggest_loguniform has been deprecated in v3.0.0. This feature will be removed in v6.0.0. See https://github.com/optuna/optuna/releases/tag/v3.0.0. Use :func:`~optuna.trial.Trial.suggest_float` instead.\n",
      "  'subsample': trial.suggest_loguniform('subsample', 0.01, 1.0),\n",
      "C:\\Users\\slrk4\\AppData\\Local\\Temp/ipykernel_11964/716984137.py:11: FutureWarning: suggest_loguniform has been deprecated in v3.0.0. This feature will be removed in v6.0.0. See https://github.com/optuna/optuna/releases/tag/v3.0.0. Use :func:`~optuna.trial.Trial.suggest_float` instead.\n",
      "  'colsample_bytree': trial.suggest_loguniform('colsample_bytree', 0.01, 1.0),\n",
      "C:\\Users\\slrk4\\AppData\\Local\\Temp/ipykernel_11964/716984137.py:12: FutureWarning: suggest_loguniform has been deprecated in v3.0.0. This feature will be removed in v6.0.0. See https://github.com/optuna/optuna/releases/tag/v3.0.0. Use :func:`~optuna.trial.Trial.suggest_float` instead.\n",
      "  'reg_alpha': trial.suggest_loguniform('reg_alpha', 1e-8, 1.0),\n",
      "C:\\Users\\slrk4\\AppData\\Local\\Temp/ipykernel_11964/716984137.py:13: FutureWarning: suggest_loguniform has been deprecated in v3.0.0. This feature will be removed in v6.0.0. See https://github.com/optuna/optuna/releases/tag/v3.0.0. Use :func:`~optuna.trial.Trial.suggest_float` instead.\n",
      "  'reg_lambda': trial.suggest_loguniform('reg_lambda', 1e-8, 1.0),\n",
      "\u001b[32m[I 2022-11-05 10:18:09,624]\u001b[0m Trial 73 finished with value: 0.8042234931808183 and parameters: {'max_depth': 9, 'learning_rate': 0.14884980974449682, 'n_estimators': 377, 'min_child_weight': 1, 'gamma': 0.00017303703015504626, 'subsample': 0.47609165109142404, 'colsample_bytree': 0.5858855990949094, 'reg_alpha': 0.0175208497716058, 'reg_lambda': 1.0796550814129654e-08}. Best is trial 58 with value: 0.8160287432174805.\u001b[0m\n",
      "C:\\Users\\slrk4\\AppData\\Local\\Temp/ipykernel_11964/716984137.py:6: FutureWarning: suggest_loguniform has been deprecated in v3.0.0. This feature will be removed in v6.0.0. See https://github.com/optuna/optuna/releases/tag/v3.0.0. Use :func:`~optuna.trial.Trial.suggest_float` instead.\n",
      "  'learning_rate': trial.suggest_loguniform('learning_rate', 0.01, 1.0),\n",
      "C:\\Users\\slrk4\\AppData\\Local\\Temp/ipykernel_11964/716984137.py:9: FutureWarning: suggest_loguniform has been deprecated in v3.0.0. This feature will be removed in v6.0.0. See https://github.com/optuna/optuna/releases/tag/v3.0.0. Use :func:`~optuna.trial.Trial.suggest_float` instead.\n",
      "  'gamma': trial.suggest_loguniform('gamma', 1e-8, 1.0),\n",
      "C:\\Users\\slrk4\\AppData\\Local\\Temp/ipykernel_11964/716984137.py:10: FutureWarning: suggest_loguniform has been deprecated in v3.0.0. This feature will be removed in v6.0.0. See https://github.com/optuna/optuna/releases/tag/v3.0.0. Use :func:`~optuna.trial.Trial.suggest_float` instead.\n",
      "  'subsample': trial.suggest_loguniform('subsample', 0.01, 1.0),\n",
      "C:\\Users\\slrk4\\AppData\\Local\\Temp/ipykernel_11964/716984137.py:11: FutureWarning: suggest_loguniform has been deprecated in v3.0.0. This feature will be removed in v6.0.0. See https://github.com/optuna/optuna/releases/tag/v3.0.0. Use :func:`~optuna.trial.Trial.suggest_float` instead.\n",
      "  'colsample_bytree': trial.suggest_loguniform('colsample_bytree', 0.01, 1.0),\n",
      "C:\\Users\\slrk4\\AppData\\Local\\Temp/ipykernel_11964/716984137.py:12: FutureWarning: suggest_loguniform has been deprecated in v3.0.0. This feature will be removed in v6.0.0. See https://github.com/optuna/optuna/releases/tag/v3.0.0. Use :func:`~optuna.trial.Trial.suggest_float` instead.\n",
      "  'reg_alpha': trial.suggest_loguniform('reg_alpha', 1e-8, 1.0),\n",
      "C:\\Users\\slrk4\\AppData\\Local\\Temp/ipykernel_11964/716984137.py:13: FutureWarning: suggest_loguniform has been deprecated in v3.0.0. This feature will be removed in v6.0.0. See https://github.com/optuna/optuna/releases/tag/v3.0.0. Use :func:`~optuna.trial.Trial.suggest_float` instead.\n",
      "  'reg_lambda': trial.suggest_loguniform('reg_lambda', 1e-8, 1.0),\n",
      "\u001b[32m[I 2022-11-05 10:18:13,341]\u001b[0m Trial 74 finished with value: 0.7393312802463704 and parameters: {'max_depth': 9, 'learning_rate': 0.1103206154544244, 'n_estimators': 427, 'min_child_weight': 2, 'gamma': 0.0002710284068736692, 'subsample': 0.010121960955018815, 'colsample_bytree': 0.654300940864008, 'reg_alpha': 0.04030105497823048, 'reg_lambda': 2.1129235624555362e-08}. Best is trial 58 with value: 0.8160287432174805.\u001b[0m\n",
      "C:\\Users\\slrk4\\AppData\\Local\\Temp/ipykernel_11964/716984137.py:6: FutureWarning: suggest_loguniform has been deprecated in v3.0.0. This feature will be removed in v6.0.0. See https://github.com/optuna/optuna/releases/tag/v3.0.0. Use :func:`~optuna.trial.Trial.suggest_float` instead.\n",
      "  'learning_rate': trial.suggest_loguniform('learning_rate', 0.01, 1.0),\n",
      "C:\\Users\\slrk4\\AppData\\Local\\Temp/ipykernel_11964/716984137.py:9: FutureWarning: suggest_loguniform has been deprecated in v3.0.0. This feature will be removed in v6.0.0. See https://github.com/optuna/optuna/releases/tag/v3.0.0. Use :func:`~optuna.trial.Trial.suggest_float` instead.\n",
      "  'gamma': trial.suggest_loguniform('gamma', 1e-8, 1.0),\n",
      "C:\\Users\\slrk4\\AppData\\Local\\Temp/ipykernel_11964/716984137.py:10: FutureWarning: suggest_loguniform has been deprecated in v3.0.0. This feature will be removed in v6.0.0. See https://github.com/optuna/optuna/releases/tag/v3.0.0. Use :func:`~optuna.trial.Trial.suggest_float` instead.\n",
      "  'subsample': trial.suggest_loguniform('subsample', 0.01, 1.0),\n",
      "C:\\Users\\slrk4\\AppData\\Local\\Temp/ipykernel_11964/716984137.py:11: FutureWarning: suggest_loguniform has been deprecated in v3.0.0. This feature will be removed in v6.0.0. See https://github.com/optuna/optuna/releases/tag/v3.0.0. Use :func:`~optuna.trial.Trial.suggest_float` instead.\n",
      "  'colsample_bytree': trial.suggest_loguniform('colsample_bytree', 0.01, 1.0),\n",
      "C:\\Users\\slrk4\\AppData\\Local\\Temp/ipykernel_11964/716984137.py:12: FutureWarning: suggest_loguniform has been deprecated in v3.0.0. This feature will be removed in v6.0.0. See https://github.com/optuna/optuna/releases/tag/v3.0.0. Use :func:`~optuna.trial.Trial.suggest_float` instead.\n",
      "  'reg_alpha': trial.suggest_loguniform('reg_alpha', 1e-8, 1.0),\n",
      "C:\\Users\\slrk4\\AppData\\Local\\Temp/ipykernel_11964/716984137.py:13: FutureWarning: suggest_loguniform has been deprecated in v3.0.0. This feature will be removed in v6.0.0. See https://github.com/optuna/optuna/releases/tag/v3.0.0. Use :func:`~optuna.trial.Trial.suggest_float` instead.\n",
      "  'reg_lambda': trial.suggest_loguniform('reg_lambda', 1e-8, 1.0),\n"
     ]
    },
    {
     "name": "stderr",
     "output_type": "stream",
     "text": [
      "\u001b[32m[I 2022-11-05 10:18:21,850]\u001b[0m Trial 75 finished with value: 0.8106760522070685 and parameters: {'max_depth': 9, 'learning_rate': 0.09314918232753133, 'n_estimators': 388, 'min_child_weight': 1, 'gamma': 0.0003885744611370538, 'subsample': 0.4086827287852599, 'colsample_bytree': 0.9939660004935194, 'reg_alpha': 0.08566834311065319, 'reg_lambda': 1.2979844098280986e-07}. Best is trial 58 with value: 0.8160287432174805.\u001b[0m\n",
      "C:\\Users\\slrk4\\AppData\\Local\\Temp/ipykernel_11964/716984137.py:6: FutureWarning: suggest_loguniform has been deprecated in v3.0.0. This feature will be removed in v6.0.0. See https://github.com/optuna/optuna/releases/tag/v3.0.0. Use :func:`~optuna.trial.Trial.suggest_float` instead.\n",
      "  'learning_rate': trial.suggest_loguniform('learning_rate', 0.01, 1.0),\n",
      "C:\\Users\\slrk4\\AppData\\Local\\Temp/ipykernel_11964/716984137.py:9: FutureWarning: suggest_loguniform has been deprecated in v3.0.0. This feature will be removed in v6.0.0. See https://github.com/optuna/optuna/releases/tag/v3.0.0. Use :func:`~optuna.trial.Trial.suggest_float` instead.\n",
      "  'gamma': trial.suggest_loguniform('gamma', 1e-8, 1.0),\n",
      "C:\\Users\\slrk4\\AppData\\Local\\Temp/ipykernel_11964/716984137.py:10: FutureWarning: suggest_loguniform has been deprecated in v3.0.0. This feature will be removed in v6.0.0. See https://github.com/optuna/optuna/releases/tag/v3.0.0. Use :func:`~optuna.trial.Trial.suggest_float` instead.\n",
      "  'subsample': trial.suggest_loguniform('subsample', 0.01, 1.0),\n",
      "C:\\Users\\slrk4\\AppData\\Local\\Temp/ipykernel_11964/716984137.py:11: FutureWarning: suggest_loguniform has been deprecated in v3.0.0. This feature will be removed in v6.0.0. See https://github.com/optuna/optuna/releases/tag/v3.0.0. Use :func:`~optuna.trial.Trial.suggest_float` instead.\n",
      "  'colsample_bytree': trial.suggest_loguniform('colsample_bytree', 0.01, 1.0),\n",
      "C:\\Users\\slrk4\\AppData\\Local\\Temp/ipykernel_11964/716984137.py:12: FutureWarning: suggest_loguniform has been deprecated in v3.0.0. This feature will be removed in v6.0.0. See https://github.com/optuna/optuna/releases/tag/v3.0.0. Use :func:`~optuna.trial.Trial.suggest_float` instead.\n",
      "  'reg_alpha': trial.suggest_loguniform('reg_alpha', 1e-8, 1.0),\n",
      "C:\\Users\\slrk4\\AppData\\Local\\Temp/ipykernel_11964/716984137.py:13: FutureWarning: suggest_loguniform has been deprecated in v3.0.0. This feature will be removed in v6.0.0. See https://github.com/optuna/optuna/releases/tag/v3.0.0. Use :func:`~optuna.trial.Trial.suggest_float` instead.\n",
      "  'reg_lambda': trial.suggest_loguniform('reg_lambda', 1e-8, 1.0),\n",
      "\u001b[32m[I 2022-11-05 10:18:32,448]\u001b[0m Trial 76 finished with value: 0.8124358410324094 and parameters: {'max_depth': 9, 'learning_rate': 0.12410888496134097, 'n_estimators': 442, 'min_child_weight': 2, 'gamma': 0.0004773256865076042, 'subsample': 0.5400408404046055, 'colsample_bytree': 0.9577722160781046, 'reg_alpha': 0.22608152541110077, 'reg_lambda': 1.426603362941564e-07}. Best is trial 58 with value: 0.8160287432174805.\u001b[0m\n",
      "C:\\Users\\slrk4\\AppData\\Local\\Temp/ipykernel_11964/716984137.py:6: FutureWarning: suggest_loguniform has been deprecated in v3.0.0. This feature will be removed in v6.0.0. See https://github.com/optuna/optuna/releases/tag/v3.0.0. Use :func:`~optuna.trial.Trial.suggest_float` instead.\n",
      "  'learning_rate': trial.suggest_loguniform('learning_rate', 0.01, 1.0),\n",
      "C:\\Users\\slrk4\\AppData\\Local\\Temp/ipykernel_11964/716984137.py:9: FutureWarning: suggest_loguniform has been deprecated in v3.0.0. This feature will be removed in v6.0.0. See https://github.com/optuna/optuna/releases/tag/v3.0.0. Use :func:`~optuna.trial.Trial.suggest_float` instead.\n",
      "  'gamma': trial.suggest_loguniform('gamma', 1e-8, 1.0),\n",
      "C:\\Users\\slrk4\\AppData\\Local\\Temp/ipykernel_11964/716984137.py:10: FutureWarning: suggest_loguniform has been deprecated in v3.0.0. This feature will be removed in v6.0.0. See https://github.com/optuna/optuna/releases/tag/v3.0.0. Use :func:`~optuna.trial.Trial.suggest_float` instead.\n",
      "  'subsample': trial.suggest_loguniform('subsample', 0.01, 1.0),\n",
      "C:\\Users\\slrk4\\AppData\\Local\\Temp/ipykernel_11964/716984137.py:11: FutureWarning: suggest_loguniform has been deprecated in v3.0.0. This feature will be removed in v6.0.0. See https://github.com/optuna/optuna/releases/tag/v3.0.0. Use :func:`~optuna.trial.Trial.suggest_float` instead.\n",
      "  'colsample_bytree': trial.suggest_loguniform('colsample_bytree', 0.01, 1.0),\n",
      "C:\\Users\\slrk4\\AppData\\Local\\Temp/ipykernel_11964/716984137.py:12: FutureWarning: suggest_loguniform has been deprecated in v3.0.0. This feature will be removed in v6.0.0. See https://github.com/optuna/optuna/releases/tag/v3.0.0. Use :func:`~optuna.trial.Trial.suggest_float` instead.\n",
      "  'reg_alpha': trial.suggest_loguniform('reg_alpha', 1e-8, 1.0),\n",
      "C:\\Users\\slrk4\\AppData\\Local\\Temp/ipykernel_11964/716984137.py:13: FutureWarning: suggest_loguniform has been deprecated in v3.0.0. This feature will be removed in v6.0.0. See https://github.com/optuna/optuna/releases/tag/v3.0.0. Use :func:`~optuna.trial.Trial.suggest_float` instead.\n",
      "  'reg_lambda': trial.suggest_loguniform('reg_lambda', 1e-8, 1.0),\n",
      "\u001b[32m[I 2022-11-05 10:18:42,169]\u001b[0m Trial 77 finished with value: 0.8063499046781053 and parameters: {'max_depth': 9, 'learning_rate': 0.13053525582113937, 'n_estimators': 445, 'min_child_weight': 3, 'gamma': 2.9981163885188352e-05, 'subsample': 0.413370725448481, 'colsample_bytree': 0.9826405381348636, 'reg_alpha': 0.9798598778595646, 'reg_lambda': 1.4274035781917312e-07}. Best is trial 58 with value: 0.8160287432174805.\u001b[0m\n",
      "C:\\Users\\slrk4\\AppData\\Local\\Temp/ipykernel_11964/716984137.py:6: FutureWarning: suggest_loguniform has been deprecated in v3.0.0. This feature will be removed in v6.0.0. See https://github.com/optuna/optuna/releases/tag/v3.0.0. Use :func:`~optuna.trial.Trial.suggest_float` instead.\n",
      "  'learning_rate': trial.suggest_loguniform('learning_rate', 0.01, 1.0),\n",
      "C:\\Users\\slrk4\\AppData\\Local\\Temp/ipykernel_11964/716984137.py:9: FutureWarning: suggest_loguniform has been deprecated in v3.0.0. This feature will be removed in v6.0.0. See https://github.com/optuna/optuna/releases/tag/v3.0.0. Use :func:`~optuna.trial.Trial.suggest_float` instead.\n",
      "  'gamma': trial.suggest_loguniform('gamma', 1e-8, 1.0),\n",
      "C:\\Users\\slrk4\\AppData\\Local\\Temp/ipykernel_11964/716984137.py:10: FutureWarning: suggest_loguniform has been deprecated in v3.0.0. This feature will be removed in v6.0.0. See https://github.com/optuna/optuna/releases/tag/v3.0.0. Use :func:`~optuna.trial.Trial.suggest_float` instead.\n",
      "  'subsample': trial.suggest_loguniform('subsample', 0.01, 1.0),\n",
      "C:\\Users\\slrk4\\AppData\\Local\\Temp/ipykernel_11964/716984137.py:11: FutureWarning: suggest_loguniform has been deprecated in v3.0.0. This feature will be removed in v6.0.0. See https://github.com/optuna/optuna/releases/tag/v3.0.0. Use :func:`~optuna.trial.Trial.suggest_float` instead.\n",
      "  'colsample_bytree': trial.suggest_loguniform('colsample_bytree', 0.01, 1.0),\n",
      "C:\\Users\\slrk4\\AppData\\Local\\Temp/ipykernel_11964/716984137.py:12: FutureWarning: suggest_loguniform has been deprecated in v3.0.0. This feature will be removed in v6.0.0. See https://github.com/optuna/optuna/releases/tag/v3.0.0. Use :func:`~optuna.trial.Trial.suggest_float` instead.\n",
      "  'reg_alpha': trial.suggest_loguniform('reg_alpha', 1e-8, 1.0),\n",
      "C:\\Users\\slrk4\\AppData\\Local\\Temp/ipykernel_11964/716984137.py:13: FutureWarning: suggest_loguniform has been deprecated in v3.0.0. This feature will be removed in v6.0.0. See https://github.com/optuna/optuna/releases/tag/v3.0.0. Use :func:`~optuna.trial.Trial.suggest_float` instead.\n",
      "  'reg_lambda': trial.suggest_loguniform('reg_lambda', 1e-8, 1.0),\n",
      "\u001b[32m[I 2022-11-05 10:18:50,506]\u001b[0m Trial 78 finished with value: 0.8089162633817275 and parameters: {'max_depth': 9, 'learning_rate': 0.09503920923296996, 'n_estimators': 465, 'min_child_weight': 1, 'gamma': 0.0004497084531474904, 'subsample': 0.36578143645780387, 'colsample_bytree': 0.6789370910699134, 'reg_alpha': 0.4417648180708695, 'reg_lambda': 6.736415579250755e-07}. Best is trial 58 with value: 0.8160287432174805.\u001b[0m\n",
      "C:\\Users\\slrk4\\AppData\\Local\\Temp/ipykernel_11964/716984137.py:6: FutureWarning: suggest_loguniform has been deprecated in v3.0.0. This feature will be removed in v6.0.0. See https://github.com/optuna/optuna/releases/tag/v3.0.0. Use :func:`~optuna.trial.Trial.suggest_float` instead.\n",
      "  'learning_rate': trial.suggest_loguniform('learning_rate', 0.01, 1.0),\n",
      "C:\\Users\\slrk4\\AppData\\Local\\Temp/ipykernel_11964/716984137.py:9: FutureWarning: suggest_loguniform has been deprecated in v3.0.0. This feature will be removed in v6.0.0. See https://github.com/optuna/optuna/releases/tag/v3.0.0. Use :func:`~optuna.trial.Trial.suggest_float` instead.\n",
      "  'gamma': trial.suggest_loguniform('gamma', 1e-8, 1.0),\n",
      "C:\\Users\\slrk4\\AppData\\Local\\Temp/ipykernel_11964/716984137.py:10: FutureWarning: suggest_loguniform has been deprecated in v3.0.0. This feature will be removed in v6.0.0. See https://github.com/optuna/optuna/releases/tag/v3.0.0. Use :func:`~optuna.trial.Trial.suggest_float` instead.\n",
      "  'subsample': trial.suggest_loguniform('subsample', 0.01, 1.0),\n",
      "C:\\Users\\slrk4\\AppData\\Local\\Temp/ipykernel_11964/716984137.py:11: FutureWarning: suggest_loguniform has been deprecated in v3.0.0. This feature will be removed in v6.0.0. See https://github.com/optuna/optuna/releases/tag/v3.0.0. Use :func:`~optuna.trial.Trial.suggest_float` instead.\n",
      "  'colsample_bytree': trial.suggest_loguniform('colsample_bytree', 0.01, 1.0),\n",
      "C:\\Users\\slrk4\\AppData\\Local\\Temp/ipykernel_11964/716984137.py:12: FutureWarning: suggest_loguniform has been deprecated in v3.0.0. This feature will be removed in v6.0.0. See https://github.com/optuna/optuna/releases/tag/v3.0.0. Use :func:`~optuna.trial.Trial.suggest_float` instead.\n",
      "  'reg_alpha': trial.suggest_loguniform('reg_alpha', 1e-8, 1.0),\n",
      "C:\\Users\\slrk4\\AppData\\Local\\Temp/ipykernel_11964/716984137.py:13: FutureWarning: suggest_loguniform has been deprecated in v3.0.0. This feature will be removed in v6.0.0. See https://github.com/optuna/optuna/releases/tag/v3.0.0. Use :func:`~optuna.trial.Trial.suggest_float` instead.\n",
      "  'reg_lambda': trial.suggest_loguniform('reg_lambda', 1e-8, 1.0),\n"
     ]
    },
    {
     "name": "stderr",
     "output_type": "stream",
     "text": [
      "\u001b[32m[I 2022-11-05 10:18:54,262]\u001b[0m Trial 79 finished with value: 0.7773867135943687 and parameters: {'max_depth': 9, 'learning_rate': 0.14453945791170408, 'n_estimators': 487, 'min_child_weight': 2, 'gamma': 0.0013483365910271186, 'subsample': 0.5398798621647035, 'colsample_bytree': 0.014162877512703419, 'reg_alpha': 0.09076293999333547, 'reg_lambda': 0.20384069738882027}. Best is trial 58 with value: 0.8160287432174805.\u001b[0m\n",
      "C:\\Users\\slrk4\\AppData\\Local\\Temp/ipykernel_11964/716984137.py:6: FutureWarning: suggest_loguniform has been deprecated in v3.0.0. This feature will be removed in v6.0.0. See https://github.com/optuna/optuna/releases/tag/v3.0.0. Use :func:`~optuna.trial.Trial.suggest_float` instead.\n",
      "  'learning_rate': trial.suggest_loguniform('learning_rate', 0.01, 1.0),\n",
      "C:\\Users\\slrk4\\AppData\\Local\\Temp/ipykernel_11964/716984137.py:9: FutureWarning: suggest_loguniform has been deprecated in v3.0.0. This feature will be removed in v6.0.0. See https://github.com/optuna/optuna/releases/tag/v3.0.0. Use :func:`~optuna.trial.Trial.suggest_float` instead.\n",
      "  'gamma': trial.suggest_loguniform('gamma', 1e-8, 1.0),\n",
      "C:\\Users\\slrk4\\AppData\\Local\\Temp/ipykernel_11964/716984137.py:10: FutureWarning: suggest_loguniform has been deprecated in v3.0.0. This feature will be removed in v6.0.0. See https://github.com/optuna/optuna/releases/tag/v3.0.0. Use :func:`~optuna.trial.Trial.suggest_float` instead.\n",
      "  'subsample': trial.suggest_loguniform('subsample', 0.01, 1.0),\n",
      "C:\\Users\\slrk4\\AppData\\Local\\Temp/ipykernel_11964/716984137.py:11: FutureWarning: suggest_loguniform has been deprecated in v3.0.0. This feature will be removed in v6.0.0. See https://github.com/optuna/optuna/releases/tag/v3.0.0. Use :func:`~optuna.trial.Trial.suggest_float` instead.\n",
      "  'colsample_bytree': trial.suggest_loguniform('colsample_bytree', 0.01, 1.0),\n",
      "C:\\Users\\slrk4\\AppData\\Local\\Temp/ipykernel_11964/716984137.py:12: FutureWarning: suggest_loguniform has been deprecated in v3.0.0. This feature will be removed in v6.0.0. See https://github.com/optuna/optuna/releases/tag/v3.0.0. Use :func:`~optuna.trial.Trial.suggest_float` instead.\n",
      "  'reg_alpha': trial.suggest_loguniform('reg_alpha', 1e-8, 1.0),\n",
      "C:\\Users\\slrk4\\AppData\\Local\\Temp/ipykernel_11964/716984137.py:13: FutureWarning: suggest_loguniform has been deprecated in v3.0.0. This feature will be removed in v6.0.0. See https://github.com/optuna/optuna/releases/tag/v3.0.0. Use :func:`~optuna.trial.Trial.suggest_float` instead.\n",
      "  'reg_lambda': trial.suggest_loguniform('reg_lambda', 1e-8, 1.0),\n",
      "\u001b[32m[I 2022-11-05 10:19:03,020]\u001b[0m Trial 80 finished with value: 0.8146355770640856 and parameters: {'max_depth': 9, 'learning_rate': 0.17329729484925585, 'n_estimators': 418, 'min_child_weight': 1, 'gamma': 0.00011475310676879117, 'subsample': 0.6980976638204379, 'colsample_bytree': 0.7192848134106609, 'reg_alpha': 0.2294519631379679, 'reg_lambda': 1.5557609355956345e-06}. Best is trial 58 with value: 0.8160287432174805.\u001b[0m\n",
      "C:\\Users\\slrk4\\AppData\\Local\\Temp/ipykernel_11964/716984137.py:6: FutureWarning: suggest_loguniform has been deprecated in v3.0.0. This feature will be removed in v6.0.0. See https://github.com/optuna/optuna/releases/tag/v3.0.0. Use :func:`~optuna.trial.Trial.suggest_float` instead.\n",
      "  'learning_rate': trial.suggest_loguniform('learning_rate', 0.01, 1.0),\n",
      "C:\\Users\\slrk4\\AppData\\Local\\Temp/ipykernel_11964/716984137.py:9: FutureWarning: suggest_loguniform has been deprecated in v3.0.0. This feature will be removed in v6.0.0. See https://github.com/optuna/optuna/releases/tag/v3.0.0. Use :func:`~optuna.trial.Trial.suggest_float` instead.\n",
      "  'gamma': trial.suggest_loguniform('gamma', 1e-8, 1.0),\n",
      "C:\\Users\\slrk4\\AppData\\Local\\Temp/ipykernel_11964/716984137.py:10: FutureWarning: suggest_loguniform has been deprecated in v3.0.0. This feature will be removed in v6.0.0. See https://github.com/optuna/optuna/releases/tag/v3.0.0. Use :func:`~optuna.trial.Trial.suggest_float` instead.\n",
      "  'subsample': trial.suggest_loguniform('subsample', 0.01, 1.0),\n",
      "C:\\Users\\slrk4\\AppData\\Local\\Temp/ipykernel_11964/716984137.py:11: FutureWarning: suggest_loguniform has been deprecated in v3.0.0. This feature will be removed in v6.0.0. See https://github.com/optuna/optuna/releases/tag/v3.0.0. Use :func:`~optuna.trial.Trial.suggest_float` instead.\n",
      "  'colsample_bytree': trial.suggest_loguniform('colsample_bytree', 0.01, 1.0),\n",
      "C:\\Users\\slrk4\\AppData\\Local\\Temp/ipykernel_11964/716984137.py:12: FutureWarning: suggest_loguniform has been deprecated in v3.0.0. This feature will be removed in v6.0.0. See https://github.com/optuna/optuna/releases/tag/v3.0.0. Use :func:`~optuna.trial.Trial.suggest_float` instead.\n",
      "  'reg_alpha': trial.suggest_loguniform('reg_alpha', 1e-8, 1.0),\n",
      "C:\\Users\\slrk4\\AppData\\Local\\Temp/ipykernel_11964/716984137.py:13: FutureWarning: suggest_loguniform has been deprecated in v3.0.0. This feature will be removed in v6.0.0. See https://github.com/optuna/optuna/releases/tag/v3.0.0. Use :func:`~optuna.trial.Trial.suggest_float` instead.\n",
      "  'reg_lambda': trial.suggest_loguniform('reg_lambda', 1e-8, 1.0),\n",
      "\u001b[32m[I 2022-11-05 10:19:14,367]\u001b[0m Trial 81 finished with value: 0.8167619885613726 and parameters: {'max_depth': 9, 'learning_rate': 0.1696782533626868, 'n_estimators': 406, 'min_child_weight': 1, 'gamma': 0.00010092910399549182, 'subsample': 0.7067814552758724, 'colsample_bytree': 0.9914372306557272, 'reg_alpha': 0.2256789906756136, 'reg_lambda': 4.2205362750232905e-07}. Best is trial 81 with value: 0.8167619885613726.\u001b[0m\n",
      "C:\\Users\\slrk4\\AppData\\Local\\Temp/ipykernel_11964/716984137.py:6: FutureWarning: suggest_loguniform has been deprecated in v3.0.0. This feature will be removed in v6.0.0. See https://github.com/optuna/optuna/releases/tag/v3.0.0. Use :func:`~optuna.trial.Trial.suggest_float` instead.\n",
      "  'learning_rate': trial.suggest_loguniform('learning_rate', 0.01, 1.0),\n",
      "C:\\Users\\slrk4\\AppData\\Local\\Temp/ipykernel_11964/716984137.py:9: FutureWarning: suggest_loguniform has been deprecated in v3.0.0. This feature will be removed in v6.0.0. See https://github.com/optuna/optuna/releases/tag/v3.0.0. Use :func:`~optuna.trial.Trial.suggest_float` instead.\n",
      "  'gamma': trial.suggest_loguniform('gamma', 1e-8, 1.0),\n",
      "C:\\Users\\slrk4\\AppData\\Local\\Temp/ipykernel_11964/716984137.py:10: FutureWarning: suggest_loguniform has been deprecated in v3.0.0. This feature will be removed in v6.0.0. See https://github.com/optuna/optuna/releases/tag/v3.0.0. Use :func:`~optuna.trial.Trial.suggest_float` instead.\n",
      "  'subsample': trial.suggest_loguniform('subsample', 0.01, 1.0),\n",
      "C:\\Users\\slrk4\\AppData\\Local\\Temp/ipykernel_11964/716984137.py:11: FutureWarning: suggest_loguniform has been deprecated in v3.0.0. This feature will be removed in v6.0.0. See https://github.com/optuna/optuna/releases/tag/v3.0.0. Use :func:`~optuna.trial.Trial.suggest_float` instead.\n",
      "  'colsample_bytree': trial.suggest_loguniform('colsample_bytree', 0.01, 1.0),\n",
      "C:\\Users\\slrk4\\AppData\\Local\\Temp/ipykernel_11964/716984137.py:12: FutureWarning: suggest_loguniform has been deprecated in v3.0.0. This feature will be removed in v6.0.0. See https://github.com/optuna/optuna/releases/tag/v3.0.0. Use :func:`~optuna.trial.Trial.suggest_float` instead.\n",
      "  'reg_alpha': trial.suggest_loguniform('reg_alpha', 1e-8, 1.0),\n",
      "C:\\Users\\slrk4\\AppData\\Local\\Temp/ipykernel_11964/716984137.py:13: FutureWarning: suggest_loguniform has been deprecated in v3.0.0. This feature will be removed in v6.0.0. See https://github.com/optuna/optuna/releases/tag/v3.0.0. Use :func:`~optuna.trial.Trial.suggest_float` instead.\n",
      "  'reg_lambda': trial.suggest_loguniform('reg_lambda', 1e-8, 1.0),\n",
      "\u001b[32m[I 2022-11-05 10:19:23,268]\u001b[0m Trial 82 finished with value: 0.812655814635577 and parameters: {'max_depth': 9, 'learning_rate': 0.11838362151069708, 'n_estimators': 422, 'min_child_weight': 1, 'gamma': 9.991683511150227e-05, 'subsample': 0.7031567864969951, 'colsample_bytree': 0.7255525620916822, 'reg_alpha': 0.20876332928953872, 'reg_lambda': 1.3199660956728315e-06}. Best is trial 81 with value: 0.8167619885613726.\u001b[0m\n",
      "C:\\Users\\slrk4\\AppData\\Local\\Temp/ipykernel_11964/716984137.py:6: FutureWarning: suggest_loguniform has been deprecated in v3.0.0. This feature will be removed in v6.0.0. See https://github.com/optuna/optuna/releases/tag/v3.0.0. Use :func:`~optuna.trial.Trial.suggest_float` instead.\n",
      "  'learning_rate': trial.suggest_loguniform('learning_rate', 0.01, 1.0),\n",
      "C:\\Users\\slrk4\\AppData\\Local\\Temp/ipykernel_11964/716984137.py:9: FutureWarning: suggest_loguniform has been deprecated in v3.0.0. This feature will be removed in v6.0.0. See https://github.com/optuna/optuna/releases/tag/v3.0.0. Use :func:`~optuna.trial.Trial.suggest_float` instead.\n",
      "  'gamma': trial.suggest_loguniform('gamma', 1e-8, 1.0),\n",
      "C:\\Users\\slrk4\\AppData\\Local\\Temp/ipykernel_11964/716984137.py:10: FutureWarning: suggest_loguniform has been deprecated in v3.0.0. This feature will be removed in v6.0.0. See https://github.com/optuna/optuna/releases/tag/v3.0.0. Use :func:`~optuna.trial.Trial.suggest_float` instead.\n",
      "  'subsample': trial.suggest_loguniform('subsample', 0.01, 1.0),\n",
      "C:\\Users\\slrk4\\AppData\\Local\\Temp/ipykernel_11964/716984137.py:11: FutureWarning: suggest_loguniform has been deprecated in v3.0.0. This feature will be removed in v6.0.0. See https://github.com/optuna/optuna/releases/tag/v3.0.0. Use :func:`~optuna.trial.Trial.suggest_float` instead.\n",
      "  'colsample_bytree': trial.suggest_loguniform('colsample_bytree', 0.01, 1.0),\n",
      "C:\\Users\\slrk4\\AppData\\Local\\Temp/ipykernel_11964/716984137.py:12: FutureWarning: suggest_loguniform has been deprecated in v3.0.0. This feature will be removed in v6.0.0. See https://github.com/optuna/optuna/releases/tag/v3.0.0. Use :func:`~optuna.trial.Trial.suggest_float` instead.\n",
      "  'reg_alpha': trial.suggest_loguniform('reg_alpha', 1e-8, 1.0),\n",
      "C:\\Users\\slrk4\\AppData\\Local\\Temp/ipykernel_11964/716984137.py:13: FutureWarning: suggest_loguniform has been deprecated in v3.0.0. This feature will be removed in v6.0.0. See https://github.com/optuna/optuna/releases/tag/v3.0.0. Use :func:`~optuna.trial.Trial.suggest_float` instead.\n",
      "  'reg_lambda': trial.suggest_loguniform('reg_lambda', 1e-8, 1.0),\n"
     ]
    },
    {
     "name": "stderr",
     "output_type": "stream",
     "text": [
      "\u001b[32m[I 2022-11-05 10:19:32,226]\u001b[0m Trial 83 finished with value: 0.8174952339052647 and parameters: {'max_depth': 9, 'learning_rate': 0.1754106285791373, 'n_estimators': 405, 'min_child_weight': 1, 'gamma': 8.794449873491751e-05, 'subsample': 0.8821814414312554, 'colsample_bytree': 0.7262562165599004, 'reg_alpha': 0.24577501501736895, 'reg_lambda': 1.4539497298805946e-06}. Best is trial 83 with value: 0.8174952339052647.\u001b[0m\n",
      "C:\\Users\\slrk4\\AppData\\Local\\Temp/ipykernel_11964/716984137.py:6: FutureWarning: suggest_loguniform has been deprecated in v3.0.0. This feature will be removed in v6.0.0. See https://github.com/optuna/optuna/releases/tag/v3.0.0. Use :func:`~optuna.trial.Trial.suggest_float` instead.\n",
      "  'learning_rate': trial.suggest_loguniform('learning_rate', 0.01, 1.0),\n",
      "C:\\Users\\slrk4\\AppData\\Local\\Temp/ipykernel_11964/716984137.py:9: FutureWarning: suggest_loguniform has been deprecated in v3.0.0. This feature will be removed in v6.0.0. See https://github.com/optuna/optuna/releases/tag/v3.0.0. Use :func:`~optuna.trial.Trial.suggest_float` instead.\n",
      "  'gamma': trial.suggest_loguniform('gamma', 1e-8, 1.0),\n",
      "C:\\Users\\slrk4\\AppData\\Local\\Temp/ipykernel_11964/716984137.py:10: FutureWarning: suggest_loguniform has been deprecated in v3.0.0. This feature will be removed in v6.0.0. See https://github.com/optuna/optuna/releases/tag/v3.0.0. Use :func:`~optuna.trial.Trial.suggest_float` instead.\n",
      "  'subsample': trial.suggest_loguniform('subsample', 0.01, 1.0),\n",
      "C:\\Users\\slrk4\\AppData\\Local\\Temp/ipykernel_11964/716984137.py:11: FutureWarning: suggest_loguniform has been deprecated in v3.0.0. This feature will be removed in v6.0.0. See https://github.com/optuna/optuna/releases/tag/v3.0.0. Use :func:`~optuna.trial.Trial.suggest_float` instead.\n",
      "  'colsample_bytree': trial.suggest_loguniform('colsample_bytree', 0.01, 1.0),\n",
      "C:\\Users\\slrk4\\AppData\\Local\\Temp/ipykernel_11964/716984137.py:12: FutureWarning: suggest_loguniform has been deprecated in v3.0.0. This feature will be removed in v6.0.0. See https://github.com/optuna/optuna/releases/tag/v3.0.0. Use :func:`~optuna.trial.Trial.suggest_float` instead.\n",
      "  'reg_alpha': trial.suggest_loguniform('reg_alpha', 1e-8, 1.0),\n",
      "C:\\Users\\slrk4\\AppData\\Local\\Temp/ipykernel_11964/716984137.py:13: FutureWarning: suggest_loguniform has been deprecated in v3.0.0. This feature will be removed in v6.0.0. See https://github.com/optuna/optuna/releases/tag/v3.0.0. Use :func:`~optuna.trial.Trial.suggest_float` instead.\n",
      "  'reg_lambda': trial.suggest_loguniform('reg_lambda', 1e-8, 1.0),\n",
      "\u001b[32m[I 2022-11-05 10:19:39,917]\u001b[0m Trial 84 finished with value: 0.8100894559319548 and parameters: {'max_depth': 9, 'learning_rate': 0.1714446698857728, 'n_estimators': 421, 'min_child_weight': 2, 'gamma': 0.00010663843722369917, 'subsample': 0.8662426462521017, 'colsample_bytree': 0.4233002408239665, 'reg_alpha': 0.26270343000142005, 'reg_lambda': 1.5118631116763819e-06}. Best is trial 83 with value: 0.8174952339052647.\u001b[0m\n",
      "C:\\Users\\slrk4\\AppData\\Local\\Temp/ipykernel_11964/716984137.py:6: FutureWarning: suggest_loguniform has been deprecated in v3.0.0. This feature will be removed in v6.0.0. See https://github.com/optuna/optuna/releases/tag/v3.0.0. Use :func:`~optuna.trial.Trial.suggest_float` instead.\n",
      "  'learning_rate': trial.suggest_loguniform('learning_rate', 0.01, 1.0),\n",
      "C:\\Users\\slrk4\\AppData\\Local\\Temp/ipykernel_11964/716984137.py:9: FutureWarning: suggest_loguniform has been deprecated in v3.0.0. This feature will be removed in v6.0.0. See https://github.com/optuna/optuna/releases/tag/v3.0.0. Use :func:`~optuna.trial.Trial.suggest_float` instead.\n",
      "  'gamma': trial.suggest_loguniform('gamma', 1e-8, 1.0),\n",
      "C:\\Users\\slrk4\\AppData\\Local\\Temp/ipykernel_11964/716984137.py:10: FutureWarning: suggest_loguniform has been deprecated in v3.0.0. This feature will be removed in v6.0.0. See https://github.com/optuna/optuna/releases/tag/v3.0.0. Use :func:`~optuna.trial.Trial.suggest_float` instead.\n",
      "  'subsample': trial.suggest_loguniform('subsample', 0.01, 1.0),\n",
      "C:\\Users\\slrk4\\AppData\\Local\\Temp/ipykernel_11964/716984137.py:11: FutureWarning: suggest_loguniform has been deprecated in v3.0.0. This feature will be removed in v6.0.0. See https://github.com/optuna/optuna/releases/tag/v3.0.0. Use :func:`~optuna.trial.Trial.suggest_float` instead.\n",
      "  'colsample_bytree': trial.suggest_loguniform('colsample_bytree', 0.01, 1.0),\n",
      "C:\\Users\\slrk4\\AppData\\Local\\Temp/ipykernel_11964/716984137.py:12: FutureWarning: suggest_loguniform has been deprecated in v3.0.0. This feature will be removed in v6.0.0. See https://github.com/optuna/optuna/releases/tag/v3.0.0. Use :func:`~optuna.trial.Trial.suggest_float` instead.\n",
      "  'reg_alpha': trial.suggest_loguniform('reg_alpha', 1e-8, 1.0),\n",
      "C:\\Users\\slrk4\\AppData\\Local\\Temp/ipykernel_11964/716984137.py:13: FutureWarning: suggest_loguniform has been deprecated in v3.0.0. This feature will be removed in v6.0.0. See https://github.com/optuna/optuna/releases/tag/v3.0.0. Use :func:`~optuna.trial.Trial.suggest_float` instead.\n",
      "  'reg_lambda': trial.suggest_loguniform('reg_lambda', 1e-8, 1.0),\n",
      "\u001b[32m[I 2022-11-05 10:19:48,411]\u001b[0m Trial 85 finished with value: 0.8128024637043555 and parameters: {'max_depth': 9, 'learning_rate': 0.17672698897766972, 'n_estimators': 411, 'min_child_weight': 1, 'gamma': 1.5166017680026294e-05, 'subsample': 0.7143183691460642, 'colsample_bytree': 0.5656819184933952, 'reg_alpha': 0.5837470872016242, 'reg_lambda': 3.4668674307333186e-07}. Best is trial 83 with value: 0.8174952339052647.\u001b[0m\n",
      "C:\\Users\\slrk4\\AppData\\Local\\Temp/ipykernel_11964/716984137.py:6: FutureWarning: suggest_loguniform has been deprecated in v3.0.0. This feature will be removed in v6.0.0. See https://github.com/optuna/optuna/releases/tag/v3.0.0. Use :func:`~optuna.trial.Trial.suggest_float` instead.\n",
      "  'learning_rate': trial.suggest_loguniform('learning_rate', 0.01, 1.0),\n",
      "C:\\Users\\slrk4\\AppData\\Local\\Temp/ipykernel_11964/716984137.py:9: FutureWarning: suggest_loguniform has been deprecated in v3.0.0. This feature will be removed in v6.0.0. See https://github.com/optuna/optuna/releases/tag/v3.0.0. Use :func:`~optuna.trial.Trial.suggest_float` instead.\n",
      "  'gamma': trial.suggest_loguniform('gamma', 1e-8, 1.0),\n",
      "C:\\Users\\slrk4\\AppData\\Local\\Temp/ipykernel_11964/716984137.py:10: FutureWarning: suggest_loguniform has been deprecated in v3.0.0. This feature will be removed in v6.0.0. See https://github.com/optuna/optuna/releases/tag/v3.0.0. Use :func:`~optuna.trial.Trial.suggest_float` instead.\n",
      "  'subsample': trial.suggest_loguniform('subsample', 0.01, 1.0),\n",
      "C:\\Users\\slrk4\\AppData\\Local\\Temp/ipykernel_11964/716984137.py:11: FutureWarning: suggest_loguniform has been deprecated in v3.0.0. This feature will be removed in v6.0.0. See https://github.com/optuna/optuna/releases/tag/v3.0.0. Use :func:`~optuna.trial.Trial.suggest_float` instead.\n",
      "  'colsample_bytree': trial.suggest_loguniform('colsample_bytree', 0.01, 1.0),\n",
      "C:\\Users\\slrk4\\AppData\\Local\\Temp/ipykernel_11964/716984137.py:12: FutureWarning: suggest_loguniform has been deprecated in v3.0.0. This feature will be removed in v6.0.0. See https://github.com/optuna/optuna/releases/tag/v3.0.0. Use :func:`~optuna.trial.Trial.suggest_float` instead.\n",
      "  'reg_alpha': trial.suggest_loguniform('reg_alpha', 1e-8, 1.0),\n",
      "C:\\Users\\slrk4\\AppData\\Local\\Temp/ipykernel_11964/716984137.py:13: FutureWarning: suggest_loguniform has been deprecated in v3.0.0. This feature will be removed in v6.0.0. See https://github.com/optuna/optuna/releases/tag/v3.0.0. Use :func:`~optuna.trial.Trial.suggest_float` instead.\n",
      "  'reg_lambda': trial.suggest_loguniform('reg_lambda', 1e-8, 1.0),\n",
      "\u001b[32m[I 2022-11-05 10:19:57,958]\u001b[0m Trial 86 finished with value: 0.8169086376301511 and parameters: {'max_depth': 9, 'learning_rate': 0.12519107994250633, 'n_estimators': 410, 'min_child_weight': 1, 'gamma': 1.5742543898624208e-05, 'subsample': 0.9643619507988632, 'colsample_bytree': 0.733493997774036, 'reg_alpha': 0.5311889665816876, 'reg_lambda': 3.9317965906894765e-07}. Best is trial 83 with value: 0.8174952339052647.\u001b[0m\n",
      "C:\\Users\\slrk4\\AppData\\Local\\Temp/ipykernel_11964/716984137.py:6: FutureWarning: suggest_loguniform has been deprecated in v3.0.0. This feature will be removed in v6.0.0. See https://github.com/optuna/optuna/releases/tag/v3.0.0. Use :func:`~optuna.trial.Trial.suggest_float` instead.\n",
      "  'learning_rate': trial.suggest_loguniform('learning_rate', 0.01, 1.0),\n",
      "C:\\Users\\slrk4\\AppData\\Local\\Temp/ipykernel_11964/716984137.py:9: FutureWarning: suggest_loguniform has been deprecated in v3.0.0. This feature will be removed in v6.0.0. See https://github.com/optuna/optuna/releases/tag/v3.0.0. Use :func:`~optuna.trial.Trial.suggest_float` instead.\n",
      "  'gamma': trial.suggest_loguniform('gamma', 1e-8, 1.0),\n",
      "C:\\Users\\slrk4\\AppData\\Local\\Temp/ipykernel_11964/716984137.py:10: FutureWarning: suggest_loguniform has been deprecated in v3.0.0. This feature will be removed in v6.0.0. See https://github.com/optuna/optuna/releases/tag/v3.0.0. Use :func:`~optuna.trial.Trial.suggest_float` instead.\n",
      "  'subsample': trial.suggest_loguniform('subsample', 0.01, 1.0),\n",
      "C:\\Users\\slrk4\\AppData\\Local\\Temp/ipykernel_11964/716984137.py:11: FutureWarning: suggest_loguniform has been deprecated in v3.0.0. This feature will be removed in v6.0.0. See https://github.com/optuna/optuna/releases/tag/v3.0.0. Use :func:`~optuna.trial.Trial.suggest_float` instead.\n",
      "  'colsample_bytree': trial.suggest_loguniform('colsample_bytree', 0.01, 1.0),\n",
      "C:\\Users\\slrk4\\AppData\\Local\\Temp/ipykernel_11964/716984137.py:12: FutureWarning: suggest_loguniform has been deprecated in v3.0.0. This feature will be removed in v6.0.0. See https://github.com/optuna/optuna/releases/tag/v3.0.0. Use :func:`~optuna.trial.Trial.suggest_float` instead.\n",
      "  'reg_alpha': trial.suggest_loguniform('reg_alpha', 1e-8, 1.0),\n",
      "C:\\Users\\slrk4\\AppData\\Local\\Temp/ipykernel_11964/716984137.py:13: FutureWarning: suggest_loguniform has been deprecated in v3.0.0. This feature will be removed in v6.0.0. See https://github.com/optuna/optuna/releases/tag/v3.0.0. Use :func:`~optuna.trial.Trial.suggest_float` instead.\n",
      "  'reg_lambda': trial.suggest_loguniform('reg_lambda', 1e-8, 1.0),\n"
     ]
    },
    {
     "name": "stderr",
     "output_type": "stream",
     "text": [
      "\u001b[32m[I 2022-11-05 10:20:07,434]\u001b[0m Trial 87 finished with value: 0.8163953658894266 and parameters: {'max_depth': 9, 'learning_rate': 0.17709860532032515, 'n_estimators': 403, 'min_child_weight': 1, 'gamma': 1.572275456031572e-05, 'subsample': 0.9828207377051293, 'colsample_bytree': 0.710999184973877, 'reg_alpha': 0.4555924042804357, 'reg_lambda': 4.214074053021681e-07}. Best is trial 83 with value: 0.8174952339052647.\u001b[0m\n",
      "C:\\Users\\slrk4\\AppData\\Local\\Temp/ipykernel_11964/716984137.py:6: FutureWarning: suggest_loguniform has been deprecated in v3.0.0. This feature will be removed in v6.0.0. See https://github.com/optuna/optuna/releases/tag/v3.0.0. Use :func:`~optuna.trial.Trial.suggest_float` instead.\n",
      "  'learning_rate': trial.suggest_loguniform('learning_rate', 0.01, 1.0),\n",
      "C:\\Users\\slrk4\\AppData\\Local\\Temp/ipykernel_11964/716984137.py:9: FutureWarning: suggest_loguniform has been deprecated in v3.0.0. This feature will be removed in v6.0.0. See https://github.com/optuna/optuna/releases/tag/v3.0.0. Use :func:`~optuna.trial.Trial.suggest_float` instead.\n",
      "  'gamma': trial.suggest_loguniform('gamma', 1e-8, 1.0),\n",
      "C:\\Users\\slrk4\\AppData\\Local\\Temp/ipykernel_11964/716984137.py:10: FutureWarning: suggest_loguniform has been deprecated in v3.0.0. This feature will be removed in v6.0.0. See https://github.com/optuna/optuna/releases/tag/v3.0.0. Use :func:`~optuna.trial.Trial.suggest_float` instead.\n",
      "  'subsample': trial.suggest_loguniform('subsample', 0.01, 1.0),\n",
      "C:\\Users\\slrk4\\AppData\\Local\\Temp/ipykernel_11964/716984137.py:11: FutureWarning: suggest_loguniform has been deprecated in v3.0.0. This feature will be removed in v6.0.0. See https://github.com/optuna/optuna/releases/tag/v3.0.0. Use :func:`~optuna.trial.Trial.suggest_float` instead.\n",
      "  'colsample_bytree': trial.suggest_loguniform('colsample_bytree', 0.01, 1.0),\n",
      "C:\\Users\\slrk4\\AppData\\Local\\Temp/ipykernel_11964/716984137.py:12: FutureWarning: suggest_loguniform has been deprecated in v3.0.0. This feature will be removed in v6.0.0. See https://github.com/optuna/optuna/releases/tag/v3.0.0. Use :func:`~optuna.trial.Trial.suggest_float` instead.\n",
      "  'reg_alpha': trial.suggest_loguniform('reg_alpha', 1e-8, 1.0),\n",
      "C:\\Users\\slrk4\\AppData\\Local\\Temp/ipykernel_11964/716984137.py:13: FutureWarning: suggest_loguniform has been deprecated in v3.0.0. This feature will be removed in v6.0.0. See https://github.com/optuna/optuna/releases/tag/v3.0.0. Use :func:`~optuna.trial.Trial.suggest_float` instead.\n",
      "  'reg_lambda': trial.suggest_loguniform('reg_lambda', 1e-8, 1.0),\n",
      "\u001b[32m[I 2022-11-05 10:20:15,288]\u001b[0m Trial 88 finished with value: 0.8106760522070685 and parameters: {'max_depth': 9, 'learning_rate': 0.18320441150759229, 'n_estimators': 404, 'min_child_weight': 1, 'gamma': 1.7570310169624847e-05, 'subsample': 0.7194745735636322, 'colsample_bytree': 0.4902961437570624, 'reg_alpha': 0.608169162355202, 'reg_lambda': 4.820915695739234e-07}. Best is trial 83 with value: 0.8174952339052647.\u001b[0m\n",
      "C:\\Users\\slrk4\\AppData\\Local\\Temp/ipykernel_11964/716984137.py:6: FutureWarning: suggest_loguniform has been deprecated in v3.0.0. This feature will be removed in v6.0.0. See https://github.com/optuna/optuna/releases/tag/v3.0.0. Use :func:`~optuna.trial.Trial.suggest_float` instead.\n",
      "  'learning_rate': trial.suggest_loguniform('learning_rate', 0.01, 1.0),\n",
      "C:\\Users\\slrk4\\AppData\\Local\\Temp/ipykernel_11964/716984137.py:9: FutureWarning: suggest_loguniform has been deprecated in v3.0.0. This feature will be removed in v6.0.0. See https://github.com/optuna/optuna/releases/tag/v3.0.0. Use :func:`~optuna.trial.Trial.suggest_float` instead.\n",
      "  'gamma': trial.suggest_loguniform('gamma', 1e-8, 1.0),\n",
      "C:\\Users\\slrk4\\AppData\\Local\\Temp/ipykernel_11964/716984137.py:10: FutureWarning: suggest_loguniform has been deprecated in v3.0.0. This feature will be removed in v6.0.0. See https://github.com/optuna/optuna/releases/tag/v3.0.0. Use :func:`~optuna.trial.Trial.suggest_float` instead.\n",
      "  'subsample': trial.suggest_loguniform('subsample', 0.01, 1.0),\n",
      "C:\\Users\\slrk4\\AppData\\Local\\Temp/ipykernel_11964/716984137.py:11: FutureWarning: suggest_loguniform has been deprecated in v3.0.0. This feature will be removed in v6.0.0. See https://github.com/optuna/optuna/releases/tag/v3.0.0. Use :func:`~optuna.trial.Trial.suggest_float` instead.\n",
      "  'colsample_bytree': trial.suggest_loguniform('colsample_bytree', 0.01, 1.0),\n",
      "C:\\Users\\slrk4\\AppData\\Local\\Temp/ipykernel_11964/716984137.py:12: FutureWarning: suggest_loguniform has been deprecated in v3.0.0. This feature will be removed in v6.0.0. See https://github.com/optuna/optuna/releases/tag/v3.0.0. Use :func:`~optuna.trial.Trial.suggest_float` instead.\n",
      "  'reg_alpha': trial.suggest_loguniform('reg_alpha', 1e-8, 1.0),\n",
      "C:\\Users\\slrk4\\AppData\\Local\\Temp/ipykernel_11964/716984137.py:13: FutureWarning: suggest_loguniform has been deprecated in v3.0.0. This feature will be removed in v6.0.0. See https://github.com/optuna/optuna/releases/tag/v3.0.0. Use :func:`~optuna.trial.Trial.suggest_float` instead.\n",
      "  'reg_lambda': trial.suggest_loguniform('reg_lambda', 1e-8, 1.0),\n",
      "\u001b[32m[I 2022-11-05 10:20:25,415]\u001b[0m Trial 89 finished with value: 0.8167619885613726 and parameters: {'max_depth': 9, 'learning_rate': 0.21972056045312244, 'n_estimators': 411, 'min_child_weight': 1, 'gamma': 6.082157290177438e-06, 'subsample': 0.9296501221896212, 'colsample_bytree': 0.7134496441134557, 'reg_alpha': 0.442161033366201, 'reg_lambda': 1.0345182752787369e-06}. Best is trial 83 with value: 0.8174952339052647.\u001b[0m\n",
      "C:\\Users\\slrk4\\AppData\\Local\\Temp/ipykernel_11964/716984137.py:6: FutureWarning: suggest_loguniform has been deprecated in v3.0.0. This feature will be removed in v6.0.0. See https://github.com/optuna/optuna/releases/tag/v3.0.0. Use :func:`~optuna.trial.Trial.suggest_float` instead.\n",
      "  'learning_rate': trial.suggest_loguniform('learning_rate', 0.01, 1.0),\n",
      "C:\\Users\\slrk4\\AppData\\Local\\Temp/ipykernel_11964/716984137.py:9: FutureWarning: suggest_loguniform has been deprecated in v3.0.0. This feature will be removed in v6.0.0. See https://github.com/optuna/optuna/releases/tag/v3.0.0. Use :func:`~optuna.trial.Trial.suggest_float` instead.\n",
      "  'gamma': trial.suggest_loguniform('gamma', 1e-8, 1.0),\n",
      "C:\\Users\\slrk4\\AppData\\Local\\Temp/ipykernel_11964/716984137.py:10: FutureWarning: suggest_loguniform has been deprecated in v3.0.0. This feature will be removed in v6.0.0. See https://github.com/optuna/optuna/releases/tag/v3.0.0. Use :func:`~optuna.trial.Trial.suggest_float` instead.\n",
      "  'subsample': trial.suggest_loguniform('subsample', 0.01, 1.0),\n",
      "C:\\Users\\slrk4\\AppData\\Local\\Temp/ipykernel_11964/716984137.py:11: FutureWarning: suggest_loguniform has been deprecated in v3.0.0. This feature will be removed in v6.0.0. See https://github.com/optuna/optuna/releases/tag/v3.0.0. Use :func:`~optuna.trial.Trial.suggest_float` instead.\n",
      "  'colsample_bytree': trial.suggest_loguniform('colsample_bytree', 0.01, 1.0),\n",
      "C:\\Users\\slrk4\\AppData\\Local\\Temp/ipykernel_11964/716984137.py:12: FutureWarning: suggest_loguniform has been deprecated in v3.0.0. This feature will be removed in v6.0.0. See https://github.com/optuna/optuna/releases/tag/v3.0.0. Use :func:`~optuna.trial.Trial.suggest_float` instead.\n",
      "  'reg_alpha': trial.suggest_loguniform('reg_alpha', 1e-8, 1.0),\n",
      "C:\\Users\\slrk4\\AppData\\Local\\Temp/ipykernel_11964/716984137.py:13: FutureWarning: suggest_loguniform has been deprecated in v3.0.0. This feature will be removed in v6.0.0. See https://github.com/optuna/optuna/releases/tag/v3.0.0. Use :func:`~optuna.trial.Trial.suggest_float` instead.\n",
      "  'reg_lambda': trial.suggest_loguniform('reg_lambda', 1e-8, 1.0),\n",
      "\u001b[32m[I 2022-11-05 10:20:34,125]\u001b[0m Trial 90 finished with value: 0.8131690863763015 and parameters: {'max_depth': 9, 'learning_rate': 0.22702410842419501, 'n_estimators': 407, 'min_child_weight': 1, 'gamma': 6.246812280374521e-06, 'subsample': 0.9302382393285525, 'colsample_bytree': 0.543791839836423, 'reg_alpha': 0.511612746888471, 'reg_lambda': 2.9642861472466185e-07}. Best is trial 83 with value: 0.8174952339052647.\u001b[0m\n",
      "C:\\Users\\slrk4\\AppData\\Local\\Temp/ipykernel_11964/716984137.py:6: FutureWarning: suggest_loguniform has been deprecated in v3.0.0. This feature will be removed in v6.0.0. See https://github.com/optuna/optuna/releases/tag/v3.0.0. Use :func:`~optuna.trial.Trial.suggest_float` instead.\n",
      "  'learning_rate': trial.suggest_loguniform('learning_rate', 0.01, 1.0),\n",
      "C:\\Users\\slrk4\\AppData\\Local\\Temp/ipykernel_11964/716984137.py:9: FutureWarning: suggest_loguniform has been deprecated in v3.0.0. This feature will be removed in v6.0.0. See https://github.com/optuna/optuna/releases/tag/v3.0.0. Use :func:`~optuna.trial.Trial.suggest_float` instead.\n",
      "  'gamma': trial.suggest_loguniform('gamma', 1e-8, 1.0),\n",
      "C:\\Users\\slrk4\\AppData\\Local\\Temp/ipykernel_11964/716984137.py:10: FutureWarning: suggest_loguniform has been deprecated in v3.0.0. This feature will be removed in v6.0.0. See https://github.com/optuna/optuna/releases/tag/v3.0.0. Use :func:`~optuna.trial.Trial.suggest_float` instead.\n",
      "  'subsample': trial.suggest_loguniform('subsample', 0.01, 1.0),\n",
      "C:\\Users\\slrk4\\AppData\\Local\\Temp/ipykernel_11964/716984137.py:11: FutureWarning: suggest_loguniform has been deprecated in v3.0.0. This feature will be removed in v6.0.0. See https://github.com/optuna/optuna/releases/tag/v3.0.0. Use :func:`~optuna.trial.Trial.suggest_float` instead.\n",
      "  'colsample_bytree': trial.suggest_loguniform('colsample_bytree', 0.01, 1.0),\n",
      "C:\\Users\\slrk4\\AppData\\Local\\Temp/ipykernel_11964/716984137.py:12: FutureWarning: suggest_loguniform has been deprecated in v3.0.0. This feature will be removed in v6.0.0. See https://github.com/optuna/optuna/releases/tag/v3.0.0. Use :func:`~optuna.trial.Trial.suggest_float` instead.\n",
      "  'reg_alpha': trial.suggest_loguniform('reg_alpha', 1e-8, 1.0),\n",
      "C:\\Users\\slrk4\\AppData\\Local\\Temp/ipykernel_11964/716984137.py:13: FutureWarning: suggest_loguniform has been deprecated in v3.0.0. This feature will be removed in v6.0.0. See https://github.com/optuna/optuna/releases/tag/v3.0.0. Use :func:`~optuna.trial.Trial.suggest_float` instead.\n",
      "  'reg_lambda': trial.suggest_loguniform('reg_lambda', 1e-8, 1.0),\n"
     ]
    },
    {
     "name": "stderr",
     "output_type": "stream",
     "text": [
      "\u001b[32m[I 2022-11-05 10:20:42,315]\u001b[0m Trial 91 finished with value: 0.8125091655667986 and parameters: {'max_depth': 9, 'learning_rate': 0.22966099199905554, 'n_estimators': 408, 'min_child_weight': 1, 'gamma': 5.402595562662458e-06, 'subsample': 0.9014653264083022, 'colsample_bytree': 0.550804202107059, 'reg_alpha': 0.4464383298938926, 'reg_lambda': 2.8351758451165783e-07}. Best is trial 83 with value: 0.8174952339052647.\u001b[0m\n",
      "C:\\Users\\slrk4\\AppData\\Local\\Temp/ipykernel_11964/716984137.py:6: FutureWarning: suggest_loguniform has been deprecated in v3.0.0. This feature will be removed in v6.0.0. See https://github.com/optuna/optuna/releases/tag/v3.0.0. Use :func:`~optuna.trial.Trial.suggest_float` instead.\n",
      "  'learning_rate': trial.suggest_loguniform('learning_rate', 0.01, 1.0),\n",
      "C:\\Users\\slrk4\\AppData\\Local\\Temp/ipykernel_11964/716984137.py:9: FutureWarning: suggest_loguniform has been deprecated in v3.0.0. This feature will be removed in v6.0.0. See https://github.com/optuna/optuna/releases/tag/v3.0.0. Use :func:`~optuna.trial.Trial.suggest_float` instead.\n",
      "  'gamma': trial.suggest_loguniform('gamma', 1e-8, 1.0),\n",
      "C:\\Users\\slrk4\\AppData\\Local\\Temp/ipykernel_11964/716984137.py:10: FutureWarning: suggest_loguniform has been deprecated in v3.0.0. This feature will be removed in v6.0.0. See https://github.com/optuna/optuna/releases/tag/v3.0.0. Use :func:`~optuna.trial.Trial.suggest_float` instead.\n",
      "  'subsample': trial.suggest_loguniform('subsample', 0.01, 1.0),\n",
      "C:\\Users\\slrk4\\AppData\\Local\\Temp/ipykernel_11964/716984137.py:11: FutureWarning: suggest_loguniform has been deprecated in v3.0.0. This feature will be removed in v6.0.0. See https://github.com/optuna/optuna/releases/tag/v3.0.0. Use :func:`~optuna.trial.Trial.suggest_float` instead.\n",
      "  'colsample_bytree': trial.suggest_loguniform('colsample_bytree', 0.01, 1.0),\n",
      "C:\\Users\\slrk4\\AppData\\Local\\Temp/ipykernel_11964/716984137.py:12: FutureWarning: suggest_loguniform has been deprecated in v3.0.0. This feature will be removed in v6.0.0. See https://github.com/optuna/optuna/releases/tag/v3.0.0. Use :func:`~optuna.trial.Trial.suggest_float` instead.\n",
      "  'reg_alpha': trial.suggest_loguniform('reg_alpha', 1e-8, 1.0),\n",
      "C:\\Users\\slrk4\\AppData\\Local\\Temp/ipykernel_11964/716984137.py:13: FutureWarning: suggest_loguniform has been deprecated in v3.0.0. This feature will be removed in v6.0.0. See https://github.com/optuna/optuna/releases/tag/v3.0.0. Use :func:`~optuna.trial.Trial.suggest_float` instead.\n",
      "  'reg_lambda': trial.suggest_loguniform('reg_lambda', 1e-8, 1.0),\n",
      "\u001b[32m[I 2022-11-05 10:20:50,738]\u001b[0m Trial 92 finished with value: 0.8122158674292418 and parameters: {'max_depth': 9, 'learning_rate': 0.27562267674677887, 'n_estimators': 357, 'min_child_weight': 1, 'gamma': 8.504993246448466e-06, 'subsample': 0.8644625281572622, 'colsample_bytree': 0.696984775576752, 'reg_alpha': 0.4254224072786769, 'reg_lambda': 9.275665903873418e-07}. Best is trial 83 with value: 0.8174952339052647.\u001b[0m\n",
      "C:\\Users\\slrk4\\AppData\\Local\\Temp/ipykernel_11964/716984137.py:6: FutureWarning: suggest_loguniform has been deprecated in v3.0.0. This feature will be removed in v6.0.0. See https://github.com/optuna/optuna/releases/tag/v3.0.0. Use :func:`~optuna.trial.Trial.suggest_float` instead.\n",
      "  'learning_rate': trial.suggest_loguniform('learning_rate', 0.01, 1.0),\n",
      "C:\\Users\\slrk4\\AppData\\Local\\Temp/ipykernel_11964/716984137.py:9: FutureWarning: suggest_loguniform has been deprecated in v3.0.0. This feature will be removed in v6.0.0. See https://github.com/optuna/optuna/releases/tag/v3.0.0. Use :func:`~optuna.trial.Trial.suggest_float` instead.\n",
      "  'gamma': trial.suggest_loguniform('gamma', 1e-8, 1.0),\n",
      "C:\\Users\\slrk4\\AppData\\Local\\Temp/ipykernel_11964/716984137.py:10: FutureWarning: suggest_loguniform has been deprecated in v3.0.0. This feature will be removed in v6.0.0. See https://github.com/optuna/optuna/releases/tag/v3.0.0. Use :func:`~optuna.trial.Trial.suggest_float` instead.\n",
      "  'subsample': trial.suggest_loguniform('subsample', 0.01, 1.0),\n",
      "C:\\Users\\slrk4\\AppData\\Local\\Temp/ipykernel_11964/716984137.py:11: FutureWarning: suggest_loguniform has been deprecated in v3.0.0. This feature will be removed in v6.0.0. See https://github.com/optuna/optuna/releases/tag/v3.0.0. Use :func:`~optuna.trial.Trial.suggest_float` instead.\n",
      "  'colsample_bytree': trial.suggest_loguniform('colsample_bytree', 0.01, 1.0),\n",
      "C:\\Users\\slrk4\\AppData\\Local\\Temp/ipykernel_11964/716984137.py:12: FutureWarning: suggest_loguniform has been deprecated in v3.0.0. This feature will be removed in v6.0.0. See https://github.com/optuna/optuna/releases/tag/v3.0.0. Use :func:`~optuna.trial.Trial.suggest_float` instead.\n",
      "  'reg_alpha': trial.suggest_loguniform('reg_alpha', 1e-8, 1.0),\n",
      "C:\\Users\\slrk4\\AppData\\Local\\Temp/ipykernel_11964/716984137.py:13: FutureWarning: suggest_loguniform has been deprecated in v3.0.0. This feature will be removed in v6.0.0. See https://github.com/optuna/optuna/releases/tag/v3.0.0. Use :func:`~optuna.trial.Trial.suggest_float` instead.\n",
      "  'reg_lambda': trial.suggest_loguniform('reg_lambda', 1e-8, 1.0),\n",
      "\u001b[32m[I 2022-11-05 10:21:01,147]\u001b[0m Trial 93 finished with value: 0.8150021997360317 and parameters: {'max_depth': 9, 'learning_rate': 0.35357700314002916, 'n_estimators': 370, 'min_child_weight': 1, 'gamma': 2.066847742093446e-06, 'subsample': 0.9872614335001249, 'colsample_bytree': 0.7588836065158253, 'reg_alpha': 0.9771652898317431, 'reg_lambda': 2.553559262067913e-06}. Best is trial 83 with value: 0.8174952339052647.\u001b[0m\n",
      "C:\\Users\\slrk4\\AppData\\Local\\Temp/ipykernel_11964/716984137.py:6: FutureWarning: suggest_loguniform has been deprecated in v3.0.0. This feature will be removed in v6.0.0. See https://github.com/optuna/optuna/releases/tag/v3.0.0. Use :func:`~optuna.trial.Trial.suggest_float` instead.\n",
      "  'learning_rate': trial.suggest_loguniform('learning_rate', 0.01, 1.0),\n",
      "C:\\Users\\slrk4\\AppData\\Local\\Temp/ipykernel_11964/716984137.py:9: FutureWarning: suggest_loguniform has been deprecated in v3.0.0. This feature will be removed in v6.0.0. See https://github.com/optuna/optuna/releases/tag/v3.0.0. Use :func:`~optuna.trial.Trial.suggest_float` instead.\n",
      "  'gamma': trial.suggest_loguniform('gamma', 1e-8, 1.0),\n",
      "C:\\Users\\slrk4\\AppData\\Local\\Temp/ipykernel_11964/716984137.py:10: FutureWarning: suggest_loguniform has been deprecated in v3.0.0. This feature will be removed in v6.0.0. See https://github.com/optuna/optuna/releases/tag/v3.0.0. Use :func:`~optuna.trial.Trial.suggest_float` instead.\n",
      "  'subsample': trial.suggest_loguniform('subsample', 0.01, 1.0),\n",
      "C:\\Users\\slrk4\\AppData\\Local\\Temp/ipykernel_11964/716984137.py:11: FutureWarning: suggest_loguniform has been deprecated in v3.0.0. This feature will be removed in v6.0.0. See https://github.com/optuna/optuna/releases/tag/v3.0.0. Use :func:`~optuna.trial.Trial.suggest_float` instead.\n",
      "  'colsample_bytree': trial.suggest_loguniform('colsample_bytree', 0.01, 1.0),\n",
      "C:\\Users\\slrk4\\AppData\\Local\\Temp/ipykernel_11964/716984137.py:12: FutureWarning: suggest_loguniform has been deprecated in v3.0.0. This feature will be removed in v6.0.0. See https://github.com/optuna/optuna/releases/tag/v3.0.0. Use :func:`~optuna.trial.Trial.suggest_float` instead.\n",
      "  'reg_alpha': trial.suggest_loguniform('reg_alpha', 1e-8, 1.0),\n",
      "C:\\Users\\slrk4\\AppData\\Local\\Temp/ipykernel_11964/716984137.py:13: FutureWarning: suggest_loguniform has been deprecated in v3.0.0. This feature will be removed in v6.0.0. See https://github.com/optuna/optuna/releases/tag/v3.0.0. Use :func:`~optuna.trial.Trial.suggest_float` instead.\n",
      "  'reg_lambda': trial.suggest_loguniform('reg_lambda', 1e-8, 1.0),\n",
      "\u001b[32m[I 2022-11-05 10:21:10,215]\u001b[0m Trial 94 finished with value: 0.8123625164980203 and parameters: {'max_depth': 9, 'learning_rate': 0.4912181558104646, 'n_estimators': 373, 'min_child_weight': 1, 'gamma': 1.6121922500861886e-06, 'subsample': 0.9923161460006659, 'colsample_bytree': 0.731445685876192, 'reg_alpha': 0.7552592215820897, 'reg_lambda': 2.862396640741503e-06}. Best is trial 83 with value: 0.8174952339052647.\u001b[0m\n",
      "C:\\Users\\slrk4\\AppData\\Local\\Temp/ipykernel_11964/716984137.py:6: FutureWarning: suggest_loguniform has been deprecated in v3.0.0. This feature will be removed in v6.0.0. See https://github.com/optuna/optuna/releases/tag/v3.0.0. Use :func:`~optuna.trial.Trial.suggest_float` instead.\n",
      "  'learning_rate': trial.suggest_loguniform('learning_rate', 0.01, 1.0),\n",
      "C:\\Users\\slrk4\\AppData\\Local\\Temp/ipykernel_11964/716984137.py:9: FutureWarning: suggest_loguniform has been deprecated in v3.0.0. This feature will be removed in v6.0.0. See https://github.com/optuna/optuna/releases/tag/v3.0.0. Use :func:`~optuna.trial.Trial.suggest_float` instead.\n",
      "  'gamma': trial.suggest_loguniform('gamma', 1e-8, 1.0),\n",
      "C:\\Users\\slrk4\\AppData\\Local\\Temp/ipykernel_11964/716984137.py:10: FutureWarning: suggest_loguniform has been deprecated in v3.0.0. This feature will be removed in v6.0.0. See https://github.com/optuna/optuna/releases/tag/v3.0.0. Use :func:`~optuna.trial.Trial.suggest_float` instead.\n",
      "  'subsample': trial.suggest_loguniform('subsample', 0.01, 1.0),\n",
      "C:\\Users\\slrk4\\AppData\\Local\\Temp/ipykernel_11964/716984137.py:11: FutureWarning: suggest_loguniform has been deprecated in v3.0.0. This feature will be removed in v6.0.0. See https://github.com/optuna/optuna/releases/tag/v3.0.0. Use :func:`~optuna.trial.Trial.suggest_float` instead.\n",
      "  'colsample_bytree': trial.suggest_loguniform('colsample_bytree', 0.01, 1.0),\n",
      "C:\\Users\\slrk4\\AppData\\Local\\Temp/ipykernel_11964/716984137.py:12: FutureWarning: suggest_loguniform has been deprecated in v3.0.0. This feature will be removed in v6.0.0. See https://github.com/optuna/optuna/releases/tag/v3.0.0. Use :func:`~optuna.trial.Trial.suggest_float` instead.\n",
      "  'reg_alpha': trial.suggest_loguniform('reg_alpha', 1e-8, 1.0),\n",
      "C:\\Users\\slrk4\\AppData\\Local\\Temp/ipykernel_11964/716984137.py:13: FutureWarning: suggest_loguniform has been deprecated in v3.0.0. This feature will be removed in v6.0.0. See https://github.com/optuna/optuna/releases/tag/v3.0.0. Use :func:`~optuna.trial.Trial.suggest_float` instead.\n",
      "  'reg_lambda': trial.suggest_loguniform('reg_lambda', 1e-8, 1.0),\n"
     ]
    },
    {
     "name": "stderr",
     "output_type": "stream",
     "text": [
      "\u001b[32m[I 2022-11-05 10:21:12,730]\u001b[0m Trial 95 finished with value: 0.7779733098694823 and parameters: {'max_depth': 9, 'learning_rate': 0.3454572813310897, 'n_estimators': 328, 'min_child_weight': 1, 'gamma': 9.602046722808473e-07, 'subsample': 0.9985954250647376, 'colsample_bytree': 0.08324323302257028, 'reg_alpha': 0.8948987634537704, 'reg_lambda': 2.16614780424741e-06}. Best is trial 83 with value: 0.8174952339052647.\u001b[0m\n",
      "C:\\Users\\slrk4\\AppData\\Local\\Temp/ipykernel_11964/716984137.py:6: FutureWarning: suggest_loguniform has been deprecated in v3.0.0. This feature will be removed in v6.0.0. See https://github.com/optuna/optuna/releases/tag/v3.0.0. Use :func:`~optuna.trial.Trial.suggest_float` instead.\n",
      "  'learning_rate': trial.suggest_loguniform('learning_rate', 0.01, 1.0),\n",
      "C:\\Users\\slrk4\\AppData\\Local\\Temp/ipykernel_11964/716984137.py:9: FutureWarning: suggest_loguniform has been deprecated in v3.0.0. This feature will be removed in v6.0.0. See https://github.com/optuna/optuna/releases/tag/v3.0.0. Use :func:`~optuna.trial.Trial.suggest_float` instead.\n",
      "  'gamma': trial.suggest_loguniform('gamma', 1e-8, 1.0),\n",
      "C:\\Users\\slrk4\\AppData\\Local\\Temp/ipykernel_11964/716984137.py:10: FutureWarning: suggest_loguniform has been deprecated in v3.0.0. This feature will be removed in v6.0.0. See https://github.com/optuna/optuna/releases/tag/v3.0.0. Use :func:`~optuna.trial.Trial.suggest_float` instead.\n",
      "  'subsample': trial.suggest_loguniform('subsample', 0.01, 1.0),\n",
      "C:\\Users\\slrk4\\AppData\\Local\\Temp/ipykernel_11964/716984137.py:11: FutureWarning: suggest_loguniform has been deprecated in v3.0.0. This feature will be removed in v6.0.0. See https://github.com/optuna/optuna/releases/tag/v3.0.0. Use :func:`~optuna.trial.Trial.suggest_float` instead.\n",
      "  'colsample_bytree': trial.suggest_loguniform('colsample_bytree', 0.01, 1.0),\n",
      "C:\\Users\\slrk4\\AppData\\Local\\Temp/ipykernel_11964/716984137.py:12: FutureWarning: suggest_loguniform has been deprecated in v3.0.0. This feature will be removed in v6.0.0. See https://github.com/optuna/optuna/releases/tag/v3.0.0. Use :func:`~optuna.trial.Trial.suggest_float` instead.\n",
      "  'reg_alpha': trial.suggest_loguniform('reg_alpha', 1e-8, 1.0),\n",
      "C:\\Users\\slrk4\\AppData\\Local\\Temp/ipykernel_11964/716984137.py:13: FutureWarning: suggest_loguniform has been deprecated in v3.0.0. This feature will be removed in v6.0.0. See https://github.com/optuna/optuna/releases/tag/v3.0.0. Use :func:`~optuna.trial.Trial.suggest_float` instead.\n",
      "  'reg_lambda': trial.suggest_loguniform('reg_lambda', 1e-8, 1.0),\n",
      "\u001b[32m[I 2022-11-05 10:21:21,948]\u001b[0m Trial 96 finished with value: 0.8069365009532189 and parameters: {'max_depth': 8, 'learning_rate': 0.2927174942453593, 'n_estimators': 397, 'min_child_weight': 1, 'gamma': 3.887195196188449e-06, 'subsample': 0.8128199151823537, 'colsample_bytree': 0.7824525633286601, 'reg_alpha': 0.1626441843700539, 'reg_lambda': 6.047921218146666e-07}. Best is trial 83 with value: 0.8174952339052647.\u001b[0m\n",
      "C:\\Users\\slrk4\\AppData\\Local\\Temp/ipykernel_11964/716984137.py:6: FutureWarning: suggest_loguniform has been deprecated in v3.0.0. This feature will be removed in v6.0.0. See https://github.com/optuna/optuna/releases/tag/v3.0.0. Use :func:`~optuna.trial.Trial.suggest_float` instead.\n",
      "  'learning_rate': trial.suggest_loguniform('learning_rate', 0.01, 1.0),\n",
      "C:\\Users\\slrk4\\AppData\\Local\\Temp/ipykernel_11964/716984137.py:9: FutureWarning: suggest_loguniform has been deprecated in v3.0.0. This feature will be removed in v6.0.0. See https://github.com/optuna/optuna/releases/tag/v3.0.0. Use :func:`~optuna.trial.Trial.suggest_float` instead.\n",
      "  'gamma': trial.suggest_loguniform('gamma', 1e-8, 1.0),\n",
      "C:\\Users\\slrk4\\AppData\\Local\\Temp/ipykernel_11964/716984137.py:10: FutureWarning: suggest_loguniform has been deprecated in v3.0.0. This feature will be removed in v6.0.0. See https://github.com/optuna/optuna/releases/tag/v3.0.0. Use :func:`~optuna.trial.Trial.suggest_float` instead.\n",
      "  'subsample': trial.suggest_loguniform('subsample', 0.01, 1.0),\n",
      "C:\\Users\\slrk4\\AppData\\Local\\Temp/ipykernel_11964/716984137.py:11: FutureWarning: suggest_loguniform has been deprecated in v3.0.0. This feature will be removed in v6.0.0. See https://github.com/optuna/optuna/releases/tag/v3.0.0. Use :func:`~optuna.trial.Trial.suggest_float` instead.\n",
      "  'colsample_bytree': trial.suggest_loguniform('colsample_bytree', 0.01, 1.0),\n",
      "C:\\Users\\slrk4\\AppData\\Local\\Temp/ipykernel_11964/716984137.py:12: FutureWarning: suggest_loguniform has been deprecated in v3.0.0. This feature will be removed in v6.0.0. See https://github.com/optuna/optuna/releases/tag/v3.0.0. Use :func:`~optuna.trial.Trial.suggest_float` instead.\n",
      "  'reg_alpha': trial.suggest_loguniform('reg_alpha', 1e-8, 1.0),\n",
      "C:\\Users\\slrk4\\AppData\\Local\\Temp/ipykernel_11964/716984137.py:13: FutureWarning: suggest_loguniform has been deprecated in v3.0.0. This feature will be removed in v6.0.0. See https://github.com/optuna/optuna/releases/tag/v3.0.0. Use :func:`~optuna.trial.Trial.suggest_float` instead.\n",
      "  'reg_lambda': trial.suggest_loguniform('reg_lambda', 1e-8, 1.0),\n",
      "\u001b[32m[I 2022-11-05 10:21:33,530]\u001b[0m Trial 97 finished with value: 0.8089162633817275 and parameters: {'max_depth': 9, 'learning_rate': 0.15905633279371698, 'n_estimators': 435, 'min_child_weight': 10, 'gamma': 3.5859550418477286e-05, 'subsample': 0.9161349829672217, 'colsample_bytree': 0.8853334857991245, 'reg_alpha': 0.3067475685142819, 'reg_lambda': 2.362104966007027e-07}. Best is trial 83 with value: 0.8174952339052647.\u001b[0m\n",
      "C:\\Users\\slrk4\\AppData\\Local\\Temp/ipykernel_11964/716984137.py:6: FutureWarning: suggest_loguniform has been deprecated in v3.0.0. This feature will be removed in v6.0.0. See https://github.com/optuna/optuna/releases/tag/v3.0.0. Use :func:`~optuna.trial.Trial.suggest_float` instead.\n",
      "  'learning_rate': trial.suggest_loguniform('learning_rate', 0.01, 1.0),\n",
      "C:\\Users\\slrk4\\AppData\\Local\\Temp/ipykernel_11964/716984137.py:9: FutureWarning: suggest_loguniform has been deprecated in v3.0.0. This feature will be removed in v6.0.0. See https://github.com/optuna/optuna/releases/tag/v3.0.0. Use :func:`~optuna.trial.Trial.suggest_float` instead.\n",
      "  'gamma': trial.suggest_loguniform('gamma', 1e-8, 1.0),\n",
      "C:\\Users\\slrk4\\AppData\\Local\\Temp/ipykernel_11964/716984137.py:10: FutureWarning: suggest_loguniform has been deprecated in v3.0.0. This feature will be removed in v6.0.0. See https://github.com/optuna/optuna/releases/tag/v3.0.0. Use :func:`~optuna.trial.Trial.suggest_float` instead.\n",
      "  'subsample': trial.suggest_loguniform('subsample', 0.01, 1.0),\n",
      "C:\\Users\\slrk4\\AppData\\Local\\Temp/ipykernel_11964/716984137.py:11: FutureWarning: suggest_loguniform has been deprecated in v3.0.0. This feature will be removed in v6.0.0. See https://github.com/optuna/optuna/releases/tag/v3.0.0. Use :func:`~optuna.trial.Trial.suggest_float` instead.\n",
      "  'colsample_bytree': trial.suggest_loguniform('colsample_bytree', 0.01, 1.0),\n",
      "C:\\Users\\slrk4\\AppData\\Local\\Temp/ipykernel_11964/716984137.py:12: FutureWarning: suggest_loguniform has been deprecated in v3.0.0. This feature will be removed in v6.0.0. See https://github.com/optuna/optuna/releases/tag/v3.0.0. Use :func:`~optuna.trial.Trial.suggest_float` instead.\n",
      "  'reg_alpha': trial.suggest_loguniform('reg_alpha', 1e-8, 1.0),\n",
      "C:\\Users\\slrk4\\AppData\\Local\\Temp/ipykernel_11964/716984137.py:13: FutureWarning: suggest_loguniform has been deprecated in v3.0.0. This feature will be removed in v6.0.0. See https://github.com/optuna/optuna/releases/tag/v3.0.0. Use :func:`~optuna.trial.Trial.suggest_float` instead.\n",
      "  'reg_lambda': trial.suggest_loguniform('reg_lambda', 1e-8, 1.0),\n",
      "\u001b[32m[I 2022-11-05 10:21:39,505]\u001b[0m Trial 98 finished with value: 0.8040768441120398 and parameters: {'max_depth': 9, 'learning_rate': 0.2349073519866015, 'n_estimators': 369, 'min_child_weight': 1, 'gamma': 9.594687821664716e-06, 'subsample': 0.7917808428538219, 'colsample_bytree': 0.3493183162395239, 'reg_alpha': 0.146902738891877, 'reg_lambda': 4.622009976111593e-06}. Best is trial 83 with value: 0.8174952339052647.\u001b[0m\n",
      "C:\\Users\\slrk4\\AppData\\Local\\Temp/ipykernel_11964/716984137.py:6: FutureWarning: suggest_loguniform has been deprecated in v3.0.0. This feature will be removed in v6.0.0. See https://github.com/optuna/optuna/releases/tag/v3.0.0. Use :func:`~optuna.trial.Trial.suggest_float` instead.\n",
      "  'learning_rate': trial.suggest_loguniform('learning_rate', 0.01, 1.0),\n",
      "C:\\Users\\slrk4\\AppData\\Local\\Temp/ipykernel_11964/716984137.py:9: FutureWarning: suggest_loguniform has been deprecated in v3.0.0. This feature will be removed in v6.0.0. See https://github.com/optuna/optuna/releases/tag/v3.0.0. Use :func:`~optuna.trial.Trial.suggest_float` instead.\n",
      "  'gamma': trial.suggest_loguniform('gamma', 1e-8, 1.0),\n",
      "C:\\Users\\slrk4\\AppData\\Local\\Temp/ipykernel_11964/716984137.py:10: FutureWarning: suggest_loguniform has been deprecated in v3.0.0. This feature will be removed in v6.0.0. See https://github.com/optuna/optuna/releases/tag/v3.0.0. Use :func:`~optuna.trial.Trial.suggest_float` instead.\n",
      "  'subsample': trial.suggest_loguniform('subsample', 0.01, 1.0),\n",
      "C:\\Users\\slrk4\\AppData\\Local\\Temp/ipykernel_11964/716984137.py:11: FutureWarning: suggest_loguniform has been deprecated in v3.0.0. This feature will be removed in v6.0.0. See https://github.com/optuna/optuna/releases/tag/v3.0.0. Use :func:`~optuna.trial.Trial.suggest_float` instead.\n",
      "  'colsample_bytree': trial.suggest_loguniform('colsample_bytree', 0.01, 1.0),\n",
      "C:\\Users\\slrk4\\AppData\\Local\\Temp/ipykernel_11964/716984137.py:12: FutureWarning: suggest_loguniform has been deprecated in v3.0.0. This feature will be removed in v6.0.0. See https://github.com/optuna/optuna/releases/tag/v3.0.0. Use :func:`~optuna.trial.Trial.suggest_float` instead.\n",
      "  'reg_alpha': trial.suggest_loguniform('reg_alpha', 1e-8, 1.0),\n",
      "C:\\Users\\slrk4\\AppData\\Local\\Temp/ipykernel_11964/716984137.py:13: FutureWarning: suggest_loguniform has been deprecated in v3.0.0. This feature will be removed in v6.0.0. See https://github.com/optuna/optuna/releases/tag/v3.0.0. Use :func:`~optuna.trial.Trial.suggest_float` instead.\n",
      "  'reg_lambda': trial.suggest_loguniform('reg_lambda', 1e-8, 1.0),\n"
     ]
    },
    {
     "name": "stderr",
     "output_type": "stream",
     "text": [
      "\u001b[32m[I 2022-11-05 10:21:47,202]\u001b[0m Trial 99 finished with value: 0.8110426748790145 and parameters: {'max_depth': 8, 'learning_rate': 0.2203929708641506, 'n_estimators': 403, 'min_child_weight': 1, 'gamma': 2.7121363075818773e-06, 'subsample': 0.9001915304102361, 'colsample_bytree': 0.6604404242352927, 'reg_alpha': 0.2976502553917414, 'reg_lambda': 1.1365645756507352e-06}. Best is trial 83 with value: 0.8174952339052647.\u001b[0m\n"
     ]
    }
   ],
   "source": [
    "study.optimize(objective, n_trials=100)"
   ]
  },
  {
   "cell_type": "code",
   "execution_count": 103,
   "id": "d7d30bc2",
   "metadata": {},
   "outputs": [
    {
     "name": "stdout",
     "output_type": "stream",
     "text": [
      "Number of finished trials: 100\n",
      "Best trial:\n",
      "  Value: 0.8174952339052647\n",
      "  Params: \n",
      "    max_depth: 9\n",
      "    learning_rate: 0.1754106285791373\n",
      "    n_estimators: 405\n",
      "    min_child_weight: 1\n",
      "    gamma: 8.794449873491751e-05\n",
      "    subsample: 0.8821814414312554\n",
      "    colsample_bytree: 0.7262562165599004\n",
      "    reg_alpha: 0.24577501501736895\n",
      "    reg_lambda: 1.4539497298805946e-06\n"
     ]
    }
   ],
   "source": [
    "print('Number of finished trials: {}'.format(len(study.trials)))\n",
    "print('Best trial:')\n",
    "trial = study.best_trial\n",
    "\n",
    "print('  Value: {}'.format(trial.value))\n",
    "print('  Params: ')\n",
    "\n",
    "for key, value in trial.params.items():\n",
    "    print('    {}: {}'.format(key, value))"
   ]
  },
  {
   "cell_type": "code",
   "execution_count": 104,
   "id": "d61367e9",
   "metadata": {},
   "outputs": [],
   "source": [
    "params = trial.params"
   ]
  },
  {
   "cell_type": "code",
   "execution_count": 106,
   "id": "85dedc20",
   "metadata": {},
   "outputs": [
    {
     "data": {
      "text/html": [
       "<style>#sk-container-id-6 {color: black;background-color: white;}#sk-container-id-6 pre{padding: 0;}#sk-container-id-6 div.sk-toggleable {background-color: white;}#sk-container-id-6 label.sk-toggleable__label {cursor: pointer;display: block;width: 100%;margin-bottom: 0;padding: 0.3em;box-sizing: border-box;text-align: center;}#sk-container-id-6 label.sk-toggleable__label-arrow:before {content: \"▸\";float: left;margin-right: 0.25em;color: #696969;}#sk-container-id-6 label.sk-toggleable__label-arrow:hover:before {color: black;}#sk-container-id-6 div.sk-estimator:hover label.sk-toggleable__label-arrow:before {color: black;}#sk-container-id-6 div.sk-toggleable__content {max-height: 0;max-width: 0;overflow: hidden;text-align: left;background-color: #f0f8ff;}#sk-container-id-6 div.sk-toggleable__content pre {margin: 0.2em;color: black;border-radius: 0.25em;background-color: #f0f8ff;}#sk-container-id-6 input.sk-toggleable__control:checked~div.sk-toggleable__content {max-height: 200px;max-width: 100%;overflow: auto;}#sk-container-id-6 input.sk-toggleable__control:checked~label.sk-toggleable__label-arrow:before {content: \"▾\";}#sk-container-id-6 div.sk-estimator input.sk-toggleable__control:checked~label.sk-toggleable__label {background-color: #d4ebff;}#sk-container-id-6 div.sk-label input.sk-toggleable__control:checked~label.sk-toggleable__label {background-color: #d4ebff;}#sk-container-id-6 input.sk-hidden--visually {border: 0;clip: rect(1px 1px 1px 1px);clip: rect(1px, 1px, 1px, 1px);height: 1px;margin: -1px;overflow: hidden;padding: 0;position: absolute;width: 1px;}#sk-container-id-6 div.sk-estimator {font-family: monospace;background-color: #f0f8ff;border: 1px dotted black;border-radius: 0.25em;box-sizing: border-box;margin-bottom: 0.5em;}#sk-container-id-6 div.sk-estimator:hover {background-color: #d4ebff;}#sk-container-id-6 div.sk-parallel-item::after {content: \"\";width: 100%;border-bottom: 1px solid gray;flex-grow: 1;}#sk-container-id-6 div.sk-label:hover label.sk-toggleable__label {background-color: #d4ebff;}#sk-container-id-6 div.sk-serial::before {content: \"\";position: absolute;border-left: 1px solid gray;box-sizing: border-box;top: 0;bottom: 0;left: 50%;z-index: 0;}#sk-container-id-6 div.sk-serial {display: flex;flex-direction: column;align-items: center;background-color: white;padding-right: 0.2em;padding-left: 0.2em;position: relative;}#sk-container-id-6 div.sk-item {position: relative;z-index: 1;}#sk-container-id-6 div.sk-parallel {display: flex;align-items: stretch;justify-content: center;background-color: white;position: relative;}#sk-container-id-6 div.sk-item::before, #sk-container-id-6 div.sk-parallel-item::before {content: \"\";position: absolute;border-left: 1px solid gray;box-sizing: border-box;top: 0;bottom: 0;left: 50%;z-index: -1;}#sk-container-id-6 div.sk-parallel-item {display: flex;flex-direction: column;z-index: 1;position: relative;background-color: white;}#sk-container-id-6 div.sk-parallel-item:first-child::after {align-self: flex-end;width: 50%;}#sk-container-id-6 div.sk-parallel-item:last-child::after {align-self: flex-start;width: 50%;}#sk-container-id-6 div.sk-parallel-item:only-child::after {width: 0;}#sk-container-id-6 div.sk-dashed-wrapped {border: 1px dashed gray;margin: 0 0.4em 0.5em 0.4em;box-sizing: border-box;padding-bottom: 0.4em;background-color: white;}#sk-container-id-6 div.sk-label label {font-family: monospace;font-weight: bold;display: inline-block;line-height: 1.2em;}#sk-container-id-6 div.sk-label-container {text-align: center;}#sk-container-id-6 div.sk-container {/* jupyter's `normalize.less` sets `[hidden] { display: none; }` but bootstrap.min.css set `[hidden] { display: none !important; }` so we also need the `!important` here to be able to override the default hidden behavior on the sphinx rendered scikit-learn.org. See: https://github.com/scikit-learn/scikit-learn/issues/21755 */display: inline-block !important;position: relative;}#sk-container-id-6 div.sk-text-repr-fallback {display: none;}</style><div id=\"sk-container-id-6\" class=\"sk-top-container\"><div class=\"sk-text-repr-fallback\"><pre>XGBClassifier(base_score=0.5, booster=&#x27;gbtree&#x27;, callbacks=None,\n",
       "              colsample_bylevel=1, colsample_bynode=1,\n",
       "              colsample_bytree=0.7262562165599004, early_stopping_rounds=None,\n",
       "              enable_categorical=False, eval_metric=None,\n",
       "              gamma=8.794449873491751e-05, gpu_id=-1, grow_policy=&#x27;depthwise&#x27;,\n",
       "              importance_type=None, interaction_constraints=&#x27;&#x27;,\n",
       "              learning_rate=0.1754106285791373, max_bin=256,\n",
       "              max_cat_to_onehot=4, max_delta_step=0, max_depth=9, max_leaves=0,\n",
       "              min_child_weight=1, missing=nan, monotone_constraints=&#x27;()&#x27;,\n",
       "              n_estimators=405, n_jobs=0, num_parallel_tree=1, predictor=&#x27;auto&#x27;,\n",
       "              random_state=0, reg_alpha=0.24577501501736895,\n",
       "              reg_lambda=1.4539497298805946e-06, ...)</pre><b>In a Jupyter environment, please rerun this cell to show the HTML representation or trust the notebook. <br />On GitHub, the HTML representation is unable to render, please try loading this page with nbviewer.org.</b></div><div class=\"sk-container\" hidden><div class=\"sk-item\"><div class=\"sk-estimator sk-toggleable\"><input class=\"sk-toggleable__control sk-hidden--visually\" id=\"sk-estimator-id-8\" type=\"checkbox\" checked><label for=\"sk-estimator-id-8\" class=\"sk-toggleable__label sk-toggleable__label-arrow\">XGBClassifier</label><div class=\"sk-toggleable__content\"><pre>XGBClassifier(base_score=0.5, booster=&#x27;gbtree&#x27;, callbacks=None,\n",
       "              colsample_bylevel=1, colsample_bynode=1,\n",
       "              colsample_bytree=0.7262562165599004, early_stopping_rounds=None,\n",
       "              enable_categorical=False, eval_metric=None,\n",
       "              gamma=8.794449873491751e-05, gpu_id=-1, grow_policy=&#x27;depthwise&#x27;,\n",
       "              importance_type=None, interaction_constraints=&#x27;&#x27;,\n",
       "              learning_rate=0.1754106285791373, max_bin=256,\n",
       "              max_cat_to_onehot=4, max_delta_step=0, max_depth=9, max_leaves=0,\n",
       "              min_child_weight=1, missing=nan, monotone_constraints=&#x27;()&#x27;,\n",
       "              n_estimators=405, n_jobs=0, num_parallel_tree=1, predictor=&#x27;auto&#x27;,\n",
       "              random_state=0, reg_alpha=0.24577501501736895,\n",
       "              reg_lambda=1.4539497298805946e-06, ...)</pre></div></div></div></div></div>"
      ],
      "text/plain": [
       "XGBClassifier(base_score=0.5, booster='gbtree', callbacks=None,\n",
       "              colsample_bylevel=1, colsample_bynode=1,\n",
       "              colsample_bytree=0.7262562165599004, early_stopping_rounds=None,\n",
       "              enable_categorical=False, eval_metric=None,\n",
       "              gamma=8.794449873491751e-05, gpu_id=-1, grow_policy='depthwise',\n",
       "              importance_type=None, interaction_constraints='',\n",
       "              learning_rate=0.1754106285791373, max_bin=256,\n",
       "              max_cat_to_onehot=4, max_delta_step=0, max_depth=9, max_leaves=0,\n",
       "              min_child_weight=1, missing=nan, monotone_constraints='()',\n",
       "              n_estimators=405, n_jobs=0, num_parallel_tree=1, predictor='auto',\n",
       "              random_state=0, reg_alpha=0.24577501501736895,\n",
       "              reg_lambda=1.4539497298805946e-06, ...)"
      ]
     },
     "execution_count": 106,
     "metadata": {},
     "output_type": "execute_result"
    }
   ],
   "source": [
    "model = XGBClassifier(**params)\n",
    "model.fit(x_tr_xg, y_tr_xg)"
   ]
  },
  {
   "cell_type": "code",
   "execution_count": 107,
   "id": "0517b3af",
   "metadata": {},
   "outputs": [
    {
     "name": "stdout",
     "output_type": "stream",
     "text": [
      "0.8174952339052647\n"
     ]
    }
   ],
   "source": [
    "from  sklearn.metrics import accuracy_score,confusion_matrix\n",
    "\n",
    "y_pred_xg=model.predict(x_ts_xg)\n",
    "print(accuracy_score(y_ts_xg,y_pred_xg))"
   ]
  },
  {
   "cell_type": "markdown",
   "id": "227fc2d9",
   "metadata": {},
   "source": [
    "# NAIVE BAYES"
   ]
  },
  {
   "cell_type": "code",
   "execution_count": 3,
   "id": "cb84d75c",
   "metadata": {},
   "outputs": [],
   "source": [
    "import  numpy as np\n",
    "from sklearn.naive_bayes import GaussianNB\n",
    "from sklearn.model_selection import RepeatedStratifiedKFold\n",
    "gb_model=GaussianNB()\n",
    "cv_method = RepeatedStratifiedKFold(n_splits=5, \n",
    "                                    n_repeats=3, \n",
    "                                    random_state=999)\n",
    "\n",
    "from sklearn.preprocessing import PowerTransformer\n",
    "params_NB = {'var_smoothing': np.logspace(0,-9, num=100)}"
   ]
  },
  {
   "cell_type": "code",
   "execution_count": 4,
   "id": "25af9906",
   "metadata": {},
   "outputs": [
    {
     "ename": "NameError",
     "evalue": "name 'GridSearchCV' is not defined",
     "output_type": "error",
     "traceback": [
      "\u001b[1;31m---------------------------------------------------------------------------\u001b[0m",
      "\u001b[1;31mNameError\u001b[0m                                 Traceback (most recent call last)",
      "\u001b[1;32m~\\AppData\\Local\\Temp/ipykernel_14540/3518926626.py\u001b[0m in \u001b[0;36m<module>\u001b[1;34m\u001b[0m\n\u001b[1;32m----> 1\u001b[1;33m gs_NB = GridSearchCV(estimator=gb_model, \n\u001b[0m\u001b[0;32m      2\u001b[0m                      \u001b[0mparam_grid\u001b[0m\u001b[1;33m=\u001b[0m\u001b[0mparams_NB\u001b[0m\u001b[1;33m,\u001b[0m\u001b[1;33m\u001b[0m\u001b[1;33m\u001b[0m\u001b[0m\n\u001b[0;32m      3\u001b[0m                      \u001b[0mcv\u001b[0m\u001b[1;33m=\u001b[0m\u001b[0mcv_method\u001b[0m\u001b[1;33m,\u001b[0m\u001b[1;33m\u001b[0m\u001b[1;33m\u001b[0m\u001b[0m\n\u001b[0;32m      4\u001b[0m                      \u001b[0mverbose\u001b[0m\u001b[1;33m=\u001b[0m\u001b[1;36m1\u001b[0m\u001b[1;33m,\u001b[0m\u001b[1;33m\u001b[0m\u001b[1;33m\u001b[0m\u001b[0m\n\u001b[0;32m      5\u001b[0m                      scoring='accuracy')\n",
      "\u001b[1;31mNameError\u001b[0m: name 'GridSearchCV' is not defined"
     ]
    }
   ],
   "source": [
    "gs_NB = GridSearchCV(estimator=gb_model, \n",
    "                     param_grid=params_NB, \n",
    "                     cv=cv_method,\n",
    "                     verbose=1, \n",
    "                     scoring='accuracy')\n",
    "\n",
    "Data_transformed = PowerTransformer().fit_transform(X_test)"
   ]
  },
  {
   "cell_type": "code",
   "execution_count": 1,
   "id": "7492a395",
   "metadata": {},
   "outputs": [
    {
     "ename": "NameError",
     "evalue": "name 'PowerTransformer' is not defined",
     "output_type": "error",
     "traceback": [
      "\u001b[1;31m---------------------------------------------------------------------------\u001b[0m",
      "\u001b[1;31mNameError\u001b[0m                                 Traceback (most recent call last)",
      "\u001b[1;32m~\\AppData\\Local\\Temp/ipykernel_14540/3547721721.py\u001b[0m in \u001b[0;36m<module>\u001b[1;34m\u001b[0m\n\u001b[1;32m----> 1\u001b[1;33m \u001b[0mData_transformed\u001b[0m \u001b[1;33m=\u001b[0m \u001b[0mPowerTransformer\u001b[0m\u001b[1;33m(\u001b[0m\u001b[1;33m)\u001b[0m\u001b[1;33m.\u001b[0m\u001b[0mfit_transform\u001b[0m\u001b[1;33m(\u001b[0m\u001b[0mx_tr_rf\u001b[0m\u001b[1;33m)\u001b[0m\u001b[1;33m\u001b[0m\u001b[1;33m\u001b[0m\u001b[0m\n\u001b[0m\u001b[0;32m      2\u001b[0m \u001b[1;33m\u001b[0m\u001b[0m\n\u001b[0;32m      3\u001b[0m \u001b[0mgs_NB\u001b[0m\u001b[1;33m.\u001b[0m\u001b[0mfit\u001b[0m\u001b[1;33m(\u001b[0m\u001b[0mData_transformed\u001b[0m\u001b[1;33m,\u001b[0m \u001b[0my_tr_rf\u001b[0m\u001b[1;33m)\u001b[0m\u001b[1;33m\u001b[0m\u001b[1;33m\u001b[0m\u001b[0m\n",
      "\u001b[1;31mNameError\u001b[0m: name 'PowerTransformer' is not defined"
     ]
    }
   ],
   "source": [
    "Data_transformed = PowerTransformer().fit_transform(x_tr_rf)\n",
    "\n",
    "gs_NB.fit(Data_transformed, y_tr_rf)"
   ]
  },
  {
   "cell_type": "code",
   "execution_count": null,
   "id": "4f976a7b",
   "metadata": {},
   "outputs": [],
   "source": []
  }
 ],
 "metadata": {
  "kernelspec": {
   "display_name": "Python 3 (ipykernel)",
   "language": "python",
   "name": "python3"
  },
  "language_info": {
   "codemirror_mode": {
    "name": "ipython",
    "version": 3
   },
   "file_extension": ".py",
   "mimetype": "text/x-python",
   "name": "python",
   "nbconvert_exporter": "python",
   "pygments_lexer": "ipython3",
   "version": "3.9.7"
  }
 },
 "nbformat": 4,
 "nbformat_minor": 5
}
